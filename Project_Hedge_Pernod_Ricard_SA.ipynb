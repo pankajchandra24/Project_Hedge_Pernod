{
 "cells": [
  {
   "cell_type": "markdown",
   "metadata": {},
   "source": [
    "# PROJECT \n",
    "#### Please refer to the attached historical data and propose a portfolio of 1 to 5 of the Eurostoxx 50 constituents which would best hedge a position of long 1,000 shares of Pernod Ricard.\n",
    "#### Please include the following: \n",
    "#### 1) how you are defining what is the best hedge \n",
    "#### 2) an explanation of your approach compared with alternative methods \n",
    "#### 3) your selected hedges along with the number of shares of each "
   ]
  },
  {
   "cell_type": "markdown",
   "metadata": {},
   "source": [
    "# SOLUTION \n",
    "#### Solution 1 \n",
    "If I define, a best hedge would be the minimum loss in the Value of long position of Pernod Ricard SA during the chosen time period for the hedge.\n",
    "#### --------------------------------------------------------------------------------------------------------------------------------------------------------------------------------------\n",
    "#### Solution 2 \n",
    "Following are the steps I have taken to build my solution, also in each steps I have written down the difficulties/ambiguities (if any) I have faced :\n",
    "1. Importing Libraries, Loading Data, Visualizing and Cleaning the data, Imputing Missing Values and Preparing the Dataframe for further evaluations.\n",
    "2. From the historic data provided, following were studied, a) the closing price chart b) calculated daily returns chart c) two different correlation charts produced utilizing the closing price chart and the calculated daily returns chart. The next line of thought was to find negatively correlated stocks to Pernod which could be utilized to build a potfolio to hedge Pernod.\n",
    "3. Correlation found from charts a) and b) showed no common constituents which were negatively correlated to Pernod Ricard SA.\n",
    "4. Research was done to find why the two correlation tables showing completely different results. Using the learnings from the article PDF1 [see attached file with the solution email], it was concluded to find a time period where Pernod Ricard follows a trend such that it is more predictable to find the correlated constituents. Therefore, from the historic data, only last 116 days were considered to find correlations for Pernod with other stocks.\n",
    "5. Again, the two correlation charts were studied for last 116 days, and the common stocks in both charts which were negatively correlated to Pernod were picked to further study their returns and covariance.\n",
    "6. Another line of thought was to just pick all the combinations of 5 stocks out of 50 stocks without considering correlations because essentially the historic data for the whole year didn't really help to find the negatively correlated stocks to Pernod, then evaluate all these possible portfolios of combinations of 5 on their total risk but the computational power needed was not available with me.\n",
    "7. Coming back to point 5, now for last 116 days, 12 constituents were found common in both the charts which were negatively correlated to Pernod. Then, Value at Risk (VAR) was calculated for Pernod at 95 percent confidence to find the maximum amount it would lose in next 116 days. \n",
    "8. Then, a minimum risk portfolio was simulated using convex optimization technique to find out worthy constitutents and their weights (therefore portfolio return) which would minimize the risk of the portfolio, at the same time the portfolio return using these weights could offset the VAR for Pernod.\n",
    "\n",
    "My Approach and Alternative methods : I considered only long positions for all the negatively correlated constituents, the alternative could be shorting the positively correlated constituents to Pernod. I preferred long only positions, because shorting comes with inherent risk, and it was difficult to estimate risk of such positions considering data wasn't normally distributed. Also, one could utilize mean reversion techniques. One more possibility could be shorting Pernod itself to reduce some loss but the project asks to build portfolio from Eurostoxx constituents.\n",
    "\n",
    "Other ways to improve or study the portfolio is to understand correlations calculation for closing price chart better by removing the trend component from the series (reference : https://quantdare.com/correlation-prices-returns/).\n",
    "Also, improving the estimates for the calculation of risk (standard deviation) for 116 days, more weightage could be given to downside risk and use a better way to find total risk and not just by multiplying (Time)^0.5 [reference : PDF2 (see attached file with the solution email]\n",
    "\n",
    "I also wasted alot of time building Markowitz efficient portfolio, which is not correct because the aim of the hedge is to reduce risk and not improve returns. Yes, if there was a range of risks given where we could operate, then finding larger returns make sense but in this project minimum risk will comply with only one return and the focus is to see if this return offset the VAR.\n",
    "#### -----------------------------------------------------------------------------------------------------------------------------------------------------------------------------------\n",
    "#### Solution 3:\n",
    "Following Portfolio (of 4 constituents, only long positions) was found to completely offset 95 percent VAR for Pernod Ricard SA (long 1000 shares) for the following 116 days considering normal distribution for returns:\n",
    "AXA SA : 3126  \n",
    "INTESA SANPAOLO : 15490\n",
    "BAYERISCHE MOTOREN WERKE AG : 413\n",
    "SIEMENS AG-REG : 208\n",
    "\n",
    "Portfolio Weightage :\n",
    "AXA SA : 47.28 %\n",
    "INTESA SANPAOLO : 23.02 %\n",
    "BAYERISCHE MOTOREN WERKE AG : 16.35 %\n",
    "SIEMENS AG-REG : 13.34 %\n",
    "\n",
    "Generally, managers try to hedge 5 to 10 percent of the losses in coming period for market fluctuations, therefore subsequent fractions as per risk capability could be taken for the hedge.\n",
    "#### -------------------------------------------------------------------------------------------------------------------------------------------------------------------------------------"
   ]
  },
  {
   "cell_type": "markdown",
   "metadata": {},
   "source": [
    "# DETAILED SOLUTION BELOW"
   ]
  },
  {
   "cell_type": "markdown",
   "metadata": {},
   "source": [
    "# Importing Libraries"
   ]
  },
  {
   "cell_type": "code",
   "execution_count": 486,
   "metadata": {},
   "outputs": [],
   "source": [
    "import missingno as msno \n",
    "import matplotlib.pyplot as plt\n",
    "import numpy as np\n",
    "import pandas as pd\n",
    "import seaborn as sns\n",
    "import plotly.express as px\n",
    "from plotly.subplots import make_subplots\n",
    "#import plotly.graph_objects as go\n",
    "from sklearn.impute import KNNImputer\n",
    "from itertools import chain, combinations, product"
   ]
  },
  {
   "cell_type": "markdown",
   "metadata": {},
   "source": [
    "# Getting Data from Source File\n"
   ]
  },
  {
   "cell_type": "code",
   "execution_count": 487,
   "metadata": {},
   "outputs": [
    {
     "data": {
      "text/html": [
       "<div>\n",
       "<style scoped>\n",
       "    .dataframe tbody tr th:only-of-type {\n",
       "        vertical-align: middle;\n",
       "    }\n",
       "\n",
       "    .dataframe tbody tr th {\n",
       "        vertical-align: top;\n",
       "    }\n",
       "\n",
       "    .dataframe thead th {\n",
       "        text-align: right;\n",
       "    }\n",
       "</style>\n",
       "<table border=\"1\" class=\"dataframe\">\n",
       "  <thead>\n",
       "    <tr style=\"text-align: right;\">\n",
       "      <th></th>\n",
       "      <th>Unnamed: 0</th>\n",
       "      <th>PERNOD RICARD SA</th>\n",
       "      <th>Unnamed: 2</th>\n",
       "      <th>L'OREAL</th>\n",
       "      <th>VINCI SA</th>\n",
       "      <th>BANCO BILBAO VIZCAYA ARGENTA</th>\n",
       "      <th>BANCO SANTANDER SA</th>\n",
       "      <th>ASML HOLDING NV</th>\n",
       "      <th>KONINKLIJKE PHILIPS NV</th>\n",
       "      <th>TELEFONICA SA</th>\n",
       "      <th>...</th>\n",
       "      <th>SIEMENS AG-REG</th>\n",
       "      <th>VOLKSWAGEN AG-PREF</th>\n",
       "      <th>MUENCHENER RUECKVER AG-REG</th>\n",
       "      <th>FRESENIUS SE &amp; CO KGAA</th>\n",
       "      <th>SAP SE</th>\n",
       "      <th>ADIDAS AG</th>\n",
       "      <th>DEUTSCHE TELEKOM AG-REG</th>\n",
       "      <th>DEUTSCHE POST AG-REG</th>\n",
       "      <th>MERCEDES-BENZ GROUP AG</th>\n",
       "      <th>DEUTSCHE BOERSE AG</th>\n",
       "    </tr>\n",
       "  </thead>\n",
       "  <tbody>\n",
       "    <tr>\n",
       "      <th>0</th>\n",
       "      <td>2019-02-14</td>\n",
       "      <td>149.00</td>\n",
       "      <td>NaN</td>\n",
       "      <td>220.5</td>\n",
       "      <td>79.10</td>\n",
       "      <td>5.028</td>\n",
       "      <td>3.9700</td>\n",
       "      <td>162.52</td>\n",
       "      <td>34.700</td>\n",
       "      <td>7.315</td>\n",
       "      <td>...</td>\n",
       "      <td>92.25</td>\n",
       "      <td>141.86</td>\n",
       "      <td>201.0</td>\n",
       "      <td>46.80</td>\n",
       "      <td>93.56</td>\n",
       "      <td>197.00</td>\n",
       "      <td>14.145</td>\n",
       "      <td>26.00</td>\n",
       "      <td>49.30</td>\n",
       "      <td>110.25</td>\n",
       "    </tr>\n",
       "    <tr>\n",
       "      <th>1</th>\n",
       "      <td>2019-02-15</td>\n",
       "      <td>150.55</td>\n",
       "      <td>NaN</td>\n",
       "      <td>221.8</td>\n",
       "      <td>80.52</td>\n",
       "      <td>5.194</td>\n",
       "      <td>4.1000</td>\n",
       "      <td>163.08</td>\n",
       "      <td>35.090</td>\n",
       "      <td>7.500</td>\n",
       "      <td>...</td>\n",
       "      <td>94.62</td>\n",
       "      <td>144.40</td>\n",
       "      <td>204.2</td>\n",
       "      <td>47.26</td>\n",
       "      <td>94.30</td>\n",
       "      <td>199.15</td>\n",
       "      <td>14.260</td>\n",
       "      <td>26.75</td>\n",
       "      <td>50.61</td>\n",
       "      <td>111.30</td>\n",
       "    </tr>\n",
       "    <tr>\n",
       "      <th>2</th>\n",
       "      <td>2019-02-18</td>\n",
       "      <td>150.00</td>\n",
       "      <td>NaN</td>\n",
       "      <td>224.7</td>\n",
       "      <td>80.46</td>\n",
       "      <td>5.227</td>\n",
       "      <td>4.1200</td>\n",
       "      <td>162.00</td>\n",
       "      <td>34.855</td>\n",
       "      <td>7.562</td>\n",
       "      <td>...</td>\n",
       "      <td>93.90</td>\n",
       "      <td>142.74</td>\n",
       "      <td>203.7</td>\n",
       "      <td>47.17</td>\n",
       "      <td>94.21</td>\n",
       "      <td>198.55</td>\n",
       "      <td>14.380</td>\n",
       "      <td>26.11</td>\n",
       "      <td>50.40</td>\n",
       "      <td>111.75</td>\n",
       "    </tr>\n",
       "    <tr>\n",
       "      <th>3</th>\n",
       "      <td>2019-02-19</td>\n",
       "      <td>149.45</td>\n",
       "      <td>NaN</td>\n",
       "      <td>223.1</td>\n",
       "      <td>80.28</td>\n",
       "      <td>5.189</td>\n",
       "      <td>4.0840</td>\n",
       "      <td>161.14</td>\n",
       "      <td>34.745</td>\n",
       "      <td>7.600</td>\n",
       "      <td>...</td>\n",
       "      <td>94.05</td>\n",
       "      <td>143.18</td>\n",
       "      <td>205.0</td>\n",
       "      <td>46.68</td>\n",
       "      <td>94.02</td>\n",
       "      <td>201.80</td>\n",
       "      <td>14.480</td>\n",
       "      <td>26.39</td>\n",
       "      <td>50.46</td>\n",
       "      <td>110.75</td>\n",
       "    </tr>\n",
       "    <tr>\n",
       "      <th>4</th>\n",
       "      <td>2019-02-20</td>\n",
       "      <td>151.00</td>\n",
       "      <td>NaN</td>\n",
       "      <td>224.4</td>\n",
       "      <td>81.04</td>\n",
       "      <td>5.237</td>\n",
       "      <td>4.1405</td>\n",
       "      <td>161.84</td>\n",
       "      <td>34.760</td>\n",
       "      <td>7.680</td>\n",
       "      <td>...</td>\n",
       "      <td>94.60</td>\n",
       "      <td>146.68</td>\n",
       "      <td>206.2</td>\n",
       "      <td>49.00</td>\n",
       "      <td>94.45</td>\n",
       "      <td>202.10</td>\n",
       "      <td>14.580</td>\n",
       "      <td>26.71</td>\n",
       "      <td>51.76</td>\n",
       "      <td>111.05</td>\n",
       "    </tr>\n",
       "  </tbody>\n",
       "</table>\n",
       "<p>5 rows × 53 columns</p>\n",
       "</div>"
      ],
      "text/plain": [
       "  Unnamed: 0  PERNOD RICARD SA  Unnamed: 2  L'OREAL  VINCI SA  \\\n",
       "0 2019-02-14            149.00         NaN    220.5     79.10   \n",
       "1 2019-02-15            150.55         NaN    221.8     80.52   \n",
       "2 2019-02-18            150.00         NaN    224.7     80.46   \n",
       "3 2019-02-19            149.45         NaN    223.1     80.28   \n",
       "4 2019-02-20            151.00         NaN    224.4     81.04   \n",
       "\n",
       "   BANCO BILBAO VIZCAYA ARGENTA  BANCO SANTANDER SA  ASML HOLDING NV  \\\n",
       "0                         5.028              3.9700           162.52   \n",
       "1                         5.194              4.1000           163.08   \n",
       "2                         5.227              4.1200           162.00   \n",
       "3                         5.189              4.0840           161.14   \n",
       "4                         5.237              4.1405           161.84   \n",
       "\n",
       "   KONINKLIJKE PHILIPS NV  TELEFONICA SA  ...  SIEMENS AG-REG  \\\n",
       "0                  34.700          7.315  ...           92.25   \n",
       "1                  35.090          7.500  ...           94.62   \n",
       "2                  34.855          7.562  ...           93.90   \n",
       "3                  34.745          7.600  ...           94.05   \n",
       "4                  34.760          7.680  ...           94.60   \n",
       "\n",
       "   VOLKSWAGEN AG-PREF  MUENCHENER RUECKVER AG-REG  FRESENIUS SE & CO KGAA  \\\n",
       "0              141.86                       201.0                   46.80   \n",
       "1              144.40                       204.2                   47.26   \n",
       "2              142.74                       203.7                   47.17   \n",
       "3              143.18                       205.0                   46.68   \n",
       "4              146.68                       206.2                   49.00   \n",
       "\n",
       "   SAP SE  ADIDAS AG  DEUTSCHE TELEKOM AG-REG  DEUTSCHE POST AG-REG  \\\n",
       "0   93.56     197.00                   14.145                 26.00   \n",
       "1   94.30     199.15                   14.260                 26.75   \n",
       "2   94.21     198.55                   14.380                 26.11   \n",
       "3   94.02     201.80                   14.480                 26.39   \n",
       "4   94.45     202.10                   14.580                 26.71   \n",
       "\n",
       "   MERCEDES-BENZ GROUP AG  DEUTSCHE BOERSE AG  \n",
       "0                   49.30              110.25  \n",
       "1                   50.61              111.30  \n",
       "2                   50.40              111.75  \n",
       "3                   50.46              110.75  \n",
       "4                   51.76              111.05  \n",
       "\n",
       "[5 rows x 53 columns]"
      ]
     },
     "execution_count": 487,
     "metadata": {},
     "output_type": "execute_result"
    }
   ],
   "source": [
    "#loading data from source\n",
    "data = pd.read_excel(\"source_data.xlsx\") \n",
    "data.head()"
   ]
  },
  {
   "cell_type": "markdown",
   "metadata": {},
   "source": [
    "# Data Cleaning and Visualization"
   ]
  },
  {
   "cell_type": "code",
   "execution_count": 488,
   "metadata": {},
   "outputs": [
    {
     "data": {
      "text/plain": [
       "0"
      ]
     },
     "execution_count": 488,
     "metadata": {},
     "output_type": "execute_result"
    }
   ],
   "source": [
    "#Finding duplicated rows \n",
    "data.duplicated().sum() "
   ]
  },
  {
   "cell_type": "code",
   "execution_count": 489,
   "metadata": {},
   "outputs": [
    {
     "data": {
      "text/plain": [
       "Index(['Unnamed: 0', 'PERNOD RICARD SA', 'Unnamed: 2', 'L'OREAL', 'VINCI SA',\n",
       "       'BANCO BILBAO VIZCAYA ARGENTA', 'BANCO SANTANDER SA', 'ASML HOLDING NV',\n",
       "       'KONINKLIJKE PHILIPS NV', 'TELEFONICA SA', 'TOTAL SE', 'AIR LIQUIDE SA',\n",
       "       'AXA SA', 'BNP PARIBAS', 'DANONE', 'VIVENDI SE', 'ESSILORLUXOTTICA',\n",
       "       'LVMH MOET HENNESSY LOUIS VUI', 'KERING', 'AMADEUS IT GROUP SA',\n",
       "       'SAFRAN SA', 'KONINKLIJKE AHOLD DELHAIZE N', 'UNILEVER PLC',\n",
       "       'IBERDROLA SA', 'ING GROEP NV', 'LINDE PLC',\n",
       "       'INDUSTRIA DE DISENO TEXTIL', 'INTESA SANPAOLO', 'ENI SPA', 'ENGIE',\n",
       "       'ORANGE', 'ANHEUSER-BUSCH INBEV SA/NV', 'SANOFI', 'SOCIETE GENERALE SA',\n",
       "       'ENEL SPA', 'NOKIA OYJ', 'SCHNEIDER ELECTRIC SE', 'ALLIANZ SE-REG',\n",
       "       'AIRBUS SE', 'BAYER AG-REG', 'BAYERISCHE MOTOREN WERKE AG', 'CRH PLC',\n",
       "       'BASF SE', 'SIEMENS AG-REG', 'VOLKSWAGEN AG-PREF',\n",
       "       'MUENCHENER RUECKVER AG-REG', 'FRESENIUS SE & CO KGAA', 'SAP SE',\n",
       "       'ADIDAS AG', 'DEUTSCHE TELEKOM AG-REG', 'DEUTSCHE POST AG-REG',\n",
       "       'MERCEDES-BENZ GROUP AG', 'DEUTSCHE BOERSE AG'],\n",
       "      dtype='object')"
      ]
     },
     "execution_count": 489,
     "metadata": {},
     "output_type": "execute_result"
    }
   ],
   "source": [
    "#looking for different column names i.e. Eurostoxx 50 constituents plus Pernod Ricard SA\n",
    "data.columns "
   ]
  },
  {
   "cell_type": "code",
   "execution_count": 490,
   "metadata": {},
   "outputs": [
    {
     "data": {
      "text/html": [
       "<div>\n",
       "<style scoped>\n",
       "    .dataframe tbody tr th:only-of-type {\n",
       "        vertical-align: middle;\n",
       "    }\n",
       "\n",
       "    .dataframe tbody tr th {\n",
       "        vertical-align: top;\n",
       "    }\n",
       "\n",
       "    .dataframe thead th {\n",
       "        text-align: right;\n",
       "    }\n",
       "</style>\n",
       "<table border=\"1\" class=\"dataframe\">\n",
       "  <thead>\n",
       "    <tr style=\"text-align: right;\">\n",
       "      <th></th>\n",
       "      <th>Unnamed: 0</th>\n",
       "      <th>PERNOD RICARD SA</th>\n",
       "      <th>L'OREAL</th>\n",
       "      <th>VINCI SA</th>\n",
       "      <th>BANCO BILBAO VIZCAYA ARGENTA</th>\n",
       "      <th>BANCO SANTANDER SA</th>\n",
       "      <th>ASML HOLDING NV</th>\n",
       "      <th>KONINKLIJKE PHILIPS NV</th>\n",
       "      <th>TELEFONICA SA</th>\n",
       "      <th>TOTAL SE</th>\n",
       "      <th>...</th>\n",
       "      <th>SIEMENS AG-REG</th>\n",
       "      <th>VOLKSWAGEN AG-PREF</th>\n",
       "      <th>MUENCHENER RUECKVER AG-REG</th>\n",
       "      <th>FRESENIUS SE &amp; CO KGAA</th>\n",
       "      <th>SAP SE</th>\n",
       "      <th>ADIDAS AG</th>\n",
       "      <th>DEUTSCHE TELEKOM AG-REG</th>\n",
       "      <th>DEUTSCHE POST AG-REG</th>\n",
       "      <th>MERCEDES-BENZ GROUP AG</th>\n",
       "      <th>DEUTSCHE BOERSE AG</th>\n",
       "    </tr>\n",
       "  </thead>\n",
       "  <tbody>\n",
       "    <tr>\n",
       "      <th>0</th>\n",
       "      <td>2019-02-14</td>\n",
       "      <td>149.00</td>\n",
       "      <td>220.5</td>\n",
       "      <td>79.10</td>\n",
       "      <td>5.028</td>\n",
       "      <td>3.9700</td>\n",
       "      <td>162.52</td>\n",
       "      <td>34.700</td>\n",
       "      <td>7.315</td>\n",
       "      <td>48.985</td>\n",
       "      <td>...</td>\n",
       "      <td>92.25</td>\n",
       "      <td>141.86</td>\n",
       "      <td>201.0</td>\n",
       "      <td>46.80</td>\n",
       "      <td>93.56</td>\n",
       "      <td>197.00</td>\n",
       "      <td>14.145</td>\n",
       "      <td>26.00</td>\n",
       "      <td>49.30</td>\n",
       "      <td>110.25</td>\n",
       "    </tr>\n",
       "    <tr>\n",
       "      <th>1</th>\n",
       "      <td>2019-02-15</td>\n",
       "      <td>150.55</td>\n",
       "      <td>221.8</td>\n",
       "      <td>80.52</td>\n",
       "      <td>5.194</td>\n",
       "      <td>4.1000</td>\n",
       "      <td>163.08</td>\n",
       "      <td>35.090</td>\n",
       "      <td>7.500</td>\n",
       "      <td>49.695</td>\n",
       "      <td>...</td>\n",
       "      <td>94.62</td>\n",
       "      <td>144.40</td>\n",
       "      <td>204.2</td>\n",
       "      <td>47.26</td>\n",
       "      <td>94.30</td>\n",
       "      <td>199.15</td>\n",
       "      <td>14.260</td>\n",
       "      <td>26.75</td>\n",
       "      <td>50.61</td>\n",
       "      <td>111.30</td>\n",
       "    </tr>\n",
       "    <tr>\n",
       "      <th>2</th>\n",
       "      <td>2019-02-18</td>\n",
       "      <td>150.00</td>\n",
       "      <td>224.7</td>\n",
       "      <td>80.46</td>\n",
       "      <td>5.227</td>\n",
       "      <td>4.1200</td>\n",
       "      <td>162.00</td>\n",
       "      <td>34.855</td>\n",
       "      <td>7.562</td>\n",
       "      <td>49.510</td>\n",
       "      <td>...</td>\n",
       "      <td>93.90</td>\n",
       "      <td>142.74</td>\n",
       "      <td>203.7</td>\n",
       "      <td>47.17</td>\n",
       "      <td>94.21</td>\n",
       "      <td>198.55</td>\n",
       "      <td>14.380</td>\n",
       "      <td>26.11</td>\n",
       "      <td>50.40</td>\n",
       "      <td>111.75</td>\n",
       "    </tr>\n",
       "    <tr>\n",
       "      <th>3</th>\n",
       "      <td>2019-02-19</td>\n",
       "      <td>149.45</td>\n",
       "      <td>223.1</td>\n",
       "      <td>80.28</td>\n",
       "      <td>5.189</td>\n",
       "      <td>4.0840</td>\n",
       "      <td>161.14</td>\n",
       "      <td>34.745</td>\n",
       "      <td>7.600</td>\n",
       "      <td>49.510</td>\n",
       "      <td>...</td>\n",
       "      <td>94.05</td>\n",
       "      <td>143.18</td>\n",
       "      <td>205.0</td>\n",
       "      <td>46.68</td>\n",
       "      <td>94.02</td>\n",
       "      <td>201.80</td>\n",
       "      <td>14.480</td>\n",
       "      <td>26.39</td>\n",
       "      <td>50.46</td>\n",
       "      <td>110.75</td>\n",
       "    </tr>\n",
       "    <tr>\n",
       "      <th>4</th>\n",
       "      <td>2019-02-20</td>\n",
       "      <td>151.00</td>\n",
       "      <td>224.4</td>\n",
       "      <td>81.04</td>\n",
       "      <td>5.237</td>\n",
       "      <td>4.1405</td>\n",
       "      <td>161.84</td>\n",
       "      <td>34.760</td>\n",
       "      <td>7.680</td>\n",
       "      <td>49.630</td>\n",
       "      <td>...</td>\n",
       "      <td>94.60</td>\n",
       "      <td>146.68</td>\n",
       "      <td>206.2</td>\n",
       "      <td>49.00</td>\n",
       "      <td>94.45</td>\n",
       "      <td>202.10</td>\n",
       "      <td>14.580</td>\n",
       "      <td>26.71</td>\n",
       "      <td>51.76</td>\n",
       "      <td>111.05</td>\n",
       "    </tr>\n",
       "  </tbody>\n",
       "</table>\n",
       "<p>5 rows × 52 columns</p>\n",
       "</div>"
      ],
      "text/plain": [
       "  Unnamed: 0  PERNOD RICARD SA  L'OREAL  VINCI SA  \\\n",
       "0 2019-02-14            149.00    220.5     79.10   \n",
       "1 2019-02-15            150.55    221.8     80.52   \n",
       "2 2019-02-18            150.00    224.7     80.46   \n",
       "3 2019-02-19            149.45    223.1     80.28   \n",
       "4 2019-02-20            151.00    224.4     81.04   \n",
       "\n",
       "   BANCO BILBAO VIZCAYA ARGENTA  BANCO SANTANDER SA  ASML HOLDING NV  \\\n",
       "0                         5.028              3.9700           162.52   \n",
       "1                         5.194              4.1000           163.08   \n",
       "2                         5.227              4.1200           162.00   \n",
       "3                         5.189              4.0840           161.14   \n",
       "4                         5.237              4.1405           161.84   \n",
       "\n",
       "   KONINKLIJKE PHILIPS NV  TELEFONICA SA  TOTAL SE  ...  SIEMENS AG-REG  \\\n",
       "0                  34.700          7.315    48.985  ...           92.25   \n",
       "1                  35.090          7.500    49.695  ...           94.62   \n",
       "2                  34.855          7.562    49.510  ...           93.90   \n",
       "3                  34.745          7.600    49.510  ...           94.05   \n",
       "4                  34.760          7.680    49.630  ...           94.60   \n",
       "\n",
       "   VOLKSWAGEN AG-PREF  MUENCHENER RUECKVER AG-REG  FRESENIUS SE & CO KGAA  \\\n",
       "0              141.86                       201.0                   46.80   \n",
       "1              144.40                       204.2                   47.26   \n",
       "2              142.74                       203.7                   47.17   \n",
       "3              143.18                       205.0                   46.68   \n",
       "4              146.68                       206.2                   49.00   \n",
       "\n",
       "   SAP SE  ADIDAS AG  DEUTSCHE TELEKOM AG-REG  DEUTSCHE POST AG-REG  \\\n",
       "0   93.56     197.00                   14.145                 26.00   \n",
       "1   94.30     199.15                   14.260                 26.75   \n",
       "2   94.21     198.55                   14.380                 26.11   \n",
       "3   94.02     201.80                   14.480                 26.39   \n",
       "4   94.45     202.10                   14.580                 26.71   \n",
       "\n",
       "   MERCEDES-BENZ GROUP AG  DEUTSCHE BOERSE AG  \n",
       "0                   49.30              110.25  \n",
       "1                   50.61              111.30  \n",
       "2                   50.40              111.75  \n",
       "3                   50.46              110.75  \n",
       "4                   51.76              111.05  \n",
       "\n",
       "[5 rows x 52 columns]"
      ]
     },
     "execution_count": 490,
     "metadata": {},
     "output_type": "execute_result"
    }
   ],
   "source": [
    "#Removing columns with no values\n",
    "df = data.drop('Unnamed: 2',axis=1)\n",
    "df.head(5)"
   ]
  },
  {
   "cell_type": "code",
   "execution_count": 491,
   "metadata": {},
   "outputs": [
    {
     "data": {
      "text/html": [
       "<div>\n",
       "<style scoped>\n",
       "    .dataframe tbody tr th:only-of-type {\n",
       "        vertical-align: middle;\n",
       "    }\n",
       "\n",
       "    .dataframe tbody tr th {\n",
       "        vertical-align: top;\n",
       "    }\n",
       "\n",
       "    .dataframe thead th {\n",
       "        text-align: right;\n",
       "    }\n",
       "</style>\n",
       "<table border=\"1\" class=\"dataframe\">\n",
       "  <thead>\n",
       "    <tr style=\"text-align: right;\">\n",
       "      <th></th>\n",
       "      <th>PERNOD RICARD SA</th>\n",
       "      <th>L'OREAL</th>\n",
       "      <th>VINCI SA</th>\n",
       "      <th>BANCO BILBAO VIZCAYA ARGENTA</th>\n",
       "      <th>BANCO SANTANDER SA</th>\n",
       "      <th>ASML HOLDING NV</th>\n",
       "      <th>KONINKLIJKE PHILIPS NV</th>\n",
       "      <th>TELEFONICA SA</th>\n",
       "      <th>TOTAL SE</th>\n",
       "      <th>AIR LIQUIDE SA</th>\n",
       "      <th>...</th>\n",
       "      <th>SIEMENS AG-REG</th>\n",
       "      <th>VOLKSWAGEN AG-PREF</th>\n",
       "      <th>MUENCHENER RUECKVER AG-REG</th>\n",
       "      <th>FRESENIUS SE &amp; CO KGAA</th>\n",
       "      <th>SAP SE</th>\n",
       "      <th>ADIDAS AG</th>\n",
       "      <th>DEUTSCHE TELEKOM AG-REG</th>\n",
       "      <th>DEUTSCHE POST AG-REG</th>\n",
       "      <th>MERCEDES-BENZ GROUP AG</th>\n",
       "      <th>DEUTSCHE BOERSE AG</th>\n",
       "    </tr>\n",
       "    <tr>\n",
       "      <th>Date</th>\n",
       "      <th></th>\n",
       "      <th></th>\n",
       "      <th></th>\n",
       "      <th></th>\n",
       "      <th></th>\n",
       "      <th></th>\n",
       "      <th></th>\n",
       "      <th></th>\n",
       "      <th></th>\n",
       "      <th></th>\n",
       "      <th></th>\n",
       "      <th></th>\n",
       "      <th></th>\n",
       "      <th></th>\n",
       "      <th></th>\n",
       "      <th></th>\n",
       "      <th></th>\n",
       "      <th></th>\n",
       "      <th></th>\n",
       "      <th></th>\n",
       "      <th></th>\n",
       "    </tr>\n",
       "  </thead>\n",
       "  <tbody>\n",
       "    <tr>\n",
       "      <th>2019-02-14</th>\n",
       "      <td>149.00</td>\n",
       "      <td>220.5</td>\n",
       "      <td>79.100000</td>\n",
       "      <td>5.028</td>\n",
       "      <td>3.9700</td>\n",
       "      <td>162.520000</td>\n",
       "      <td>34.700000</td>\n",
       "      <td>7.315</td>\n",
       "      <td>48.985</td>\n",
       "      <td>96.363636</td>\n",
       "      <td>...</td>\n",
       "      <td>92.250000</td>\n",
       "      <td>141.860000</td>\n",
       "      <td>201.000000</td>\n",
       "      <td>46.800</td>\n",
       "      <td>93.560000</td>\n",
       "      <td>197.00</td>\n",
       "      <td>14.145</td>\n",
       "      <td>26.000000</td>\n",
       "      <td>49.300</td>\n",
       "      <td>110.25</td>\n",
       "    </tr>\n",
       "    <tr>\n",
       "      <th>2019-02-15</th>\n",
       "      <td>150.55</td>\n",
       "      <td>221.8</td>\n",
       "      <td>80.520000</td>\n",
       "      <td>5.194</td>\n",
       "      <td>4.1000</td>\n",
       "      <td>163.080000</td>\n",
       "      <td>35.090000</td>\n",
       "      <td>7.500</td>\n",
       "      <td>49.695</td>\n",
       "      <td>97.136364</td>\n",
       "      <td>...</td>\n",
       "      <td>94.620000</td>\n",
       "      <td>144.400000</td>\n",
       "      <td>204.200000</td>\n",
       "      <td>47.260</td>\n",
       "      <td>94.300000</td>\n",
       "      <td>199.15</td>\n",
       "      <td>14.260</td>\n",
       "      <td>26.750000</td>\n",
       "      <td>50.610</td>\n",
       "      <td>111.30</td>\n",
       "    </tr>\n",
       "    <tr>\n",
       "      <th>2019-02-18</th>\n",
       "      <td>150.00</td>\n",
       "      <td>224.7</td>\n",
       "      <td>80.460000</td>\n",
       "      <td>5.227</td>\n",
       "      <td>4.1200</td>\n",
       "      <td>162.000000</td>\n",
       "      <td>34.855000</td>\n",
       "      <td>7.562</td>\n",
       "      <td>49.510</td>\n",
       "      <td>97.272727</td>\n",
       "      <td>...</td>\n",
       "      <td>93.900000</td>\n",
       "      <td>142.740000</td>\n",
       "      <td>203.700000</td>\n",
       "      <td>47.170</td>\n",
       "      <td>94.210000</td>\n",
       "      <td>198.55</td>\n",
       "      <td>14.380</td>\n",
       "      <td>26.110000</td>\n",
       "      <td>50.400</td>\n",
       "      <td>111.75</td>\n",
       "    </tr>\n",
       "    <tr>\n",
       "      <th>2019-02-19</th>\n",
       "      <td>149.45</td>\n",
       "      <td>223.1</td>\n",
       "      <td>80.280000</td>\n",
       "      <td>5.189</td>\n",
       "      <td>4.0840</td>\n",
       "      <td>161.140000</td>\n",
       "      <td>34.745000</td>\n",
       "      <td>7.600</td>\n",
       "      <td>49.510</td>\n",
       "      <td>97.090909</td>\n",
       "      <td>...</td>\n",
       "      <td>94.050000</td>\n",
       "      <td>143.180000</td>\n",
       "      <td>205.000000</td>\n",
       "      <td>46.680</td>\n",
       "      <td>94.020000</td>\n",
       "      <td>201.80</td>\n",
       "      <td>14.480</td>\n",
       "      <td>26.390000</td>\n",
       "      <td>50.460</td>\n",
       "      <td>110.75</td>\n",
       "    </tr>\n",
       "    <tr>\n",
       "      <th>2019-02-20</th>\n",
       "      <td>151.00</td>\n",
       "      <td>224.4</td>\n",
       "      <td>81.040000</td>\n",
       "      <td>5.237</td>\n",
       "      <td>4.1405</td>\n",
       "      <td>161.840000</td>\n",
       "      <td>34.760000</td>\n",
       "      <td>7.680</td>\n",
       "      <td>49.630</td>\n",
       "      <td>98.363636</td>\n",
       "      <td>...</td>\n",
       "      <td>94.600000</td>\n",
       "      <td>146.680000</td>\n",
       "      <td>206.200000</td>\n",
       "      <td>49.000</td>\n",
       "      <td>94.450000</td>\n",
       "      <td>202.10</td>\n",
       "      <td>14.580</td>\n",
       "      <td>26.710000</td>\n",
       "      <td>51.760</td>\n",
       "      <td>111.05</td>\n",
       "    </tr>\n",
       "    <tr>\n",
       "      <th>...</th>\n",
       "      <td>...</td>\n",
       "      <td>...</td>\n",
       "      <td>...</td>\n",
       "      <td>...</td>\n",
       "      <td>...</td>\n",
       "      <td>...</td>\n",
       "      <td>...</td>\n",
       "      <td>...</td>\n",
       "      <td>...</td>\n",
       "      <td>...</td>\n",
       "      <td>...</td>\n",
       "      <td>...</td>\n",
       "      <td>...</td>\n",
       "      <td>...</td>\n",
       "      <td>...</td>\n",
       "      <td>...</td>\n",
       "      <td>...</td>\n",
       "      <td>...</td>\n",
       "      <td>...</td>\n",
       "      <td>...</td>\n",
       "      <td>...</td>\n",
       "    </tr>\n",
       "    <tr>\n",
       "      <th>2020-02-10</th>\n",
       "      <td>160.80</td>\n",
       "      <td>270.8</td>\n",
       "      <td>104.400000</td>\n",
       "      <td>5.242</td>\n",
       "      <td>3.8365</td>\n",
       "      <td>281.000000</td>\n",
       "      <td>44.345000</td>\n",
       "      <td>6.177</td>\n",
       "      <td>44.575</td>\n",
       "      <td>134.650000</td>\n",
       "      <td>...</td>\n",
       "      <td>108.300000</td>\n",
       "      <td>164.380000</td>\n",
       "      <td>277.500000</td>\n",
       "      <td>48.600</td>\n",
       "      <td>123.660000</td>\n",
       "      <td>286.05</td>\n",
       "      <td>14.864</td>\n",
       "      <td>32.525000</td>\n",
       "      <td>43.045</td>\n",
       "      <td>153.00</td>\n",
       "    </tr>\n",
       "    <tr>\n",
       "      <th>2020-02-11</th>\n",
       "      <td>160.00</td>\n",
       "      <td>273.0</td>\n",
       "      <td>105.000000</td>\n",
       "      <td>5.233</td>\n",
       "      <td>3.8700</td>\n",
       "      <td>288.450000</td>\n",
       "      <td>44.605000</td>\n",
       "      <td>6.170</td>\n",
       "      <td>44.990</td>\n",
       "      <td>137.900000</td>\n",
       "      <td>...</td>\n",
       "      <td>109.440000</td>\n",
       "      <td>167.440000</td>\n",
       "      <td>277.400000</td>\n",
       "      <td>49.155</td>\n",
       "      <td>125.360000</td>\n",
       "      <td>286.80</td>\n",
       "      <td>15.422</td>\n",
       "      <td>32.965000</td>\n",
       "      <td>42.635</td>\n",
       "      <td>153.65</td>\n",
       "    </tr>\n",
       "    <tr>\n",
       "      <th>2020-02-12</th>\n",
       "      <td>160.65</td>\n",
       "      <td>271.1</td>\n",
       "      <td>105.650000</td>\n",
       "      <td>5.329</td>\n",
       "      <td>3.9550</td>\n",
       "      <td>290.750000</td>\n",
       "      <td>44.865000</td>\n",
       "      <td>6.330</td>\n",
       "      <td>45.485</td>\n",
       "      <td>138.800000</td>\n",
       "      <td>...</td>\n",
       "      <td>109.580000</td>\n",
       "      <td>173.140000</td>\n",
       "      <td>278.600000</td>\n",
       "      <td>49.090</td>\n",
       "      <td>126.820000</td>\n",
       "      <td>290.70</td>\n",
       "      <td>15.612</td>\n",
       "      <td>33.230000</td>\n",
       "      <td>43.995</td>\n",
       "      <td>153.25</td>\n",
       "    </tr>\n",
       "    <tr>\n",
       "      <th>2020-02-13</th>\n",
       "      <td>166.75</td>\n",
       "      <td>271.5</td>\n",
       "      <td>105.000000</td>\n",
       "      <td>5.298</td>\n",
       "      <td>3.9390</td>\n",
       "      <td>292.300000</td>\n",
       "      <td>44.700000</td>\n",
       "      <td>6.234</td>\n",
       "      <td>45.395</td>\n",
       "      <td>140.000000</td>\n",
       "      <td>...</td>\n",
       "      <td>107.160000</td>\n",
       "      <td>172.540000</td>\n",
       "      <td>281.200000</td>\n",
       "      <td>48.740</td>\n",
       "      <td>126.800000</td>\n",
       "      <td>287.70</td>\n",
       "      <td>15.560</td>\n",
       "      <td>33.420000</td>\n",
       "      <td>43.245</td>\n",
       "      <td>153.60</td>\n",
       "    </tr>\n",
       "    <tr>\n",
       "      <th>2020-02-14</th>\n",
       "      <td>165.95</td>\n",
       "      <td>269.0</td>\n",
       "      <td>105.599998</td>\n",
       "      <td>5.275</td>\n",
       "      <td>3.9425</td>\n",
       "      <td>292.950012</td>\n",
       "      <td>44.494999</td>\n",
       "      <td>6.253</td>\n",
       "      <td>45.500</td>\n",
       "      <td>139.250000</td>\n",
       "      <td>...</td>\n",
       "      <td>107.620003</td>\n",
       "      <td>171.800003</td>\n",
       "      <td>282.799988</td>\n",
       "      <td>48.785</td>\n",
       "      <td>126.739998</td>\n",
       "      <td>289.25</td>\n",
       "      <td>15.658</td>\n",
       "      <td>33.365002</td>\n",
       "      <td>43.535</td>\n",
       "      <td>153.75</td>\n",
       "    </tr>\n",
       "  </tbody>\n",
       "</table>\n",
       "<p>256 rows × 51 columns</p>\n",
       "</div>"
      ],
      "text/plain": [
       "            PERNOD RICARD SA  L'OREAL    VINCI SA  \\\n",
       "Date                                                \n",
       "2019-02-14            149.00    220.5   79.100000   \n",
       "2019-02-15            150.55    221.8   80.520000   \n",
       "2019-02-18            150.00    224.7   80.460000   \n",
       "2019-02-19            149.45    223.1   80.280000   \n",
       "2019-02-20            151.00    224.4   81.040000   \n",
       "...                      ...      ...         ...   \n",
       "2020-02-10            160.80    270.8  104.400000   \n",
       "2020-02-11            160.00    273.0  105.000000   \n",
       "2020-02-12            160.65    271.1  105.650000   \n",
       "2020-02-13            166.75    271.5  105.000000   \n",
       "2020-02-14            165.95    269.0  105.599998   \n",
       "\n",
       "            BANCO BILBAO VIZCAYA ARGENTA  BANCO SANTANDER SA  ASML HOLDING NV  \\\n",
       "Date                                                                            \n",
       "2019-02-14                         5.028              3.9700       162.520000   \n",
       "2019-02-15                         5.194              4.1000       163.080000   \n",
       "2019-02-18                         5.227              4.1200       162.000000   \n",
       "2019-02-19                         5.189              4.0840       161.140000   \n",
       "2019-02-20                         5.237              4.1405       161.840000   \n",
       "...                                  ...                 ...              ...   \n",
       "2020-02-10                         5.242              3.8365       281.000000   \n",
       "2020-02-11                         5.233              3.8700       288.450000   \n",
       "2020-02-12                         5.329              3.9550       290.750000   \n",
       "2020-02-13                         5.298              3.9390       292.300000   \n",
       "2020-02-14                         5.275              3.9425       292.950012   \n",
       "\n",
       "            KONINKLIJKE PHILIPS NV  TELEFONICA SA  TOTAL SE  AIR LIQUIDE SA  \\\n",
       "Date                                                                          \n",
       "2019-02-14               34.700000          7.315    48.985       96.363636   \n",
       "2019-02-15               35.090000          7.500    49.695       97.136364   \n",
       "2019-02-18               34.855000          7.562    49.510       97.272727   \n",
       "2019-02-19               34.745000          7.600    49.510       97.090909   \n",
       "2019-02-20               34.760000          7.680    49.630       98.363636   \n",
       "...                            ...            ...       ...             ...   \n",
       "2020-02-10               44.345000          6.177    44.575      134.650000   \n",
       "2020-02-11               44.605000          6.170    44.990      137.900000   \n",
       "2020-02-12               44.865000          6.330    45.485      138.800000   \n",
       "2020-02-13               44.700000          6.234    45.395      140.000000   \n",
       "2020-02-14               44.494999          6.253    45.500      139.250000   \n",
       "\n",
       "            ...  SIEMENS AG-REG  VOLKSWAGEN AG-PREF  \\\n",
       "Date        ...                                       \n",
       "2019-02-14  ...       92.250000          141.860000   \n",
       "2019-02-15  ...       94.620000          144.400000   \n",
       "2019-02-18  ...       93.900000          142.740000   \n",
       "2019-02-19  ...       94.050000          143.180000   \n",
       "2019-02-20  ...       94.600000          146.680000   \n",
       "...         ...             ...                 ...   \n",
       "2020-02-10  ...      108.300000          164.380000   \n",
       "2020-02-11  ...      109.440000          167.440000   \n",
       "2020-02-12  ...      109.580000          173.140000   \n",
       "2020-02-13  ...      107.160000          172.540000   \n",
       "2020-02-14  ...      107.620003          171.800003   \n",
       "\n",
       "            MUENCHENER RUECKVER AG-REG  FRESENIUS SE & CO KGAA      SAP SE  \\\n",
       "Date                                                                         \n",
       "2019-02-14                  201.000000                  46.800   93.560000   \n",
       "2019-02-15                  204.200000                  47.260   94.300000   \n",
       "2019-02-18                  203.700000                  47.170   94.210000   \n",
       "2019-02-19                  205.000000                  46.680   94.020000   \n",
       "2019-02-20                  206.200000                  49.000   94.450000   \n",
       "...                                ...                     ...         ...   \n",
       "2020-02-10                  277.500000                  48.600  123.660000   \n",
       "2020-02-11                  277.400000                  49.155  125.360000   \n",
       "2020-02-12                  278.600000                  49.090  126.820000   \n",
       "2020-02-13                  281.200000                  48.740  126.800000   \n",
       "2020-02-14                  282.799988                  48.785  126.739998   \n",
       "\n",
       "            ADIDAS AG  DEUTSCHE TELEKOM AG-REG  DEUTSCHE POST AG-REG  \\\n",
       "Date                                                                   \n",
       "2019-02-14     197.00                   14.145             26.000000   \n",
       "2019-02-15     199.15                   14.260             26.750000   \n",
       "2019-02-18     198.55                   14.380             26.110000   \n",
       "2019-02-19     201.80                   14.480             26.390000   \n",
       "2019-02-20     202.10                   14.580             26.710000   \n",
       "...               ...                      ...                   ...   \n",
       "2020-02-10     286.05                   14.864             32.525000   \n",
       "2020-02-11     286.80                   15.422             32.965000   \n",
       "2020-02-12     290.70                   15.612             33.230000   \n",
       "2020-02-13     287.70                   15.560             33.420000   \n",
       "2020-02-14     289.25                   15.658             33.365002   \n",
       "\n",
       "            MERCEDES-BENZ GROUP AG  DEUTSCHE BOERSE AG  \n",
       "Date                                                    \n",
       "2019-02-14                  49.300              110.25  \n",
       "2019-02-15                  50.610              111.30  \n",
       "2019-02-18                  50.400              111.75  \n",
       "2019-02-19                  50.460              110.75  \n",
       "2019-02-20                  51.760              111.05  \n",
       "...                            ...                 ...  \n",
       "2020-02-10                  43.045              153.00  \n",
       "2020-02-11                  42.635              153.65  \n",
       "2020-02-12                  43.995              153.25  \n",
       "2020-02-13                  43.245              153.60  \n",
       "2020-02-14                  43.535              153.75  \n",
       "\n",
       "[256 rows x 51 columns]"
      ]
     },
     "execution_count": 491,
     "metadata": {},
     "output_type": "execute_result"
    }
   ],
   "source": [
    "#Renaming the Column 'Unnamed: 0' to 'Date' \n",
    "df1 = df.rename(columns = {'Unnamed: 0':'Date'})\n",
    "df1.set_index('Date', inplace=True)\n",
    "df1"
   ]
  },
  {
   "cell_type": "code",
   "execution_count": 492,
   "metadata": {},
   "outputs": [
    {
     "data": {
      "text/plain": [
       "<AxesSubplot:>"
      ]
     },
     "execution_count": 492,
     "metadata": {},
     "output_type": "execute_result"
    },
    {
     "data": {
      "image/png": "[encoded data removed]",
      "text/plain": [
       "<Figure size 1800x720 with 2 Axes>"
      ]
     },
     "metadata": {
      "needs_background": "light"
     },
     "output_type": "display_data"
    }
   ],
   "source": [
    "#Visualizing the missing values\n",
    "msno.matrix(df1,labels=True)"
   ]
  },
  {
   "cell_type": "code",
   "execution_count": 493,
   "metadata": {},
   "outputs": [
    {
     "data": {
      "text/html": [
       "<div>\n",
       "<style scoped>\n",
       "    .dataframe tbody tr th:only-of-type {\n",
       "        vertical-align: middle;\n",
       "    }\n",
       "\n",
       "    .dataframe tbody tr th {\n",
       "        vertical-align: top;\n",
       "    }\n",
       "\n",
       "    .dataframe thead th {\n",
       "        text-align: right;\n",
       "    }\n",
       "</style>\n",
       "<table border=\"1\" class=\"dataframe\">\n",
       "  <thead>\n",
       "    <tr style=\"text-align: right;\">\n",
       "      <th></th>\n",
       "      <th>PERNOD RICARD SA</th>\n",
       "      <th>L'OREAL</th>\n",
       "      <th>VINCI SA</th>\n",
       "      <th>BANCO BILBAO VIZCAYA ARGENTA</th>\n",
       "      <th>BANCO SANTANDER SA</th>\n",
       "      <th>ASML HOLDING NV</th>\n",
       "      <th>KONINKLIJKE PHILIPS NV</th>\n",
       "      <th>TELEFONICA SA</th>\n",
       "      <th>TOTAL SE</th>\n",
       "      <th>AIR LIQUIDE SA</th>\n",
       "      <th>...</th>\n",
       "      <th>SIEMENS AG-REG</th>\n",
       "      <th>VOLKSWAGEN AG-PREF</th>\n",
       "      <th>MUENCHENER RUECKVER AG-REG</th>\n",
       "      <th>FRESENIUS SE &amp; CO KGAA</th>\n",
       "      <th>SAP SE</th>\n",
       "      <th>ADIDAS AG</th>\n",
       "      <th>DEUTSCHE TELEKOM AG-REG</th>\n",
       "      <th>DEUTSCHE POST AG-REG</th>\n",
       "      <th>MERCEDES-BENZ GROUP AG</th>\n",
       "      <th>DEUTSCHE BOERSE AG</th>\n",
       "    </tr>\n",
       "    <tr>\n",
       "      <th>Date</th>\n",
       "      <th></th>\n",
       "      <th></th>\n",
       "      <th></th>\n",
       "      <th></th>\n",
       "      <th></th>\n",
       "      <th></th>\n",
       "      <th></th>\n",
       "      <th></th>\n",
       "      <th></th>\n",
       "      <th></th>\n",
       "      <th></th>\n",
       "      <th></th>\n",
       "      <th></th>\n",
       "      <th></th>\n",
       "      <th></th>\n",
       "      <th></th>\n",
       "      <th></th>\n",
       "      <th></th>\n",
       "      <th></th>\n",
       "      <th></th>\n",
       "      <th></th>\n",
       "    </tr>\n",
       "  </thead>\n",
       "  <tbody>\n",
       "    <tr>\n",
       "      <th>2019-05-30</th>\n",
       "      <td>161.80</td>\n",
       "      <td>241.9</td>\n",
       "      <td>88.82</td>\n",
       "      <td>5.0750</td>\n",
       "      <td>4.0500</td>\n",
       "      <td>170.98</td>\n",
       "      <td>35.940</td>\n",
       "      <td>7.216</td>\n",
       "      <td>46.840</td>\n",
       "      <td>102.681818</td>\n",
       "      <td>...</td>\n",
       "      <td>103.12</td>\n",
       "      <td>143.22</td>\n",
       "      <td>219.3</td>\n",
       "      <td>46.105</td>\n",
       "      <td>112.00</td>\n",
       "      <td>258.25</td>\n",
       "      <td>15.204</td>\n",
       "      <td>26.725</td>\n",
       "      <td>47.300</td>\n",
       "      <td>125.35</td>\n",
       "    </tr>\n",
       "    <tr>\n",
       "      <th>2019-06-10</th>\n",
       "      <td>159.40</td>\n",
       "      <td>245.2</td>\n",
       "      <td>90.54</td>\n",
       "      <td>5.0680</td>\n",
       "      <td>4.0375</td>\n",
       "      <td>175.00</td>\n",
       "      <td>36.035</td>\n",
       "      <td>7.459</td>\n",
       "      <td>48.250</td>\n",
       "      <td>105.545455</td>\n",
       "      <td>...</td>\n",
       "      <td>NaN</td>\n",
       "      <td>NaN</td>\n",
       "      <td>NaN</td>\n",
       "      <td>NaN</td>\n",
       "      <td>NaN</td>\n",
       "      <td>NaN</td>\n",
       "      <td>NaN</td>\n",
       "      <td>NaN</td>\n",
       "      <td>NaN</td>\n",
       "      <td>NaN</td>\n",
       "    </tr>\n",
       "    <tr>\n",
       "      <th>2019-06-21</th>\n",
       "      <td>162.80</td>\n",
       "      <td>255.3</td>\n",
       "      <td>91.04</td>\n",
       "      <td>4.9175</td>\n",
       "      <td>4.0005</td>\n",
       "      <td>178.70</td>\n",
       "      <td>38.045</td>\n",
       "      <td>7.264</td>\n",
       "      <td>49.115</td>\n",
       "      <td>111.227273</td>\n",
       "      <td>...</td>\n",
       "      <td>105.74</td>\n",
       "      <td>147.18</td>\n",
       "      <td>225.4</td>\n",
       "      <td>48.190</td>\n",
       "      <td>118.50</td>\n",
       "      <td>268.80</td>\n",
       "      <td>15.412</td>\n",
       "      <td>28.390</td>\n",
       "      <td>49.620</td>\n",
       "      <td>126.80</td>\n",
       "    </tr>\n",
       "    <tr>\n",
       "      <th>2019-08-15</th>\n",
       "      <td>156.85</td>\n",
       "      <td>230.3</td>\n",
       "      <td>93.48</td>\n",
       "      <td>4.2340</td>\n",
       "      <td>3.4745</td>\n",
       "      <td>188.06</td>\n",
       "      <td>40.950</td>\n",
       "      <td>5.945</td>\n",
       "      <td>43.300</td>\n",
       "      <td>110.454545</td>\n",
       "      <td>...</td>\n",
       "      <td>85.00</td>\n",
       "      <td>138.16</td>\n",
       "      <td>215.5</td>\n",
       "      <td>41.750</td>\n",
       "      <td>105.74</td>\n",
       "      <td>257.10</td>\n",
       "      <td>14.648</td>\n",
       "      <td>28.230</td>\n",
       "      <td>40.530</td>\n",
       "      <td>127.25</td>\n",
       "    </tr>\n",
       "    <tr>\n",
       "      <th>2019-10-03</th>\n",
       "      <td>169.35</td>\n",
       "      <td>242.6</td>\n",
       "      <td>95.40</td>\n",
       "      <td>4.5190</td>\n",
       "      <td>3.5085</td>\n",
       "      <td>220.60</td>\n",
       "      <td>40.355</td>\n",
       "      <td>6.767</td>\n",
       "      <td>44.910</td>\n",
       "      <td>113.681818</td>\n",
       "      <td>...</td>\n",
       "      <td>NaN</td>\n",
       "      <td>NaN</td>\n",
       "      <td>NaN</td>\n",
       "      <td>NaN</td>\n",
       "      <td>NaN</td>\n",
       "      <td>NaN</td>\n",
       "      <td>NaN</td>\n",
       "      <td>NaN</td>\n",
       "      <td>NaN</td>\n",
       "      <td>NaN</td>\n",
       "    </tr>\n",
       "    <tr>\n",
       "      <th>2019-12-06</th>\n",
       "      <td>163.20</td>\n",
       "      <td>256.7</td>\n",
       "      <td>98.24</td>\n",
       "      <td>4.7830</td>\n",
       "      <td>3.5850</td>\n",
       "      <td>252.60</td>\n",
       "      <td>42.610</td>\n",
       "      <td>6.868</td>\n",
       "      <td>47.955</td>\n",
       "      <td>122.400000</td>\n",
       "      <td>...</td>\n",
       "      <td>116.80</td>\n",
       "      <td>176.60</td>\n",
       "      <td>259.4</td>\n",
       "      <td>49.420</td>\n",
       "      <td>122.20</td>\n",
       "      <td>279.20</td>\n",
       "      <td>15.064</td>\n",
       "      <td>34.080</td>\n",
       "      <td>49.455</td>\n",
       "      <td>137.40</td>\n",
       "    </tr>\n",
       "    <tr>\n",
       "      <th>2019-12-24</th>\n",
       "      <td>162.55</td>\n",
       "      <td>264.5</td>\n",
       "      <td>98.76</td>\n",
       "      <td>5.0610</td>\n",
       "      <td>3.7550</td>\n",
       "      <td>264.90</td>\n",
       "      <td>44.040</td>\n",
       "      <td>6.412</td>\n",
       "      <td>49.475</td>\n",
       "      <td>126.000000</td>\n",
       "      <td>...</td>\n",
       "      <td>NaN</td>\n",
       "      <td>NaN</td>\n",
       "      <td>NaN</td>\n",
       "      <td>NaN</td>\n",
       "      <td>NaN</td>\n",
       "      <td>NaN</td>\n",
       "      <td>NaN</td>\n",
       "      <td>NaN</td>\n",
       "      <td>NaN</td>\n",
       "      <td>NaN</td>\n",
       "    </tr>\n",
       "    <tr>\n",
       "      <th>2019-12-31</th>\n",
       "      <td>159.40</td>\n",
       "      <td>264.0</td>\n",
       "      <td>99.00</td>\n",
       "      <td>4.9830</td>\n",
       "      <td>3.7300</td>\n",
       "      <td>263.70</td>\n",
       "      <td>43.520</td>\n",
       "      <td>6.227</td>\n",
       "      <td>49.200</td>\n",
       "      <td>126.200000</td>\n",
       "      <td>...</td>\n",
       "      <td>NaN</td>\n",
       "      <td>NaN</td>\n",
       "      <td>NaN</td>\n",
       "      <td>NaN</td>\n",
       "      <td>NaN</td>\n",
       "      <td>NaN</td>\n",
       "      <td>NaN</td>\n",
       "      <td>NaN</td>\n",
       "      <td>NaN</td>\n",
       "      <td>NaN</td>\n",
       "    </tr>\n",
       "    <tr>\n",
       "      <th>2020-01-06</th>\n",
       "      <td>161.20</td>\n",
       "      <td>263.0</td>\n",
       "      <td>98.72</td>\n",
       "      <td>5.0320</td>\n",
       "      <td>3.7745</td>\n",
       "      <td>263.10</td>\n",
       "      <td>43.535</td>\n",
       "      <td>6.345</td>\n",
       "      <td>50.440</td>\n",
       "      <td>125.450000</td>\n",
       "      <td>...</td>\n",
       "      <td>115.82</td>\n",
       "      <td>176.62</td>\n",
       "      <td>262.7</td>\n",
       "      <td>49.365</td>\n",
       "      <td>119.56</td>\n",
       "      <td>289.65</td>\n",
       "      <td>14.578</td>\n",
       "      <td>33.625</td>\n",
       "      <td>48.805</td>\n",
       "      <td>138.35</td>\n",
       "    </tr>\n",
       "  </tbody>\n",
       "</table>\n",
       "<p>9 rows × 51 columns</p>\n",
       "</div>"
      ],
      "text/plain": [
       "            PERNOD RICARD SA  L'OREAL  VINCI SA  BANCO BILBAO VIZCAYA ARGENTA  \\\n",
       "Date                                                                            \n",
       "2019-05-30            161.80    241.9     88.82                        5.0750   \n",
       "2019-06-10            159.40    245.2     90.54                        5.0680   \n",
       "2019-06-21            162.80    255.3     91.04                        4.9175   \n",
       "2019-08-15            156.85    230.3     93.48                        4.2340   \n",
       "2019-10-03            169.35    242.6     95.40                        4.5190   \n",
       "2019-12-06            163.20    256.7     98.24                        4.7830   \n",
       "2019-12-24            162.55    264.5     98.76                        5.0610   \n",
       "2019-12-31            159.40    264.0     99.00                        4.9830   \n",
       "2020-01-06            161.20    263.0     98.72                        5.0320   \n",
       "\n",
       "            BANCO SANTANDER SA  ASML HOLDING NV  KONINKLIJKE PHILIPS NV  \\\n",
       "Date                                                                      \n",
       "2019-05-30              4.0500           170.98                  35.940   \n",
       "2019-06-10              4.0375           175.00                  36.035   \n",
       "2019-06-21              4.0005           178.70                  38.045   \n",
       "2019-08-15              3.4745           188.06                  40.950   \n",
       "2019-10-03              3.5085           220.60                  40.355   \n",
       "2019-12-06              3.5850           252.60                  42.610   \n",
       "2019-12-24              3.7550           264.90                  44.040   \n",
       "2019-12-31              3.7300           263.70                  43.520   \n",
       "2020-01-06              3.7745           263.10                  43.535   \n",
       "\n",
       "            TELEFONICA SA  TOTAL SE  AIR LIQUIDE SA  ...  SIEMENS AG-REG  \\\n",
       "Date                                                 ...                   \n",
       "2019-05-30          7.216    46.840      102.681818  ...          103.12   \n",
       "2019-06-10          7.459    48.250      105.545455  ...             NaN   \n",
       "2019-06-21          7.264    49.115      111.227273  ...          105.74   \n",
       "2019-08-15          5.945    43.300      110.454545  ...           85.00   \n",
       "2019-10-03          6.767    44.910      113.681818  ...             NaN   \n",
       "2019-12-06          6.868    47.955      122.400000  ...          116.80   \n",
       "2019-12-24          6.412    49.475      126.000000  ...             NaN   \n",
       "2019-12-31          6.227    49.200      126.200000  ...             NaN   \n",
       "2020-01-06          6.345    50.440      125.450000  ...          115.82   \n",
       "\n",
       "            VOLKSWAGEN AG-PREF  MUENCHENER RUECKVER AG-REG  \\\n",
       "Date                                                         \n",
       "2019-05-30              143.22                       219.3   \n",
       "2019-06-10                 NaN                         NaN   \n",
       "2019-06-21              147.18                       225.4   \n",
       "2019-08-15              138.16                       215.5   \n",
       "2019-10-03                 NaN                         NaN   \n",
       "2019-12-06              176.60                       259.4   \n",
       "2019-12-24                 NaN                         NaN   \n",
       "2019-12-31                 NaN                         NaN   \n",
       "2020-01-06              176.62                       262.7   \n",
       "\n",
       "            FRESENIUS SE & CO KGAA  SAP SE  ADIDAS AG  \\\n",
       "Date                                                    \n",
       "2019-05-30                  46.105  112.00     258.25   \n",
       "2019-06-10                     NaN     NaN        NaN   \n",
       "2019-06-21                  48.190  118.50     268.80   \n",
       "2019-08-15                  41.750  105.74     257.10   \n",
       "2019-10-03                     NaN     NaN        NaN   \n",
       "2019-12-06                  49.420  122.20     279.20   \n",
       "2019-12-24                     NaN     NaN        NaN   \n",
       "2019-12-31                     NaN     NaN        NaN   \n",
       "2020-01-06                  49.365  119.56     289.65   \n",
       "\n",
       "            DEUTSCHE TELEKOM AG-REG  DEUTSCHE POST AG-REG  \\\n",
       "Date                                                        \n",
       "2019-05-30                   15.204                26.725   \n",
       "2019-06-10                      NaN                   NaN   \n",
       "2019-06-21                   15.412                28.390   \n",
       "2019-08-15                   14.648                28.230   \n",
       "2019-10-03                      NaN                   NaN   \n",
       "2019-12-06                   15.064                34.080   \n",
       "2019-12-24                      NaN                   NaN   \n",
       "2019-12-31                      NaN                   NaN   \n",
       "2020-01-06                   14.578                33.625   \n",
       "\n",
       "            MERCEDES-BENZ GROUP AG  DEUTSCHE BOERSE AG  \n",
       "Date                                                    \n",
       "2019-05-30                  47.300              125.35  \n",
       "2019-06-10                     NaN                 NaN  \n",
       "2019-06-21                  49.620              126.80  \n",
       "2019-08-15                  40.530              127.25  \n",
       "2019-10-03                     NaN                 NaN  \n",
       "2019-12-06                  49.455              137.40  \n",
       "2019-12-24                     NaN                 NaN  \n",
       "2019-12-31                     NaN                 NaN  \n",
       "2020-01-06                  48.805              138.35  \n",
       "\n",
       "[9 rows x 51 columns]"
      ]
     },
     "execution_count": 493,
     "metadata": {},
     "output_type": "execute_result"
    }
   ],
   "source": [
    "#Finding reasons why there are dates on which many company's stocks were untradable\n",
    "df1[df1.isna().any(axis=1)]\n",
    "#found mostly end of the year"
   ]
  },
  {
   "cell_type": "code",
   "execution_count": 494,
   "metadata": {},
   "outputs": [
    {
     "data": {
      "text/plain": [
       "Text(0.5, 1.0, 'Quantifying missing data')"
      ]
     },
     "execution_count": 494,
     "metadata": {},
     "output_type": "execute_result"
    },
    {
     "data": {
      "image/png": "[encoded data removed]",
      "text/plain": [
       "<Figure size 864x288 with 1 Axes>"
      ]
     },
     "metadata": {
      "needs_background": "light"
     },
     "output_type": "display_data"
    }
   ],
   "source": [
    "#Percentage of missing values per column\n",
    "df2 = (df1.isnull().sum()/len(df1))*100\n",
    "df2.plot(kind='bar', figsize=(12,4))\n",
    "plt.ylabel('Percentage of missing values')\n",
    "plt.xlabel('Companies')\n",
    "plt.title('Quantifying missing data')"
   ]
  },
  {
   "cell_type": "markdown",
   "metadata": {},
   "source": [
    "## Imputing Missing Values and Preparing the Final DataFrame\n",
    "\n",
    "### Since maximimum missing value % for any column is less than 3 percent, a way forward could be their imputation.\n",
    "### Time series data with very less % of missing values -> it's better to impute than deleting rows with missing values.\n",
    "### Missing Values Imputation below is carried out using KNN Imputer.\n",
    "### It will find given 'n' number of similar(close) non empty samples utilizing other features to compute missing values.\n",
    "### It will find similar movements in the prices comparing its correlated variables and estimate the missing value."
   ]
  },
  {
   "cell_type": "code",
   "execution_count": 495,
   "metadata": {},
   "outputs": [
    {
     "data": {
      "application/vnd.plotly.v1+json": {
       "config": {
        "plotlyServerURL": "https://plot.ly"
       },
       "data": [
        {
         "hovertemplate": "Date=%{x}<br>NOKIA OYJ=%{y}<extra></extra>",
         "legendgroup": "",
         "line": {
          "color": "#636efa",
          "dash": "solid"
         },
         "marker": {
          "symbol": "circle"
         },
         "mode": "lines",
         "name": "",
         "orientation": "v",
         "showlegend": false,
         "type": "scatter",
         "x": [
          "2019-02-14T00:00:00",
          "2019-02-15T00:00:00",
          "2019-02-18T00:00:00",
          "2019-02-19T00:00:00",
          "2019-02-20T00:00:00",
          "2019-02-21T00:00:00",
          "2019-02-22T00:00:00",
          "2019-02-25T00:00:00",
          "2019-02-26T00:00:00",
          "2019-02-27T00:00:00",
          "2019-02-28T00:00:00",
          "2019-03-01T00:00:00",
          "2019-03-04T00:00:00",
          "2019-03-05T00:00:00",
          "2019-03-06T00:00:00",
          "2019-03-07T00:00:00",
          "2019-03-08T00:00:00",
          "2019-03-11T00:00:00",
          "2019-03-12T00:00:00",
          "2019-03-13T00:00:00",
          "2019-03-14T00:00:00",
          "2019-03-15T00:00:00",
          "2019-03-18T00:00:00",
          "2019-03-19T00:00:00",
          "2019-03-20T00:00:00",
          "2019-03-21T00:00:00",
          "2019-03-22T00:00:00",
          "2019-03-25T00:00:00",
          "2019-03-26T00:00:00",
          "2019-03-27T00:00:00",
          "2019-03-28T00:00:00",
          "2019-03-29T00:00:00",
          "2019-04-01T00:00:00",
          "2019-04-02T00:00:00",
          "2019-04-03T00:00:00",
          "2019-04-04T00:00:00",
          "2019-04-05T00:00:00",
          "2019-04-08T00:00:00",
          "2019-04-09T00:00:00",
          "2019-04-10T00:00:00",
          "2019-04-11T00:00:00",
          "2019-04-12T00:00:00",
          "2019-04-15T00:00:00",
          "2019-04-16T00:00:00",
          "2019-04-17T00:00:00",
          "2019-04-18T00:00:00",
          "2019-04-23T00:00:00",
          "2019-04-24T00:00:00",
          "2019-04-25T00:00:00",
          "2019-04-26T00:00:00",
          "2019-04-29T00:00:00",
          "2019-04-30T00:00:00",
          "2019-05-02T00:00:00",
          "2019-05-03T00:00:00",
          "2019-05-06T00:00:00",
          "2019-05-07T00:00:00",
          "2019-05-08T00:00:00",
          "2019-05-09T00:00:00",
          "2019-05-10T00:00:00",
          "2019-05-13T00:00:00",
          "2019-05-14T00:00:00",
          "2019-05-15T00:00:00",
          "2019-05-16T00:00:00",
          "2019-05-17T00:00:00",
          "2019-05-20T00:00:00",
          "2019-05-21T00:00:00",
          "2019-05-22T00:00:00",
          "2019-05-23T00:00:00",
          "2019-05-24T00:00:00",
          "2019-05-27T00:00:00",
          "2019-05-28T00:00:00",
          "2019-05-29T00:00:00",
          "2019-05-30T00:00:00",
          "2019-05-31T00:00:00",
          "2019-06-03T00:00:00",
          "2019-06-04T00:00:00",
          "2019-06-05T00:00:00",
          "2019-06-06T00:00:00",
          "2019-06-07T00:00:00",
          "2019-06-10T00:00:00",
          "2019-06-11T00:00:00",
          "2019-06-12T00:00:00",
          "2019-06-13T00:00:00",
          "2019-06-14T00:00:00",
          "2019-06-17T00:00:00",
          "2019-06-18T00:00:00",
          "2019-06-19T00:00:00",
          "2019-06-20T00:00:00",
          "2019-06-21T00:00:00",
          "2019-06-24T00:00:00",
          "2019-06-25T00:00:00",
          "2019-06-26T00:00:00",
          "2019-06-27T00:00:00",
          "2019-06-28T00:00:00",
          "2019-07-01T00:00:00",
          "2019-07-02T00:00:00",
          "2019-07-03T00:00:00",
          "2019-07-04T00:00:00",
          "2019-07-05T00:00:00",
          "2019-07-08T00:00:00",
          "2019-07-09T00:00:00",
          "2019-07-10T00:00:00",
          "2019-07-11T00:00:00",
          "2019-07-12T00:00:00",
          "2019-07-15T00:00:00",
          "2019-07-16T00:00:00",
          "2019-07-17T00:00:00",
          "2019-07-18T00:00:00",
          "2019-07-19T00:00:00",
          "2019-07-22T00:00:00",
          "2019-07-23T00:00:00",
          "2019-07-24T00:00:00",
          "2019-07-25T00:00:00",
          "2019-07-26T00:00:00",
          "2019-07-29T00:00:00",
          "2019-07-30T00:00:00",
          "2019-07-31T00:00:00",
          "2019-08-01T00:00:00",
          "2019-08-02T00:00:00",
          "2019-08-05T00:00:00",
          "2019-08-06T00:00:00",
          "2019-08-07T00:00:00",
          "2019-08-08T00:00:00",
          "2019-08-09T00:00:00",
          "2019-08-12T00:00:00",
          "2019-08-13T00:00:00",
          "2019-08-14T00:00:00",
          "2019-08-15T00:00:00",
          "2019-08-16T00:00:00",
          "2019-08-19T00:00:00",
          "2019-08-20T00:00:00",
          "2019-08-21T00:00:00",
          "2019-08-22T00:00:00",
          "2019-08-23T00:00:00",
          "2019-08-26T00:00:00",
          "2019-08-27T00:00:00",
          "2019-08-28T00:00:00",
          "2019-08-29T00:00:00",
          "2019-08-30T00:00:00",
          "2019-09-02T00:00:00",
          "2019-09-03T00:00:00",
          "2019-09-04T00:00:00",
          "2019-09-05T00:00:00",
          "2019-09-06T00:00:00",
          "2019-09-09T00:00:00",
          "2019-09-10T00:00:00",
          "2019-09-11T00:00:00",
          "2019-09-12T00:00:00",
          "2019-09-13T00:00:00",
          "2019-09-16T00:00:00",
          "2019-09-17T00:00:00",
          "2019-09-18T00:00:00",
          "2019-09-19T00:00:00",
          "2019-09-20T00:00:00",
          "2019-09-23T00:00:00",
          "2019-09-24T00:00:00",
          "2019-09-25T00:00:00",
          "2019-09-26T00:00:00",
          "2019-09-27T00:00:00",
          "2019-09-30T00:00:00",
          "2019-10-01T00:00:00",
          "2019-10-02T00:00:00",
          "2019-10-03T00:00:00",
          "2019-10-04T00:00:00",
          "2019-10-07T00:00:00",
          "2019-10-08T00:00:00",
          "2019-10-09T00:00:00",
          "2019-10-10T00:00:00",
          "2019-10-11T00:00:00",
          "2019-10-14T00:00:00",
          "2019-10-15T00:00:00",
          "2019-10-16T00:00:00",
          "2019-10-17T00:00:00",
          "2019-10-18T00:00:00",
          "2019-10-21T00:00:00",
          "2019-10-22T00:00:00",
          "2019-10-23T00:00:00",
          "2019-10-24T00:00:00",
          "2019-10-25T00:00:00",
          "2019-10-28T00:00:00",
          "2019-10-29T00:00:00",
          "2019-10-30T00:00:00",
          "2019-10-31T00:00:00",
          "2019-11-01T00:00:00",
          "2019-11-04T00:00:00",
          "2019-11-05T00:00:00",
          "2019-11-06T00:00:00",
          "2019-11-07T00:00:00",
          "2019-11-08T00:00:00",
          "2019-11-11T00:00:00",
          "2019-11-12T00:00:00",
          "2019-11-13T00:00:00",
          "2019-11-14T00:00:00",
          "2019-11-15T00:00:00",
          "2019-11-18T00:00:00",
          "2019-11-19T00:00:00",
          "2019-11-20T00:00:00",
          "2019-11-21T00:00:00",
          "2019-11-22T00:00:00",
          "2019-11-25T00:00:00",
          "2019-11-26T00:00:00",
          "2019-11-27T00:00:00",
          "2019-11-28T00:00:00",
          "2019-11-29T00:00:00",
          "2019-12-02T00:00:00",
          "2019-12-03T00:00:00",
          "2019-12-04T00:00:00",
          "2019-12-05T00:00:00",
          "2019-12-06T00:00:00",
          "2019-12-09T00:00:00",
          "2019-12-10T00:00:00",
          "2019-12-11T00:00:00",
          "2019-12-12T00:00:00",
          "2019-12-13T00:00:00",
          "2019-12-16T00:00:00",
          "2019-12-17T00:00:00",
          "2019-12-18T00:00:00",
          "2019-12-19T00:00:00",
          "2019-12-20T00:00:00",
          "2019-12-23T00:00:00",
          "2019-12-24T00:00:00",
          "2019-12-27T00:00:00",
          "2019-12-30T00:00:00",
          "2019-12-31T00:00:00",
          "2020-01-02T00:00:00",
          "2020-01-03T00:00:00",
          "2020-01-06T00:00:00",
          "2020-01-07T00:00:00",
          "2020-01-08T00:00:00",
          "2020-01-09T00:00:00",
          "2020-01-10T00:00:00",
          "2020-01-13T00:00:00",
          "2020-01-14T00:00:00",
          "2020-01-15T00:00:00",
          "2020-01-16T00:00:00",
          "2020-01-17T00:00:00",
          "2020-01-20T00:00:00",
          "2020-01-21T00:00:00",
          "2020-01-22T00:00:00",
          "2020-01-23T00:00:00",
          "2020-01-24T00:00:00",
          "2020-01-27T00:00:00",
          "2020-01-28T00:00:00",
          "2020-01-29T00:00:00",
          "2020-01-30T00:00:00",
          "2020-01-31T00:00:00",
          "2020-02-03T00:00:00",
          "2020-02-04T00:00:00",
          "2020-02-05T00:00:00",
          "2020-02-06T00:00:00",
          "2020-02-07T00:00:00",
          "2020-02-10T00:00:00",
          "2020-02-11T00:00:00",
          "2020-02-12T00:00:00",
          "2020-02-13T00:00:00",
          "2020-02-14T00:00:00"
         ],
         "xaxis": "x",
         "y": [
          5.536,
          5.568,
          5.54,
          5.396,
          5.346,
          5.386,
          5.444,
          5.408,
          5.402,
          5.336,
          5.316,
          5.33,
          5.334,
          5.378,
          5.35,
          5.34,
          5.338,
          5.42,
          5.43,
          5.4,
          5.468,
          5.616,
          5.558,
          5.582,
          5.47,
          5.52,
          5.236,
          5.156,
          5.134,
          5.136,
          5.046,
          5.074,
          5.124,
          5.147,
          5.25,
          5.251,
          5.257,
          5.241,
          5.184,
          5.168,
          5.182,
          5.206,
          5,
          5.012,
          5.082,
          5.137,
          5.117,
          5.16,
          4.6955,
          4.7735,
          4.7595,
          4.679,
          4.594,
          4.582,
          4.555,
          4.4655,
          4.453,
          4.364,
          4.342,
          4.271,
          4.2685,
          4.2325,
          4.4075,
          4.444,
          4.492,
          4.5735,
          4.5895,
          4.4055,
          4.473,
          4.5505,
          4.521,
          4.421,
          null,
          4.48,
          4.4565,
          4.4595,
          4.429,
          4.4145,
          4.4425,
          4.371,
          4.5255,
          4.4845,
          4.45,
          4.386,
          4.4,
          4.4475,
          4.4665,
          4.55,
          null,
          4.4245,
          4.3745,
          4.395,
          4.35,
          4.366,
          4.405,
          4.445,
          4.4865,
          4.497,
          4.4805,
          4.466,
          4.432,
          4.45,
          4.475,
          4.48,
          4.4945,
          4.5795,
          4.5305,
          4.5515,
          4.5815,
          4.5845,
          4.5975,
          4.633,
          4.9715,
          5.068,
          5.039,
          4.919,
          4.8795,
          4.9195,
          4.812,
          4.745,
          4.7645,
          4.7045,
          4.815,
          4.7955,
          4.747,
          4.776,
          4.623,
          4.5755,
          4.633,
          4.71,
          4.645,
          4.6475,
          4.5785,
          4.519,
          4.5045,
          4.478,
          4.4365,
          4.4515,
          4.4995,
          4.4885,
          4.4465,
          4.4455,
          4.489,
          4.535,
          4.534,
          4.562,
          4.612,
          4.6815,
          4.685,
          4.642,
          4.6135,
          4.6255,
          4.6715,
          4.791,
          4.676,
          4.6475,
          4.5845,
          4.5275,
          4.5925,
          4.65,
          4.4945,
          4.4,
          4.395,
          4.4255,
          4.4775,
          4.481,
          4.4845,
          4.5055,
          4.618,
          4.5595,
          4.565,
          4.622,
          4.714,
          4.714,
          4.709,
          4.713,
          4.718,
          3.6165,
          3.4545,
          3.293,
          3.215,
          3.242,
          3.2935,
          3.28,
          3.2525,
          3.23,
          3.2865,
          3.2455,
          3.226,
          3.21,
          3.2045,
          3.187,
          3.034,
          3.118,
          3.129,
          3.107,
          3.066,
          3.07,
          3.1195,
          3.1645,
          3.1325,
          3.1695,
          3.1835,
          3.2115,
          3.141,
          3.151,
          3.1855,
          3.1505,
          null,
          3.1255,
          3.13,
          3.14,
          3.2295,
          3.2165,
          3.2555,
          3.2655,
          3.267,
          3.25,
          3.2765,
          3.284,
          null,
          3.28,
          3.296,
          null,
          3.464,
          3.447,
          null,
          3.5845,
          3.6215,
          3.6255,
          3.6535,
          3.6695,
          3.6275,
          3.659,
          3.7725,
          3.749,
          3.7695,
          3.724,
          3.7095,
          3.6735,
          3.6755,
          3.594,
          3.68,
          3.602,
          3.555,
          3.5195,
          3.547,
          3.618,
          3.618,
          3.7,
          3.957,
          3.835,
          4.06,
          4.07,
          4.016,
          3.94950008392334
         ],
         "yaxis": "y"
        }
       ],
       "layout": {
        "legend": {
         "tracegroupgap": 0
        },
        "template": {
         "data": {
          "bar": [
           {
            "error_x": {
             "color": "#2a3f5f"
            },
            "error_y": {
             "color": "#2a3f5f"
            },
            "marker": {
             "line": {
              "color": "#E5ECF6",
              "width": 0.5
             },
             "pattern": {
              "fillmode": "overlay",
              "size": 10,
              "solidity": 0.2
             }
            },
            "type": "bar"
           }
          ],
          "barpolar": [
           {
            "marker": {
             "line": {
              "color": "#E5ECF6",
              "width": 0.5
             },
             "pattern": {
              "fillmode": "overlay",
              "size": 10,
              "solidity": 0.2
             }
            },
            "type": "barpolar"
           }
          ],
          "carpet": [
           {
            "aaxis": {
             "endlinecolor": "#2a3f5f",
             "gridcolor": "white",
             "linecolor": "white",
             "minorgridcolor": "white",
             "startlinecolor": "#2a3f5f"
            },
            "baxis": {
             "endlinecolor": "#2a3f5f",
             "gridcolor": "white",
             "linecolor": "white",
             "minorgridcolor": "white",
             "startlinecolor": "#2a3f5f"
            },
            "type": "carpet"
           }
          ],
          "choropleth": [
           {
            "colorbar": {
             "outlinewidth": 0,
             "ticks": ""
            },
            "type": "choropleth"
           }
          ],
          "contour": [
           {
            "colorbar": {
             "outlinewidth": 0,
             "ticks": ""
            },
            "colorscale": [
             [
              0,
              "#0d0887"
             ],
             [
              0.1111111111111111,
              "#46039f"
             ],
             [
              0.2222222222222222,
              "#7201a8"
             ],
             [
              0.3333333333333333,
              "#9c179e"
             ],
             [
              0.4444444444444444,
              "#bd3786"
             ],
             [
              0.5555555555555556,
              "#d8576b"
             ],
             [
              0.6666666666666666,
              "#ed7953"
             ],
             [
              0.7777777777777778,
              "#fb9f3a"
             ],
             [
              0.8888888888888888,
              "#fdca26"
             ],
             [
              1,
              "#f0f921"
             ]
            ],
            "type": "contour"
           }
          ],
          "contourcarpet": [
           {
            "colorbar": {
             "outlinewidth": 0,
             "ticks": ""
            },
            "type": "contourcarpet"
           }
          ],
          "heatmap": [
           {
            "colorbar": {
             "outlinewidth": 0,
             "ticks": ""
            },
            "colorscale": [
             [
              0,
              "#0d0887"
             ],
             [
              0.1111111111111111,
              "#46039f"
             ],
             [
              0.2222222222222222,
              "#7201a8"
             ],
             [
              0.3333333333333333,
              "#9c179e"
             ],
             [
              0.4444444444444444,
              "#bd3786"
             ],
             [
              0.5555555555555556,
              "#d8576b"
             ],
             [
              0.6666666666666666,
              "#ed7953"
             ],
             [
              0.7777777777777778,
              "#fb9f3a"
             ],
             [
              0.8888888888888888,
              "#fdca26"
             ],
             [
              1,
              "#f0f921"
             ]
            ],
            "type": "heatmap"
           }
          ],
          "heatmapgl": [
           {
            "colorbar": {
             "outlinewidth": 0,
             "ticks": ""
            },
            "colorscale": [
             [
              0,
              "#0d0887"
             ],
             [
              0.1111111111111111,
              "#46039f"
             ],
             [
              0.2222222222222222,
              "#7201a8"
             ],
             [
              0.3333333333333333,
              "#9c179e"
             ],
             [
              0.4444444444444444,
              "#bd3786"
             ],
             [
              0.5555555555555556,
              "#d8576b"
             ],
             [
              0.6666666666666666,
              "#ed7953"
             ],
             [
              0.7777777777777778,
              "#fb9f3a"
             ],
             [
              0.8888888888888888,
              "#fdca26"
             ],
             [
              1,
              "#f0f921"
             ]
            ],
            "type": "heatmapgl"
           }
          ],
          "histogram": [
           {
            "marker": {
             "pattern": {
              "fillmode": "overlay",
              "size": 10,
              "solidity": 0.2
             }
            },
            "type": "histogram"
           }
          ],
          "histogram2d": [
           {
            "colorbar": {
             "outlinewidth": 0,
             "ticks": ""
            },
            "colorscale": [
             [
              0,
              "#0d0887"
             ],
             [
              0.1111111111111111,
              "#46039f"
             ],
             [
              0.2222222222222222,
              "#7201a8"
             ],
             [
              0.3333333333333333,
              "#9c179e"
             ],
             [
              0.4444444444444444,
              "#bd3786"
             ],
             [
              0.5555555555555556,
              "#d8576b"
             ],
             [
              0.6666666666666666,
              "#ed7953"
             ],
             [
              0.7777777777777778,
              "#fb9f3a"
             ],
             [
              0.8888888888888888,
              "#fdca26"
             ],
             [
              1,
              "#f0f921"
             ]
            ],
            "type": "histogram2d"
           }
          ],
          "histogram2dcontour": [
           {
            "colorbar": {
             "outlinewidth": 0,
             "ticks": ""
            },
            "colorscale": [
             [
              0,
              "#0d0887"
             ],
             [
              0.1111111111111111,
              "#46039f"
             ],
             [
              0.2222222222222222,
              "#7201a8"
             ],
             [
              0.3333333333333333,
              "#9c179e"
             ],
             [
              0.4444444444444444,
              "#bd3786"
             ],
             [
              0.5555555555555556,
              "#d8576b"
             ],
             [
              0.6666666666666666,
              "#ed7953"
             ],
             [
              0.7777777777777778,
              "#fb9f3a"
             ],
             [
              0.8888888888888888,
              "#fdca26"
             ],
             [
              1,
              "#f0f921"
             ]
            ],
            "type": "histogram2dcontour"
           }
          ],
          "mesh3d": [
           {
            "colorbar": {
             "outlinewidth": 0,
             "ticks": ""
            },
            "type": "mesh3d"
           }
          ],
          "parcoords": [
           {
            "line": {
             "colorbar": {
              "outlinewidth": 0,
              "ticks": ""
             }
            },
            "type": "parcoords"
           }
          ],
          "pie": [
           {
            "automargin": true,
            "type": "pie"
           }
          ],
          "scatter": [
           {
            "fillpattern": {
             "fillmode": "overlay",
             "size": 10,
             "solidity": 0.2
            },
            "type": "scatter"
           }
          ],
          "scatter3d": [
           {
            "line": {
             "colorbar": {
              "outlinewidth": 0,
              "ticks": ""
             }
            },
            "marker": {
             "colorbar": {
              "outlinewidth": 0,
              "ticks": ""
             }
            },
            "type": "scatter3d"
           }
          ],
          "scattercarpet": [
           {
            "marker": {
             "colorbar": {
              "outlinewidth": 0,
              "ticks": ""
             }
            },
            "type": "scattercarpet"
           }
          ],
          "scattergeo": [
           {
            "marker": {
             "colorbar": {
              "outlinewidth": 0,
              "ticks": ""
             }
            },
            "type": "scattergeo"
           }
          ],
          "scattergl": [
           {
            "marker": {
             "colorbar": {
              "outlinewidth": 0,
              "ticks": ""
             }
            },
            "type": "scattergl"
           }
          ],
          "scattermapbox": [
           {
            "marker": {
             "colorbar": {
              "outlinewidth": 0,
              "ticks": ""
             }
            },
            "type": "scattermapbox"
           }
          ],
          "scatterpolar": [
           {
            "marker": {
             "colorbar": {
              "outlinewidth": 0,
              "ticks": ""
             }
            },
            "type": "scatterpolar"
           }
          ],
          "scatterpolargl": [
           {
            "marker": {
             "colorbar": {
              "outlinewidth": 0,
              "ticks": ""
             }
            },
            "type": "scatterpolargl"
           }
          ],
          "scatterternary": [
           {
            "marker": {
             "colorbar": {
              "outlinewidth": 0,
              "ticks": ""
             }
            },
            "type": "scatterternary"
           }
          ],
          "surface": [
           {
            "colorbar": {
             "outlinewidth": 0,
             "ticks": ""
            },
            "colorscale": [
             [
              0,
              "#0d0887"
             ],
             [
              0.1111111111111111,
              "#46039f"
             ],
             [
              0.2222222222222222,
              "#7201a8"
             ],
             [
              0.3333333333333333,
              "#9c179e"
             ],
             [
              0.4444444444444444,
              "#bd3786"
             ],
             [
              0.5555555555555556,
              "#d8576b"
             ],
             [
              0.6666666666666666,
              "#ed7953"
             ],
             [
              0.7777777777777778,
              "#fb9f3a"
             ],
             [
              0.8888888888888888,
              "#fdca26"
             ],
             [
              1,
              "#f0f921"
             ]
            ],
            "type": "surface"
           }
          ],
          "table": [
           {
            "cells": {
             "fill": {
              "color": "#EBF0F8"
             },
             "line": {
              "color": "white"
             }
            },
            "header": {
             "fill": {
              "color": "#C8D4E3"
             },
             "line": {
              "color": "white"
             }
            },
            "type": "table"
           }
          ]
         },
         "layout": {
          "annotationdefaults": {
           "arrowcolor": "#2a3f5f",
           "arrowhead": 0,
           "arrowwidth": 1
          },
          "autotypenumbers": "strict",
          "coloraxis": {
           "colorbar": {
            "outlinewidth": 0,
            "ticks": ""
           }
          },
          "colorscale": {
           "diverging": [
            [
             0,
             "#8e0152"
            ],
            [
             0.1,
             "#c51b7d"
            ],
            [
             0.2,
             "#de77ae"
            ],
            [
             0.3,
             "#f1b6da"
            ],
            [
             0.4,
             "#fde0ef"
            ],
            [
             0.5,
             "#f7f7f7"
            ],
            [
             0.6,
             "#e6f5d0"
            ],
            [
             0.7,
             "#b8e186"
            ],
            [
             0.8,
             "#7fbc41"
            ],
            [
             0.9,
             "#4d9221"
            ],
            [
             1,
             "#276419"
            ]
           ],
           "sequential": [
            [
             0,
             "#0d0887"
            ],
            [
             0.1111111111111111,
             "#46039f"
            ],
            [
             0.2222222222222222,
             "#7201a8"
            ],
            [
             0.3333333333333333,
             "#9c179e"
            ],
            [
             0.4444444444444444,
             "#bd3786"
            ],
            [
             0.5555555555555556,
             "#d8576b"
            ],
            [
             0.6666666666666666,
             "#ed7953"
            ],
            [
             0.7777777777777778,
             "#fb9f3a"
            ],
            [
             0.8888888888888888,
             "#fdca26"
            ],
            [
             1,
             "#f0f921"
            ]
           ],
           "sequentialminus": [
            [
             0,
             "#0d0887"
            ],
            [
             0.1111111111111111,
             "#46039f"
            ],
            [
             0.2222222222222222,
             "#7201a8"
            ],
            [
             0.3333333333333333,
             "#9c179e"
            ],
            [
             0.4444444444444444,
             "#bd3786"
            ],
            [
             0.5555555555555556,
             "#d8576b"
            ],
            [
             0.6666666666666666,
             "#ed7953"
            ],
            [
             0.7777777777777778,
             "#fb9f3a"
            ],
            [
             0.8888888888888888,
             "#fdca26"
            ],
            [
             1,
             "#f0f921"
            ]
           ]
          },
          "colorway": [
           "#636efa",
           "#EF553B",
           "#00cc96",
           "#ab63fa",
           "#FFA15A",
           "#19d3f3",
           "#FF6692",
           "#B6E880",
           "#FF97FF",
           "#FECB52"
          ],
          "font": {
           "color": "#2a3f5f"
          },
          "geo": {
           "bgcolor": "white",
           "lakecolor": "white",
           "landcolor": "#E5ECF6",
           "showlakes": true,
           "showland": true,
           "subunitcolor": "white"
          },
          "hoverlabel": {
           "align": "left"
          },
          "hovermode": "closest",
          "mapbox": {
           "style": "light"
          },
          "paper_bgcolor": "white",
          "plot_bgcolor": "#E5ECF6",
          "polar": {
           "angularaxis": {
            "gridcolor": "white",
            "linecolor": "white",
            "ticks": ""
           },
           "bgcolor": "#E5ECF6",
           "radialaxis": {
            "gridcolor": "white",
            "linecolor": "white",
            "ticks": ""
           }
          },
          "scene": {
           "xaxis": {
            "backgroundcolor": "#E5ECF6",
            "gridcolor": "white",
            "gridwidth": 2,
            "linecolor": "white",
            "showbackground": true,
            "ticks": "",
            "zerolinecolor": "white"
           },
           "yaxis": {
            "backgroundcolor": "#E5ECF6",
            "gridcolor": "white",
            "gridwidth": 2,
            "linecolor": "white",
            "showbackground": true,
            "ticks": "",
            "zerolinecolor": "white"
           },
           "zaxis": {
            "backgroundcolor": "#E5ECF6",
            "gridcolor": "white",
            "gridwidth": 2,
            "linecolor": "white",
            "showbackground": true,
            "ticks": "",
            "zerolinecolor": "white"
           }
          },
          "shapedefaults": {
           "line": {
            "color": "#2a3f5f"
           }
          },
          "ternary": {
           "aaxis": {
            "gridcolor": "white",
            "linecolor": "white",
            "ticks": ""
           },
           "baxis": {
            "gridcolor": "white",
            "linecolor": "white",
            "ticks": ""
           },
           "bgcolor": "#E5ECF6",
           "caxis": {
            "gridcolor": "white",
            "linecolor": "white",
            "ticks": ""
           }
          },
          "title": {
           "x": 0.05
          },
          "xaxis": {
           "automargin": true,
           "gridcolor": "white",
           "linecolor": "white",
           "ticks": "",
           "title": {
            "standoff": 15
           },
           "zerolinecolor": "white",
           "zerolinewidth": 2
          },
          "yaxis": {
           "automargin": true,
           "gridcolor": "white",
           "linecolor": "white",
           "ticks": "",
           "title": {
            "standoff": 15
           },
           "zerolinecolor": "white",
           "zerolinewidth": 2
          }
         }
        },
        "title": {
         "text": "With Missing Values"
        },
        "xaxis": {
         "anchor": "y",
         "domain": [
          0,
          1
         ],
         "title": {
          "text": "Date"
         }
        },
        "yaxis": {
         "anchor": "x",
         "domain": [
          0,
          1
         ],
         "title": {
          "text": "NOKIA OYJ"
         }
        }
       }
      },
      "text/html": [
       "<div>                            <div id=\"4cf5308d-c294-4bd4-a4e2-583b15caa850\" class=\"plotly-graph-div\" style=\"height:525px; width:100%;\"></div>            <script type=\"text/javascript\">                require([\"plotly\"], function(Plotly) {                    window.PLOTLYENV=window.PLOTLYENV || {};                                    if (document.getElementById(\"4cf5308d-c294-4bd4-a4e2-583b15caa850\")) {                    Plotly.newPlot(                        \"4cf5308d-c294-4bd4-a4e2-583b15caa850\",                        [{\"hovertemplate\":\"Date=%{x}<br>NOKIA OYJ=%{y}<extra></extra>\",\"legendgroup\":\"\",\"line\":{\"color\":\"#636efa\",\"dash\":\"solid\"},\"marker\":{\"symbol\":\"circle\"},\"mode\":\"lines\",\"name\":\"\",\"orientation\":\"v\",\"showlegend\":false,\"x\":[\"2019-02-14T00:00:00\",\"2019-02-15T00:00:00\",\"2019-02-18T00:00:00\",\"2019-02-19T00:00:00\",\"2019-02-20T00:00:00\",\"2019-02-21T00:00:00\",\"2019-02-22T00:00:00\",\"2019-02-25T00:00:00\",\"2019-02-26T00:00:00\",\"2019-02-27T00:00:00\",\"2019-02-28T00:00:00\",\"2019-03-01T00:00:00\",\"2019-03-04T00:00:00\",\"2019-03-05T00:00:00\",\"2019-03-06T00:00:00\",\"2019-03-07T00:00:00\",\"2019-03-08T00:00:00\",\"2019-03-11T00:00:00\",\"2019-03-12T00:00:00\",\"2019-03-13T00:00:00\",\"2019-03-14T00:00:00\",\"2019-03-15T00:00:00\",\"2019-03-18T00:00:00\",\"2019-03-19T00:00:00\",\"2019-03-20T00:00:00\",\"2019-03-21T00:00:00\",\"2019-03-22T00:00:00\",\"2019-03-25T00:00:00\",\"2019-03-26T00:00:00\",\"2019-03-27T00:00:00\",\"2019-03-28T00:00:00\",\"2019-03-29T00:00:00\",\"2019-04-01T00:00:00\",\"2019-04-02T00:00:00\",\"2019-04-03T00:00:00\",\"2019-04-04T00:00:00\",\"2019-04-05T00:00:00\",\"2019-04-08T00:00:00\",\"2019-04-09T00:00:00\",\"2019-04-10T00:00:00\",\"2019-04-11T00:00:00\",\"2019-04-12T00:00:00\",\"2019-04-15T00:00:00\",\"2019-04-16T00:00:00\",\"2019-04-17T00:00:00\",\"2019-04-18T00:00:00\",\"2019-04-23T00:00:00\",\"2019-04-24T00:00:00\",\"2019-04-25T00:00:00\",\"2019-04-26T00:00:00\",\"2019-04-29T00:00:00\",\"2019-04-30T00:00:00\",\"2019-05-02T00:00:00\",\"2019-05-03T00:00:00\",\"2019-05-06T00:00:00\",\"2019-05-07T00:00:00\",\"2019-05-08T00:00:00\",\"2019-05-09T00:00:00\",\"2019-05-10T00:00:00\",\"2019-05-13T00:00:00\",\"2019-05-14T00:00:00\",\"2019-05-15T00:00:00\",\"2019-05-16T00:00:00\",\"2019-05-17T00:00:00\",\"2019-05-20T00:00:00\",\"2019-05-21T00:00:00\",\"2019-05-22T00:00:00\",\"2019-05-23T00:00:00\",\"2019-05-24T00:00:00\",\"2019-05-27T00:00:00\",\"2019-05-28T00:00:00\",\"2019-05-29T00:00:00\",\"2019-05-30T00:00:00\",\"2019-05-31T00:00:00\",\"2019-06-03T00:00:00\",\"2019-06-04T00:00:00\",\"2019-06-05T00:00:00\",\"2019-06-06T00:00:00\",\"2019-06-07T00:00:00\",\"2019-06-10T00:00:00\",\"2019-06-11T00:00:00\",\"2019-06-12T00:00:00\",\"2019-06-13T00:00:00\",\"2019-06-14T00:00:00\",\"2019-06-17T00:00:00\",\"2019-06-18T00:00:00\",\"2019-06-19T00:00:00\",\"2019-06-20T00:00:00\",\"2019-06-21T00:00:00\",\"2019-06-24T00:00:00\",\"2019-06-25T00:00:00\",\"2019-06-26T00:00:00\",\"2019-06-27T00:00:00\",\"2019-06-28T00:00:00\",\"2019-07-01T00:00:00\",\"2019-07-02T00:00:00\",\"2019-07-03T00:00:00\",\"2019-07-04T00:00:00\",\"2019-07-05T00:00:00\",\"2019-07-08T00:00:00\",\"2019-07-09T00:00:00\",\"2019-07-10T00:00:00\",\"2019-07-11T00:00:00\",\"2019-07-12T00:00:00\",\"2019-07-15T00:00:00\",\"2019-07-16T00:00:00\",\"2019-07-17T00:00:00\",\"2019-07-18T00:00:00\",\"2019-07-19T00:00:00\",\"2019-07-22T00:00:00\",\"2019-07-23T00:00:00\",\"2019-07-24T00:00:00\",\"2019-07-25T00:00:00\",\"2019-07-26T00:00:00\",\"2019-07-29T00:00:00\",\"2019-07-30T00:00:00\",\"2019-07-31T00:00:00\",\"2019-08-01T00:00:00\",\"2019-08-02T00:00:00\",\"2019-08-05T00:00:00\",\"2019-08-06T00:00:00\",\"2019-08-07T00:00:00\",\"2019-08-08T00:00:00\",\"2019-08-09T00:00:00\",\"2019-08-12T00:00:00\",\"2019-08-13T00:00:00\",\"2019-08-14T00:00:00\",\"2019-08-15T00:00:00\",\"2019-08-16T00:00:00\",\"2019-08-19T00:00:00\",\"2019-08-20T00:00:00\",\"2019-08-21T00:00:00\",\"2019-08-22T00:00:00\",\"2019-08-23T00:00:00\",\"2019-08-26T00:00:00\",\"2019-08-27T00:00:00\",\"2019-08-28T00:00:00\",\"2019-08-29T00:00:00\",\"2019-08-30T00:00:00\",\"2019-09-02T00:00:00\",\"2019-09-03T00:00:00\",\"2019-09-04T00:00:00\",\"2019-09-05T00:00:00\",\"2019-09-06T00:00:00\",\"2019-09-09T00:00:00\",\"2019-09-10T00:00:00\",\"2019-09-11T00:00:00\",\"2019-09-12T00:00:00\",\"2019-09-13T00:00:00\",\"2019-09-16T00:00:00\",\"2019-09-17T00:00:00\",\"2019-09-18T00:00:00\",\"2019-09-19T00:00:00\",\"2019-09-20T00:00:00\",\"2019-09-23T00:00:00\",\"2019-09-24T00:00:00\",\"2019-09-25T00:00:00\",\"2019-09-26T00:00:00\",\"2019-09-27T00:00:00\",\"2019-09-30T00:00:00\",\"2019-10-01T00:00:00\",\"2019-10-02T00:00:00\",\"2019-10-03T00:00:00\",\"2019-10-04T00:00:00\",\"2019-10-07T00:00:00\",\"2019-10-08T00:00:00\",\"2019-10-09T00:00:00\",\"2019-10-10T00:00:00\",\"2019-10-11T00:00:00\",\"2019-10-14T00:00:00\",\"2019-10-15T00:00:00\",\"2019-10-16T00:00:00\",\"2019-10-17T00:00:00\",\"2019-10-18T00:00:00\",\"2019-10-21T00:00:00\",\"2019-10-22T00:00:00\",\"2019-10-23T00:00:00\",\"2019-10-24T00:00:00\",\"2019-10-25T00:00:00\",\"2019-10-28T00:00:00\",\"2019-10-29T00:00:00\",\"2019-10-30T00:00:00\",\"2019-10-31T00:00:00\",\"2019-11-01T00:00:00\",\"2019-11-04T00:00:00\",\"2019-11-05T00:00:00\",\"2019-11-06T00:00:00\",\"2019-11-07T00:00:00\",\"2019-11-08T00:00:00\",\"2019-11-11T00:00:00\",\"2019-11-12T00:00:00\",\"2019-11-13T00:00:00\",\"2019-11-14T00:00:00\",\"2019-11-15T00:00:00\",\"2019-11-18T00:00:00\",\"2019-11-19T00:00:00\",\"2019-11-20T00:00:00\",\"2019-11-21T00:00:00\",\"2019-11-22T00:00:00\",\"2019-11-25T00:00:00\",\"2019-11-26T00:00:00\",\"2019-11-27T00:00:00\",\"2019-11-28T00:00:00\",\"2019-11-29T00:00:00\",\"2019-12-02T00:00:00\",\"2019-12-03T00:00:00\",\"2019-12-04T00:00:00\",\"2019-12-05T00:00:00\",\"2019-12-06T00:00:00\",\"2019-12-09T00:00:00\",\"2019-12-10T00:00:00\",\"2019-12-11T00:00:00\",\"2019-12-12T00:00:00\",\"2019-12-13T00:00:00\",\"2019-12-16T00:00:00\",\"2019-12-17T00:00:00\",\"2019-12-18T00:00:00\",\"2019-12-19T00:00:00\",\"2019-12-20T00:00:00\",\"2019-12-23T00:00:00\",\"2019-12-24T00:00:00\",\"2019-12-27T00:00:00\",\"2019-12-30T00:00:00\",\"2019-12-31T00:00:00\",\"2020-01-02T00:00:00\",\"2020-01-03T00:00:00\",\"2020-01-06T00:00:00\",\"2020-01-07T00:00:00\",\"2020-01-08T00:00:00\",\"2020-01-09T00:00:00\",\"2020-01-10T00:00:00\",\"2020-01-13T00:00:00\",\"2020-01-14T00:00:00\",\"2020-01-15T00:00:00\",\"2020-01-16T00:00:00\",\"2020-01-17T00:00:00\",\"2020-01-20T00:00:00\",\"2020-01-21T00:00:00\",\"2020-01-22T00:00:00\",\"2020-01-23T00:00:00\",\"2020-01-24T00:00:00\",\"2020-01-27T00:00:00\",\"2020-01-28T00:00:00\",\"2020-01-29T00:00:00\",\"2020-01-30T00:00:00\",\"2020-01-31T00:00:00\",\"2020-02-03T00:00:00\",\"2020-02-04T00:00:00\",\"2020-02-05T00:00:00\",\"2020-02-06T00:00:00\",\"2020-02-07T00:00:00\",\"2020-02-10T00:00:00\",\"2020-02-11T00:00:00\",\"2020-02-12T00:00:00\",\"2020-02-13T00:00:00\",\"2020-02-14T00:00:00\"],\"xaxis\":\"x\",\"y\":[5.536,5.568,5.54,5.396,5.346,5.386,5.444,5.408,5.402,5.336,5.316,5.33,5.334,5.378,5.35,5.34,5.338,5.42,5.43,5.4,5.468,5.616,5.558,5.582,5.47,5.52,5.236,5.156,5.134,5.136,5.046,5.074,5.124,5.147,5.25,5.251,5.257,5.241,5.184,5.168,5.182,5.206,5.0,5.012,5.082,5.137,5.117,5.16,4.6955,4.7735,4.7595,4.679,4.594,4.582,4.555,4.4655,4.453,4.364,4.342,4.271,4.2685,4.2325,4.4075,4.444,4.492,4.5735,4.5895,4.4055,4.473,4.5505,4.521,4.421,null,4.48,4.4565,4.4595,4.429,4.4145,4.4425,4.371,4.5255,4.4845,4.45,4.386,4.4,4.4475,4.4665,4.55,null,4.4245,4.3745,4.395,4.35,4.366,4.405,4.445,4.4865,4.497,4.4805,4.466,4.432,4.45,4.475,4.48,4.4945,4.5795,4.5305,4.5515,4.5815,4.5845,4.5975,4.633,4.9715,5.068,5.039,4.919,4.8795,4.9195,4.812,4.745,4.7645,4.7045,4.815,4.7955,4.747,4.776,4.623,4.5755,4.633,4.71,4.645,4.6475,4.5785,4.519,4.5045,4.478,4.4365,4.4515,4.4995,4.4885,4.4465,4.4455,4.489,4.535,4.534,4.562,4.612,4.6815,4.685,4.642,4.6135,4.6255,4.6715,4.791,4.676,4.6475,4.5845,4.5275,4.5925,4.65,4.4945,4.4,4.395,4.4255,4.4775,4.481,4.4845,4.5055,4.618,4.5595,4.565,4.622,4.714,4.714,4.709,4.713,4.718,3.6165,3.4545,3.293,3.215,3.242,3.2935,3.28,3.2525,3.23,3.2865,3.2455,3.226,3.21,3.2045,3.187,3.034,3.118,3.129,3.107,3.066,3.07,3.1195,3.1645,3.1325,3.1695,3.1835,3.2115,3.141,3.151,3.1855,3.1505,null,3.1255,3.13,3.14,3.2295,3.2165,3.2555,3.2655,3.267,3.25,3.2765,3.284,null,3.28,3.296,null,3.464,3.447,null,3.5845,3.6215,3.6255,3.6535,3.6695,3.6275,3.659,3.7725,3.749,3.7695,3.724,3.7095,3.6735,3.6755,3.594,3.68,3.602,3.555,3.5195,3.547,3.618,3.618,3.7,3.957,3.835,4.06,4.07,4.016,3.94950008392334],\"yaxis\":\"y\",\"type\":\"scatter\"}],                        {\"template\":{\"data\":{\"histogram2dcontour\":[{\"type\":\"histogram2dcontour\",\"colorbar\":{\"outlinewidth\":0,\"ticks\":\"\"},\"colorscale\":[[0.0,\"#0d0887\"],[0.1111111111111111,\"#46039f\"],[0.2222222222222222,\"#7201a8\"],[0.3333333333333333,\"#9c179e\"],[0.4444444444444444,\"#bd3786\"],[0.5555555555555556,\"#d8576b\"],[0.6666666666666666,\"#ed7953\"],[0.7777777777777778,\"#fb9f3a\"],[0.8888888888888888,\"#fdca26\"],[1.0,\"#f0f921\"]]}],\"choropleth\":[{\"type\":\"choropleth\",\"colorbar\":{\"outlinewidth\":0,\"ticks\":\"\"}}],\"histogram2d\":[{\"type\":\"histogram2d\",\"colorbar\":{\"outlinewidth\":0,\"ticks\":\"\"},\"colorscale\":[[0.0,\"#0d0887\"],[0.1111111111111111,\"#46039f\"],[0.2222222222222222,\"#7201a8\"],[0.3333333333333333,\"#9c179e\"],[0.4444444444444444,\"#bd3786\"],[0.5555555555555556,\"#d8576b\"],[0.6666666666666666,\"#ed7953\"],[0.7777777777777778,\"#fb9f3a\"],[0.8888888888888888,\"#fdca26\"],[1.0,\"#f0f921\"]]}],\"heatmap\":[{\"type\":\"heatmap\",\"colorbar\":{\"outlinewidth\":0,\"ticks\":\"\"},\"colorscale\":[[0.0,\"#0d0887\"],[0.1111111111111111,\"#46039f\"],[0.2222222222222222,\"#7201a8\"],[0.3333333333333333,\"#9c179e\"],[0.4444444444444444,\"#bd3786\"],[0.5555555555555556,\"#d8576b\"],[0.6666666666666666,\"#ed7953\"],[0.7777777777777778,\"#fb9f3a\"],[0.8888888888888888,\"#fdca26\"],[1.0,\"#f0f921\"]]}],\"heatmapgl\":[{\"type\":\"heatmapgl\",\"colorbar\":{\"outlinewidth\":0,\"ticks\":\"\"},\"colorscale\":[[0.0,\"#0d0887\"],[0.1111111111111111,\"#46039f\"],[0.2222222222222222,\"#7201a8\"],[0.3333333333333333,\"#9c179e\"],[0.4444444444444444,\"#bd3786\"],[0.5555555555555556,\"#d8576b\"],[0.6666666666666666,\"#ed7953\"],[0.7777777777777778,\"#fb9f3a\"],[0.8888888888888888,\"#fdca26\"],[1.0,\"#f0f921\"]]}],\"contourcarpet\":[{\"type\":\"contourcarpet\",\"colorbar\":{\"outlinewidth\":0,\"ticks\":\"\"}}],\"contour\":[{\"type\":\"contour\",\"colorbar\":{\"outlinewidth\":0,\"ticks\":\"\"},\"colorscale\":[[0.0,\"#0d0887\"],[0.1111111111111111,\"#46039f\"],[0.2222222222222222,\"#7201a8\"],[0.3333333333333333,\"#9c179e\"],[0.4444444444444444,\"#bd3786\"],[0.5555555555555556,\"#d8576b\"],[0.6666666666666666,\"#ed7953\"],[0.7777777777777778,\"#fb9f3a\"],[0.8888888888888888,\"#fdca26\"],[1.0,\"#f0f921\"]]}],\"surface\":[{\"type\":\"surface\",\"colorbar\":{\"outlinewidth\":0,\"ticks\":\"\"},\"colorscale\":[[0.0,\"#0d0887\"],[0.1111111111111111,\"#46039f\"],[0.2222222222222222,\"#7201a8\"],[0.3333333333333333,\"#9c179e\"],[0.4444444444444444,\"#bd3786\"],[0.5555555555555556,\"#d8576b\"],[0.6666666666666666,\"#ed7953\"],[0.7777777777777778,\"#fb9f3a\"],[0.8888888888888888,\"#fdca26\"],[1.0,\"#f0f921\"]]}],\"mesh3d\":[{\"type\":\"mesh3d\",\"colorbar\":{\"outlinewidth\":0,\"ticks\":\"\"}}],\"scatter\":[{\"fillpattern\":{\"fillmode\":\"overlay\",\"size\":10,\"solidity\":0.2},\"type\":\"scatter\"}],\"parcoords\":[{\"type\":\"parcoords\",\"line\":{\"colorbar\":{\"outlinewidth\":0,\"ticks\":\"\"}}}],\"scatterpolargl\":[{\"type\":\"scatterpolargl\",\"marker\":{\"colorbar\":{\"outlinewidth\":0,\"ticks\":\"\"}}}],\"bar\":[{\"error_x\":{\"color\":\"#2a3f5f\"},\"error_y\":{\"color\":\"#2a3f5f\"},\"marker\":{\"line\":{\"color\":\"#E5ECF6\",\"width\":0.5},\"pattern\":{\"fillmode\":\"overlay\",\"size\":10,\"solidity\":0.2}},\"type\":\"bar\"}],\"scattergeo\":[{\"type\":\"scattergeo\",\"marker\":{\"colorbar\":{\"outlinewidth\":0,\"ticks\":\"\"}}}],\"scatterpolar\":[{\"type\":\"scatterpolar\",\"marker\":{\"colorbar\":{\"outlinewidth\":0,\"ticks\":\"\"}}}],\"histogram\":[{\"marker\":{\"pattern\":{\"fillmode\":\"overlay\",\"size\":10,\"solidity\":0.2}},\"type\":\"histogram\"}],\"scattergl\":[{\"type\":\"scattergl\",\"marker\":{\"colorbar\":{\"outlinewidth\":0,\"ticks\":\"\"}}}],\"scatter3d\":[{\"type\":\"scatter3d\",\"line\":{\"colorbar\":{\"outlinewidth\":0,\"ticks\":\"\"}},\"marker\":{\"colorbar\":{\"outlinewidth\":0,\"ticks\":\"\"}}}],\"scattermapbox\":[{\"type\":\"scattermapbox\",\"marker\":{\"colorbar\":{\"outlinewidth\":0,\"ticks\":\"\"}}}],\"scatterternary\":[{\"type\":\"scatterternary\",\"marker\":{\"colorbar\":{\"outlinewidth\":0,\"ticks\":\"\"}}}],\"scattercarpet\":[{\"type\":\"scattercarpet\",\"marker\":{\"colorbar\":{\"outlinewidth\":0,\"ticks\":\"\"}}}],\"carpet\":[{\"aaxis\":{\"endlinecolor\":\"#2a3f5f\",\"gridcolor\":\"white\",\"linecolor\":\"white\",\"minorgridcolor\":\"white\",\"startlinecolor\":\"#2a3f5f\"},\"baxis\":{\"endlinecolor\":\"#2a3f5f\",\"gridcolor\":\"white\",\"linecolor\":\"white\",\"minorgridcolor\":\"white\",\"startlinecolor\":\"#2a3f5f\"},\"type\":\"carpet\"}],\"table\":[{\"cells\":{\"fill\":{\"color\":\"#EBF0F8\"},\"line\":{\"color\":\"white\"}},\"header\":{\"fill\":{\"color\":\"#C8D4E3\"},\"line\":{\"color\":\"white\"}},\"type\":\"table\"}],\"barpolar\":[{\"marker\":{\"line\":{\"color\":\"#E5ECF6\",\"width\":0.5},\"pattern\":{\"fillmode\":\"overlay\",\"size\":10,\"solidity\":0.2}},\"type\":\"barpolar\"}],\"pie\":[{\"automargin\":true,\"type\":\"pie\"}]},\"layout\":{\"autotypenumbers\":\"strict\",\"colorway\":[\"#636efa\",\"#EF553B\",\"#00cc96\",\"#ab63fa\",\"#FFA15A\",\"#19d3f3\",\"#FF6692\",\"#B6E880\",\"#FF97FF\",\"#FECB52\"],\"font\":{\"color\":\"#2a3f5f\"},\"hovermode\":\"closest\",\"hoverlabel\":{\"align\":\"left\"},\"paper_bgcolor\":\"white\",\"plot_bgcolor\":\"#E5ECF6\",\"polar\":{\"bgcolor\":\"#E5ECF6\",\"angularaxis\":{\"gridcolor\":\"white\",\"linecolor\":\"white\",\"ticks\":\"\"},\"radialaxis\":{\"gridcolor\":\"white\",\"linecolor\":\"white\",\"ticks\":\"\"}},\"ternary\":{\"bgcolor\":\"#E5ECF6\",\"aaxis\":{\"gridcolor\":\"white\",\"linecolor\":\"white\",\"ticks\":\"\"},\"baxis\":{\"gridcolor\":\"white\",\"linecolor\":\"white\",\"ticks\":\"\"},\"caxis\":{\"gridcolor\":\"white\",\"linecolor\":\"white\",\"ticks\":\"\"}},\"coloraxis\":{\"colorbar\":{\"outlinewidth\":0,\"ticks\":\"\"}},\"colorscale\":{\"sequential\":[[0.0,\"#0d0887\"],[0.1111111111111111,\"#46039f\"],[0.2222222222222222,\"#7201a8\"],[0.3333333333333333,\"#9c179e\"],[0.4444444444444444,\"#bd3786\"],[0.5555555555555556,\"#d8576b\"],[0.6666666666666666,\"#ed7953\"],[0.7777777777777778,\"#fb9f3a\"],[0.8888888888888888,\"#fdca26\"],[1.0,\"#f0f921\"]],\"sequentialminus\":[[0.0,\"#0d0887\"],[0.1111111111111111,\"#46039f\"],[0.2222222222222222,\"#7201a8\"],[0.3333333333333333,\"#9c179e\"],[0.4444444444444444,\"#bd3786\"],[0.5555555555555556,\"#d8576b\"],[0.6666666666666666,\"#ed7953\"],[0.7777777777777778,\"#fb9f3a\"],[0.8888888888888888,\"#fdca26\"],[1.0,\"#f0f921\"]],\"diverging\":[[0,\"#8e0152\"],[0.1,\"#c51b7d\"],[0.2,\"#de77ae\"],[0.3,\"#f1b6da\"],[0.4,\"#fde0ef\"],[0.5,\"#f7f7f7\"],[0.6,\"#e6f5d0\"],[0.7,\"#b8e186\"],[0.8,\"#7fbc41\"],[0.9,\"#4d9221\"],[1,\"#276419\"]]},\"xaxis\":{\"gridcolor\":\"white\",\"linecolor\":\"white\",\"ticks\":\"\",\"title\":{\"standoff\":15},\"zerolinecolor\":\"white\",\"automargin\":true,\"zerolinewidth\":2},\"yaxis\":{\"gridcolor\":\"white\",\"linecolor\":\"white\",\"ticks\":\"\",\"title\":{\"standoff\":15},\"zerolinecolor\":\"white\",\"automargin\":true,\"zerolinewidth\":2},\"scene\":{\"xaxis\":{\"backgroundcolor\":\"#E5ECF6\",\"gridcolor\":\"white\",\"linecolor\":\"white\",\"showbackground\":true,\"ticks\":\"\",\"zerolinecolor\":\"white\",\"gridwidth\":2},\"yaxis\":{\"backgroundcolor\":\"#E5ECF6\",\"gridcolor\":\"white\",\"linecolor\":\"white\",\"showbackground\":true,\"ticks\":\"\",\"zerolinecolor\":\"white\",\"gridwidth\":2},\"zaxis\":{\"backgroundcolor\":\"#E5ECF6\",\"gridcolor\":\"white\",\"linecolor\":\"white\",\"showbackground\":true,\"ticks\":\"\",\"zerolinecolor\":\"white\",\"gridwidth\":2}},\"shapedefaults\":{\"line\":{\"color\":\"#2a3f5f\"}},\"annotationdefaults\":{\"arrowcolor\":\"#2a3f5f\",\"arrowhead\":0,\"arrowwidth\":1},\"geo\":{\"bgcolor\":\"white\",\"landcolor\":\"#E5ECF6\",\"subunitcolor\":\"white\",\"showland\":true,\"showlakes\":true,\"lakecolor\":\"white\"},\"title\":{\"x\":0.05},\"mapbox\":{\"style\":\"light\"}}},\"xaxis\":{\"anchor\":\"y\",\"domain\":[0.0,1.0],\"title\":{\"text\":\"Date\"}},\"yaxis\":{\"anchor\":\"x\",\"domain\":[0.0,1.0],\"title\":{\"text\":\"NOKIA OYJ\"}},\"legend\":{\"tracegroupgap\":0},\"title\":{\"text\":\"With Missing Values\"}},                        {\"responsive\": true}                    ).then(function(){\n",
       "                            \n",
       "var gd = document.getElementById('4cf5308d-c294-4bd4-a4e2-583b15caa850');\n",
       "var x = new MutationObserver(function (mutations, observer) {{\n",
       "        var display = window.getComputedStyle(gd).display;\n",
       "        if (!display || display === 'none') {{\n",
       "            console.log([gd, 'removed!']);\n",
       "            Plotly.purge(gd);\n",
       "            observer.disconnect();\n",
       "        }}\n",
       "}});\n",
       "\n",
       "// Listen for the removal of the full notebook cells\n",
       "var notebookContainer = gd.closest('#notebook-container');\n",
       "if (notebookContainer) {{\n",
       "    x.observe(notebookContainer, {childList: true});\n",
       "}}\n",
       "\n",
       "// Listen for the clearing of the current output cell\n",
       "var outputEl = gd.closest('.output');\n",
       "if (outputEl) {{\n",
       "    x.observe(outputEl, {childList: true});\n",
       "}}\n",
       "\n",
       "                        })                };                });            </script>        </div>"
      ]
     },
     "metadata": {},
     "output_type": "display_data"
    },
    {
     "data": {
      "application/vnd.plotly.v1+json": {
       "config": {
        "plotlyServerURL": "https://plot.ly"
       },
       "data": [
        {
         "hovertemplate": "Date=%{x}<br>NOKIA OYJ=%{y}<extra></extra>",
         "legendgroup": "",
         "line": {
          "color": "#636efa",
          "dash": "solid"
         },
         "marker": {
          "symbol": "circle"
         },
         "mode": "lines",
         "name": "",
         "orientation": "v",
         "showlegend": false,
         "type": "scatter",
         "x": [
          "2019-02-14T00:00:00",
          "2019-02-15T00:00:00",
          "2019-02-18T00:00:00",
          "2019-02-19T00:00:00",
          "2019-02-20T00:00:00",
          "2019-02-21T00:00:00",
          "2019-02-22T00:00:00",
          "2019-02-25T00:00:00",
          "2019-02-26T00:00:00",
          "2019-02-27T00:00:00",
          "2019-02-28T00:00:00",
          "2019-03-01T00:00:00",
          "2019-03-04T00:00:00",
          "2019-03-05T00:00:00",
          "2019-03-06T00:00:00",
          "2019-03-07T00:00:00",
          "2019-03-08T00:00:00",
          "2019-03-11T00:00:00",
          "2019-03-12T00:00:00",
          "2019-03-13T00:00:00",
          "2019-03-14T00:00:00",
          "2019-03-15T00:00:00",
          "2019-03-18T00:00:00",
          "2019-03-19T00:00:00",
          "2019-03-20T00:00:00",
          "2019-03-21T00:00:00",
          "2019-03-22T00:00:00",
          "2019-03-25T00:00:00",
          "2019-03-26T00:00:00",
          "2019-03-27T00:00:00",
          "2019-03-28T00:00:00",
          "2019-03-29T00:00:00",
          "2019-04-01T00:00:00",
          "2019-04-02T00:00:00",
          "2019-04-03T00:00:00",
          "2019-04-04T00:00:00",
          "2019-04-05T00:00:00",
          "2019-04-08T00:00:00",
          "2019-04-09T00:00:00",
          "2019-04-10T00:00:00",
          "2019-04-11T00:00:00",
          "2019-04-12T00:00:00",
          "2019-04-15T00:00:00",
          "2019-04-16T00:00:00",
          "2019-04-17T00:00:00",
          "2019-04-18T00:00:00",
          "2019-04-23T00:00:00",
          "2019-04-24T00:00:00",
          "2019-04-25T00:00:00",
          "2019-04-26T00:00:00",
          "2019-04-29T00:00:00",
          "2019-04-30T00:00:00",
          "2019-05-02T00:00:00",
          "2019-05-03T00:00:00",
          "2019-05-06T00:00:00",
          "2019-05-07T00:00:00",
          "2019-05-08T00:00:00",
          "2019-05-09T00:00:00",
          "2019-05-10T00:00:00",
          "2019-05-13T00:00:00",
          "2019-05-14T00:00:00",
          "2019-05-15T00:00:00",
          "2019-05-16T00:00:00",
          "2019-05-17T00:00:00",
          "2019-05-20T00:00:00",
          "2019-05-21T00:00:00",
          "2019-05-22T00:00:00",
          "2019-05-23T00:00:00",
          "2019-05-24T00:00:00",
          "2019-05-27T00:00:00",
          "2019-05-28T00:00:00",
          "2019-05-29T00:00:00",
          "2019-05-30T00:00:00",
          "2019-05-31T00:00:00",
          "2019-06-03T00:00:00",
          "2019-06-04T00:00:00",
          "2019-06-05T00:00:00",
          "2019-06-06T00:00:00",
          "2019-06-07T00:00:00",
          "2019-06-10T00:00:00",
          "2019-06-11T00:00:00",
          "2019-06-12T00:00:00",
          "2019-06-13T00:00:00",
          "2019-06-14T00:00:00",
          "2019-06-17T00:00:00",
          "2019-06-18T00:00:00",
          "2019-06-19T00:00:00",
          "2019-06-20T00:00:00",
          "2019-06-21T00:00:00",
          "2019-06-24T00:00:00",
          "2019-06-25T00:00:00",
          "2019-06-26T00:00:00",
          "2019-06-27T00:00:00",
          "2019-06-28T00:00:00",
          "2019-07-01T00:00:00",
          "2019-07-02T00:00:00",
          "2019-07-03T00:00:00",
          "2019-07-04T00:00:00",
          "2019-07-05T00:00:00",
          "2019-07-08T00:00:00",
          "2019-07-09T00:00:00",
          "2019-07-10T00:00:00",
          "2019-07-11T00:00:00",
          "2019-07-12T00:00:00",
          "2019-07-15T00:00:00",
          "2019-07-16T00:00:00",
          "2019-07-17T00:00:00",
          "2019-07-18T00:00:00",
          "2019-07-19T00:00:00",
          "2019-07-22T00:00:00",
          "2019-07-23T00:00:00",
          "2019-07-24T00:00:00",
          "2019-07-25T00:00:00",
          "2019-07-26T00:00:00",
          "2019-07-29T00:00:00",
          "2019-07-30T00:00:00",
          "2019-07-31T00:00:00",
          "2019-08-01T00:00:00",
          "2019-08-02T00:00:00",
          "2019-08-05T00:00:00",
          "2019-08-06T00:00:00",
          "2019-08-07T00:00:00",
          "2019-08-08T00:00:00",
          "2019-08-09T00:00:00",
          "2019-08-12T00:00:00",
          "2019-08-13T00:00:00",
          "2019-08-14T00:00:00",
          "2019-08-15T00:00:00",
          "2019-08-16T00:00:00",
          "2019-08-19T00:00:00",
          "2019-08-20T00:00:00",
          "2019-08-21T00:00:00",
          "2019-08-22T00:00:00",
          "2019-08-23T00:00:00",
          "2019-08-26T00:00:00",
          "2019-08-27T00:00:00",
          "2019-08-28T00:00:00",
          "2019-08-29T00:00:00",
          "2019-08-30T00:00:00",
          "2019-09-02T00:00:00",
          "2019-09-03T00:00:00",
          "2019-09-04T00:00:00",
          "2019-09-05T00:00:00",
          "2019-09-06T00:00:00",
          "2019-09-09T00:00:00",
          "2019-09-10T00:00:00",
          "2019-09-11T00:00:00",
          "2019-09-12T00:00:00",
          "2019-09-13T00:00:00",
          "2019-09-16T00:00:00",
          "2019-09-17T00:00:00",
          "2019-09-18T00:00:00",
          "2019-09-19T00:00:00",
          "2019-09-20T00:00:00",
          "2019-09-23T00:00:00",
          "2019-09-24T00:00:00",
          "2019-09-25T00:00:00",
          "2019-09-26T00:00:00",
          "2019-09-27T00:00:00",
          "2019-09-30T00:00:00",
          "2019-10-01T00:00:00",
          "2019-10-02T00:00:00",
          "2019-10-03T00:00:00",
          "2019-10-04T00:00:00",
          "2019-10-07T00:00:00",
          "2019-10-08T00:00:00",
          "2019-10-09T00:00:00",
          "2019-10-10T00:00:00",
          "2019-10-11T00:00:00",
          "2019-10-14T00:00:00",
          "2019-10-15T00:00:00",
          "2019-10-16T00:00:00",
          "2019-10-17T00:00:00",
          "2019-10-18T00:00:00",
          "2019-10-21T00:00:00",
          "2019-10-22T00:00:00",
          "2019-10-23T00:00:00",
          "2019-10-24T00:00:00",
          "2019-10-25T00:00:00",
          "2019-10-28T00:00:00",
          "2019-10-29T00:00:00",
          "2019-10-30T00:00:00",
          "2019-10-31T00:00:00",
          "2019-11-01T00:00:00",
          "2019-11-04T00:00:00",
          "2019-11-05T00:00:00",
          "2019-11-06T00:00:00",
          "2019-11-07T00:00:00",
          "2019-11-08T00:00:00",
          "2019-11-11T00:00:00",
          "2019-11-12T00:00:00",
          "2019-11-13T00:00:00",
          "2019-11-14T00:00:00",
          "2019-11-15T00:00:00",
          "2019-11-18T00:00:00",
          "2019-11-19T00:00:00",
          "2019-11-20T00:00:00",
          "2019-11-21T00:00:00",
          "2019-11-22T00:00:00",
          "2019-11-25T00:00:00",
          "2019-11-26T00:00:00",
          "2019-11-27T00:00:00",
          "2019-11-28T00:00:00",
          "2019-11-29T00:00:00",
          "2019-12-02T00:00:00",
          "2019-12-03T00:00:00",
          "2019-12-04T00:00:00",
          "2019-12-05T00:00:00",
          "2019-12-06T00:00:00",
          "2019-12-09T00:00:00",
          "2019-12-10T00:00:00",
          "2019-12-11T00:00:00",
          "2019-12-12T00:00:00",
          "2019-12-13T00:00:00",
          "2019-12-16T00:00:00",
          "2019-12-17T00:00:00",
          "2019-12-18T00:00:00",
          "2019-12-19T00:00:00",
          "2019-12-20T00:00:00",
          "2019-12-23T00:00:00",
          "2019-12-24T00:00:00",
          "2019-12-27T00:00:00",
          "2019-12-30T00:00:00",
          "2019-12-31T00:00:00",
          "2020-01-02T00:00:00",
          "2020-01-03T00:00:00",
          "2020-01-06T00:00:00",
          "2020-01-07T00:00:00",
          "2020-01-08T00:00:00",
          "2020-01-09T00:00:00",
          "2020-01-10T00:00:00",
          "2020-01-13T00:00:00",
          "2020-01-14T00:00:00",
          "2020-01-15T00:00:00",
          "2020-01-16T00:00:00",
          "2020-01-17T00:00:00",
          "2020-01-20T00:00:00",
          "2020-01-21T00:00:00",
          "2020-01-22T00:00:00",
          "2020-01-23T00:00:00",
          "2020-01-24T00:00:00",
          "2020-01-27T00:00:00",
          "2020-01-28T00:00:00",
          "2020-01-29T00:00:00",
          "2020-01-30T00:00:00",
          "2020-01-31T00:00:00",
          "2020-02-03T00:00:00",
          "2020-02-04T00:00:00",
          "2020-02-05T00:00:00",
          "2020-02-06T00:00:00",
          "2020-02-07T00:00:00",
          "2020-02-10T00:00:00",
          "2020-02-11T00:00:00",
          "2020-02-12T00:00:00",
          "2020-02-13T00:00:00",
          "2020-02-14T00:00:00"
         ],
         "xaxis": "x",
         "y": [
          5.536,
          5.568,
          5.54,
          5.396,
          5.346,
          5.386,
          5.444,
          5.408,
          5.402,
          5.336,
          5.316,
          5.33,
          5.334,
          5.378,
          5.35,
          5.34,
          5.338,
          5.42,
          5.43,
          5.4,
          5.468,
          5.616,
          5.558,
          5.582,
          5.47,
          5.52,
          5.236,
          5.156,
          5.134,
          5.136,
          5.046,
          5.074,
          5.124,
          5.147,
          5.25,
          5.251,
          5.257,
          5.241,
          5.184,
          5.168,
          5.182,
          5.206,
          5,
          5.012,
          5.082,
          5.137,
          5.117,
          5.16,
          4.6955,
          4.7735,
          4.7595,
          4.679,
          4.594,
          4.582,
          4.555,
          4.4655,
          4.453,
          4.364,
          4.342,
          4.271,
          4.2685,
          4.2325,
          4.4075,
          4.444,
          4.492,
          4.5735,
          4.5895,
          4.4055,
          4.473,
          4.5505,
          4.521,
          4.421,
          4.4677999999999995,
          4.48,
          4.4565,
          4.4595,
          4.429,
          4.4145,
          4.4425,
          4.371,
          4.5255,
          4.4845,
          4.45,
          4.386,
          4.4,
          4.4475,
          4.4665,
          4.55,
          4.4525999999999994,
          4.4245,
          4.3745,
          4.395,
          4.35,
          4.366,
          4.405,
          4.445,
          4.4865,
          4.497,
          4.4805,
          4.466,
          4.432,
          4.45,
          4.475,
          4.48,
          4.4945,
          4.5795,
          4.5305,
          4.5515,
          4.5815,
          4.5845,
          4.5975,
          4.633,
          4.9715,
          5.068,
          5.039,
          4.919,
          4.8795,
          4.9195,
          4.812,
          4.745,
          4.7645,
          4.7045,
          4.815,
          4.7955,
          4.747,
          4.776,
          4.623,
          4.5755,
          4.633,
          4.71,
          4.645,
          4.6475,
          4.5785,
          4.519,
          4.5045,
          4.478,
          4.4365,
          4.4515,
          4.4995,
          4.4885,
          4.4465,
          4.4455,
          4.489,
          4.535,
          4.534,
          4.562,
          4.612,
          4.6815,
          4.685,
          4.642,
          4.6135,
          4.6255,
          4.6715,
          4.791,
          4.676,
          4.6475,
          4.5845,
          4.5275,
          4.5925,
          4.65,
          4.4945,
          4.4,
          4.395,
          4.4255,
          4.4775,
          4.481,
          4.4845,
          4.5055,
          4.618,
          4.5595,
          4.565,
          4.622,
          4.714,
          4.714,
          4.709,
          4.713,
          4.718,
          3.6165,
          3.4545,
          3.293,
          3.215,
          3.242,
          3.2935,
          3.28,
          3.2525,
          3.23,
          3.2865,
          3.2455,
          3.226,
          3.21,
          3.2045,
          3.187,
          3.034,
          3.118,
          3.129,
          3.107,
          3.066,
          3.07,
          3.1195,
          3.1645,
          3.1325,
          3.1695,
          3.1835,
          3.2115,
          3.141,
          3.151,
          3.1855,
          3.1505,
          3.1617,
          3.1255,
          3.13,
          3.14,
          3.2295,
          3.2165,
          3.2555,
          3.2655,
          3.267,
          3.25,
          3.2765,
          3.284,
          3.3442,
          3.28,
          3.296,
          3.2784,
          3.464,
          3.447,
          3.3782999999999994,
          3.5845,
          3.6215,
          3.6255,
          3.6535,
          3.6695,
          3.6275,
          3.659,
          3.7725,
          3.749,
          3.7695,
          3.724,
          3.7095,
          3.6735,
          3.6755,
          3.594,
          3.68,
          3.602,
          3.555,
          3.5195,
          3.547,
          3.618,
          3.618,
          3.7,
          3.957,
          3.835,
          4.06,
          4.07,
          4.016,
          3.94950008392334
         ],
         "yaxis": "y"
        }
       ],
       "layout": {
        "legend": {
         "tracegroupgap": 0
        },
        "template": {
         "data": {
          "bar": [
           {
            "error_x": {
             "color": "#2a3f5f"
            },
            "error_y": {
             "color": "#2a3f5f"
            },
            "marker": {
             "line": {
              "color": "#E5ECF6",
              "width": 0.5
             },
             "pattern": {
              "fillmode": "overlay",
              "size": 10,
              "solidity": 0.2
             }
            },
            "type": "bar"
           }
          ],
          "barpolar": [
           {
            "marker": {
             "line": {
              "color": "#E5ECF6",
              "width": 0.5
             },
             "pattern": {
              "fillmode": "overlay",
              "size": 10,
              "solidity": 0.2
             }
            },
            "type": "barpolar"
           }
          ],
          "carpet": [
           {
            "aaxis": {
             "endlinecolor": "#2a3f5f",
             "gridcolor": "white",
             "linecolor": "white",
             "minorgridcolor": "white",
             "startlinecolor": "#2a3f5f"
            },
            "baxis": {
             "endlinecolor": "#2a3f5f",
             "gridcolor": "white",
             "linecolor": "white",
             "minorgridcolor": "white",
             "startlinecolor": "#2a3f5f"
            },
            "type": "carpet"
           }
          ],
          "choropleth": [
           {
            "colorbar": {
             "outlinewidth": 0,
             "ticks": ""
            },
            "type": "choropleth"
           }
          ],
          "contour": [
           {
            "colorbar": {
             "outlinewidth": 0,
             "ticks": ""
            },
            "colorscale": [
             [
              0,
              "#0d0887"
             ],
             [
              0.1111111111111111,
              "#46039f"
             ],
             [
              0.2222222222222222,
              "#7201a8"
             ],
             [
              0.3333333333333333,
              "#9c179e"
             ],
             [
              0.4444444444444444,
              "#bd3786"
             ],
             [
              0.5555555555555556,
              "#d8576b"
             ],
             [
              0.6666666666666666,
              "#ed7953"
             ],
             [
              0.7777777777777778,
              "#fb9f3a"
             ],
             [
              0.8888888888888888,
              "#fdca26"
             ],
             [
              1,
              "#f0f921"
             ]
            ],
            "type": "contour"
           }
          ],
          "contourcarpet": [
           {
            "colorbar": {
             "outlinewidth": 0,
             "ticks": ""
            },
            "type": "contourcarpet"
           }
          ],
          "heatmap": [
           {
            "colorbar": {
             "outlinewidth": 0,
             "ticks": ""
            },
            "colorscale": [
             [
              0,
              "#0d0887"
             ],
             [
              0.1111111111111111,
              "#46039f"
             ],
             [
              0.2222222222222222,
              "#7201a8"
             ],
             [
              0.3333333333333333,
              "#9c179e"
             ],
             [
              0.4444444444444444,
              "#bd3786"
             ],
             [
              0.5555555555555556,
              "#d8576b"
             ],
             [
              0.6666666666666666,
              "#ed7953"
             ],
             [
              0.7777777777777778,
              "#fb9f3a"
             ],
             [
              0.8888888888888888,
              "#fdca26"
             ],
             [
              1,
              "#f0f921"
             ]
            ],
            "type": "heatmap"
           }
          ],
          "heatmapgl": [
           {
            "colorbar": {
             "outlinewidth": 0,
             "ticks": ""
            },
            "colorscale": [
             [
              0,
              "#0d0887"
             ],
             [
              0.1111111111111111,
              "#46039f"
             ],
             [
              0.2222222222222222,
              "#7201a8"
             ],
             [
              0.3333333333333333,
              "#9c179e"
             ],
             [
              0.4444444444444444,
              "#bd3786"
             ],
             [
              0.5555555555555556,
              "#d8576b"
             ],
             [
              0.6666666666666666,
              "#ed7953"
             ],
             [
              0.7777777777777778,
              "#fb9f3a"
             ],
             [
              0.8888888888888888,
              "#fdca26"
             ],
             [
              1,
              "#f0f921"
             ]
            ],
            "type": "heatmapgl"
           }
          ],
          "histogram": [
           {
            "marker": {
             "pattern": {
              "fillmode": "overlay",
              "size": 10,
              "solidity": 0.2
             }
            },
            "type": "histogram"
           }
          ],
          "histogram2d": [
           {
            "colorbar": {
             "outlinewidth": 0,
             "ticks": ""
            },
            "colorscale": [
             [
              0,
              "#0d0887"
             ],
             [
              0.1111111111111111,
              "#46039f"
             ],
             [
              0.2222222222222222,
              "#7201a8"
             ],
             [
              0.3333333333333333,
              "#9c179e"
             ],
             [
              0.4444444444444444,
              "#bd3786"
             ],
             [
              0.5555555555555556,
              "#d8576b"
             ],
             [
              0.6666666666666666,
              "#ed7953"
             ],
             [
              0.7777777777777778,
              "#fb9f3a"
             ],
             [
              0.8888888888888888,
              "#fdca26"
             ],
             [
              1,
              "#f0f921"
             ]
            ],
            "type": "histogram2d"
           }
          ],
          "histogram2dcontour": [
           {
            "colorbar": {
             "outlinewidth": 0,
             "ticks": ""
            },
            "colorscale": [
             [
              0,
              "#0d0887"
             ],
             [
              0.1111111111111111,
              "#46039f"
             ],
             [
              0.2222222222222222,
              "#7201a8"
             ],
             [
              0.3333333333333333,
              "#9c179e"
             ],
             [
              0.4444444444444444,
              "#bd3786"
             ],
             [
              0.5555555555555556,
              "#d8576b"
             ],
             [
              0.6666666666666666,
              "#ed7953"
             ],
             [
              0.7777777777777778,
              "#fb9f3a"
             ],
             [
              0.8888888888888888,
              "#fdca26"
             ],
             [
              1,
              "#f0f921"
             ]
            ],
            "type": "histogram2dcontour"
           }
          ],
          "mesh3d": [
           {
            "colorbar": {
             "outlinewidth": 0,
             "ticks": ""
            },
            "type": "mesh3d"
           }
          ],
          "parcoords": [
           {
            "line": {
             "colorbar": {
              "outlinewidth": 0,
              "ticks": ""
             }
            },
            "type": "parcoords"
           }
          ],
          "pie": [
           {
            "automargin": true,
            "type": "pie"
           }
          ],
          "scatter": [
           {
            "fillpattern": {
             "fillmode": "overlay",
             "size": 10,
             "solidity": 0.2
            },
            "type": "scatter"
           }
          ],
          "scatter3d": [
           {
            "line": {
             "colorbar": {
              "outlinewidth": 0,
              "ticks": ""
             }
            },
            "marker": {
             "colorbar": {
              "outlinewidth": 0,
              "ticks": ""
             }
            },
            "type": "scatter3d"
           }
          ],
          "scattercarpet": [
           {
            "marker": {
             "colorbar": {
              "outlinewidth": 0,
              "ticks": ""
             }
            },
            "type": "scattercarpet"
           }
          ],
          "scattergeo": [
           {
            "marker": {
             "colorbar": {
              "outlinewidth": 0,
              "ticks": ""
             }
            },
            "type": "scattergeo"
           }
          ],
          "scattergl": [
           {
            "marker": {
             "colorbar": {
              "outlinewidth": 0,
              "ticks": ""
             }
            },
            "type": "scattergl"
           }
          ],
          "scattermapbox": [
           {
            "marker": {
             "colorbar": {
              "outlinewidth": 0,
              "ticks": ""
             }
            },
            "type": "scattermapbox"
           }
          ],
          "scatterpolar": [
           {
            "marker": {
             "colorbar": {
              "outlinewidth": 0,
              "ticks": ""
             }
            },
            "type": "scatterpolar"
           }
          ],
          "scatterpolargl": [
           {
            "marker": {
             "colorbar": {
              "outlinewidth": 0,
              "ticks": ""
             }
            },
            "type": "scatterpolargl"
           }
          ],
          "scatterternary": [
           {
            "marker": {
             "colorbar": {
              "outlinewidth": 0,
              "ticks": ""
             }
            },
            "type": "scatterternary"
           }
          ],
          "surface": [
           {
            "colorbar": {
             "outlinewidth": 0,
             "ticks": ""
            },
            "colorscale": [
             [
              0,
              "#0d0887"
             ],
             [
              0.1111111111111111,
              "#46039f"
             ],
             [
              0.2222222222222222,
              "#7201a8"
             ],
             [
              0.3333333333333333,
              "#9c179e"
             ],
             [
              0.4444444444444444,
              "#bd3786"
             ],
             [
              0.5555555555555556,
              "#d8576b"
             ],
             [
              0.6666666666666666,
              "#ed7953"
             ],
             [
              0.7777777777777778,
              "#fb9f3a"
             ],
             [
              0.8888888888888888,
              "#fdca26"
             ],
             [
              1,
              "#f0f921"
             ]
            ],
            "type": "surface"
           }
          ],
          "table": [
           {
            "cells": {
             "fill": {
              "color": "#EBF0F8"
             },
             "line": {
              "color": "white"
             }
            },
            "header": {
             "fill": {
              "color": "#C8D4E3"
             },
             "line": {
              "color": "white"
             }
            },
            "type": "table"
           }
          ]
         },
         "layout": {
          "annotationdefaults": {
           "arrowcolor": "#2a3f5f",
           "arrowhead": 0,
           "arrowwidth": 1
          },
          "autotypenumbers": "strict",
          "coloraxis": {
           "colorbar": {
            "outlinewidth": 0,
            "ticks": ""
           }
          },
          "colorscale": {
           "diverging": [
            [
             0,
             "#8e0152"
            ],
            [
             0.1,
             "#c51b7d"
            ],
            [
             0.2,
             "#de77ae"
            ],
            [
             0.3,
             "#f1b6da"
            ],
            [
             0.4,
             "#fde0ef"
            ],
            [
             0.5,
             "#f7f7f7"
            ],
            [
             0.6,
             "#e6f5d0"
            ],
            [
             0.7,
             "#b8e186"
            ],
            [
             0.8,
             "#7fbc41"
            ],
            [
             0.9,
             "#4d9221"
            ],
            [
             1,
             "#276419"
            ]
           ],
           "sequential": [
            [
             0,
             "#0d0887"
            ],
            [
             0.1111111111111111,
             "#46039f"
            ],
            [
             0.2222222222222222,
             "#7201a8"
            ],
            [
             0.3333333333333333,
             "#9c179e"
            ],
            [
             0.4444444444444444,
             "#bd3786"
            ],
            [
             0.5555555555555556,
             "#d8576b"
            ],
            [
             0.6666666666666666,
             "#ed7953"
            ],
            [
             0.7777777777777778,
             "#fb9f3a"
            ],
            [
             0.8888888888888888,
             "#fdca26"
            ],
            [
             1,
             "#f0f921"
            ]
           ],
           "sequentialminus": [
            [
             0,
             "#0d0887"
            ],
            [
             0.1111111111111111,
             "#46039f"
            ],
            [
             0.2222222222222222,
             "#7201a8"
            ],
            [
             0.3333333333333333,
             "#9c179e"
            ],
            [
             0.4444444444444444,
             "#bd3786"
            ],
            [
             0.5555555555555556,
             "#d8576b"
            ],
            [
             0.6666666666666666,
             "#ed7953"
            ],
            [
             0.7777777777777778,
             "#fb9f3a"
            ],
            [
             0.8888888888888888,
             "#fdca26"
            ],
            [
             1,
             "#f0f921"
            ]
           ]
          },
          "colorway": [
           "#636efa",
           "#EF553B",
           "#00cc96",
           "#ab63fa",
           "#FFA15A",
           "#19d3f3",
           "#FF6692",
           "#B6E880",
           "#FF97FF",
           "#FECB52"
          ],
          "font": {
           "color": "#2a3f5f"
          },
          "geo": {
           "bgcolor": "white",
           "lakecolor": "white",
           "landcolor": "#E5ECF6",
           "showlakes": true,
           "showland": true,
           "subunitcolor": "white"
          },
          "hoverlabel": {
           "align": "left"
          },
          "hovermode": "closest",
          "mapbox": {
           "style": "light"
          },
          "paper_bgcolor": "white",
          "plot_bgcolor": "#E5ECF6",
          "polar": {
           "angularaxis": {
            "gridcolor": "white",
            "linecolor": "white",
            "ticks": ""
           },
           "bgcolor": "#E5ECF6",
           "radialaxis": {
            "gridcolor": "white",
            "linecolor": "white",
            "ticks": ""
           }
          },
          "scene": {
           "xaxis": {
            "backgroundcolor": "#E5ECF6",
            "gridcolor": "white",
            "gridwidth": 2,
            "linecolor": "white",
            "showbackground": true,
            "ticks": "",
            "zerolinecolor": "white"
           },
           "yaxis": {
            "backgroundcolor": "#E5ECF6",
            "gridcolor": "white",
            "gridwidth": 2,
            "linecolor": "white",
            "showbackground": true,
            "ticks": "",
            "zerolinecolor": "white"
           },
           "zaxis": {
            "backgroundcolor": "#E5ECF6",
            "gridcolor": "white",
            "gridwidth": 2,
            "linecolor": "white",
            "showbackground": true,
            "ticks": "",
            "zerolinecolor": "white"
           }
          },
          "shapedefaults": {
           "line": {
            "color": "#2a3f5f"
           }
          },
          "ternary": {
           "aaxis": {
            "gridcolor": "white",
            "linecolor": "white",
            "ticks": ""
           },
           "baxis": {
            "gridcolor": "white",
            "linecolor": "white",
            "ticks": ""
           },
           "bgcolor": "#E5ECF6",
           "caxis": {
            "gridcolor": "white",
            "linecolor": "white",
            "ticks": ""
           }
          },
          "title": {
           "x": 0.05
          },
          "xaxis": {
           "automargin": true,
           "gridcolor": "white",
           "linecolor": "white",
           "ticks": "",
           "title": {
            "standoff": 15
           },
           "zerolinecolor": "white",
           "zerolinewidth": 2
          },
          "yaxis": {
           "automargin": true,
           "gridcolor": "white",
           "linecolor": "white",
           "ticks": "",
           "title": {
            "standoff": 15
           },
           "zerolinecolor": "white",
           "zerolinewidth": 2
          }
         }
        },
        "title": {
         "text": "With Imputed Values"
        },
        "xaxis": {
         "anchor": "y",
         "domain": [
          0,
          1
         ],
         "title": {
          "text": "Date"
         }
        },
        "yaxis": {
         "anchor": "x",
         "domain": [
          0,
          1
         ],
         "title": {
          "text": "NOKIA OYJ"
         }
        }
       }
      },
      "text/html": [
       "<div>                            <div id=\"f2401773-09b5-4b74-a797-70af1f68b65b\" class=\"plotly-graph-div\" style=\"height:525px; width:100%;\"></div>            <script type=\"text/javascript\">                require([\"plotly\"], function(Plotly) {                    window.PLOTLYENV=window.PLOTLYENV || {};                                    if (document.getElementById(\"f2401773-09b5-4b74-a797-70af1f68b65b\")) {                    Plotly.newPlot(                        \"f2401773-09b5-4b74-a797-70af1f68b65b\",                        [{\"hovertemplate\":\"Date=%{x}<br>NOKIA OYJ=%{y}<extra></extra>\",\"legendgroup\":\"\",\"line\":{\"color\":\"#636efa\",\"dash\":\"solid\"},\"marker\":{\"symbol\":\"circle\"},\"mode\":\"lines\",\"name\":\"\",\"orientation\":\"v\",\"showlegend\":false,\"x\":[\"2019-02-14T00:00:00\",\"2019-02-15T00:00:00\",\"2019-02-18T00:00:00\",\"2019-02-19T00:00:00\",\"2019-02-20T00:00:00\",\"2019-02-21T00:00:00\",\"2019-02-22T00:00:00\",\"2019-02-25T00:00:00\",\"2019-02-26T00:00:00\",\"2019-02-27T00:00:00\",\"2019-02-28T00:00:00\",\"2019-03-01T00:00:00\",\"2019-03-04T00:00:00\",\"2019-03-05T00:00:00\",\"2019-03-06T00:00:00\",\"2019-03-07T00:00:00\",\"2019-03-08T00:00:00\",\"2019-03-11T00:00:00\",\"2019-03-12T00:00:00\",\"2019-03-13T00:00:00\",\"2019-03-14T00:00:00\",\"2019-03-15T00:00:00\",\"2019-03-18T00:00:00\",\"2019-03-19T00:00:00\",\"2019-03-20T00:00:00\",\"2019-03-21T00:00:00\",\"2019-03-22T00:00:00\",\"2019-03-25T00:00:00\",\"2019-03-26T00:00:00\",\"2019-03-27T00:00:00\",\"2019-03-28T00:00:00\",\"2019-03-29T00:00:00\",\"2019-04-01T00:00:00\",\"2019-04-02T00:00:00\",\"2019-04-03T00:00:00\",\"2019-04-04T00:00:00\",\"2019-04-05T00:00:00\",\"2019-04-08T00:00:00\",\"2019-04-09T00:00:00\",\"2019-04-10T00:00:00\",\"2019-04-11T00:00:00\",\"2019-04-12T00:00:00\",\"2019-04-15T00:00:00\",\"2019-04-16T00:00:00\",\"2019-04-17T00:00:00\",\"2019-04-18T00:00:00\",\"2019-04-23T00:00:00\",\"2019-04-24T00:00:00\",\"2019-04-25T00:00:00\",\"2019-04-26T00:00:00\",\"2019-04-29T00:00:00\",\"2019-04-30T00:00:00\",\"2019-05-02T00:00:00\",\"2019-05-03T00:00:00\",\"2019-05-06T00:00:00\",\"2019-05-07T00:00:00\",\"2019-05-08T00:00:00\",\"2019-05-09T00:00:00\",\"2019-05-10T00:00:00\",\"2019-05-13T00:00:00\",\"2019-05-14T00:00:00\",\"2019-05-15T00:00:00\",\"2019-05-16T00:00:00\",\"2019-05-17T00:00:00\",\"2019-05-20T00:00:00\",\"2019-05-21T00:00:00\",\"2019-05-22T00:00:00\",\"2019-05-23T00:00:00\",\"2019-05-24T00:00:00\",\"2019-05-27T00:00:00\",\"2019-05-28T00:00:00\",\"2019-05-29T00:00:00\",\"2019-05-30T00:00:00\",\"2019-05-31T00:00:00\",\"2019-06-03T00:00:00\",\"2019-06-04T00:00:00\",\"2019-06-05T00:00:00\",\"2019-06-06T00:00:00\",\"2019-06-07T00:00:00\",\"2019-06-10T00:00:00\",\"2019-06-11T00:00:00\",\"2019-06-12T00:00:00\",\"2019-06-13T00:00:00\",\"2019-06-14T00:00:00\",\"2019-06-17T00:00:00\",\"2019-06-18T00:00:00\",\"2019-06-19T00:00:00\",\"2019-06-20T00:00:00\",\"2019-06-21T00:00:00\",\"2019-06-24T00:00:00\",\"2019-06-25T00:00:00\",\"2019-06-26T00:00:00\",\"2019-06-27T00:00:00\",\"2019-06-28T00:00:00\",\"2019-07-01T00:00:00\",\"2019-07-02T00:00:00\",\"2019-07-03T00:00:00\",\"2019-07-04T00:00:00\",\"2019-07-05T00:00:00\",\"2019-07-08T00:00:00\",\"2019-07-09T00:00:00\",\"2019-07-10T00:00:00\",\"2019-07-11T00:00:00\",\"2019-07-12T00:00:00\",\"2019-07-15T00:00:00\",\"2019-07-16T00:00:00\",\"2019-07-17T00:00:00\",\"2019-07-18T00:00:00\",\"2019-07-19T00:00:00\",\"2019-07-22T00:00:00\",\"2019-07-23T00:00:00\",\"2019-07-24T00:00:00\",\"2019-07-25T00:00:00\",\"2019-07-26T00:00:00\",\"2019-07-29T00:00:00\",\"2019-07-30T00:00:00\",\"2019-07-31T00:00:00\",\"2019-08-01T00:00:00\",\"2019-08-02T00:00:00\",\"2019-08-05T00:00:00\",\"2019-08-06T00:00:00\",\"2019-08-07T00:00:00\",\"2019-08-08T00:00:00\",\"2019-08-09T00:00:00\",\"2019-08-12T00:00:00\",\"2019-08-13T00:00:00\",\"2019-08-14T00:00:00\",\"2019-08-15T00:00:00\",\"2019-08-16T00:00:00\",\"2019-08-19T00:00:00\",\"2019-08-20T00:00:00\",\"2019-08-21T00:00:00\",\"2019-08-22T00:00:00\",\"2019-08-23T00:00:00\",\"2019-08-26T00:00:00\",\"2019-08-27T00:00:00\",\"2019-08-28T00:00:00\",\"2019-08-29T00:00:00\",\"2019-08-30T00:00:00\",\"2019-09-02T00:00:00\",\"2019-09-03T00:00:00\",\"2019-09-04T00:00:00\",\"2019-09-05T00:00:00\",\"2019-09-06T00:00:00\",\"2019-09-09T00:00:00\",\"2019-09-10T00:00:00\",\"2019-09-11T00:00:00\",\"2019-09-12T00:00:00\",\"2019-09-13T00:00:00\",\"2019-09-16T00:00:00\",\"2019-09-17T00:00:00\",\"2019-09-18T00:00:00\",\"2019-09-19T00:00:00\",\"2019-09-20T00:00:00\",\"2019-09-23T00:00:00\",\"2019-09-24T00:00:00\",\"2019-09-25T00:00:00\",\"2019-09-26T00:00:00\",\"2019-09-27T00:00:00\",\"2019-09-30T00:00:00\",\"2019-10-01T00:00:00\",\"2019-10-02T00:00:00\",\"2019-10-03T00:00:00\",\"2019-10-04T00:00:00\",\"2019-10-07T00:00:00\",\"2019-10-08T00:00:00\",\"2019-10-09T00:00:00\",\"2019-10-10T00:00:00\",\"2019-10-11T00:00:00\",\"2019-10-14T00:00:00\",\"2019-10-15T00:00:00\",\"2019-10-16T00:00:00\",\"2019-10-17T00:00:00\",\"2019-10-18T00:00:00\",\"2019-10-21T00:00:00\",\"2019-10-22T00:00:00\",\"2019-10-23T00:00:00\",\"2019-10-24T00:00:00\",\"2019-10-25T00:00:00\",\"2019-10-28T00:00:00\",\"2019-10-29T00:00:00\",\"2019-10-30T00:00:00\",\"2019-10-31T00:00:00\",\"2019-11-01T00:00:00\",\"2019-11-04T00:00:00\",\"2019-11-05T00:00:00\",\"2019-11-06T00:00:00\",\"2019-11-07T00:00:00\",\"2019-11-08T00:00:00\",\"2019-11-11T00:00:00\",\"2019-11-12T00:00:00\",\"2019-11-13T00:00:00\",\"2019-11-14T00:00:00\",\"2019-11-15T00:00:00\",\"2019-11-18T00:00:00\",\"2019-11-19T00:00:00\",\"2019-11-20T00:00:00\",\"2019-11-21T00:00:00\",\"2019-11-22T00:00:00\",\"2019-11-25T00:00:00\",\"2019-11-26T00:00:00\",\"2019-11-27T00:00:00\",\"2019-11-28T00:00:00\",\"2019-11-29T00:00:00\",\"2019-12-02T00:00:00\",\"2019-12-03T00:00:00\",\"2019-12-04T00:00:00\",\"2019-12-05T00:00:00\",\"2019-12-06T00:00:00\",\"2019-12-09T00:00:00\",\"2019-12-10T00:00:00\",\"2019-12-11T00:00:00\",\"2019-12-12T00:00:00\",\"2019-12-13T00:00:00\",\"2019-12-16T00:00:00\",\"2019-12-17T00:00:00\",\"2019-12-18T00:00:00\",\"2019-12-19T00:00:00\",\"2019-12-20T00:00:00\",\"2019-12-23T00:00:00\",\"2019-12-24T00:00:00\",\"2019-12-27T00:00:00\",\"2019-12-30T00:00:00\",\"2019-12-31T00:00:00\",\"2020-01-02T00:00:00\",\"2020-01-03T00:00:00\",\"2020-01-06T00:00:00\",\"2020-01-07T00:00:00\",\"2020-01-08T00:00:00\",\"2020-01-09T00:00:00\",\"2020-01-10T00:00:00\",\"2020-01-13T00:00:00\",\"2020-01-14T00:00:00\",\"2020-01-15T00:00:00\",\"2020-01-16T00:00:00\",\"2020-01-17T00:00:00\",\"2020-01-20T00:00:00\",\"2020-01-21T00:00:00\",\"2020-01-22T00:00:00\",\"2020-01-23T00:00:00\",\"2020-01-24T00:00:00\",\"2020-01-27T00:00:00\",\"2020-01-28T00:00:00\",\"2020-01-29T00:00:00\",\"2020-01-30T00:00:00\",\"2020-01-31T00:00:00\",\"2020-02-03T00:00:00\",\"2020-02-04T00:00:00\",\"2020-02-05T00:00:00\",\"2020-02-06T00:00:00\",\"2020-02-07T00:00:00\",\"2020-02-10T00:00:00\",\"2020-02-11T00:00:00\",\"2020-02-12T00:00:00\",\"2020-02-13T00:00:00\",\"2020-02-14T00:00:00\"],\"xaxis\":\"x\",\"y\":[5.536,5.568,5.54,5.396,5.346,5.386,5.444,5.408,5.402,5.336,5.316,5.33,5.334,5.378,5.35,5.34,5.338,5.42,5.43,5.4,5.468,5.616,5.558,5.582,5.47,5.52,5.236,5.156,5.134,5.136,5.046,5.074,5.124,5.147,5.25,5.251,5.257,5.241,5.184,5.168,5.182,5.206,5.0,5.012,5.082,5.137,5.117,5.16,4.6955,4.7735,4.7595,4.679,4.594,4.582,4.555,4.4655,4.453,4.364,4.342,4.271,4.2685,4.2325,4.4075,4.444,4.492,4.5735,4.5895,4.4055,4.473,4.5505,4.521,4.421,4.4677999999999995,4.48,4.4565,4.4595,4.429,4.4145,4.4425,4.371,4.5255,4.4845,4.45,4.386,4.4,4.4475,4.4665,4.55,4.4525999999999994,4.4245,4.3745,4.395,4.35,4.366,4.405,4.445,4.4865,4.497,4.4805,4.466,4.432,4.45,4.475,4.48,4.4945,4.5795,4.5305,4.5515,4.5815,4.5845,4.5975,4.633,4.9715,5.068,5.039,4.919,4.8795,4.9195,4.812,4.745,4.7645,4.7045,4.815,4.7955,4.747,4.776,4.623,4.5755,4.633,4.71,4.645,4.6475,4.5785,4.519,4.5045,4.478,4.4365,4.4515,4.4995,4.4885,4.4465,4.4455,4.489,4.535,4.534,4.562,4.612,4.6815,4.685,4.642,4.6135,4.6255,4.6715,4.791,4.676,4.6475,4.5845,4.5275,4.5925,4.65,4.4945,4.4,4.395,4.4255,4.4775,4.481,4.4845,4.5055,4.618,4.5595,4.565,4.622,4.714,4.714,4.709,4.713,4.718,3.6165,3.4545,3.293,3.215,3.242,3.2935,3.28,3.2525,3.23,3.2865,3.2455,3.226,3.21,3.2045,3.187,3.034,3.118,3.129,3.107,3.066,3.07,3.1195,3.1645,3.1325,3.1695,3.1835,3.2115,3.141,3.151,3.1855,3.1505,3.1617,3.1255,3.13,3.14,3.2295,3.2165,3.2555,3.2655,3.267,3.25,3.2765,3.284,3.3442,3.28,3.296,3.2784,3.464,3.447,3.3782999999999994,3.5845,3.6215,3.6255,3.6535,3.6695,3.6275,3.659,3.7725,3.749,3.7695,3.724,3.7095,3.6735,3.6755,3.594,3.68,3.602,3.555,3.5195,3.547,3.618,3.618,3.7,3.957,3.835,4.06,4.07,4.016,3.94950008392334],\"yaxis\":\"y\",\"type\":\"scatter\"}],                        {\"template\":{\"data\":{\"histogram2dcontour\":[{\"type\":\"histogram2dcontour\",\"colorbar\":{\"outlinewidth\":0,\"ticks\":\"\"},\"colorscale\":[[0.0,\"#0d0887\"],[0.1111111111111111,\"#46039f\"],[0.2222222222222222,\"#7201a8\"],[0.3333333333333333,\"#9c179e\"],[0.4444444444444444,\"#bd3786\"],[0.5555555555555556,\"#d8576b\"],[0.6666666666666666,\"#ed7953\"],[0.7777777777777778,\"#fb9f3a\"],[0.8888888888888888,\"#fdca26\"],[1.0,\"#f0f921\"]]}],\"choropleth\":[{\"type\":\"choropleth\",\"colorbar\":{\"outlinewidth\":0,\"ticks\":\"\"}}],\"histogram2d\":[{\"type\":\"histogram2d\",\"colorbar\":{\"outlinewidth\":0,\"ticks\":\"\"},\"colorscale\":[[0.0,\"#0d0887\"],[0.1111111111111111,\"#46039f\"],[0.2222222222222222,\"#7201a8\"],[0.3333333333333333,\"#9c179e\"],[0.4444444444444444,\"#bd3786\"],[0.5555555555555556,\"#d8576b\"],[0.6666666666666666,\"#ed7953\"],[0.7777777777777778,\"#fb9f3a\"],[0.8888888888888888,\"#fdca26\"],[1.0,\"#f0f921\"]]}],\"heatmap\":[{\"type\":\"heatmap\",\"colorbar\":{\"outlinewidth\":0,\"ticks\":\"\"},\"colorscale\":[[0.0,\"#0d0887\"],[0.1111111111111111,\"#46039f\"],[0.2222222222222222,\"#7201a8\"],[0.3333333333333333,\"#9c179e\"],[0.4444444444444444,\"#bd3786\"],[0.5555555555555556,\"#d8576b\"],[0.6666666666666666,\"#ed7953\"],[0.7777777777777778,\"#fb9f3a\"],[0.8888888888888888,\"#fdca26\"],[1.0,\"#f0f921\"]]}],\"heatmapgl\":[{\"type\":\"heatmapgl\",\"colorbar\":{\"outlinewidth\":0,\"ticks\":\"\"},\"colorscale\":[[0.0,\"#0d0887\"],[0.1111111111111111,\"#46039f\"],[0.2222222222222222,\"#7201a8\"],[0.3333333333333333,\"#9c179e\"],[0.4444444444444444,\"#bd3786\"],[0.5555555555555556,\"#d8576b\"],[0.6666666666666666,\"#ed7953\"],[0.7777777777777778,\"#fb9f3a\"],[0.8888888888888888,\"#fdca26\"],[1.0,\"#f0f921\"]]}],\"contourcarpet\":[{\"type\":\"contourcarpet\",\"colorbar\":{\"outlinewidth\":0,\"ticks\":\"\"}}],\"contour\":[{\"type\":\"contour\",\"colorbar\":{\"outlinewidth\":0,\"ticks\":\"\"},\"colorscale\":[[0.0,\"#0d0887\"],[0.1111111111111111,\"#46039f\"],[0.2222222222222222,\"#7201a8\"],[0.3333333333333333,\"#9c179e\"],[0.4444444444444444,\"#bd3786\"],[0.5555555555555556,\"#d8576b\"],[0.6666666666666666,\"#ed7953\"],[0.7777777777777778,\"#fb9f3a\"],[0.8888888888888888,\"#fdca26\"],[1.0,\"#f0f921\"]]}],\"surface\":[{\"type\":\"surface\",\"colorbar\":{\"outlinewidth\":0,\"ticks\":\"\"},\"colorscale\":[[0.0,\"#0d0887\"],[0.1111111111111111,\"#46039f\"],[0.2222222222222222,\"#7201a8\"],[0.3333333333333333,\"#9c179e\"],[0.4444444444444444,\"#bd3786\"],[0.5555555555555556,\"#d8576b\"],[0.6666666666666666,\"#ed7953\"],[0.7777777777777778,\"#fb9f3a\"],[0.8888888888888888,\"#fdca26\"],[1.0,\"#f0f921\"]]}],\"mesh3d\":[{\"type\":\"mesh3d\",\"colorbar\":{\"outlinewidth\":0,\"ticks\":\"\"}}],\"scatter\":[{\"fillpattern\":{\"fillmode\":\"overlay\",\"size\":10,\"solidity\":0.2},\"type\":\"scatter\"}],\"parcoords\":[{\"type\":\"parcoords\",\"line\":{\"colorbar\":{\"outlinewidth\":0,\"ticks\":\"\"}}}],\"scatterpolargl\":[{\"type\":\"scatterpolargl\",\"marker\":{\"colorbar\":{\"outlinewidth\":0,\"ticks\":\"\"}}}],\"bar\":[{\"error_x\":{\"color\":\"#2a3f5f\"},\"error_y\":{\"color\":\"#2a3f5f\"},\"marker\":{\"line\":{\"color\":\"#E5ECF6\",\"width\":0.5},\"pattern\":{\"fillmode\":\"overlay\",\"size\":10,\"solidity\":0.2}},\"type\":\"bar\"}],\"scattergeo\":[{\"type\":\"scattergeo\",\"marker\":{\"colorbar\":{\"outlinewidth\":0,\"ticks\":\"\"}}}],\"scatterpolar\":[{\"type\":\"scatterpolar\",\"marker\":{\"colorbar\":{\"outlinewidth\":0,\"ticks\":\"\"}}}],\"histogram\":[{\"marker\":{\"pattern\":{\"fillmode\":\"overlay\",\"size\":10,\"solidity\":0.2}},\"type\":\"histogram\"}],\"scattergl\":[{\"type\":\"scattergl\",\"marker\":{\"colorbar\":{\"outlinewidth\":0,\"ticks\":\"\"}}}],\"scatter3d\":[{\"type\":\"scatter3d\",\"line\":{\"colorbar\":{\"outlinewidth\":0,\"ticks\":\"\"}},\"marker\":{\"colorbar\":{\"outlinewidth\":0,\"ticks\":\"\"}}}],\"scattermapbox\":[{\"type\":\"scattermapbox\",\"marker\":{\"colorbar\":{\"outlinewidth\":0,\"ticks\":\"\"}}}],\"scatterternary\":[{\"type\":\"scatterternary\",\"marker\":{\"colorbar\":{\"outlinewidth\":0,\"ticks\":\"\"}}}],\"scattercarpet\":[{\"type\":\"scattercarpet\",\"marker\":{\"colorbar\":{\"outlinewidth\":0,\"ticks\":\"\"}}}],\"carpet\":[{\"aaxis\":{\"endlinecolor\":\"#2a3f5f\",\"gridcolor\":\"white\",\"linecolor\":\"white\",\"minorgridcolor\":\"white\",\"startlinecolor\":\"#2a3f5f\"},\"baxis\":{\"endlinecolor\":\"#2a3f5f\",\"gridcolor\":\"white\",\"linecolor\":\"white\",\"minorgridcolor\":\"white\",\"startlinecolor\":\"#2a3f5f\"},\"type\":\"carpet\"}],\"table\":[{\"cells\":{\"fill\":{\"color\":\"#EBF0F8\"},\"line\":{\"color\":\"white\"}},\"header\":{\"fill\":{\"color\":\"#C8D4E3\"},\"line\":{\"color\":\"white\"}},\"type\":\"table\"}],\"barpolar\":[{\"marker\":{\"line\":{\"color\":\"#E5ECF6\",\"width\":0.5},\"pattern\":{\"fillmode\":\"overlay\",\"size\":10,\"solidity\":0.2}},\"type\":\"barpolar\"}],\"pie\":[{\"automargin\":true,\"type\":\"pie\"}]},\"layout\":{\"autotypenumbers\":\"strict\",\"colorway\":[\"#636efa\",\"#EF553B\",\"#00cc96\",\"#ab63fa\",\"#FFA15A\",\"#19d3f3\",\"#FF6692\",\"#B6E880\",\"#FF97FF\",\"#FECB52\"],\"font\":{\"color\":\"#2a3f5f\"},\"hovermode\":\"closest\",\"hoverlabel\":{\"align\":\"left\"},\"paper_bgcolor\":\"white\",\"plot_bgcolor\":\"#E5ECF6\",\"polar\":{\"bgcolor\":\"#E5ECF6\",\"angularaxis\":{\"gridcolor\":\"white\",\"linecolor\":\"white\",\"ticks\":\"\"},\"radialaxis\":{\"gridcolor\":\"white\",\"linecolor\":\"white\",\"ticks\":\"\"}},\"ternary\":{\"bgcolor\":\"#E5ECF6\",\"aaxis\":{\"gridcolor\":\"white\",\"linecolor\":\"white\",\"ticks\":\"\"},\"baxis\":{\"gridcolor\":\"white\",\"linecolor\":\"white\",\"ticks\":\"\"},\"caxis\":{\"gridcolor\":\"white\",\"linecolor\":\"white\",\"ticks\":\"\"}},\"coloraxis\":{\"colorbar\":{\"outlinewidth\":0,\"ticks\":\"\"}},\"colorscale\":{\"sequential\":[[0.0,\"#0d0887\"],[0.1111111111111111,\"#46039f\"],[0.2222222222222222,\"#7201a8\"],[0.3333333333333333,\"#9c179e\"],[0.4444444444444444,\"#bd3786\"],[0.5555555555555556,\"#d8576b\"],[0.6666666666666666,\"#ed7953\"],[0.7777777777777778,\"#fb9f3a\"],[0.8888888888888888,\"#fdca26\"],[1.0,\"#f0f921\"]],\"sequentialminus\":[[0.0,\"#0d0887\"],[0.1111111111111111,\"#46039f\"],[0.2222222222222222,\"#7201a8\"],[0.3333333333333333,\"#9c179e\"],[0.4444444444444444,\"#bd3786\"],[0.5555555555555556,\"#d8576b\"],[0.6666666666666666,\"#ed7953\"],[0.7777777777777778,\"#fb9f3a\"],[0.8888888888888888,\"#fdca26\"],[1.0,\"#f0f921\"]],\"diverging\":[[0,\"#8e0152\"],[0.1,\"#c51b7d\"],[0.2,\"#de77ae\"],[0.3,\"#f1b6da\"],[0.4,\"#fde0ef\"],[0.5,\"#f7f7f7\"],[0.6,\"#e6f5d0\"],[0.7,\"#b8e186\"],[0.8,\"#7fbc41\"],[0.9,\"#4d9221\"],[1,\"#276419\"]]},\"xaxis\":{\"gridcolor\":\"white\",\"linecolor\":\"white\",\"ticks\":\"\",\"title\":{\"standoff\":15},\"zerolinecolor\":\"white\",\"automargin\":true,\"zerolinewidth\":2},\"yaxis\":{\"gridcolor\":\"white\",\"linecolor\":\"white\",\"ticks\":\"\",\"title\":{\"standoff\":15},\"zerolinecolor\":\"white\",\"automargin\":true,\"zerolinewidth\":2},\"scene\":{\"xaxis\":{\"backgroundcolor\":\"#E5ECF6\",\"gridcolor\":\"white\",\"linecolor\":\"white\",\"showbackground\":true,\"ticks\":\"\",\"zerolinecolor\":\"white\",\"gridwidth\":2},\"yaxis\":{\"backgroundcolor\":\"#E5ECF6\",\"gridcolor\":\"white\",\"linecolor\":\"white\",\"showbackground\":true,\"ticks\":\"\",\"zerolinecolor\":\"white\",\"gridwidth\":2},\"zaxis\":{\"backgroundcolor\":\"#E5ECF6\",\"gridcolor\":\"white\",\"linecolor\":\"white\",\"showbackground\":true,\"ticks\":\"\",\"zerolinecolor\":\"white\",\"gridwidth\":2}},\"shapedefaults\":{\"line\":{\"color\":\"#2a3f5f\"}},\"annotationdefaults\":{\"arrowcolor\":\"#2a3f5f\",\"arrowhead\":0,\"arrowwidth\":1},\"geo\":{\"bgcolor\":\"white\",\"landcolor\":\"#E5ECF6\",\"subunitcolor\":\"white\",\"showland\":true,\"showlakes\":true,\"lakecolor\":\"white\"},\"title\":{\"x\":0.05},\"mapbox\":{\"style\":\"light\"}}},\"xaxis\":{\"anchor\":\"y\",\"domain\":[0.0,1.0],\"title\":{\"text\":\"Date\"}},\"yaxis\":{\"anchor\":\"x\",\"domain\":[0.0,1.0],\"title\":{\"text\":\"NOKIA OYJ\"}},\"legend\":{\"tracegroupgap\":0},\"title\":{\"text\":\"With Imputed Values\"}},                        {\"responsive\": true}                    ).then(function(){\n",
       "                            \n",
       "var gd = document.getElementById('f2401773-09b5-4b74-a797-70af1f68b65b');\n",
       "var x = new MutationObserver(function (mutations, observer) {{\n",
       "        var display = window.getComputedStyle(gd).display;\n",
       "        if (!display || display === 'none') {{\n",
       "            console.log([gd, 'removed!']);\n",
       "            Plotly.purge(gd);\n",
       "            observer.disconnect();\n",
       "        }}\n",
       "}});\n",
       "\n",
       "// Listen for the removal of the full notebook cells\n",
       "var notebookContainer = gd.closest('#notebook-container');\n",
       "if (notebookContainer) {{\n",
       "    x.observe(notebookContainer, {childList: true});\n",
       "}}\n",
       "\n",
       "// Listen for the clearing of the current output cell\n",
       "var outputEl = gd.closest('.output');\n",
       "if (outputEl) {{\n",
       "    x.observe(outputEl, {childList: true});\n",
       "}}\n",
       "\n",
       "                        })                };                });            </script>        </div>"
      ]
     },
     "metadata": {},
     "output_type": "display_data"
    }
   ],
   "source": [
    "imputeknn = KNNImputer(n_neighbors=5) #5 nearby correlated samples are chosen\n",
    "\n",
    "#Below gives dataframe with imputed values\n",
    "df3 = pd.DataFrame(imputeknn.fit_transform(df1), columns = df1.columns, index = df1.index)\n",
    "\n",
    "#Visualizing two graphs one with missing value and other with imputed value\n",
    "fig1 = px.line(df1, x=df1.index, y=\"NOKIA OYJ\", title = \"With Missing Values\")\n",
    "fig1.show()\n",
    "fig2 = px.line(df3, x=df3.index, y=\"NOKIA OYJ\", title = \"With Imputed Values\")\n",
    "fig2.show()"
   ]
  },
  {
   "cell_type": "markdown",
   "metadata": {},
   "source": [
    "### All the stocks which had missing values were checked for change in variance before and after the imputation and they were fairly stable. Therefore, this method of imputation is accepted."
   ]
  },
  {
   "cell_type": "markdown",
   "metadata": {},
   "source": [
    "## DATAFRAME"
   ]
  },
  {
   "cell_type": "code",
   "execution_count": 496,
   "metadata": {},
   "outputs": [
    {
     "data": {
      "text/html": [
       "<div>\n",
       "<style scoped>\n",
       "    .dataframe tbody tr th:only-of-type {\n",
       "        vertical-align: middle;\n",
       "    }\n",
       "\n",
       "    .dataframe tbody tr th {\n",
       "        vertical-align: top;\n",
       "    }\n",
       "\n",
       "    .dataframe thead th {\n",
       "        text-align: right;\n",
       "    }\n",
       "</style>\n",
       "<table border=\"1\" class=\"dataframe\">\n",
       "  <thead>\n",
       "    <tr style=\"text-align: right;\">\n",
       "      <th></th>\n",
       "      <th>PERNOD RICARD SA</th>\n",
       "      <th>L'OREAL</th>\n",
       "      <th>VINCI SA</th>\n",
       "      <th>BANCO BILBAO VIZCAYA ARGENTA</th>\n",
       "      <th>BANCO SANTANDER SA</th>\n",
       "      <th>ASML HOLDING NV</th>\n",
       "      <th>KONINKLIJKE PHILIPS NV</th>\n",
       "      <th>TELEFONICA SA</th>\n",
       "      <th>TOTAL SE</th>\n",
       "      <th>AIR LIQUIDE SA</th>\n",
       "      <th>...</th>\n",
       "      <th>SIEMENS AG-REG</th>\n",
       "      <th>VOLKSWAGEN AG-PREF</th>\n",
       "      <th>MUENCHENER RUECKVER AG-REG</th>\n",
       "      <th>FRESENIUS SE &amp; CO KGAA</th>\n",
       "      <th>SAP SE</th>\n",
       "      <th>ADIDAS AG</th>\n",
       "      <th>DEUTSCHE TELEKOM AG-REG</th>\n",
       "      <th>DEUTSCHE POST AG-REG</th>\n",
       "      <th>MERCEDES-BENZ GROUP AG</th>\n",
       "      <th>DEUTSCHE BOERSE AG</th>\n",
       "    </tr>\n",
       "    <tr>\n",
       "      <th>Date</th>\n",
       "      <th></th>\n",
       "      <th></th>\n",
       "      <th></th>\n",
       "      <th></th>\n",
       "      <th></th>\n",
       "      <th></th>\n",
       "      <th></th>\n",
       "      <th></th>\n",
       "      <th></th>\n",
       "      <th></th>\n",
       "      <th></th>\n",
       "      <th></th>\n",
       "      <th></th>\n",
       "      <th></th>\n",
       "      <th></th>\n",
       "      <th></th>\n",
       "      <th></th>\n",
       "      <th></th>\n",
       "      <th></th>\n",
       "      <th></th>\n",
       "      <th></th>\n",
       "    </tr>\n",
       "  </thead>\n",
       "  <tbody>\n",
       "    <tr>\n",
       "      <th>2019-02-14</th>\n",
       "      <td>149.00</td>\n",
       "      <td>220.5</td>\n",
       "      <td>79.100000</td>\n",
       "      <td>5.028</td>\n",
       "      <td>3.9700</td>\n",
       "      <td>162.520000</td>\n",
       "      <td>34.700000</td>\n",
       "      <td>7.315</td>\n",
       "      <td>48.985</td>\n",
       "      <td>96.363636</td>\n",
       "      <td>...</td>\n",
       "      <td>92.250000</td>\n",
       "      <td>141.860000</td>\n",
       "      <td>201.000000</td>\n",
       "      <td>46.800</td>\n",
       "      <td>93.560000</td>\n",
       "      <td>197.00</td>\n",
       "      <td>14.145</td>\n",
       "      <td>26.000000</td>\n",
       "      <td>49.300</td>\n",
       "      <td>110.25</td>\n",
       "    </tr>\n",
       "    <tr>\n",
       "      <th>2019-02-15</th>\n",
       "      <td>150.55</td>\n",
       "      <td>221.8</td>\n",
       "      <td>80.520000</td>\n",
       "      <td>5.194</td>\n",
       "      <td>4.1000</td>\n",
       "      <td>163.080000</td>\n",
       "      <td>35.090000</td>\n",
       "      <td>7.500</td>\n",
       "      <td>49.695</td>\n",
       "      <td>97.136364</td>\n",
       "      <td>...</td>\n",
       "      <td>94.620000</td>\n",
       "      <td>144.400000</td>\n",
       "      <td>204.200000</td>\n",
       "      <td>47.260</td>\n",
       "      <td>94.300000</td>\n",
       "      <td>199.15</td>\n",
       "      <td>14.260</td>\n",
       "      <td>26.750000</td>\n",
       "      <td>50.610</td>\n",
       "      <td>111.30</td>\n",
       "    </tr>\n",
       "    <tr>\n",
       "      <th>2019-02-18</th>\n",
       "      <td>150.00</td>\n",
       "      <td>224.7</td>\n",
       "      <td>80.460000</td>\n",
       "      <td>5.227</td>\n",
       "      <td>4.1200</td>\n",
       "      <td>162.000000</td>\n",
       "      <td>34.855000</td>\n",
       "      <td>7.562</td>\n",
       "      <td>49.510</td>\n",
       "      <td>97.272727</td>\n",
       "      <td>...</td>\n",
       "      <td>93.900000</td>\n",
       "      <td>142.740000</td>\n",
       "      <td>203.700000</td>\n",
       "      <td>47.170</td>\n",
       "      <td>94.210000</td>\n",
       "      <td>198.55</td>\n",
       "      <td>14.380</td>\n",
       "      <td>26.110000</td>\n",
       "      <td>50.400</td>\n",
       "      <td>111.75</td>\n",
       "    </tr>\n",
       "    <tr>\n",
       "      <th>2019-02-19</th>\n",
       "      <td>149.45</td>\n",
       "      <td>223.1</td>\n",
       "      <td>80.280000</td>\n",
       "      <td>5.189</td>\n",
       "      <td>4.0840</td>\n",
       "      <td>161.140000</td>\n",
       "      <td>34.745000</td>\n",
       "      <td>7.600</td>\n",
       "      <td>49.510</td>\n",
       "      <td>97.090909</td>\n",
       "      <td>...</td>\n",
       "      <td>94.050000</td>\n",
       "      <td>143.180000</td>\n",
       "      <td>205.000000</td>\n",
       "      <td>46.680</td>\n",
       "      <td>94.020000</td>\n",
       "      <td>201.80</td>\n",
       "      <td>14.480</td>\n",
       "      <td>26.390000</td>\n",
       "      <td>50.460</td>\n",
       "      <td>110.75</td>\n",
       "    </tr>\n",
       "    <tr>\n",
       "      <th>2019-02-20</th>\n",
       "      <td>151.00</td>\n",
       "      <td>224.4</td>\n",
       "      <td>81.040000</td>\n",
       "      <td>5.237</td>\n",
       "      <td>4.1405</td>\n",
       "      <td>161.840000</td>\n",
       "      <td>34.760000</td>\n",
       "      <td>7.680</td>\n",
       "      <td>49.630</td>\n",
       "      <td>98.363636</td>\n",
       "      <td>...</td>\n",
       "      <td>94.600000</td>\n",
       "      <td>146.680000</td>\n",
       "      <td>206.200000</td>\n",
       "      <td>49.000</td>\n",
       "      <td>94.450000</td>\n",
       "      <td>202.10</td>\n",
       "      <td>14.580</td>\n",
       "      <td>26.710000</td>\n",
       "      <td>51.760</td>\n",
       "      <td>111.05</td>\n",
       "    </tr>\n",
       "    <tr>\n",
       "      <th>...</th>\n",
       "      <td>...</td>\n",
       "      <td>...</td>\n",
       "      <td>...</td>\n",
       "      <td>...</td>\n",
       "      <td>...</td>\n",
       "      <td>...</td>\n",
       "      <td>...</td>\n",
       "      <td>...</td>\n",
       "      <td>...</td>\n",
       "      <td>...</td>\n",
       "      <td>...</td>\n",
       "      <td>...</td>\n",
       "      <td>...</td>\n",
       "      <td>...</td>\n",
       "      <td>...</td>\n",
       "      <td>...</td>\n",
       "      <td>...</td>\n",
       "      <td>...</td>\n",
       "      <td>...</td>\n",
       "      <td>...</td>\n",
       "      <td>...</td>\n",
       "    </tr>\n",
       "    <tr>\n",
       "      <th>2020-02-10</th>\n",
       "      <td>160.80</td>\n",
       "      <td>270.8</td>\n",
       "      <td>104.400000</td>\n",
       "      <td>5.242</td>\n",
       "      <td>3.8365</td>\n",
       "      <td>281.000000</td>\n",
       "      <td>44.345000</td>\n",
       "      <td>6.177</td>\n",
       "      <td>44.575</td>\n",
       "      <td>134.650000</td>\n",
       "      <td>...</td>\n",
       "      <td>108.300000</td>\n",
       "      <td>164.380000</td>\n",
       "      <td>277.500000</td>\n",
       "      <td>48.600</td>\n",
       "      <td>123.660000</td>\n",
       "      <td>286.05</td>\n",
       "      <td>14.864</td>\n",
       "      <td>32.525000</td>\n",
       "      <td>43.045</td>\n",
       "      <td>153.00</td>\n",
       "    </tr>\n",
       "    <tr>\n",
       "      <th>2020-02-11</th>\n",
       "      <td>160.00</td>\n",
       "      <td>273.0</td>\n",
       "      <td>105.000000</td>\n",
       "      <td>5.233</td>\n",
       "      <td>3.8700</td>\n",
       "      <td>288.450000</td>\n",
       "      <td>44.605000</td>\n",
       "      <td>6.170</td>\n",
       "      <td>44.990</td>\n",
       "      <td>137.900000</td>\n",
       "      <td>...</td>\n",
       "      <td>109.440000</td>\n",
       "      <td>167.440000</td>\n",
       "      <td>277.400000</td>\n",
       "      <td>49.155</td>\n",
       "      <td>125.360000</td>\n",
       "      <td>286.80</td>\n",
       "      <td>15.422</td>\n",
       "      <td>32.965000</td>\n",
       "      <td>42.635</td>\n",
       "      <td>153.65</td>\n",
       "    </tr>\n",
       "    <tr>\n",
       "      <th>2020-02-12</th>\n",
       "      <td>160.65</td>\n",
       "      <td>271.1</td>\n",
       "      <td>105.650000</td>\n",
       "      <td>5.329</td>\n",
       "      <td>3.9550</td>\n",
       "      <td>290.750000</td>\n",
       "      <td>44.865000</td>\n",
       "      <td>6.330</td>\n",
       "      <td>45.485</td>\n",
       "      <td>138.800000</td>\n",
       "      <td>...</td>\n",
       "      <td>109.580000</td>\n",
       "      <td>173.140000</td>\n",
       "      <td>278.600000</td>\n",
       "      <td>49.090</td>\n",
       "      <td>126.820000</td>\n",
       "      <td>290.70</td>\n",
       "      <td>15.612</td>\n",
       "      <td>33.230000</td>\n",
       "      <td>43.995</td>\n",
       "      <td>153.25</td>\n",
       "    </tr>\n",
       "    <tr>\n",
       "      <th>2020-02-13</th>\n",
       "      <td>166.75</td>\n",
       "      <td>271.5</td>\n",
       "      <td>105.000000</td>\n",
       "      <td>5.298</td>\n",
       "      <td>3.9390</td>\n",
       "      <td>292.300000</td>\n",
       "      <td>44.700000</td>\n",
       "      <td>6.234</td>\n",
       "      <td>45.395</td>\n",
       "      <td>140.000000</td>\n",
       "      <td>...</td>\n",
       "      <td>107.160000</td>\n",
       "      <td>172.540000</td>\n",
       "      <td>281.200000</td>\n",
       "      <td>48.740</td>\n",
       "      <td>126.800000</td>\n",
       "      <td>287.70</td>\n",
       "      <td>15.560</td>\n",
       "      <td>33.420000</td>\n",
       "      <td>43.245</td>\n",
       "      <td>153.60</td>\n",
       "    </tr>\n",
       "    <tr>\n",
       "      <th>2020-02-14</th>\n",
       "      <td>165.95</td>\n",
       "      <td>269.0</td>\n",
       "      <td>105.599998</td>\n",
       "      <td>5.275</td>\n",
       "      <td>3.9425</td>\n",
       "      <td>292.950012</td>\n",
       "      <td>44.494999</td>\n",
       "      <td>6.253</td>\n",
       "      <td>45.500</td>\n",
       "      <td>139.250000</td>\n",
       "      <td>...</td>\n",
       "      <td>107.620003</td>\n",
       "      <td>171.800003</td>\n",
       "      <td>282.799988</td>\n",
       "      <td>48.785</td>\n",
       "      <td>126.739998</td>\n",
       "      <td>289.25</td>\n",
       "      <td>15.658</td>\n",
       "      <td>33.365002</td>\n",
       "      <td>43.535</td>\n",
       "      <td>153.75</td>\n",
       "    </tr>\n",
       "  </tbody>\n",
       "</table>\n",
       "<p>256 rows × 51 columns</p>\n",
       "</div>"
      ],
      "text/plain": [
       "            PERNOD RICARD SA  L'OREAL    VINCI SA  \\\n",
       "Date                                                \n",
       "2019-02-14            149.00    220.5   79.100000   \n",
       "2019-02-15            150.55    221.8   80.520000   \n",
       "2019-02-18            150.00    224.7   80.460000   \n",
       "2019-02-19            149.45    223.1   80.280000   \n",
       "2019-02-20            151.00    224.4   81.040000   \n",
       "...                      ...      ...         ...   \n",
       "2020-02-10            160.80    270.8  104.400000   \n",
       "2020-02-11            160.00    273.0  105.000000   \n",
       "2020-02-12            160.65    271.1  105.650000   \n",
       "2020-02-13            166.75    271.5  105.000000   \n",
       "2020-02-14            165.95    269.0  105.599998   \n",
       "\n",
       "            BANCO BILBAO VIZCAYA ARGENTA  BANCO SANTANDER SA  ASML HOLDING NV  \\\n",
       "Date                                                                            \n",
       "2019-02-14                         5.028              3.9700       162.520000   \n",
       "2019-02-15                         5.194              4.1000       163.080000   \n",
       "2019-02-18                         5.227              4.1200       162.000000   \n",
       "2019-02-19                         5.189              4.0840       161.140000   \n",
       "2019-02-20                         5.237              4.1405       161.840000   \n",
       "...                                  ...                 ...              ...   \n",
       "2020-02-10                         5.242              3.8365       281.000000   \n",
       "2020-02-11                         5.233              3.8700       288.450000   \n",
       "2020-02-12                         5.329              3.9550       290.750000   \n",
       "2020-02-13                         5.298              3.9390       292.300000   \n",
       "2020-02-14                         5.275              3.9425       292.950012   \n",
       "\n",
       "            KONINKLIJKE PHILIPS NV  TELEFONICA SA  TOTAL SE  AIR LIQUIDE SA  \\\n",
       "Date                                                                          \n",
       "2019-02-14               34.700000          7.315    48.985       96.363636   \n",
       "2019-02-15               35.090000          7.500    49.695       97.136364   \n",
       "2019-02-18               34.855000          7.562    49.510       97.272727   \n",
       "2019-02-19               34.745000          7.600    49.510       97.090909   \n",
       "2019-02-20               34.760000          7.680    49.630       98.363636   \n",
       "...                            ...            ...       ...             ...   \n",
       "2020-02-10               44.345000          6.177    44.575      134.650000   \n",
       "2020-02-11               44.605000          6.170    44.990      137.900000   \n",
       "2020-02-12               44.865000          6.330    45.485      138.800000   \n",
       "2020-02-13               44.700000          6.234    45.395      140.000000   \n",
       "2020-02-14               44.494999          6.253    45.500      139.250000   \n",
       "\n",
       "            ...  SIEMENS AG-REG  VOLKSWAGEN AG-PREF  \\\n",
       "Date        ...                                       \n",
       "2019-02-14  ...       92.250000          141.860000   \n",
       "2019-02-15  ...       94.620000          144.400000   \n",
       "2019-02-18  ...       93.900000          142.740000   \n",
       "2019-02-19  ...       94.050000          143.180000   \n",
       "2019-02-20  ...       94.600000          146.680000   \n",
       "...         ...             ...                 ...   \n",
       "2020-02-10  ...      108.300000          164.380000   \n",
       "2020-02-11  ...      109.440000          167.440000   \n",
       "2020-02-12  ...      109.580000          173.140000   \n",
       "2020-02-13  ...      107.160000          172.540000   \n",
       "2020-02-14  ...      107.620003          171.800003   \n",
       "\n",
       "            MUENCHENER RUECKVER AG-REG  FRESENIUS SE & CO KGAA      SAP SE  \\\n",
       "Date                                                                         \n",
       "2019-02-14                  201.000000                  46.800   93.560000   \n",
       "2019-02-15                  204.200000                  47.260   94.300000   \n",
       "2019-02-18                  203.700000                  47.170   94.210000   \n",
       "2019-02-19                  205.000000                  46.680   94.020000   \n",
       "2019-02-20                  206.200000                  49.000   94.450000   \n",
       "...                                ...                     ...         ...   \n",
       "2020-02-10                  277.500000                  48.600  123.660000   \n",
       "2020-02-11                  277.400000                  49.155  125.360000   \n",
       "2020-02-12                  278.600000                  49.090  126.820000   \n",
       "2020-02-13                  281.200000                  48.740  126.800000   \n",
       "2020-02-14                  282.799988                  48.785  126.739998   \n",
       "\n",
       "            ADIDAS AG  DEUTSCHE TELEKOM AG-REG  DEUTSCHE POST AG-REG  \\\n",
       "Date                                                                   \n",
       "2019-02-14     197.00                   14.145             26.000000   \n",
       "2019-02-15     199.15                   14.260             26.750000   \n",
       "2019-02-18     198.55                   14.380             26.110000   \n",
       "2019-02-19     201.80                   14.480             26.390000   \n",
       "2019-02-20     202.10                   14.580             26.710000   \n",
       "...               ...                      ...                   ...   \n",
       "2020-02-10     286.05                   14.864             32.525000   \n",
       "2020-02-11     286.80                   15.422             32.965000   \n",
       "2020-02-12     290.70                   15.612             33.230000   \n",
       "2020-02-13     287.70                   15.560             33.420000   \n",
       "2020-02-14     289.25                   15.658             33.365002   \n",
       "\n",
       "            MERCEDES-BENZ GROUP AG  DEUTSCHE BOERSE AG  \n",
       "Date                                                    \n",
       "2019-02-14                  49.300              110.25  \n",
       "2019-02-15                  50.610              111.30  \n",
       "2019-02-18                  50.400              111.75  \n",
       "2019-02-19                  50.460              110.75  \n",
       "2019-02-20                  51.760              111.05  \n",
       "...                            ...                 ...  \n",
       "2020-02-10                  43.045              153.00  \n",
       "2020-02-11                  42.635              153.65  \n",
       "2020-02-12                  43.995              153.25  \n",
       "2020-02-13                  43.245              153.60  \n",
       "2020-02-14                  43.535              153.75  \n",
       "\n",
       "[256 rows x 51 columns]"
      ]
     },
     "execution_count": 496,
     "metadata": {},
     "output_type": "execute_result"
    }
   ],
   "source": [
    "#Final Closing Price DataFrame using 1 year data\n",
    "df3"
   ]
  },
  {
   "cell_type": "code",
   "execution_count": 497,
   "metadata": {},
   "outputs": [
    {
     "data": {
      "application/vnd.plotly.v1+json": {
       "config": {
        "plotlyServerURL": "https://plot.ly"
       },
       "data": [
        {
         "hovertemplate": "Date=%{x}<br>PERNOD RICARD SA=%{y}<extra></extra>",
         "legendgroup": "",
         "line": {
          "color": "#636efa",
          "dash": "solid"
         },
         "marker": {
          "symbol": "circle"
         },
         "mode": "lines",
         "name": "",
         "orientation": "v",
         "showlegend": false,
         "type": "scatter",
         "x": [
          "2019-02-14T00:00:00",
          "2019-02-15T00:00:00",
          "2019-02-18T00:00:00",
          "2019-02-19T00:00:00",
          "2019-02-20T00:00:00",
          "2019-02-21T00:00:00",
          "2019-02-22T00:00:00",
          "2019-02-25T00:00:00",
          "2019-02-26T00:00:00",
          "2019-02-27T00:00:00",
          "2019-02-28T00:00:00",
          "2019-03-01T00:00:00",
          "2019-03-04T00:00:00",
          "2019-03-05T00:00:00",
          "2019-03-06T00:00:00",
          "2019-03-07T00:00:00",
          "2019-03-08T00:00:00",
          "2019-03-11T00:00:00",
          "2019-03-12T00:00:00",
          "2019-03-13T00:00:00",
          "2019-03-14T00:00:00",
          "2019-03-15T00:00:00",
          "2019-03-18T00:00:00",
          "2019-03-19T00:00:00",
          "2019-03-20T00:00:00",
          "2019-03-21T00:00:00",
          "2019-03-22T00:00:00",
          "2019-03-25T00:00:00",
          "2019-03-26T00:00:00",
          "2019-03-27T00:00:00",
          "2019-03-28T00:00:00",
          "2019-03-29T00:00:00",
          "2019-04-01T00:00:00",
          "2019-04-02T00:00:00",
          "2019-04-03T00:00:00",
          "2019-04-04T00:00:00",
          "2019-04-05T00:00:00",
          "2019-04-08T00:00:00",
          "2019-04-09T00:00:00",
          "2019-04-10T00:00:00",
          "2019-04-11T00:00:00",
          "2019-04-12T00:00:00",
          "2019-04-15T00:00:00",
          "2019-04-16T00:00:00",
          "2019-04-17T00:00:00",
          "2019-04-18T00:00:00",
          "2019-04-23T00:00:00",
          "2019-04-24T00:00:00",
          "2019-04-25T00:00:00",
          "2019-04-26T00:00:00",
          "2019-04-29T00:00:00",
          "2019-04-30T00:00:00",
          "2019-05-02T00:00:00",
          "2019-05-03T00:00:00",
          "2019-05-06T00:00:00",
          "2019-05-07T00:00:00",
          "2019-05-08T00:00:00",
          "2019-05-09T00:00:00",
          "2019-05-10T00:00:00",
          "2019-05-13T00:00:00",
          "2019-05-14T00:00:00",
          "2019-05-15T00:00:00",
          "2019-05-16T00:00:00",
          "2019-05-17T00:00:00",
          "2019-05-20T00:00:00",
          "2019-05-21T00:00:00",
          "2019-05-22T00:00:00",
          "2019-05-23T00:00:00",
          "2019-05-24T00:00:00",
          "2019-05-27T00:00:00",
          "2019-05-28T00:00:00",
          "2019-05-29T00:00:00",
          "2019-05-30T00:00:00",
          "2019-05-31T00:00:00",
          "2019-06-03T00:00:00",
          "2019-06-04T00:00:00",
          "2019-06-05T00:00:00",
          "2019-06-06T00:00:00",
          "2019-06-07T00:00:00",
          "2019-06-10T00:00:00",
          "2019-06-11T00:00:00",
          "2019-06-12T00:00:00",
          "2019-06-13T00:00:00",
          "2019-06-14T00:00:00",
          "2019-06-17T00:00:00",
          "2019-06-18T00:00:00",
          "2019-06-19T00:00:00",
          "2019-06-20T00:00:00",
          "2019-06-21T00:00:00",
          "2019-06-24T00:00:00",
          "2019-06-25T00:00:00",
          "2019-06-26T00:00:00",
          "2019-06-27T00:00:00",
          "2019-06-28T00:00:00",
          "2019-07-01T00:00:00",
          "2019-07-02T00:00:00",
          "2019-07-03T00:00:00",
          "2019-07-04T00:00:00",
          "2019-07-05T00:00:00",
          "2019-07-08T00:00:00",
          "2019-07-09T00:00:00",
          "2019-07-10T00:00:00",
          "2019-07-11T00:00:00",
          "2019-07-12T00:00:00",
          "2019-07-15T00:00:00",
          "2019-07-16T00:00:00",
          "2019-07-17T00:00:00",
          "2019-07-18T00:00:00",
          "2019-07-19T00:00:00",
          "2019-07-22T00:00:00",
          "2019-07-23T00:00:00",
          "2019-07-24T00:00:00",
          "2019-07-25T00:00:00",
          "2019-07-26T00:00:00",
          "2019-07-29T00:00:00",
          "2019-07-30T00:00:00",
          "2019-07-31T00:00:00",
          "2019-08-01T00:00:00",
          "2019-08-02T00:00:00",
          "2019-08-05T00:00:00",
          "2019-08-06T00:00:00",
          "2019-08-07T00:00:00",
          "2019-08-08T00:00:00",
          "2019-08-09T00:00:00",
          "2019-08-12T00:00:00",
          "2019-08-13T00:00:00",
          "2019-08-14T00:00:00",
          "2019-08-15T00:00:00",
          "2019-08-16T00:00:00",
          "2019-08-19T00:00:00",
          "2019-08-20T00:00:00",
          "2019-08-21T00:00:00",
          "2019-08-22T00:00:00",
          "2019-08-23T00:00:00",
          "2019-08-26T00:00:00",
          "2019-08-27T00:00:00",
          "2019-08-28T00:00:00",
          "2019-08-29T00:00:00",
          "2019-08-30T00:00:00",
          "2019-09-02T00:00:00",
          "2019-09-03T00:00:00",
          "2019-09-04T00:00:00",
          "2019-09-05T00:00:00",
          "2019-09-06T00:00:00",
          "2019-09-09T00:00:00",
          "2019-09-10T00:00:00",
          "2019-09-11T00:00:00",
          "2019-09-12T00:00:00",
          "2019-09-13T00:00:00",
          "2019-09-16T00:00:00",
          "2019-09-17T00:00:00",
          "2019-09-18T00:00:00",
          "2019-09-19T00:00:00",
          "2019-09-20T00:00:00",
          "2019-09-23T00:00:00",
          "2019-09-24T00:00:00",
          "2019-09-25T00:00:00",
          "2019-09-26T00:00:00",
          "2019-09-27T00:00:00",
          "2019-09-30T00:00:00",
          "2019-10-01T00:00:00",
          "2019-10-02T00:00:00",
          "2019-10-03T00:00:00",
          "2019-10-04T00:00:00",
          "2019-10-07T00:00:00",
          "2019-10-08T00:00:00",
          "2019-10-09T00:00:00",
          "2019-10-10T00:00:00",
          "2019-10-11T00:00:00",
          "2019-10-14T00:00:00",
          "2019-10-15T00:00:00",
          "2019-10-16T00:00:00",
          "2019-10-17T00:00:00",
          "2019-10-18T00:00:00",
          "2019-10-21T00:00:00",
          "2019-10-22T00:00:00",
          "2019-10-23T00:00:00",
          "2019-10-24T00:00:00",
          "2019-10-25T00:00:00",
          "2019-10-28T00:00:00",
          "2019-10-29T00:00:00",
          "2019-10-30T00:00:00",
          "2019-10-31T00:00:00",
          "2019-11-01T00:00:00",
          "2019-11-04T00:00:00",
          "2019-11-05T00:00:00",
          "2019-11-06T00:00:00",
          "2019-11-07T00:00:00",
          "2019-11-08T00:00:00",
          "2019-11-11T00:00:00",
          "2019-11-12T00:00:00",
          "2019-11-13T00:00:00",
          "2019-11-14T00:00:00",
          "2019-11-15T00:00:00",
          "2019-11-18T00:00:00",
          "2019-11-19T00:00:00",
          "2019-11-20T00:00:00",
          "2019-11-21T00:00:00",
          "2019-11-22T00:00:00",
          "2019-11-25T00:00:00",
          "2019-11-26T00:00:00",
          "2019-11-27T00:00:00",
          "2019-11-28T00:00:00",
          "2019-11-29T00:00:00",
          "2019-12-02T00:00:00",
          "2019-12-03T00:00:00",
          "2019-12-04T00:00:00",
          "2019-12-05T00:00:00",
          "2019-12-06T00:00:00",
          "2019-12-09T00:00:00",
          "2019-12-10T00:00:00",
          "2019-12-11T00:00:00",
          "2019-12-12T00:00:00",
          "2019-12-13T00:00:00",
          "2019-12-16T00:00:00",
          "2019-12-17T00:00:00",
          "2019-12-18T00:00:00",
          "2019-12-19T00:00:00",
          "2019-12-20T00:00:00",
          "2019-12-23T00:00:00",
          "2019-12-24T00:00:00",
          "2019-12-27T00:00:00",
          "2019-12-30T00:00:00",
          "2019-12-31T00:00:00",
          "2020-01-02T00:00:00",
          "2020-01-03T00:00:00",
          "2020-01-06T00:00:00",
          "2020-01-07T00:00:00",
          "2020-01-08T00:00:00",
          "2020-01-09T00:00:00",
          "2020-01-10T00:00:00",
          "2020-01-13T00:00:00",
          "2020-01-14T00:00:00",
          "2020-01-15T00:00:00",
          "2020-01-16T00:00:00",
          "2020-01-17T00:00:00",
          "2020-01-20T00:00:00",
          "2020-01-21T00:00:00",
          "2020-01-22T00:00:00",
          "2020-01-23T00:00:00",
          "2020-01-24T00:00:00",
          "2020-01-27T00:00:00",
          "2020-01-28T00:00:00",
          "2020-01-29T00:00:00",
          "2020-01-30T00:00:00",
          "2020-01-31T00:00:00",
          "2020-02-03T00:00:00",
          "2020-02-04T00:00:00",
          "2020-02-05T00:00:00",
          "2020-02-06T00:00:00",
          "2020-02-07T00:00:00",
          "2020-02-10T00:00:00",
          "2020-02-11T00:00:00",
          "2020-02-12T00:00:00",
          "2020-02-13T00:00:00",
          "2020-02-14T00:00:00"
         ],
         "xaxis": "x",
         "y": [
          149,
          150.55,
          150,
          149.45,
          151,
          152.95,
          151.9,
          150.7,
          151.2,
          150,
          151.4,
          153.15,
          154,
          153.85,
          154,
          156.05,
          155.55,
          155.2,
          154.95,
          155.35,
          157.5,
          158.8,
          157.9,
          157.05,
          157.9,
          160.1,
          157.5,
          158.6,
          159.9,
          159.35,
          160,
          160,
          158.5,
          160.8,
          160.4,
          160,
          160.2,
          160.4,
          159.85,
          160,
          160.15,
          158.8,
          158.95,
          156.1,
          156.35,
          154.7,
          155.5,
          156.75,
          156.35,
          155.75,
          156.45,
          155.35,
          154.35,
          155.2,
          155,
          154.9,
          157.05,
          154.4,
          153.6,
          152.95,
          154.4,
          155.5,
          158.9,
          160.55,
          158.8,
          160.8,
          161.9,
          161.75,
          162.8,
          163.05,
          162.5,
          160.75,
          161.8,
          157.8,
          159,
          156.3,
          159,
          157.4,
          160.2,
          159.4,
          159.2,
          159.1,
          158.95,
          157.85,
          160.1,
          162.95,
          162.35,
          163.75,
          162.8,
          163.5,
          163,
          162.25,
          161.4,
          162.05,
          162.85,
          161.4,
          165,
          163.55,
          161.5,
          161.65,
          162.45,
          158.25,
          157.25,
          157.3,
          157.3,
          157.05,
          157.05,
          157,
          157.25,
          157.6,
          160.3,
          158.4,
          157.4,
          158.75,
          158.35,
          157.6,
          159.05,
          162.25,
          156.05,
          153.5,
          152.35,
          154.4,
          156.65,
          156.05,
          156.7,
          155.8,
          154.55,
          156.85,
          159.1,
          158.1,
          158.3,
          165.95,
          163.15,
          162.45,
          164.25,
          166,
          166.65,
          171.8,
          173.7,
          177.2,
          177.25,
          176.55,
          174.6,
          174.75,
          168.65,
          168.15,
          169.25,
          168.6,
          164.45,
          162.3,
          166.4,
          165.7,
          164.8,
          164.4,
          164.25,
          165.6,
          162,
          162.85,
          162.45,
          163.4,
          163.15,
          162.45,
          169.35,
          172,
          174,
          171.9,
          172.35,
          170.4,
          170.25,
          168.65,
          167.7,
          166.6,
          159.65,
          161,
          159.1,
          156.95,
          157.5,
          159.75,
          159.3,
          159.1,
          160.2,
          163.65,
          165.5,
          164.2,
          163.45,
          163,
          165.45,
          164.75,
          167.4,
          169.2,
          168.05,
          169.65,
          169.65,
          170.05,
          171,
          170.45,
          168,
          167.25,
          166.5,
          165.3,
          165.95,
          167,
          166.2,
          166.7,
          162.2,
          162.65,
          161.5,
          161.25,
          163.2,
          162.7,
          162.5,
          162.6,
          161.5,
          161,
          161.15,
          160.3,
          160.1,
          159,
          160.35,
          161.2,
          162.55,
          162,
          161.3,
          159.4,
          160.35,
          161.2,
          161.2,
          160.55,
          159.45,
          159.7,
          158.9,
          162.8,
          165.7,
          167.25,
          167.5,
          170.6,
          169.15,
          168.6,
          167.4,
          165.8,
          164.2,
          158.6,
          158,
          158.45,
          156.55,
          156.5,
          157,
          159.3,
          158.3,
          161.4,
          161.3,
          160.8,
          160,
          160.65,
          166.75,
          165.95
         ],
         "yaxis": "y"
        }
       ],
       "layout": {
        "legend": {
         "tracegroupgap": 0
        },
        "template": {
         "data": {
          "bar": [
           {
            "error_x": {
             "color": "#2a3f5f"
            },
            "error_y": {
             "color": "#2a3f5f"
            },
            "marker": {
             "line": {
              "color": "#E5ECF6",
              "width": 0.5
             },
             "pattern": {
              "fillmode": "overlay",
              "size": 10,
              "solidity": 0.2
             }
            },
            "type": "bar"
           }
          ],
          "barpolar": [
           {
            "marker": {
             "line": {
              "color": "#E5ECF6",
              "width": 0.5
             },
             "pattern": {
              "fillmode": "overlay",
              "size": 10,
              "solidity": 0.2
             }
            },
            "type": "barpolar"
           }
          ],
          "carpet": [
           {
            "aaxis": {
             "endlinecolor": "#2a3f5f",
             "gridcolor": "white",
             "linecolor": "white",
             "minorgridcolor": "white",
             "startlinecolor": "#2a3f5f"
            },
            "baxis": {
             "endlinecolor": "#2a3f5f",
             "gridcolor": "white",
             "linecolor": "white",
             "minorgridcolor": "white",
             "startlinecolor": "#2a3f5f"
            },
            "type": "carpet"
           }
          ],
          "choropleth": [
           {
            "colorbar": {
             "outlinewidth": 0,
             "ticks": ""
            },
            "type": "choropleth"
           }
          ],
          "contour": [
           {
            "colorbar": {
             "outlinewidth": 0,
             "ticks": ""
            },
            "colorscale": [
             [
              0,
              "#0d0887"
             ],
             [
              0.1111111111111111,
              "#46039f"
             ],
             [
              0.2222222222222222,
              "#7201a8"
             ],
             [
              0.3333333333333333,
              "#9c179e"
             ],
             [
              0.4444444444444444,
              "#bd3786"
             ],
             [
              0.5555555555555556,
              "#d8576b"
             ],
             [
              0.6666666666666666,
              "#ed7953"
             ],
             [
              0.7777777777777778,
              "#fb9f3a"
             ],
             [
              0.8888888888888888,
              "#fdca26"
             ],
             [
              1,
              "#f0f921"
             ]
            ],
            "type": "contour"
           }
          ],
          "contourcarpet": [
           {
            "colorbar": {
             "outlinewidth": 0,
             "ticks": ""
            },
            "type": "contourcarpet"
           }
          ],
          "heatmap": [
           {
            "colorbar": {
             "outlinewidth": 0,
             "ticks": ""
            },
            "colorscale": [
             [
              0,
              "#0d0887"
             ],
             [
              0.1111111111111111,
              "#46039f"
             ],
             [
              0.2222222222222222,
              "#7201a8"
             ],
             [
              0.3333333333333333,
              "#9c179e"
             ],
             [
              0.4444444444444444,
              "#bd3786"
             ],
             [
              0.5555555555555556,
              "#d8576b"
             ],
             [
              0.6666666666666666,
              "#ed7953"
             ],
             [
              0.7777777777777778,
              "#fb9f3a"
             ],
             [
              0.8888888888888888,
              "#fdca26"
             ],
             [
              1,
              "#f0f921"
             ]
            ],
            "type": "heatmap"
           }
          ],
          "heatmapgl": [
           {
            "colorbar": {
             "outlinewidth": 0,
             "ticks": ""
            },
            "colorscale": [
             [
              0,
              "#0d0887"
             ],
             [
              0.1111111111111111,
              "#46039f"
             ],
             [
              0.2222222222222222,
              "#7201a8"
             ],
             [
              0.3333333333333333,
              "#9c179e"
             ],
             [
              0.4444444444444444,
              "#bd3786"
             ],
             [
              0.5555555555555556,
              "#d8576b"
             ],
             [
              0.6666666666666666,
              "#ed7953"
             ],
             [
              0.7777777777777778,
              "#fb9f3a"
             ],
             [
              0.8888888888888888,
              "#fdca26"
             ],
             [
              1,
              "#f0f921"
             ]
            ],
            "type": "heatmapgl"
           }
          ],
          "histogram": [
           {
            "marker": {
             "pattern": {
              "fillmode": "overlay",
              "size": 10,
              "solidity": 0.2
             }
            },
            "type": "histogram"
           }
          ],
          "histogram2d": [
           {
            "colorbar": {
             "outlinewidth": 0,
             "ticks": ""
            },
            "colorscale": [
             [
              0,
              "#0d0887"
             ],
             [
              0.1111111111111111,
              "#46039f"
             ],
             [
              0.2222222222222222,
              "#7201a8"
             ],
             [
              0.3333333333333333,
              "#9c179e"
             ],
             [
              0.4444444444444444,
              "#bd3786"
             ],
             [
              0.5555555555555556,
              "#d8576b"
             ],
             [
              0.6666666666666666,
              "#ed7953"
             ],
             [
              0.7777777777777778,
              "#fb9f3a"
             ],
             [
              0.8888888888888888,
              "#fdca26"
             ],
             [
              1,
              "#f0f921"
             ]
            ],
            "type": "histogram2d"
           }
          ],
          "histogram2dcontour": [
           {
            "colorbar": {
             "outlinewidth": 0,
             "ticks": ""
            },
            "colorscale": [
             [
              0,
              "#0d0887"
             ],
             [
              0.1111111111111111,
              "#46039f"
             ],
             [
              0.2222222222222222,
              "#7201a8"
             ],
             [
              0.3333333333333333,
              "#9c179e"
             ],
             [
              0.4444444444444444,
              "#bd3786"
             ],
             [
              0.5555555555555556,
              "#d8576b"
             ],
             [
              0.6666666666666666,
              "#ed7953"
             ],
             [
              0.7777777777777778,
              "#fb9f3a"
             ],
             [
              0.8888888888888888,
              "#fdca26"
             ],
             [
              1,
              "#f0f921"
             ]
            ],
            "type": "histogram2dcontour"
           }
          ],
          "mesh3d": [
           {
            "colorbar": {
             "outlinewidth": 0,
             "ticks": ""
            },
            "type": "mesh3d"
           }
          ],
          "parcoords": [
           {
            "line": {
             "colorbar": {
              "outlinewidth": 0,
              "ticks": ""
             }
            },
            "type": "parcoords"
           }
          ],
          "pie": [
           {
            "automargin": true,
            "type": "pie"
           }
          ],
          "scatter": [
           {
            "fillpattern": {
             "fillmode": "overlay",
             "size": 10,
             "solidity": 0.2
            },
            "type": "scatter"
           }
          ],
          "scatter3d": [
           {
            "line": {
             "colorbar": {
              "outlinewidth": 0,
              "ticks": ""
             }
            },
            "marker": {
             "colorbar": {
              "outlinewidth": 0,
              "ticks": ""
             }
            },
            "type": "scatter3d"
           }
          ],
          "scattercarpet": [
           {
            "marker": {
             "colorbar": {
              "outlinewidth": 0,
              "ticks": ""
             }
            },
            "type": "scattercarpet"
           }
          ],
          "scattergeo": [
           {
            "marker": {
             "colorbar": {
              "outlinewidth": 0,
              "ticks": ""
             }
            },
            "type": "scattergeo"
           }
          ],
          "scattergl": [
           {
            "marker": {
             "colorbar": {
              "outlinewidth": 0,
              "ticks": ""
             }
            },
            "type": "scattergl"
           }
          ],
          "scattermapbox": [
           {
            "marker": {
             "colorbar": {
              "outlinewidth": 0,
              "ticks": ""
             }
            },
            "type": "scattermapbox"
           }
          ],
          "scatterpolar": [
           {
            "marker": {
             "colorbar": {
              "outlinewidth": 0,
              "ticks": ""
             }
            },
            "type": "scatterpolar"
           }
          ],
          "scatterpolargl": [
           {
            "marker": {
             "colorbar": {
              "outlinewidth": 0,
              "ticks": ""
             }
            },
            "type": "scatterpolargl"
           }
          ],
          "scatterternary": [
           {
            "marker": {
             "colorbar": {
              "outlinewidth": 0,
              "ticks": ""
             }
            },
            "type": "scatterternary"
           }
          ],
          "surface": [
           {
            "colorbar": {
             "outlinewidth": 0,
             "ticks": ""
            },
            "colorscale": [
             [
              0,
              "#0d0887"
             ],
             [
              0.1111111111111111,
              "#46039f"
             ],
             [
              0.2222222222222222,
              "#7201a8"
             ],
             [
              0.3333333333333333,
              "#9c179e"
             ],
             [
              0.4444444444444444,
              "#bd3786"
             ],
             [
              0.5555555555555556,
              "#d8576b"
             ],
             [
              0.6666666666666666,
              "#ed7953"
             ],
             [
              0.7777777777777778,
              "#fb9f3a"
             ],
             [
              0.8888888888888888,
              "#fdca26"
             ],
             [
              1,
              "#f0f921"
             ]
            ],
            "type": "surface"
           }
          ],
          "table": [
           {
            "cells": {
             "fill": {
              "color": "#EBF0F8"
             },
             "line": {
              "color": "white"
             }
            },
            "header": {
             "fill": {
              "color": "#C8D4E3"
             },
             "line": {
              "color": "white"
             }
            },
            "type": "table"
           }
          ]
         },
         "layout": {
          "annotationdefaults": {
           "arrowcolor": "#2a3f5f",
           "arrowhead": 0,
           "arrowwidth": 1
          },
          "autotypenumbers": "strict",
          "coloraxis": {
           "colorbar": {
            "outlinewidth": 0,
            "ticks": ""
           }
          },
          "colorscale": {
           "diverging": [
            [
             0,
             "#8e0152"
            ],
            [
             0.1,
             "#c51b7d"
            ],
            [
             0.2,
             "#de77ae"
            ],
            [
             0.3,
             "#f1b6da"
            ],
            [
             0.4,
             "#fde0ef"
            ],
            [
             0.5,
             "#f7f7f7"
            ],
            [
             0.6,
             "#e6f5d0"
            ],
            [
             0.7,
             "#b8e186"
            ],
            [
             0.8,
             "#7fbc41"
            ],
            [
             0.9,
             "#4d9221"
            ],
            [
             1,
             "#276419"
            ]
           ],
           "sequential": [
            [
             0,
             "#0d0887"
            ],
            [
             0.1111111111111111,
             "#46039f"
            ],
            [
             0.2222222222222222,
             "#7201a8"
            ],
            [
             0.3333333333333333,
             "#9c179e"
            ],
            [
             0.4444444444444444,
             "#bd3786"
            ],
            [
             0.5555555555555556,
             "#d8576b"
            ],
            [
             0.6666666666666666,
             "#ed7953"
            ],
            [
             0.7777777777777778,
             "#fb9f3a"
            ],
            [
             0.8888888888888888,
             "#fdca26"
            ],
            [
             1,
             "#f0f921"
            ]
           ],
           "sequentialminus": [
            [
             0,
             "#0d0887"
            ],
            [
             0.1111111111111111,
             "#46039f"
            ],
            [
             0.2222222222222222,
             "#7201a8"
            ],
            [
             0.3333333333333333,
             "#9c179e"
            ],
            [
             0.4444444444444444,
             "#bd3786"
            ],
            [
             0.5555555555555556,
             "#d8576b"
            ],
            [
             0.6666666666666666,
             "#ed7953"
            ],
            [
             0.7777777777777778,
             "#fb9f3a"
            ],
            [
             0.8888888888888888,
             "#fdca26"
            ],
            [
             1,
             "#f0f921"
            ]
           ]
          },
          "colorway": [
           "#636efa",
           "#EF553B",
           "#00cc96",
           "#ab63fa",
           "#FFA15A",
           "#19d3f3",
           "#FF6692",
           "#B6E880",
           "#FF97FF",
           "#FECB52"
          ],
          "font": {
           "color": "#2a3f5f"
          },
          "geo": {
           "bgcolor": "white",
           "lakecolor": "white",
           "landcolor": "#E5ECF6",
           "showlakes": true,
           "showland": true,
           "subunitcolor": "white"
          },
          "hoverlabel": {
           "align": "left"
          },
          "hovermode": "closest",
          "mapbox": {
           "style": "light"
          },
          "paper_bgcolor": "white",
          "plot_bgcolor": "#E5ECF6",
          "polar": {
           "angularaxis": {
            "gridcolor": "white",
            "linecolor": "white",
            "ticks": ""
           },
           "bgcolor": "#E5ECF6",
           "radialaxis": {
            "gridcolor": "white",
            "linecolor": "white",
            "ticks": ""
           }
          },
          "scene": {
           "xaxis": {
            "backgroundcolor": "#E5ECF6",
            "gridcolor": "white",
            "gridwidth": 2,
            "linecolor": "white",
            "showbackground": true,
            "ticks": "",
            "zerolinecolor": "white"
           },
           "yaxis": {
            "backgroundcolor": "#E5ECF6",
            "gridcolor": "white",
            "gridwidth": 2,
            "linecolor": "white",
            "showbackground": true,
            "ticks": "",
            "zerolinecolor": "white"
           },
           "zaxis": {
            "backgroundcolor": "#E5ECF6",
            "gridcolor": "white",
            "gridwidth": 2,
            "linecolor": "white",
            "showbackground": true,
            "ticks": "",
            "zerolinecolor": "white"
           }
          },
          "shapedefaults": {
           "line": {
            "color": "#2a3f5f"
           }
          },
          "ternary": {
           "aaxis": {
            "gridcolor": "white",
            "linecolor": "white",
            "ticks": ""
           },
           "baxis": {
            "gridcolor": "white",
            "linecolor": "white",
            "ticks": ""
           },
           "bgcolor": "#E5ECF6",
           "caxis": {
            "gridcolor": "white",
            "linecolor": "white",
            "ticks": ""
           }
          },
          "title": {
           "x": 0.05
          },
          "xaxis": {
           "automargin": true,
           "gridcolor": "white",
           "linecolor": "white",
           "ticks": "",
           "title": {
            "standoff": 15
           },
           "zerolinecolor": "white",
           "zerolinewidth": 2
          },
          "yaxis": {
           "automargin": true,
           "gridcolor": "white",
           "linecolor": "white",
           "ticks": "",
           "title": {
            "standoff": 15
           },
           "zerolinecolor": "white",
           "zerolinewidth": 2
          }
         }
        },
        "title": {
         "text": "Closing Price Time Series"
        },
        "xaxis": {
         "anchor": "y",
         "domain": [
          0,
          1
         ],
         "title": {
          "text": "Date"
         }
        },
        "yaxis": {
         "anchor": "x",
         "domain": [
          0,
          1
         ],
         "title": {
          "text": "PERNOD RICARD SA"
         }
        }
       }
      },
      "text/html": [
       "<div>                            <div id=\"6b3f5688-6035-4e51-9199-9748ed269731\" class=\"plotly-graph-div\" style=\"height:525px; width:100%;\"></div>            <script type=\"text/javascript\">                require([\"plotly\"], function(Plotly) {                    window.PLOTLYENV=window.PLOTLYENV || {};                                    if (document.getElementById(\"6b3f5688-6035-4e51-9199-9748ed269731\")) {                    Plotly.newPlot(                        \"6b3f5688-6035-4e51-9199-9748ed269731\",                        [{\"hovertemplate\":\"Date=%{x}<br>PERNOD RICARD SA=%{y}<extra></extra>\",\"legendgroup\":\"\",\"line\":{\"color\":\"#636efa\",\"dash\":\"solid\"},\"marker\":{\"symbol\":\"circle\"},\"mode\":\"lines\",\"name\":\"\",\"orientation\":\"v\",\"showlegend\":false,\"x\":[\"2019-02-14T00:00:00\",\"2019-02-15T00:00:00\",\"2019-02-18T00:00:00\",\"2019-02-19T00:00:00\",\"2019-02-20T00:00:00\",\"2019-02-21T00:00:00\",\"2019-02-22T00:00:00\",\"2019-02-25T00:00:00\",\"2019-02-26T00:00:00\",\"2019-02-27T00:00:00\",\"2019-02-28T00:00:00\",\"2019-03-01T00:00:00\",\"2019-03-04T00:00:00\",\"2019-03-05T00:00:00\",\"2019-03-06T00:00:00\",\"2019-03-07T00:00:00\",\"2019-03-08T00:00:00\",\"2019-03-11T00:00:00\",\"2019-03-12T00:00:00\",\"2019-03-13T00:00:00\",\"2019-03-14T00:00:00\",\"2019-03-15T00:00:00\",\"2019-03-18T00:00:00\",\"2019-03-19T00:00:00\",\"2019-03-20T00:00:00\",\"2019-03-21T00:00:00\",\"2019-03-22T00:00:00\",\"2019-03-25T00:00:00\",\"2019-03-26T00:00:00\",\"2019-03-27T00:00:00\",\"2019-03-28T00:00:00\",\"2019-03-29T00:00:00\",\"2019-04-01T00:00:00\",\"2019-04-02T00:00:00\",\"2019-04-03T00:00:00\",\"2019-04-04T00:00:00\",\"2019-04-05T00:00:00\",\"2019-04-08T00:00:00\",\"2019-04-09T00:00:00\",\"2019-04-10T00:00:00\",\"2019-04-11T00:00:00\",\"2019-04-12T00:00:00\",\"2019-04-15T00:00:00\",\"2019-04-16T00:00:00\",\"2019-04-17T00:00:00\",\"2019-04-18T00:00:00\",\"2019-04-23T00:00:00\",\"2019-04-24T00:00:00\",\"2019-04-25T00:00:00\",\"2019-04-26T00:00:00\",\"2019-04-29T00:00:00\",\"2019-04-30T00:00:00\",\"2019-05-02T00:00:00\",\"2019-05-03T00:00:00\",\"2019-05-06T00:00:00\",\"2019-05-07T00:00:00\",\"2019-05-08T00:00:00\",\"2019-05-09T00:00:00\",\"2019-05-10T00:00:00\",\"2019-05-13T00:00:00\",\"2019-05-14T00:00:00\",\"2019-05-15T00:00:00\",\"2019-05-16T00:00:00\",\"2019-05-17T00:00:00\",\"2019-05-20T00:00:00\",\"2019-05-21T00:00:00\",\"2019-05-22T00:00:00\",\"2019-05-23T00:00:00\",\"2019-05-24T00:00:00\",\"2019-05-27T00:00:00\",\"2019-05-28T00:00:00\",\"2019-05-29T00:00:00\",\"2019-05-30T00:00:00\",\"2019-05-31T00:00:00\",\"2019-06-03T00:00:00\",\"2019-06-04T00:00:00\",\"2019-06-05T00:00:00\",\"2019-06-06T00:00:00\",\"2019-06-07T00:00:00\",\"2019-06-10T00:00:00\",\"2019-06-11T00:00:00\",\"2019-06-12T00:00:00\",\"2019-06-13T00:00:00\",\"2019-06-14T00:00:00\",\"2019-06-17T00:00:00\",\"2019-06-18T00:00:00\",\"2019-06-19T00:00:00\",\"2019-06-20T00:00:00\",\"2019-06-21T00:00:00\",\"2019-06-24T00:00:00\",\"2019-06-25T00:00:00\",\"2019-06-26T00:00:00\",\"2019-06-27T00:00:00\",\"2019-06-28T00:00:00\",\"2019-07-01T00:00:00\",\"2019-07-02T00:00:00\",\"2019-07-03T00:00:00\",\"2019-07-04T00:00:00\",\"2019-07-05T00:00:00\",\"2019-07-08T00:00:00\",\"2019-07-09T00:00:00\",\"2019-07-10T00:00:00\",\"2019-07-11T00:00:00\",\"2019-07-12T00:00:00\",\"2019-07-15T00:00:00\",\"2019-07-16T00:00:00\",\"2019-07-17T00:00:00\",\"2019-07-18T00:00:00\",\"2019-07-19T00:00:00\",\"2019-07-22T00:00:00\",\"2019-07-23T00:00:00\",\"2019-07-24T00:00:00\",\"2019-07-25T00:00:00\",\"2019-07-26T00:00:00\",\"2019-07-29T00:00:00\",\"2019-07-30T00:00:00\",\"2019-07-31T00:00:00\",\"2019-08-01T00:00:00\",\"2019-08-02T00:00:00\",\"2019-08-05T00:00:00\",\"2019-08-06T00:00:00\",\"2019-08-07T00:00:00\",\"2019-08-08T00:00:00\",\"2019-08-09T00:00:00\",\"2019-08-12T00:00:00\",\"2019-08-13T00:00:00\",\"2019-08-14T00:00:00\",\"2019-08-15T00:00:00\",\"2019-08-16T00:00:00\",\"2019-08-19T00:00:00\",\"2019-08-20T00:00:00\",\"2019-08-21T00:00:00\",\"2019-08-22T00:00:00\",\"2019-08-23T00:00:00\",\"2019-08-26T00:00:00\",\"2019-08-27T00:00:00\",\"2019-08-28T00:00:00\",\"2019-08-29T00:00:00\",\"2019-08-30T00:00:00\",\"2019-09-02T00:00:00\",\"2019-09-03T00:00:00\",\"2019-09-04T00:00:00\",\"2019-09-05T00:00:00\",\"2019-09-06T00:00:00\",\"2019-09-09T00:00:00\",\"2019-09-10T00:00:00\",\"2019-09-11T00:00:00\",\"2019-09-12T00:00:00\",\"2019-09-13T00:00:00\",\"2019-09-16T00:00:00\",\"2019-09-17T00:00:00\",\"2019-09-18T00:00:00\",\"2019-09-19T00:00:00\",\"2019-09-20T00:00:00\",\"2019-09-23T00:00:00\",\"2019-09-24T00:00:00\",\"2019-09-25T00:00:00\",\"2019-09-26T00:00:00\",\"2019-09-27T00:00:00\",\"2019-09-30T00:00:00\",\"2019-10-01T00:00:00\",\"2019-10-02T00:00:00\",\"2019-10-03T00:00:00\",\"2019-10-04T00:00:00\",\"2019-10-07T00:00:00\",\"2019-10-08T00:00:00\",\"2019-10-09T00:00:00\",\"2019-10-10T00:00:00\",\"2019-10-11T00:00:00\",\"2019-10-14T00:00:00\",\"2019-10-15T00:00:00\",\"2019-10-16T00:00:00\",\"2019-10-17T00:00:00\",\"2019-10-18T00:00:00\",\"2019-10-21T00:00:00\",\"2019-10-22T00:00:00\",\"2019-10-23T00:00:00\",\"2019-10-24T00:00:00\",\"2019-10-25T00:00:00\",\"2019-10-28T00:00:00\",\"2019-10-29T00:00:00\",\"2019-10-30T00:00:00\",\"2019-10-31T00:00:00\",\"2019-11-01T00:00:00\",\"2019-11-04T00:00:00\",\"2019-11-05T00:00:00\",\"2019-11-06T00:00:00\",\"2019-11-07T00:00:00\",\"2019-11-08T00:00:00\",\"2019-11-11T00:00:00\",\"2019-11-12T00:00:00\",\"2019-11-13T00:00:00\",\"2019-11-14T00:00:00\",\"2019-11-15T00:00:00\",\"2019-11-18T00:00:00\",\"2019-11-19T00:00:00\",\"2019-11-20T00:00:00\",\"2019-11-21T00:00:00\",\"2019-11-22T00:00:00\",\"2019-11-25T00:00:00\",\"2019-11-26T00:00:00\",\"2019-11-27T00:00:00\",\"2019-11-28T00:00:00\",\"2019-11-29T00:00:00\",\"2019-12-02T00:00:00\",\"2019-12-03T00:00:00\",\"2019-12-04T00:00:00\",\"2019-12-05T00:00:00\",\"2019-12-06T00:00:00\",\"2019-12-09T00:00:00\",\"2019-12-10T00:00:00\",\"2019-12-11T00:00:00\",\"2019-12-12T00:00:00\",\"2019-12-13T00:00:00\",\"2019-12-16T00:00:00\",\"2019-12-17T00:00:00\",\"2019-12-18T00:00:00\",\"2019-12-19T00:00:00\",\"2019-12-20T00:00:00\",\"2019-12-23T00:00:00\",\"2019-12-24T00:00:00\",\"2019-12-27T00:00:00\",\"2019-12-30T00:00:00\",\"2019-12-31T00:00:00\",\"2020-01-02T00:00:00\",\"2020-01-03T00:00:00\",\"2020-01-06T00:00:00\",\"2020-01-07T00:00:00\",\"2020-01-08T00:00:00\",\"2020-01-09T00:00:00\",\"2020-01-10T00:00:00\",\"2020-01-13T00:00:00\",\"2020-01-14T00:00:00\",\"2020-01-15T00:00:00\",\"2020-01-16T00:00:00\",\"2020-01-17T00:00:00\",\"2020-01-20T00:00:00\",\"2020-01-21T00:00:00\",\"2020-01-22T00:00:00\",\"2020-01-23T00:00:00\",\"2020-01-24T00:00:00\",\"2020-01-27T00:00:00\",\"2020-01-28T00:00:00\",\"2020-01-29T00:00:00\",\"2020-01-30T00:00:00\",\"2020-01-31T00:00:00\",\"2020-02-03T00:00:00\",\"2020-02-04T00:00:00\",\"2020-02-05T00:00:00\",\"2020-02-06T00:00:00\",\"2020-02-07T00:00:00\",\"2020-02-10T00:00:00\",\"2020-02-11T00:00:00\",\"2020-02-12T00:00:00\",\"2020-02-13T00:00:00\",\"2020-02-14T00:00:00\"],\"xaxis\":\"x\",\"y\":[149.0,150.55,150.0,149.45,151.0,152.95,151.9,150.7,151.2,150.0,151.4,153.15,154.0,153.85,154.0,156.05,155.55,155.2,154.95,155.35,157.5,158.8,157.9,157.05,157.9,160.1,157.5,158.6,159.9,159.35,160.0,160.0,158.5,160.8,160.4,160.0,160.2,160.4,159.85,160.0,160.15,158.8,158.95,156.1,156.35,154.7,155.5,156.75,156.35,155.75,156.45,155.35,154.35,155.2,155.0,154.9,157.05,154.4,153.6,152.95,154.4,155.5,158.9,160.55,158.8,160.8,161.9,161.75,162.8,163.05,162.5,160.75,161.8,157.8,159.0,156.3,159.0,157.4,160.2,159.4,159.2,159.1,158.95,157.85,160.1,162.95,162.35,163.75,162.8,163.5,163.0,162.25,161.4,162.05,162.85,161.4,165.0,163.55,161.5,161.65,162.45,158.25,157.25,157.3,157.3,157.05,157.05,157.0,157.25,157.6,160.3,158.4,157.4,158.75,158.35,157.6,159.05,162.25,156.05,153.5,152.35,154.4,156.65,156.05,156.7,155.8,154.55,156.85,159.1,158.1,158.3,165.95,163.15,162.45,164.25,166.0,166.65,171.8,173.7,177.2,177.25,176.55,174.6,174.75,168.65,168.15,169.25,168.6,164.45,162.3,166.4,165.7,164.8,164.4,164.25,165.6,162.0,162.85,162.45,163.4,163.15,162.45,169.35,172.0,174.0,171.9,172.35,170.4,170.25,168.65,167.7,166.6,159.65,161.0,159.1,156.95,157.5,159.75,159.3,159.1,160.2,163.65,165.5,164.2,163.45,163.0,165.45,164.75,167.4,169.2,168.05,169.65,169.65,170.05,171.0,170.45,168.0,167.25,166.5,165.3,165.95,167.0,166.2,166.7,162.2,162.65,161.5,161.25,163.2,162.7,162.5,162.6,161.5,161.0,161.15,160.3,160.1,159.0,160.35,161.2,162.55,162.0,161.3,159.4,160.35,161.2,161.2,160.55,159.45,159.7,158.9,162.8,165.7,167.25,167.5,170.6,169.15,168.6,167.4,165.8,164.2,158.6,158.0,158.45,156.55,156.5,157.0,159.3,158.3,161.4,161.3,160.8,160.0,160.65,166.75,165.95],\"yaxis\":\"y\",\"type\":\"scatter\"}],                        {\"template\":{\"data\":{\"histogram2dcontour\":[{\"type\":\"histogram2dcontour\",\"colorbar\":{\"outlinewidth\":0,\"ticks\":\"\"},\"colorscale\":[[0.0,\"#0d0887\"],[0.1111111111111111,\"#46039f\"],[0.2222222222222222,\"#7201a8\"],[0.3333333333333333,\"#9c179e\"],[0.4444444444444444,\"#bd3786\"],[0.5555555555555556,\"#d8576b\"],[0.6666666666666666,\"#ed7953\"],[0.7777777777777778,\"#fb9f3a\"],[0.8888888888888888,\"#fdca26\"],[1.0,\"#f0f921\"]]}],\"choropleth\":[{\"type\":\"choropleth\",\"colorbar\":{\"outlinewidth\":0,\"ticks\":\"\"}}],\"histogram2d\":[{\"type\":\"histogram2d\",\"colorbar\":{\"outlinewidth\":0,\"ticks\":\"\"},\"colorscale\":[[0.0,\"#0d0887\"],[0.1111111111111111,\"#46039f\"],[0.2222222222222222,\"#7201a8\"],[0.3333333333333333,\"#9c179e\"],[0.4444444444444444,\"#bd3786\"],[0.5555555555555556,\"#d8576b\"],[0.6666666666666666,\"#ed7953\"],[0.7777777777777778,\"#fb9f3a\"],[0.8888888888888888,\"#fdca26\"],[1.0,\"#f0f921\"]]}],\"heatmap\":[{\"type\":\"heatmap\",\"colorbar\":{\"outlinewidth\":0,\"ticks\":\"\"},\"colorscale\":[[0.0,\"#0d0887\"],[0.1111111111111111,\"#46039f\"],[0.2222222222222222,\"#7201a8\"],[0.3333333333333333,\"#9c179e\"],[0.4444444444444444,\"#bd3786\"],[0.5555555555555556,\"#d8576b\"],[0.6666666666666666,\"#ed7953\"],[0.7777777777777778,\"#fb9f3a\"],[0.8888888888888888,\"#fdca26\"],[1.0,\"#f0f921\"]]}],\"heatmapgl\":[{\"type\":\"heatmapgl\",\"colorbar\":{\"outlinewidth\":0,\"ticks\":\"\"},\"colorscale\":[[0.0,\"#0d0887\"],[0.1111111111111111,\"#46039f\"],[0.2222222222222222,\"#7201a8\"],[0.3333333333333333,\"#9c179e\"],[0.4444444444444444,\"#bd3786\"],[0.5555555555555556,\"#d8576b\"],[0.6666666666666666,\"#ed7953\"],[0.7777777777777778,\"#fb9f3a\"],[0.8888888888888888,\"#fdca26\"],[1.0,\"#f0f921\"]]}],\"contourcarpet\":[{\"type\":\"contourcarpet\",\"colorbar\":{\"outlinewidth\":0,\"ticks\":\"\"}}],\"contour\":[{\"type\":\"contour\",\"colorbar\":{\"outlinewidth\":0,\"ticks\":\"\"},\"colorscale\":[[0.0,\"#0d0887\"],[0.1111111111111111,\"#46039f\"],[0.2222222222222222,\"#7201a8\"],[0.3333333333333333,\"#9c179e\"],[0.4444444444444444,\"#bd3786\"],[0.5555555555555556,\"#d8576b\"],[0.6666666666666666,\"#ed7953\"],[0.7777777777777778,\"#fb9f3a\"],[0.8888888888888888,\"#fdca26\"],[1.0,\"#f0f921\"]]}],\"surface\":[{\"type\":\"surface\",\"colorbar\":{\"outlinewidth\":0,\"ticks\":\"\"},\"colorscale\":[[0.0,\"#0d0887\"],[0.1111111111111111,\"#46039f\"],[0.2222222222222222,\"#7201a8\"],[0.3333333333333333,\"#9c179e\"],[0.4444444444444444,\"#bd3786\"],[0.5555555555555556,\"#d8576b\"],[0.6666666666666666,\"#ed7953\"],[0.7777777777777778,\"#fb9f3a\"],[0.8888888888888888,\"#fdca26\"],[1.0,\"#f0f921\"]]}],\"mesh3d\":[{\"type\":\"mesh3d\",\"colorbar\":{\"outlinewidth\":0,\"ticks\":\"\"}}],\"scatter\":[{\"fillpattern\":{\"fillmode\":\"overlay\",\"size\":10,\"solidity\":0.2},\"type\":\"scatter\"}],\"parcoords\":[{\"type\":\"parcoords\",\"line\":{\"colorbar\":{\"outlinewidth\":0,\"ticks\":\"\"}}}],\"scatterpolargl\":[{\"type\":\"scatterpolargl\",\"marker\":{\"colorbar\":{\"outlinewidth\":0,\"ticks\":\"\"}}}],\"bar\":[{\"error_x\":{\"color\":\"#2a3f5f\"},\"error_y\":{\"color\":\"#2a3f5f\"},\"marker\":{\"line\":{\"color\":\"#E5ECF6\",\"width\":0.5},\"pattern\":{\"fillmode\":\"overlay\",\"size\":10,\"solidity\":0.2}},\"type\":\"bar\"}],\"scattergeo\":[{\"type\":\"scattergeo\",\"marker\":{\"colorbar\":{\"outlinewidth\":0,\"ticks\":\"\"}}}],\"scatterpolar\":[{\"type\":\"scatterpolar\",\"marker\":{\"colorbar\":{\"outlinewidth\":0,\"ticks\":\"\"}}}],\"histogram\":[{\"marker\":{\"pattern\":{\"fillmode\":\"overlay\",\"size\":10,\"solidity\":0.2}},\"type\":\"histogram\"}],\"scattergl\":[{\"type\":\"scattergl\",\"marker\":{\"colorbar\":{\"outlinewidth\":0,\"ticks\":\"\"}}}],\"scatter3d\":[{\"type\":\"scatter3d\",\"line\":{\"colorbar\":{\"outlinewidth\":0,\"ticks\":\"\"}},\"marker\":{\"colorbar\":{\"outlinewidth\":0,\"ticks\":\"\"}}}],\"scattermapbox\":[{\"type\":\"scattermapbox\",\"marker\":{\"colorbar\":{\"outlinewidth\":0,\"ticks\":\"\"}}}],\"scatterternary\":[{\"type\":\"scatterternary\",\"marker\":{\"colorbar\":{\"outlinewidth\":0,\"ticks\":\"\"}}}],\"scattercarpet\":[{\"type\":\"scattercarpet\",\"marker\":{\"colorbar\":{\"outlinewidth\":0,\"ticks\":\"\"}}}],\"carpet\":[{\"aaxis\":{\"endlinecolor\":\"#2a3f5f\",\"gridcolor\":\"white\",\"linecolor\":\"white\",\"minorgridcolor\":\"white\",\"startlinecolor\":\"#2a3f5f\"},\"baxis\":{\"endlinecolor\":\"#2a3f5f\",\"gridcolor\":\"white\",\"linecolor\":\"white\",\"minorgridcolor\":\"white\",\"startlinecolor\":\"#2a3f5f\"},\"type\":\"carpet\"}],\"table\":[{\"cells\":{\"fill\":{\"color\":\"#EBF0F8\"},\"line\":{\"color\":\"white\"}},\"header\":{\"fill\":{\"color\":\"#C8D4E3\"},\"line\":{\"color\":\"white\"}},\"type\":\"table\"}],\"barpolar\":[{\"marker\":{\"line\":{\"color\":\"#E5ECF6\",\"width\":0.5},\"pattern\":{\"fillmode\":\"overlay\",\"size\":10,\"solidity\":0.2}},\"type\":\"barpolar\"}],\"pie\":[{\"automargin\":true,\"type\":\"pie\"}]},\"layout\":{\"autotypenumbers\":\"strict\",\"colorway\":[\"#636efa\",\"#EF553B\",\"#00cc96\",\"#ab63fa\",\"#FFA15A\",\"#19d3f3\",\"#FF6692\",\"#B6E880\",\"#FF97FF\",\"#FECB52\"],\"font\":{\"color\":\"#2a3f5f\"},\"hovermode\":\"closest\",\"hoverlabel\":{\"align\":\"left\"},\"paper_bgcolor\":\"white\",\"plot_bgcolor\":\"#E5ECF6\",\"polar\":{\"bgcolor\":\"#E5ECF6\",\"angularaxis\":{\"gridcolor\":\"white\",\"linecolor\":\"white\",\"ticks\":\"\"},\"radialaxis\":{\"gridcolor\":\"white\",\"linecolor\":\"white\",\"ticks\":\"\"}},\"ternary\":{\"bgcolor\":\"#E5ECF6\",\"aaxis\":{\"gridcolor\":\"white\",\"linecolor\":\"white\",\"ticks\":\"\"},\"baxis\":{\"gridcolor\":\"white\",\"linecolor\":\"white\",\"ticks\":\"\"},\"caxis\":{\"gridcolor\":\"white\",\"linecolor\":\"white\",\"ticks\":\"\"}},\"coloraxis\":{\"colorbar\":{\"outlinewidth\":0,\"ticks\":\"\"}},\"colorscale\":{\"sequential\":[[0.0,\"#0d0887\"],[0.1111111111111111,\"#46039f\"],[0.2222222222222222,\"#7201a8\"],[0.3333333333333333,\"#9c179e\"],[0.4444444444444444,\"#bd3786\"],[0.5555555555555556,\"#d8576b\"],[0.6666666666666666,\"#ed7953\"],[0.7777777777777778,\"#fb9f3a\"],[0.8888888888888888,\"#fdca26\"],[1.0,\"#f0f921\"]],\"sequentialminus\":[[0.0,\"#0d0887\"],[0.1111111111111111,\"#46039f\"],[0.2222222222222222,\"#7201a8\"],[0.3333333333333333,\"#9c179e\"],[0.4444444444444444,\"#bd3786\"],[0.5555555555555556,\"#d8576b\"],[0.6666666666666666,\"#ed7953\"],[0.7777777777777778,\"#fb9f3a\"],[0.8888888888888888,\"#fdca26\"],[1.0,\"#f0f921\"]],\"diverging\":[[0,\"#8e0152\"],[0.1,\"#c51b7d\"],[0.2,\"#de77ae\"],[0.3,\"#f1b6da\"],[0.4,\"#fde0ef\"],[0.5,\"#f7f7f7\"],[0.6,\"#e6f5d0\"],[0.7,\"#b8e186\"],[0.8,\"#7fbc41\"],[0.9,\"#4d9221\"],[1,\"#276419\"]]},\"xaxis\":{\"gridcolor\":\"white\",\"linecolor\":\"white\",\"ticks\":\"\",\"title\":{\"standoff\":15},\"zerolinecolor\":\"white\",\"automargin\":true,\"zerolinewidth\":2},\"yaxis\":{\"gridcolor\":\"white\",\"linecolor\":\"white\",\"ticks\":\"\",\"title\":{\"standoff\":15},\"zerolinecolor\":\"white\",\"automargin\":true,\"zerolinewidth\":2},\"scene\":{\"xaxis\":{\"backgroundcolor\":\"#E5ECF6\",\"gridcolor\":\"white\",\"linecolor\":\"white\",\"showbackground\":true,\"ticks\":\"\",\"zerolinecolor\":\"white\",\"gridwidth\":2},\"yaxis\":{\"backgroundcolor\":\"#E5ECF6\",\"gridcolor\":\"white\",\"linecolor\":\"white\",\"showbackground\":true,\"ticks\":\"\",\"zerolinecolor\":\"white\",\"gridwidth\":2},\"zaxis\":{\"backgroundcolor\":\"#E5ECF6\",\"gridcolor\":\"white\",\"linecolor\":\"white\",\"showbackground\":true,\"ticks\":\"\",\"zerolinecolor\":\"white\",\"gridwidth\":2}},\"shapedefaults\":{\"line\":{\"color\":\"#2a3f5f\"}},\"annotationdefaults\":{\"arrowcolor\":\"#2a3f5f\",\"arrowhead\":0,\"arrowwidth\":1},\"geo\":{\"bgcolor\":\"white\",\"landcolor\":\"#E5ECF6\",\"subunitcolor\":\"white\",\"showland\":true,\"showlakes\":true,\"lakecolor\":\"white\"},\"title\":{\"x\":0.05},\"mapbox\":{\"style\":\"light\"}}},\"xaxis\":{\"anchor\":\"y\",\"domain\":[0.0,1.0],\"title\":{\"text\":\"Date\"}},\"yaxis\":{\"anchor\":\"x\",\"domain\":[0.0,1.0],\"title\":{\"text\":\"PERNOD RICARD SA\"}},\"legend\":{\"tracegroupgap\":0},\"title\":{\"text\":\"Closing Price Time Series\"}},                        {\"responsive\": true}                    ).then(function(){\n",
       "                            \n",
       "var gd = document.getElementById('6b3f5688-6035-4e51-9199-9748ed269731');\n",
       "var x = new MutationObserver(function (mutations, observer) {{\n",
       "        var display = window.getComputedStyle(gd).display;\n",
       "        if (!display || display === 'none') {{\n",
       "            console.log([gd, 'removed!']);\n",
       "            Plotly.purge(gd);\n",
       "            observer.disconnect();\n",
       "        }}\n",
       "}});\n",
       "\n",
       "// Listen for the removal of the full notebook cells\n",
       "var notebookContainer = gd.closest('#notebook-container');\n",
       "if (notebookContainer) {{\n",
       "    x.observe(notebookContainer, {childList: true});\n",
       "}}\n",
       "\n",
       "// Listen for the clearing of the current output cell\n",
       "var outputEl = gd.closest('.output');\n",
       "if (outputEl) {{\n",
       "    x.observe(outputEl, {childList: true});\n",
       "}}\n",
       "\n",
       "                        })                };                });            </script>        </div>"
      ]
     },
     "metadata": {},
     "output_type": "display_data"
    }
   ],
   "source": [
    "#Closing Price Time Series for Pernod Ricard SA\n",
    "fig3 = px.line(df3, x=df3.index, y=\"PERNOD RICARD SA\", title = \"Closing Price Time Series\")\n",
    "fig3.show()"
   ]
  },
  {
   "cell_type": "markdown",
   "metadata": {},
   "source": [
    "### The project asks to hedge PERNOD RICARD SA's long position, Initially I tried to find negatively correlated stocks to Pernod's to buid a portfolio considering the enitre timeline given in the data source(i.e. 1 year) using both price and simple daily returns(also log return) chart.\n",
    "### Problem arises when when both the correlation charts suggests different results. \n",
    "### In such cases, most research articles conclude with saying there is no perfect rule to determine which correlation chart could be more useful even though generally returns chart has an upper hand just because of its stationarity property.\n",
    "### It can be seen from the above graph that PERNOD RICARD SA closing prices starts to follow downward trend with some seasonality (which was not evident before, hence more intuitive to predict ahead) from date 3rd September 2019 onwards, therefore I considered 116 days of data from 3rd sept 2019 to build correlation charts using closing prices and simple daily returns."
   ]
  },
  {
   "cell_type": "markdown",
   "metadata": {},
   "source": [
    "## DATAFRAME below will be used for further calculations"
   ]
  },
  {
   "cell_type": "code",
   "execution_count": 498,
   "metadata": {},
   "outputs": [
    {
     "data": {
      "text/html": [
       "<div>\n",
       "<style scoped>\n",
       "    .dataframe tbody tr th:only-of-type {\n",
       "        vertical-align: middle;\n",
       "    }\n",
       "\n",
       "    .dataframe tbody tr th {\n",
       "        vertical-align: top;\n",
       "    }\n",
       "\n",
       "    .dataframe thead th {\n",
       "        text-align: right;\n",
       "    }\n",
       "</style>\n",
       "<table border=\"1\" class=\"dataframe\">\n",
       "  <thead>\n",
       "    <tr style=\"text-align: right;\">\n",
       "      <th></th>\n",
       "      <th>PERNOD RICARD SA</th>\n",
       "      <th>L'OREAL</th>\n",
       "      <th>VINCI SA</th>\n",
       "      <th>BANCO BILBAO VIZCAYA ARGENTA</th>\n",
       "      <th>BANCO SANTANDER SA</th>\n",
       "      <th>ASML HOLDING NV</th>\n",
       "      <th>KONINKLIJKE PHILIPS NV</th>\n",
       "      <th>TELEFONICA SA</th>\n",
       "      <th>TOTAL SE</th>\n",
       "      <th>AIR LIQUIDE SA</th>\n",
       "      <th>...</th>\n",
       "      <th>SIEMENS AG-REG</th>\n",
       "      <th>VOLKSWAGEN AG-PREF</th>\n",
       "      <th>MUENCHENER RUECKVER AG-REG</th>\n",
       "      <th>FRESENIUS SE &amp; CO KGAA</th>\n",
       "      <th>SAP SE</th>\n",
       "      <th>ADIDAS AG</th>\n",
       "      <th>DEUTSCHE TELEKOM AG-REG</th>\n",
       "      <th>DEUTSCHE POST AG-REG</th>\n",
       "      <th>MERCEDES-BENZ GROUP AG</th>\n",
       "      <th>DEUTSCHE BOERSE AG</th>\n",
       "    </tr>\n",
       "    <tr>\n",
       "      <th>Date</th>\n",
       "      <th></th>\n",
       "      <th></th>\n",
       "      <th></th>\n",
       "      <th></th>\n",
       "      <th></th>\n",
       "      <th></th>\n",
       "      <th></th>\n",
       "      <th></th>\n",
       "      <th></th>\n",
       "      <th></th>\n",
       "      <th></th>\n",
       "      <th></th>\n",
       "      <th></th>\n",
       "      <th></th>\n",
       "      <th></th>\n",
       "      <th></th>\n",
       "      <th></th>\n",
       "      <th></th>\n",
       "      <th></th>\n",
       "      <th></th>\n",
       "      <th></th>\n",
       "    </tr>\n",
       "  </thead>\n",
       "  <tbody>\n",
       "    <tr>\n",
       "      <th>2019-09-03</th>\n",
       "      <td>177.25</td>\n",
       "      <td>252.9</td>\n",
       "      <td>99.98</td>\n",
       "      <td>4.286</td>\n",
       "      <td>3.3985</td>\n",
       "      <td>201.25</td>\n",
       "      <td>42.900</td>\n",
       "      <td>6.372</td>\n",
       "      <td>44.775</td>\n",
       "      <td>113.954545</td>\n",
       "      <td>...</td>\n",
       "      <td>89.87</td>\n",
       "      <td>146.28</td>\n",
       "      <td>219.7</td>\n",
       "      <td>44.410</td>\n",
       "      <td>108.30</td>\n",
       "      <td>270.40</td>\n",
       "      <td>15.192</td>\n",
       "      <td>29.670</td>\n",
       "      <td>43.025</td>\n",
       "      <td>137.20</td>\n",
       "    </tr>\n",
       "    <tr>\n",
       "      <th>2019-09-04</th>\n",
       "      <td>176.55</td>\n",
       "      <td>254.8</td>\n",
       "      <td>100.70</td>\n",
       "      <td>4.313</td>\n",
       "      <td>3.4070</td>\n",
       "      <td>204.70</td>\n",
       "      <td>42.985</td>\n",
       "      <td>6.437</td>\n",
       "      <td>45.405</td>\n",
       "      <td>114.454545</td>\n",
       "      <td>...</td>\n",
       "      <td>91.20</td>\n",
       "      <td>147.96</td>\n",
       "      <td>221.7</td>\n",
       "      <td>44.665</td>\n",
       "      <td>109.22</td>\n",
       "      <td>273.05</td>\n",
       "      <td>15.196</td>\n",
       "      <td>29.945</td>\n",
       "      <td>43.970</td>\n",
       "      <td>137.95</td>\n",
       "    </tr>\n",
       "    <tr>\n",
       "      <th>2019-09-05</th>\n",
       "      <td>174.60</td>\n",
       "      <td>250.7</td>\n",
       "      <td>100.90</td>\n",
       "      <td>4.496</td>\n",
       "      <td>3.5270</td>\n",
       "      <td>215.10</td>\n",
       "      <td>42.965</td>\n",
       "      <td>6.507</td>\n",
       "      <td>46.225</td>\n",
       "      <td>113.000000</td>\n",
       "      <td>...</td>\n",
       "      <td>91.55</td>\n",
       "      <td>150.84</td>\n",
       "      <td>222.2</td>\n",
       "      <td>44.620</td>\n",
       "      <td>111.48</td>\n",
       "      <td>274.80</td>\n",
       "      <td>15.080</td>\n",
       "      <td>30.385</td>\n",
       "      <td>45.350</td>\n",
       "      <td>136.25</td>\n",
       "    </tr>\n",
       "    <tr>\n",
       "      <th>2019-09-06</th>\n",
       "      <td>174.75</td>\n",
       "      <td>251.2</td>\n",
       "      <td>99.86</td>\n",
       "      <td>4.490</td>\n",
       "      <td>3.5310</td>\n",
       "      <td>217.30</td>\n",
       "      <td>43.055</td>\n",
       "      <td>6.582</td>\n",
       "      <td>45.780</td>\n",
       "      <td>113.909091</td>\n",
       "      <td>...</td>\n",
       "      <td>92.55</td>\n",
       "      <td>150.40</td>\n",
       "      <td>223.2</td>\n",
       "      <td>44.650</td>\n",
       "      <td>111.30</td>\n",
       "      <td>278.90</td>\n",
       "      <td>15.092</td>\n",
       "      <td>30.485</td>\n",
       "      <td>45.405</td>\n",
       "      <td>137.40</td>\n",
       "    </tr>\n",
       "    <tr>\n",
       "      <th>2019-09-09</th>\n",
       "      <td>168.65</td>\n",
       "      <td>249.3</td>\n",
       "      <td>97.88</td>\n",
       "      <td>4.602</td>\n",
       "      <td>3.6165</td>\n",
       "      <td>219.15</td>\n",
       "      <td>42.140</td>\n",
       "      <td>6.660</td>\n",
       "      <td>46.325</td>\n",
       "      <td>112.318182</td>\n",
       "      <td>...</td>\n",
       "      <td>94.19</td>\n",
       "      <td>154.08</td>\n",
       "      <td>226.8</td>\n",
       "      <td>44.200</td>\n",
       "      <td>110.20</td>\n",
       "      <td>277.05</td>\n",
       "      <td>15.034</td>\n",
       "      <td>30.465</td>\n",
       "      <td>46.450</td>\n",
       "      <td>136.10</td>\n",
       "    </tr>\n",
       "  </tbody>\n",
       "</table>\n",
       "<p>5 rows × 51 columns</p>\n",
       "</div>"
      ],
      "text/plain": [
       "            PERNOD RICARD SA  L'OREAL  VINCI SA  BANCO BILBAO VIZCAYA ARGENTA  \\\n",
       "Date                                                                            \n",
       "2019-09-03            177.25    252.9     99.98                         4.286   \n",
       "2019-09-04            176.55    254.8    100.70                         4.313   \n",
       "2019-09-05            174.60    250.7    100.90                         4.496   \n",
       "2019-09-06            174.75    251.2     99.86                         4.490   \n",
       "2019-09-09            168.65    249.3     97.88                         4.602   \n",
       "\n",
       "            BANCO SANTANDER SA  ASML HOLDING NV  KONINKLIJKE PHILIPS NV  \\\n",
       "Date                                                                      \n",
       "2019-09-03              3.3985           201.25                  42.900   \n",
       "2019-09-04              3.4070           204.70                  42.985   \n",
       "2019-09-05              3.5270           215.10                  42.965   \n",
       "2019-09-06              3.5310           217.30                  43.055   \n",
       "2019-09-09              3.6165           219.15                  42.140   \n",
       "\n",
       "            TELEFONICA SA  TOTAL SE  AIR LIQUIDE SA  ...  SIEMENS AG-REG  \\\n",
       "Date                                                 ...                   \n",
       "2019-09-03          6.372    44.775      113.954545  ...           89.87   \n",
       "2019-09-04          6.437    45.405      114.454545  ...           91.20   \n",
       "2019-09-05          6.507    46.225      113.000000  ...           91.55   \n",
       "2019-09-06          6.582    45.780      113.909091  ...           92.55   \n",
       "2019-09-09          6.660    46.325      112.318182  ...           94.19   \n",
       "\n",
       "            VOLKSWAGEN AG-PREF  MUENCHENER RUECKVER AG-REG  \\\n",
       "Date                                                         \n",
       "2019-09-03              146.28                       219.7   \n",
       "2019-09-04              147.96                       221.7   \n",
       "2019-09-05              150.84                       222.2   \n",
       "2019-09-06              150.40                       223.2   \n",
       "2019-09-09              154.08                       226.8   \n",
       "\n",
       "            FRESENIUS SE & CO KGAA  SAP SE  ADIDAS AG  \\\n",
       "Date                                                    \n",
       "2019-09-03                  44.410  108.30     270.40   \n",
       "2019-09-04                  44.665  109.22     273.05   \n",
       "2019-09-05                  44.620  111.48     274.80   \n",
       "2019-09-06                  44.650  111.30     278.90   \n",
       "2019-09-09                  44.200  110.20     277.05   \n",
       "\n",
       "            DEUTSCHE TELEKOM AG-REG  DEUTSCHE POST AG-REG  \\\n",
       "Date                                                        \n",
       "2019-09-03                   15.192                29.670   \n",
       "2019-09-04                   15.196                29.945   \n",
       "2019-09-05                   15.080                30.385   \n",
       "2019-09-06                   15.092                30.485   \n",
       "2019-09-09                   15.034                30.465   \n",
       "\n",
       "            MERCEDES-BENZ GROUP AG  DEUTSCHE BOERSE AG  \n",
       "Date                                                    \n",
       "2019-09-03                  43.025              137.20  \n",
       "2019-09-04                  43.970              137.95  \n",
       "2019-09-05                  45.350              136.25  \n",
       "2019-09-06                  45.405              137.40  \n",
       "2019-09-09                  46.450              136.10  \n",
       "\n",
       "[5 rows x 51 columns]"
      ]
     },
     "execution_count": 498,
     "metadata": {},
     "output_type": "execute_result"
    }
   ],
   "source": [
    "#Dataframe using last 116 days of Closing Price\n",
    "df4 = df3.tail(116)\n",
    "df4.head()"
   ]
  },
  {
   "cell_type": "markdown",
   "metadata": {},
   "source": [
    "### Finding Simple Daily Returns"
   ]
  },
  {
   "cell_type": "code",
   "execution_count": 499,
   "metadata": {},
   "outputs": [
    {
     "data": {
      "text/html": [
       "<div>\n",
       "<style scoped>\n",
       "    .dataframe tbody tr th:only-of-type {\n",
       "        vertical-align: middle;\n",
       "    }\n",
       "\n",
       "    .dataframe tbody tr th {\n",
       "        vertical-align: top;\n",
       "    }\n",
       "\n",
       "    .dataframe thead th {\n",
       "        text-align: right;\n",
       "    }\n",
       "</style>\n",
       "<table border=\"1\" class=\"dataframe\">\n",
       "  <thead>\n",
       "    <tr style=\"text-align: right;\">\n",
       "      <th></th>\n",
       "      <th>PERNOD RICARD SA</th>\n",
       "      <th>L'OREAL</th>\n",
       "      <th>VINCI SA</th>\n",
       "      <th>BANCO BILBAO VIZCAYA ARGENTA</th>\n",
       "      <th>BANCO SANTANDER SA</th>\n",
       "      <th>ASML HOLDING NV</th>\n",
       "      <th>KONINKLIJKE PHILIPS NV</th>\n",
       "      <th>TELEFONICA SA</th>\n",
       "      <th>TOTAL SE</th>\n",
       "      <th>AIR LIQUIDE SA</th>\n",
       "      <th>...</th>\n",
       "      <th>SIEMENS AG-REG</th>\n",
       "      <th>VOLKSWAGEN AG-PREF</th>\n",
       "      <th>MUENCHENER RUECKVER AG-REG</th>\n",
       "      <th>FRESENIUS SE &amp; CO KGAA</th>\n",
       "      <th>SAP SE</th>\n",
       "      <th>ADIDAS AG</th>\n",
       "      <th>DEUTSCHE TELEKOM AG-REG</th>\n",
       "      <th>DEUTSCHE POST AG-REG</th>\n",
       "      <th>MERCEDES-BENZ GROUP AG</th>\n",
       "      <th>DEUTSCHE BOERSE AG</th>\n",
       "    </tr>\n",
       "    <tr>\n",
       "      <th>Date</th>\n",
       "      <th></th>\n",
       "      <th></th>\n",
       "      <th></th>\n",
       "      <th></th>\n",
       "      <th></th>\n",
       "      <th></th>\n",
       "      <th></th>\n",
       "      <th></th>\n",
       "      <th></th>\n",
       "      <th></th>\n",
       "      <th></th>\n",
       "      <th></th>\n",
       "      <th></th>\n",
       "      <th></th>\n",
       "      <th></th>\n",
       "      <th></th>\n",
       "      <th></th>\n",
       "      <th></th>\n",
       "      <th></th>\n",
       "      <th></th>\n",
       "      <th></th>\n",
       "    </tr>\n",
       "  </thead>\n",
       "  <tbody>\n",
       "    <tr>\n",
       "      <th>2019-09-04</th>\n",
       "      <td>-0.003949</td>\n",
       "      <td>0.007513</td>\n",
       "      <td>0.007201</td>\n",
       "      <td>0.006300</td>\n",
       "      <td>0.002501</td>\n",
       "      <td>0.017143</td>\n",
       "      <td>0.001981</td>\n",
       "      <td>0.010201</td>\n",
       "      <td>0.014070</td>\n",
       "      <td>0.004388</td>\n",
       "      <td>...</td>\n",
       "      <td>0.014799</td>\n",
       "      <td>0.011485</td>\n",
       "      <td>0.009103</td>\n",
       "      <td>0.005742</td>\n",
       "      <td>0.008495</td>\n",
       "      <td>0.009800</td>\n",
       "      <td>0.000263</td>\n",
       "      <td>0.009269</td>\n",
       "      <td>0.021964</td>\n",
       "      <td>0.005466</td>\n",
       "    </tr>\n",
       "    <tr>\n",
       "      <th>2019-09-05</th>\n",
       "      <td>-0.011045</td>\n",
       "      <td>-0.016091</td>\n",
       "      <td>0.001986</td>\n",
       "      <td>0.042430</td>\n",
       "      <td>0.035222</td>\n",
       "      <td>0.050806</td>\n",
       "      <td>-0.000465</td>\n",
       "      <td>0.010875</td>\n",
       "      <td>0.018060</td>\n",
       "      <td>-0.012708</td>\n",
       "      <td>...</td>\n",
       "      <td>0.003838</td>\n",
       "      <td>0.019465</td>\n",
       "      <td>0.002255</td>\n",
       "      <td>-0.001008</td>\n",
       "      <td>0.020692</td>\n",
       "      <td>0.006409</td>\n",
       "      <td>-0.007634</td>\n",
       "      <td>0.014694</td>\n",
       "      <td>0.031385</td>\n",
       "      <td>-0.012323</td>\n",
       "    </tr>\n",
       "    <tr>\n",
       "      <th>2019-09-06</th>\n",
       "      <td>0.000859</td>\n",
       "      <td>0.001994</td>\n",
       "      <td>-0.010307</td>\n",
       "      <td>-0.001335</td>\n",
       "      <td>0.001134</td>\n",
       "      <td>0.010228</td>\n",
       "      <td>0.002095</td>\n",
       "      <td>0.011526</td>\n",
       "      <td>-0.009627</td>\n",
       "      <td>0.008045</td>\n",
       "      <td>...</td>\n",
       "      <td>0.010923</td>\n",
       "      <td>-0.002917</td>\n",
       "      <td>0.004500</td>\n",
       "      <td>0.000672</td>\n",
       "      <td>-0.001615</td>\n",
       "      <td>0.014920</td>\n",
       "      <td>0.000796</td>\n",
       "      <td>0.003291</td>\n",
       "      <td>0.001213</td>\n",
       "      <td>0.008440</td>\n",
       "    </tr>\n",
       "    <tr>\n",
       "      <th>2019-09-09</th>\n",
       "      <td>-0.034907</td>\n",
       "      <td>-0.007564</td>\n",
       "      <td>-0.019828</td>\n",
       "      <td>0.024944</td>\n",
       "      <td>0.024214</td>\n",
       "      <td>0.008514</td>\n",
       "      <td>-0.021252</td>\n",
       "      <td>0.011851</td>\n",
       "      <td>0.011905</td>\n",
       "      <td>-0.013966</td>\n",
       "      <td>...</td>\n",
       "      <td>0.017720</td>\n",
       "      <td>0.024468</td>\n",
       "      <td>0.016129</td>\n",
       "      <td>-0.010078</td>\n",
       "      <td>-0.009883</td>\n",
       "      <td>-0.006633</td>\n",
       "      <td>-0.003843</td>\n",
       "      <td>-0.000656</td>\n",
       "      <td>0.023015</td>\n",
       "      <td>-0.009461</td>\n",
       "    </tr>\n",
       "    <tr>\n",
       "      <th>2019-09-10</th>\n",
       "      <td>-0.002965</td>\n",
       "      <td>-0.004813</td>\n",
       "      <td>-0.002043</td>\n",
       "      <td>0.020426</td>\n",
       "      <td>0.028757</td>\n",
       "      <td>-0.009582</td>\n",
       "      <td>-0.003322</td>\n",
       "      <td>0.003904</td>\n",
       "      <td>0.022666</td>\n",
       "      <td>0.008499</td>\n",
       "      <td>...</td>\n",
       "      <td>0.019216</td>\n",
       "      <td>0.003505</td>\n",
       "      <td>0.004850</td>\n",
       "      <td>0.017081</td>\n",
       "      <td>-0.013249</td>\n",
       "      <td>-0.025988</td>\n",
       "      <td>0.001197</td>\n",
       "      <td>0.010340</td>\n",
       "      <td>0.008611</td>\n",
       "      <td>-0.004409</td>\n",
       "    </tr>\n",
       "  </tbody>\n",
       "</table>\n",
       "<p>5 rows × 51 columns</p>\n",
       "</div>"
      ],
      "text/plain": [
       "            PERNOD RICARD SA   L'OREAL  VINCI SA  \\\n",
       "Date                                               \n",
       "2019-09-04         -0.003949  0.007513  0.007201   \n",
       "2019-09-05         -0.011045 -0.016091  0.001986   \n",
       "2019-09-06          0.000859  0.001994 -0.010307   \n",
       "2019-09-09         -0.034907 -0.007564 -0.019828   \n",
       "2019-09-10         -0.002965 -0.004813 -0.002043   \n",
       "\n",
       "            BANCO BILBAO VIZCAYA ARGENTA  BANCO SANTANDER SA  ASML HOLDING NV  \\\n",
       "Date                                                                            \n",
       "2019-09-04                      0.006300            0.002501         0.017143   \n",
       "2019-09-05                      0.042430            0.035222         0.050806   \n",
       "2019-09-06                     -0.001335            0.001134         0.010228   \n",
       "2019-09-09                      0.024944            0.024214         0.008514   \n",
       "2019-09-10                      0.020426            0.028757        -0.009582   \n",
       "\n",
       "            KONINKLIJKE PHILIPS NV  TELEFONICA SA  TOTAL SE  AIR LIQUIDE SA  \\\n",
       "Date                                                                          \n",
       "2019-09-04                0.001981       0.010201  0.014070        0.004388   \n",
       "2019-09-05               -0.000465       0.010875  0.018060       -0.012708   \n",
       "2019-09-06                0.002095       0.011526 -0.009627        0.008045   \n",
       "2019-09-09               -0.021252       0.011851  0.011905       -0.013966   \n",
       "2019-09-10               -0.003322       0.003904  0.022666        0.008499   \n",
       "\n",
       "            ...  SIEMENS AG-REG  VOLKSWAGEN AG-PREF  \\\n",
       "Date        ...                                       \n",
       "2019-09-04  ...        0.014799            0.011485   \n",
       "2019-09-05  ...        0.003838            0.019465   \n",
       "2019-09-06  ...        0.010923           -0.002917   \n",
       "2019-09-09  ...        0.017720            0.024468   \n",
       "2019-09-10  ...        0.019216            0.003505   \n",
       "\n",
       "            MUENCHENER RUECKVER AG-REG  FRESENIUS SE & CO KGAA    SAP SE  \\\n",
       "Date                                                                       \n",
       "2019-09-04                    0.009103                0.005742  0.008495   \n",
       "2019-09-05                    0.002255               -0.001008  0.020692   \n",
       "2019-09-06                    0.004500                0.000672 -0.001615   \n",
       "2019-09-09                    0.016129               -0.010078 -0.009883   \n",
       "2019-09-10                    0.004850                0.017081 -0.013249   \n",
       "\n",
       "            ADIDAS AG  DEUTSCHE TELEKOM AG-REG  DEUTSCHE POST AG-REG  \\\n",
       "Date                                                                   \n",
       "2019-09-04   0.009800                 0.000263              0.009269   \n",
       "2019-09-05   0.006409                -0.007634              0.014694   \n",
       "2019-09-06   0.014920                 0.000796              0.003291   \n",
       "2019-09-09  -0.006633                -0.003843             -0.000656   \n",
       "2019-09-10  -0.025988                 0.001197              0.010340   \n",
       "\n",
       "            MERCEDES-BENZ GROUP AG  DEUTSCHE BOERSE AG  \n",
       "Date                                                    \n",
       "2019-09-04                0.021964            0.005466  \n",
       "2019-09-05                0.031385           -0.012323  \n",
       "2019-09-06                0.001213            0.008440  \n",
       "2019-09-09                0.023015           -0.009461  \n",
       "2019-09-10                0.008611           -0.004409  \n",
       "\n",
       "[5 rows x 51 columns]"
      ]
     },
     "execution_count": 499,
     "metadata": {},
     "output_type": "execute_result"
    }
   ],
   "source": [
    "#Simple Daily Returns\n",
    "Simple_daily_returns = df4.pct_change().dropna()\n",
    "Simple_daily_returns.head()"
   ]
  },
  {
   "cell_type": "code",
   "execution_count": 500,
   "metadata": {},
   "outputs": [
    {
     "data": {
      "application/vnd.plotly.v1+json": {
       "config": {
        "plotlyServerURL": "https://plot.ly"
       },
       "data": [
        {
         "hovertemplate": "Date=%{x}<br>PERNOD RICARD SA=%{y}<extra></extra>",
         "legendgroup": "",
         "line": {
          "color": "#636efa",
          "dash": "solid"
         },
         "marker": {
          "symbol": "circle"
         },
         "mode": "lines",
         "name": "",
         "orientation": "v",
         "showlegend": false,
         "type": "scatter",
         "x": [
          "2019-09-04T00:00:00",
          "2019-09-05T00:00:00",
          "2019-09-06T00:00:00",
          "2019-09-09T00:00:00",
          "2019-09-10T00:00:00",
          "2019-09-11T00:00:00",
          "2019-09-12T00:00:00",
          "2019-09-13T00:00:00",
          "2019-09-16T00:00:00",
          "2019-09-17T00:00:00",
          "2019-09-18T00:00:00",
          "2019-09-19T00:00:00",
          "2019-09-20T00:00:00",
          "2019-09-23T00:00:00",
          "2019-09-24T00:00:00",
          "2019-09-25T00:00:00",
          "2019-09-26T00:00:00",
          "2019-09-27T00:00:00",
          "2019-09-30T00:00:00",
          "2019-10-01T00:00:00",
          "2019-10-02T00:00:00",
          "2019-10-03T00:00:00",
          "2019-10-04T00:00:00",
          "2019-10-07T00:00:00",
          "2019-10-08T00:00:00",
          "2019-10-09T00:00:00",
          "2019-10-10T00:00:00",
          "2019-10-11T00:00:00",
          "2019-10-14T00:00:00",
          "2019-10-15T00:00:00",
          "2019-10-16T00:00:00",
          "2019-10-17T00:00:00",
          "2019-10-18T00:00:00",
          "2019-10-21T00:00:00",
          "2019-10-22T00:00:00",
          "2019-10-23T00:00:00",
          "2019-10-24T00:00:00",
          "2019-10-25T00:00:00",
          "2019-10-28T00:00:00",
          "2019-10-29T00:00:00",
          "2019-10-30T00:00:00",
          "2019-10-31T00:00:00",
          "2019-11-01T00:00:00",
          "2019-11-04T00:00:00",
          "2019-11-05T00:00:00",
          "2019-11-06T00:00:00",
          "2019-11-07T00:00:00",
          "2019-11-08T00:00:00",
          "2019-11-11T00:00:00",
          "2019-11-12T00:00:00",
          "2019-11-13T00:00:00",
          "2019-11-14T00:00:00",
          "2019-11-15T00:00:00",
          "2019-11-18T00:00:00",
          "2019-11-19T00:00:00",
          "2019-11-20T00:00:00",
          "2019-11-21T00:00:00",
          "2019-11-22T00:00:00",
          "2019-11-25T00:00:00",
          "2019-11-26T00:00:00",
          "2019-11-27T00:00:00",
          "2019-11-28T00:00:00",
          "2019-11-29T00:00:00",
          "2019-12-02T00:00:00",
          "2019-12-03T00:00:00",
          "2019-12-04T00:00:00",
          "2019-12-05T00:00:00",
          "2019-12-06T00:00:00",
          "2019-12-09T00:00:00",
          "2019-12-10T00:00:00",
          "2019-12-11T00:00:00",
          "2019-12-12T00:00:00",
          "2019-12-13T00:00:00",
          "2019-12-16T00:00:00",
          "2019-12-17T00:00:00",
          "2019-12-18T00:00:00",
          "2019-12-19T00:00:00",
          "2019-12-20T00:00:00",
          "2019-12-23T00:00:00",
          "2019-12-24T00:00:00",
          "2019-12-27T00:00:00",
          "2019-12-30T00:00:00",
          "2019-12-31T00:00:00",
          "2020-01-02T00:00:00",
          "2020-01-03T00:00:00",
          "2020-01-06T00:00:00",
          "2020-01-07T00:00:00",
          "2020-01-08T00:00:00",
          "2020-01-09T00:00:00",
          "2020-01-10T00:00:00",
          "2020-01-13T00:00:00",
          "2020-01-14T00:00:00",
          "2020-01-15T00:00:00",
          "2020-01-16T00:00:00",
          "2020-01-17T00:00:00",
          "2020-01-20T00:00:00",
          "2020-01-21T00:00:00",
          "2020-01-22T00:00:00",
          "2020-01-23T00:00:00",
          "2020-01-24T00:00:00",
          "2020-01-27T00:00:00",
          "2020-01-28T00:00:00",
          "2020-01-29T00:00:00",
          "2020-01-30T00:00:00",
          "2020-01-31T00:00:00",
          "2020-02-03T00:00:00",
          "2020-02-04T00:00:00",
          "2020-02-05T00:00:00",
          "2020-02-06T00:00:00",
          "2020-02-07T00:00:00",
          "2020-02-10T00:00:00",
          "2020-02-11T00:00:00",
          "2020-02-12T00:00:00",
          "2020-02-13T00:00:00",
          "2020-02-14T00:00:00"
         ],
         "xaxis": "x",
         "y": [
          -0.003949224259520379,
          -0.011045029736618583,
          0.0008591065292096189,
          -0.03490701001430607,
          -0.0029647198339757264,
          0.006541778174249169,
          -0.0038404726735598027,
          -0.02461447212336898,
          -0.01307388263909992,
          0.025261860751694343,
          -0.0042067307692308376,
          -0.005431502715751213,
          -0.0024271844660194164,
          -0.0009124087591241281,
          0.008219178082191636,
          -0.021739130434782594,
          0.00524691358024687,
          -0.002456248081056267,
          0.005847953216374435,
          -0.0015299877600979395,
          -0.0042905301869445855,
          0.04247460757156052,
          0.01564806613522296,
          0.011627906976744207,
          -0.012068965517241348,
          0.002617801047120283,
          -0.011314186248912006,
          -0.0008802816901408717,
          -0.009397944199706298,
          -0.005632967684553902,
          -0.0065593321407274585,
          -0.04171668667466977,
          0.008455997494519307,
          -0.011801242236024856,
          -0.013513513513513598,
          0.003504300732717569,
          0.014285714285714235,
          -0.0028169014084505895,
          -0.0012554927809166339,
          0.00691389063482073,
          0.021535580524344677,
          0.011304613504430128,
          -0.007854984894259842,
          -0.004567600487210721,
          -0.0027531355154480908,
          0.015030674846625791,
          -0.00423088546388628,
          0.016084977238239873,
          0.010752688172043001,
          -0.006796690307328435,
          0.009520975900029649,
          0,
          0.0023577954612437058,
          0.005586592178770777,
          -0.003216374269005895,
          -0.014373716632443467,
          -0.004464285714285698,
          -0.004484304932735439,
          -0.007207207207207134,
          0.003932244404113661,
          0.006327206990057288,
          -0.004790419161676662,
          0.0030084235860408093,
          -0.02699460107978402,
          0.0027743526510481953,
          -0.00707039655702435,
          -0.001547987616099089,
          0.01209302325581385,
          -0.0030637254901960675,
          -0.0012292562999384193,
          0.0006153846153846843,
          -0.006765067650676526,
          -0.003095975232198178,
          0.0009316770186336143,
          -0.00527458889233634,
          -0.0012476606363069909,
          -0.006870705808869393,
          0.008490566037735903,
          0.005300904271905216,
          0.00837468982630285,
          -0.003383574284835489,
          -0.004320987654320874,
          -0.011779293242405453,
          0.005959849435382525,
          0.005300904271905216,
          0,
          -0.004032258064516014,
          -0.0068514481469948985,
          0.0015678896205706394,
          -0.0050093926111457465,
          0.024543738200125897,
          0.01781326781326764,
          0.009354254677127471,
          0.001494768310911887,
          0.01850746268656711,
          -0.008499413833528702,
          -0.0032515518770322993,
          -0.007117437722419906,
          -0.009557945041815952,
          -0.00965018094089276,
          -0.03410475030450666,
          -0.003783102143757877,
          0.0028481012658228,
          -0.011991164405175003,
          -0.0003193867773875203,
          0.0031948881789136685,
          0.014649681528662528,
          -0.006277463904582503,
          0.019583070120025248,
          -0.0006195786864930941,
          -0.0030998140111593298,
          -0.004975124378109541,
          0.00406250000000008,
          0.03797074385309673,
          -0.004797601199400314
         ],
         "yaxis": "y"
        }
       ],
       "layout": {
        "legend": {
         "tracegroupgap": 0
        },
        "template": {
         "data": {
          "bar": [
           {
            "error_x": {
             "color": "#2a3f5f"
            },
            "error_y": {
             "color": "#2a3f5f"
            },
            "marker": {
             "line": {
              "color": "#E5ECF6",
              "width": 0.5
             },
             "pattern": {
              "fillmode": "overlay",
              "size": 10,
              "solidity": 0.2
             }
            },
            "type": "bar"
           }
          ],
          "barpolar": [
           {
            "marker": {
             "line": {
              "color": "#E5ECF6",
              "width": 0.5
             },
             "pattern": {
              "fillmode": "overlay",
              "size": 10,
              "solidity": 0.2
             }
            },
            "type": "barpolar"
           }
          ],
          "carpet": [
           {
            "aaxis": {
             "endlinecolor": "#2a3f5f",
             "gridcolor": "white",
             "linecolor": "white",
             "minorgridcolor": "white",
             "startlinecolor": "#2a3f5f"
            },
            "baxis": {
             "endlinecolor": "#2a3f5f",
             "gridcolor": "white",
             "linecolor": "white",
             "minorgridcolor": "white",
             "startlinecolor": "#2a3f5f"
            },
            "type": "carpet"
           }
          ],
          "choropleth": [
           {
            "colorbar": {
             "outlinewidth": 0,
             "ticks": ""
            },
            "type": "choropleth"
           }
          ],
          "contour": [
           {
            "colorbar": {
             "outlinewidth": 0,
             "ticks": ""
            },
            "colorscale": [
             [
              0,
              "#0d0887"
             ],
             [
              0.1111111111111111,
              "#46039f"
             ],
             [
              0.2222222222222222,
              "#7201a8"
             ],
             [
              0.3333333333333333,
              "#9c179e"
             ],
             [
              0.4444444444444444,
              "#bd3786"
             ],
             [
              0.5555555555555556,
              "#d8576b"
             ],
             [
              0.6666666666666666,
              "#ed7953"
             ],
             [
              0.7777777777777778,
              "#fb9f3a"
             ],
             [
              0.8888888888888888,
              "#fdca26"
             ],
             [
              1,
              "#f0f921"
             ]
            ],
            "type": "contour"
           }
          ],
          "contourcarpet": [
           {
            "colorbar": {
             "outlinewidth": 0,
             "ticks": ""
            },
            "type": "contourcarpet"
           }
          ],
          "heatmap": [
           {
            "colorbar": {
             "outlinewidth": 0,
             "ticks": ""
            },
            "colorscale": [
             [
              0,
              "#0d0887"
             ],
             [
              0.1111111111111111,
              "#46039f"
             ],
             [
              0.2222222222222222,
              "#7201a8"
             ],
             [
              0.3333333333333333,
              "#9c179e"
             ],
             [
              0.4444444444444444,
              "#bd3786"
             ],
             [
              0.5555555555555556,
              "#d8576b"
             ],
             [
              0.6666666666666666,
              "#ed7953"
             ],
             [
              0.7777777777777778,
              "#fb9f3a"
             ],
             [
              0.8888888888888888,
              "#fdca26"
             ],
             [
              1,
              "#f0f921"
             ]
            ],
            "type": "heatmap"
           }
          ],
          "heatmapgl": [
           {
            "colorbar": {
             "outlinewidth": 0,
             "ticks": ""
            },
            "colorscale": [
             [
              0,
              "#0d0887"
             ],
             [
              0.1111111111111111,
              "#46039f"
             ],
             [
              0.2222222222222222,
              "#7201a8"
             ],
             [
              0.3333333333333333,
              "#9c179e"
             ],
             [
              0.4444444444444444,
              "#bd3786"
             ],
             [
              0.5555555555555556,
              "#d8576b"
             ],
             [
              0.6666666666666666,
              "#ed7953"
             ],
             [
              0.7777777777777778,
              "#fb9f3a"
             ],
             [
              0.8888888888888888,
              "#fdca26"
             ],
             [
              1,
              "#f0f921"
             ]
            ],
            "type": "heatmapgl"
           }
          ],
          "histogram": [
           {
            "marker": {
             "pattern": {
              "fillmode": "overlay",
              "size": 10,
              "solidity": 0.2
             }
            },
            "type": "histogram"
           }
          ],
          "histogram2d": [
           {
            "colorbar": {
             "outlinewidth": 0,
             "ticks": ""
            },
            "colorscale": [
             [
              0,
              "#0d0887"
             ],
             [
              0.1111111111111111,
              "#46039f"
             ],
             [
              0.2222222222222222,
              "#7201a8"
             ],
             [
              0.3333333333333333,
              "#9c179e"
             ],
             [
              0.4444444444444444,
              "#bd3786"
             ],
             [
              0.5555555555555556,
              "#d8576b"
             ],
             [
              0.6666666666666666,
              "#ed7953"
             ],
             [
              0.7777777777777778,
              "#fb9f3a"
             ],
             [
              0.8888888888888888,
              "#fdca26"
             ],
             [
              1,
              "#f0f921"
             ]
            ],
            "type": "histogram2d"
           }
          ],
          "histogram2dcontour": [
           {
            "colorbar": {
             "outlinewidth": 0,
             "ticks": ""
            },
            "colorscale": [
             [
              0,
              "#0d0887"
             ],
             [
              0.1111111111111111,
              "#46039f"
             ],
             [
              0.2222222222222222,
              "#7201a8"
             ],
             [
              0.3333333333333333,
              "#9c179e"
             ],
             [
              0.4444444444444444,
              "#bd3786"
             ],
             [
              0.5555555555555556,
              "#d8576b"
             ],
             [
              0.6666666666666666,
              "#ed7953"
             ],
             [
              0.7777777777777778,
              "#fb9f3a"
             ],
             [
              0.8888888888888888,
              "#fdca26"
             ],
             [
              1,
              "#f0f921"
             ]
            ],
            "type": "histogram2dcontour"
           }
          ],
          "mesh3d": [
           {
            "colorbar": {
             "outlinewidth": 0,
             "ticks": ""
            },
            "type": "mesh3d"
           }
          ],
          "parcoords": [
           {
            "line": {
             "colorbar": {
              "outlinewidth": 0,
              "ticks": ""
             }
            },
            "type": "parcoords"
           }
          ],
          "pie": [
           {
            "automargin": true,
            "type": "pie"
           }
          ],
          "scatter": [
           {
            "fillpattern": {
             "fillmode": "overlay",
             "size": 10,
             "solidity": 0.2
            },
            "type": "scatter"
           }
          ],
          "scatter3d": [
           {
            "line": {
             "colorbar": {
              "outlinewidth": 0,
              "ticks": ""
             }
            },
            "marker": {
             "colorbar": {
              "outlinewidth": 0,
              "ticks": ""
             }
            },
            "type": "scatter3d"
           }
          ],
          "scattercarpet": [
           {
            "marker": {
             "colorbar": {
              "outlinewidth": 0,
              "ticks": ""
             }
            },
            "type": "scattercarpet"
           }
          ],
          "scattergeo": [
           {
            "marker": {
             "colorbar": {
              "outlinewidth": 0,
              "ticks": ""
             }
            },
            "type": "scattergeo"
           }
          ],
          "scattergl": [
           {
            "marker": {
             "colorbar": {
              "outlinewidth": 0,
              "ticks": ""
             }
            },
            "type": "scattergl"
           }
          ],
          "scattermapbox": [
           {
            "marker": {
             "colorbar": {
              "outlinewidth": 0,
              "ticks": ""
             }
            },
            "type": "scattermapbox"
           }
          ],
          "scatterpolar": [
           {
            "marker": {
             "colorbar": {
              "outlinewidth": 0,
              "ticks": ""
             }
            },
            "type": "scatterpolar"
           }
          ],
          "scatterpolargl": [
           {
            "marker": {
             "colorbar": {
              "outlinewidth": 0,
              "ticks": ""
             }
            },
            "type": "scatterpolargl"
           }
          ],
          "scatterternary": [
           {
            "marker": {
             "colorbar": {
              "outlinewidth": 0,
              "ticks": ""
             }
            },
            "type": "scatterternary"
           }
          ],
          "surface": [
           {
            "colorbar": {
             "outlinewidth": 0,
             "ticks": ""
            },
            "colorscale": [
             [
              0,
              "#0d0887"
             ],
             [
              0.1111111111111111,
              "#46039f"
             ],
             [
              0.2222222222222222,
              "#7201a8"
             ],
             [
              0.3333333333333333,
              "#9c179e"
             ],
             [
              0.4444444444444444,
              "#bd3786"
             ],
             [
              0.5555555555555556,
              "#d8576b"
             ],
             [
              0.6666666666666666,
              "#ed7953"
             ],
             [
              0.7777777777777778,
              "#fb9f3a"
             ],
             [
              0.8888888888888888,
              "#fdca26"
             ],
             [
              1,
              "#f0f921"
             ]
            ],
            "type": "surface"
           }
          ],
          "table": [
           {
            "cells": {
             "fill": {
              "color": "#EBF0F8"
             },
             "line": {
              "color": "white"
             }
            },
            "header": {
             "fill": {
              "color": "#C8D4E3"
             },
             "line": {
              "color": "white"
             }
            },
            "type": "table"
           }
          ]
         },
         "layout": {
          "annotationdefaults": {
           "arrowcolor": "#2a3f5f",
           "arrowhead": 0,
           "arrowwidth": 1
          },
          "autotypenumbers": "strict",
          "coloraxis": {
           "colorbar": {
            "outlinewidth": 0,
            "ticks": ""
           }
          },
          "colorscale": {
           "diverging": [
            [
             0,
             "#8e0152"
            ],
            [
             0.1,
             "#c51b7d"
            ],
            [
             0.2,
             "#de77ae"
            ],
            [
             0.3,
             "#f1b6da"
            ],
            [
             0.4,
             "#fde0ef"
            ],
            [
             0.5,
             "#f7f7f7"
            ],
            [
             0.6,
             "#e6f5d0"
            ],
            [
             0.7,
             "#b8e186"
            ],
            [
             0.8,
             "#7fbc41"
            ],
            [
             0.9,
             "#4d9221"
            ],
            [
             1,
             "#276419"
            ]
           ],
           "sequential": [
            [
             0,
             "#0d0887"
            ],
            [
             0.1111111111111111,
             "#46039f"
            ],
            [
             0.2222222222222222,
             "#7201a8"
            ],
            [
             0.3333333333333333,
             "#9c179e"
            ],
            [
             0.4444444444444444,
             "#bd3786"
            ],
            [
             0.5555555555555556,
             "#d8576b"
            ],
            [
             0.6666666666666666,
             "#ed7953"
            ],
            [
             0.7777777777777778,
             "#fb9f3a"
            ],
            [
             0.8888888888888888,
             "#fdca26"
            ],
            [
             1,
             "#f0f921"
            ]
           ],
           "sequentialminus": [
            [
             0,
             "#0d0887"
            ],
            [
             0.1111111111111111,
             "#46039f"
            ],
            [
             0.2222222222222222,
             "#7201a8"
            ],
            [
             0.3333333333333333,
             "#9c179e"
            ],
            [
             0.4444444444444444,
             "#bd3786"
            ],
            [
             0.5555555555555556,
             "#d8576b"
            ],
            [
             0.6666666666666666,
             "#ed7953"
            ],
            [
             0.7777777777777778,
             "#fb9f3a"
            ],
            [
             0.8888888888888888,
             "#fdca26"
            ],
            [
             1,
             "#f0f921"
            ]
           ]
          },
          "colorway": [
           "#636efa",
           "#EF553B",
           "#00cc96",
           "#ab63fa",
           "#FFA15A",
           "#19d3f3",
           "#FF6692",
           "#B6E880",
           "#FF97FF",
           "#FECB52"
          ],
          "font": {
           "color": "#2a3f5f"
          },
          "geo": {
           "bgcolor": "white",
           "lakecolor": "white",
           "landcolor": "#E5ECF6",
           "showlakes": true,
           "showland": true,
           "subunitcolor": "white"
          },
          "hoverlabel": {
           "align": "left"
          },
          "hovermode": "closest",
          "mapbox": {
           "style": "light"
          },
          "paper_bgcolor": "white",
          "plot_bgcolor": "#E5ECF6",
          "polar": {
           "angularaxis": {
            "gridcolor": "white",
            "linecolor": "white",
            "ticks": ""
           },
           "bgcolor": "#E5ECF6",
           "radialaxis": {
            "gridcolor": "white",
            "linecolor": "white",
            "ticks": ""
           }
          },
          "scene": {
           "xaxis": {
            "backgroundcolor": "#E5ECF6",
            "gridcolor": "white",
            "gridwidth": 2,
            "linecolor": "white",
            "showbackground": true,
            "ticks": "",
            "zerolinecolor": "white"
           },
           "yaxis": {
            "backgroundcolor": "#E5ECF6",
            "gridcolor": "white",
            "gridwidth": 2,
            "linecolor": "white",
            "showbackground": true,
            "ticks": "",
            "zerolinecolor": "white"
           },
           "zaxis": {
            "backgroundcolor": "#E5ECF6",
            "gridcolor": "white",
            "gridwidth": 2,
            "linecolor": "white",
            "showbackground": true,
            "ticks": "",
            "zerolinecolor": "white"
           }
          },
          "shapedefaults": {
           "line": {
            "color": "#2a3f5f"
           }
          },
          "ternary": {
           "aaxis": {
            "gridcolor": "white",
            "linecolor": "white",
            "ticks": ""
           },
           "baxis": {
            "gridcolor": "white",
            "linecolor": "white",
            "ticks": ""
           },
           "bgcolor": "#E5ECF6",
           "caxis": {
            "gridcolor": "white",
            "linecolor": "white",
            "ticks": ""
           }
          },
          "title": {
           "x": 0.05
          },
          "xaxis": {
           "automargin": true,
           "gridcolor": "white",
           "linecolor": "white",
           "ticks": "",
           "title": {
            "standoff": 15
           },
           "zerolinecolor": "white",
           "zerolinewidth": 2
          },
          "yaxis": {
           "automargin": true,
           "gridcolor": "white",
           "linecolor": "white",
           "ticks": "",
           "title": {
            "standoff": 15
           },
           "zerolinecolor": "white",
           "zerolinewidth": 2
          }
         }
        },
        "title": {
         "text": "Simple Daily Return"
        },
        "xaxis": {
         "anchor": "y",
         "domain": [
          0,
          1
         ],
         "title": {
          "text": "Date"
         }
        },
        "yaxis": {
         "anchor": "x",
         "domain": [
          0,
          1
         ],
         "title": {
          "text": "PERNOD RICARD SA"
         }
        }
       }
      },
      "text/html": [
       "<div>                            <div id=\"5eb702cb-a84f-4f07-add5-890f3513e61b\" class=\"plotly-graph-div\" style=\"height:525px; width:100%;\"></div>            <script type=\"text/javascript\">                require([\"plotly\"], function(Plotly) {                    window.PLOTLYENV=window.PLOTLYENV || {};                                    if (document.getElementById(\"5eb702cb-a84f-4f07-add5-890f3513e61b\")) {                    Plotly.newPlot(                        \"5eb702cb-a84f-4f07-add5-890f3513e61b\",                        [{\"hovertemplate\":\"Date=%{x}<br>PERNOD RICARD SA=%{y}<extra></extra>\",\"legendgroup\":\"\",\"line\":{\"color\":\"#636efa\",\"dash\":\"solid\"},\"marker\":{\"symbol\":\"circle\"},\"mode\":\"lines\",\"name\":\"\",\"orientation\":\"v\",\"showlegend\":false,\"x\":[\"2019-09-04T00:00:00\",\"2019-09-05T00:00:00\",\"2019-09-06T00:00:00\",\"2019-09-09T00:00:00\",\"2019-09-10T00:00:00\",\"2019-09-11T00:00:00\",\"2019-09-12T00:00:00\",\"2019-09-13T00:00:00\",\"2019-09-16T00:00:00\",\"2019-09-17T00:00:00\",\"2019-09-18T00:00:00\",\"2019-09-19T00:00:00\",\"2019-09-20T00:00:00\",\"2019-09-23T00:00:00\",\"2019-09-24T00:00:00\",\"2019-09-25T00:00:00\",\"2019-09-26T00:00:00\",\"2019-09-27T00:00:00\",\"2019-09-30T00:00:00\",\"2019-10-01T00:00:00\",\"2019-10-02T00:00:00\",\"2019-10-03T00:00:00\",\"2019-10-04T00:00:00\",\"2019-10-07T00:00:00\",\"2019-10-08T00:00:00\",\"2019-10-09T00:00:00\",\"2019-10-10T00:00:00\",\"2019-10-11T00:00:00\",\"2019-10-14T00:00:00\",\"2019-10-15T00:00:00\",\"2019-10-16T00:00:00\",\"2019-10-17T00:00:00\",\"2019-10-18T00:00:00\",\"2019-10-21T00:00:00\",\"2019-10-22T00:00:00\",\"2019-10-23T00:00:00\",\"2019-10-24T00:00:00\",\"2019-10-25T00:00:00\",\"2019-10-28T00:00:00\",\"2019-10-29T00:00:00\",\"2019-10-30T00:00:00\",\"2019-10-31T00:00:00\",\"2019-11-01T00:00:00\",\"2019-11-04T00:00:00\",\"2019-11-05T00:00:00\",\"2019-11-06T00:00:00\",\"2019-11-07T00:00:00\",\"2019-11-08T00:00:00\",\"2019-11-11T00:00:00\",\"2019-11-12T00:00:00\",\"2019-11-13T00:00:00\",\"2019-11-14T00:00:00\",\"2019-11-15T00:00:00\",\"2019-11-18T00:00:00\",\"2019-11-19T00:00:00\",\"2019-11-20T00:00:00\",\"2019-11-21T00:00:00\",\"2019-11-22T00:00:00\",\"2019-11-25T00:00:00\",\"2019-11-26T00:00:00\",\"2019-11-27T00:00:00\",\"2019-11-28T00:00:00\",\"2019-11-29T00:00:00\",\"2019-12-02T00:00:00\",\"2019-12-03T00:00:00\",\"2019-12-04T00:00:00\",\"2019-12-05T00:00:00\",\"2019-12-06T00:00:00\",\"2019-12-09T00:00:00\",\"2019-12-10T00:00:00\",\"2019-12-11T00:00:00\",\"2019-12-12T00:00:00\",\"2019-12-13T00:00:00\",\"2019-12-16T00:00:00\",\"2019-12-17T00:00:00\",\"2019-12-18T00:00:00\",\"2019-12-19T00:00:00\",\"2019-12-20T00:00:00\",\"2019-12-23T00:00:00\",\"2019-12-24T00:00:00\",\"2019-12-27T00:00:00\",\"2019-12-30T00:00:00\",\"2019-12-31T00:00:00\",\"2020-01-02T00:00:00\",\"2020-01-03T00:00:00\",\"2020-01-06T00:00:00\",\"2020-01-07T00:00:00\",\"2020-01-08T00:00:00\",\"2020-01-09T00:00:00\",\"2020-01-10T00:00:00\",\"2020-01-13T00:00:00\",\"2020-01-14T00:00:00\",\"2020-01-15T00:00:00\",\"2020-01-16T00:00:00\",\"2020-01-17T00:00:00\",\"2020-01-20T00:00:00\",\"2020-01-21T00:00:00\",\"2020-01-22T00:00:00\",\"2020-01-23T00:00:00\",\"2020-01-24T00:00:00\",\"2020-01-27T00:00:00\",\"2020-01-28T00:00:00\",\"2020-01-29T00:00:00\",\"2020-01-30T00:00:00\",\"2020-01-31T00:00:00\",\"2020-02-03T00:00:00\",\"2020-02-04T00:00:00\",\"2020-02-05T00:00:00\",\"2020-02-06T00:00:00\",\"2020-02-07T00:00:00\",\"2020-02-10T00:00:00\",\"2020-02-11T00:00:00\",\"2020-02-12T00:00:00\",\"2020-02-13T00:00:00\",\"2020-02-14T00:00:00\"],\"xaxis\":\"x\",\"y\":[-0.003949224259520379,-0.011045029736618583,0.0008591065292096189,-0.03490701001430607,-0.0029647198339757264,0.006541778174249169,-0.0038404726735598027,-0.02461447212336898,-0.01307388263909992,0.025261860751694343,-0.0042067307692308376,-0.005431502715751213,-0.0024271844660194164,-0.0009124087591241281,0.008219178082191636,-0.021739130434782594,0.00524691358024687,-0.002456248081056267,0.005847953216374435,-0.0015299877600979395,-0.0042905301869445855,0.04247460757156052,0.01564806613522296,0.011627906976744207,-0.012068965517241348,0.002617801047120283,-0.011314186248912006,-0.0008802816901408717,-0.009397944199706298,-0.005632967684553902,-0.0065593321407274585,-0.04171668667466977,0.008455997494519307,-0.011801242236024856,-0.013513513513513598,0.003504300732717569,0.014285714285714235,-0.0028169014084505895,-0.0012554927809166339,0.00691389063482073,0.021535580524344677,0.011304613504430128,-0.007854984894259842,-0.004567600487210721,-0.0027531355154480908,0.015030674846625791,-0.00423088546388628,0.016084977238239873,0.010752688172043001,-0.006796690307328435,0.009520975900029649,0.0,0.0023577954612437058,0.005586592178770777,-0.003216374269005895,-0.014373716632443467,-0.004464285714285698,-0.004484304932735439,-0.007207207207207134,0.003932244404113661,0.006327206990057288,-0.004790419161676662,0.0030084235860408093,-0.02699460107978402,0.0027743526510481953,-0.00707039655702435,-0.001547987616099089,0.01209302325581385,-0.0030637254901960675,-0.0012292562999384193,0.0006153846153846843,-0.006765067650676526,-0.003095975232198178,0.0009316770186336143,-0.00527458889233634,-0.0012476606363069909,-0.006870705808869393,0.008490566037735903,0.005300904271905216,0.00837468982630285,-0.003383574284835489,-0.004320987654320874,-0.011779293242405453,0.005959849435382525,0.005300904271905216,0.0,-0.004032258064516014,-0.0068514481469948985,0.0015678896205706394,-0.0050093926111457465,0.024543738200125897,0.01781326781326764,0.009354254677127471,0.001494768310911887,0.01850746268656711,-0.008499413833528702,-0.0032515518770322993,-0.007117437722419906,-0.009557945041815952,-0.00965018094089276,-0.03410475030450666,-0.003783102143757877,0.0028481012658228,-0.011991164405175003,-0.0003193867773875203,0.0031948881789136685,0.014649681528662528,-0.006277463904582503,0.019583070120025248,-0.0006195786864930941,-0.0030998140111593298,-0.004975124378109541,0.00406250000000008,0.03797074385309673,-0.004797601199400314],\"yaxis\":\"y\",\"type\":\"scatter\"}],                        {\"template\":{\"data\":{\"histogram2dcontour\":[{\"type\":\"histogram2dcontour\",\"colorbar\":{\"outlinewidth\":0,\"ticks\":\"\"},\"colorscale\":[[0.0,\"#0d0887\"],[0.1111111111111111,\"#46039f\"],[0.2222222222222222,\"#7201a8\"],[0.3333333333333333,\"#9c179e\"],[0.4444444444444444,\"#bd3786\"],[0.5555555555555556,\"#d8576b\"],[0.6666666666666666,\"#ed7953\"],[0.7777777777777778,\"#fb9f3a\"],[0.8888888888888888,\"#fdca26\"],[1.0,\"#f0f921\"]]}],\"choropleth\":[{\"type\":\"choropleth\",\"colorbar\":{\"outlinewidth\":0,\"ticks\":\"\"}}],\"histogram2d\":[{\"type\":\"histogram2d\",\"colorbar\":{\"outlinewidth\":0,\"ticks\":\"\"},\"colorscale\":[[0.0,\"#0d0887\"],[0.1111111111111111,\"#46039f\"],[0.2222222222222222,\"#7201a8\"],[0.3333333333333333,\"#9c179e\"],[0.4444444444444444,\"#bd3786\"],[0.5555555555555556,\"#d8576b\"],[0.6666666666666666,\"#ed7953\"],[0.7777777777777778,\"#fb9f3a\"],[0.8888888888888888,\"#fdca26\"],[1.0,\"#f0f921\"]]}],\"heatmap\":[{\"type\":\"heatmap\",\"colorbar\":{\"outlinewidth\":0,\"ticks\":\"\"},\"colorscale\":[[0.0,\"#0d0887\"],[0.1111111111111111,\"#46039f\"],[0.2222222222222222,\"#7201a8\"],[0.3333333333333333,\"#9c179e\"],[0.4444444444444444,\"#bd3786\"],[0.5555555555555556,\"#d8576b\"],[0.6666666666666666,\"#ed7953\"],[0.7777777777777778,\"#fb9f3a\"],[0.8888888888888888,\"#fdca26\"],[1.0,\"#f0f921\"]]}],\"heatmapgl\":[{\"type\":\"heatmapgl\",\"colorbar\":{\"outlinewidth\":0,\"ticks\":\"\"},\"colorscale\":[[0.0,\"#0d0887\"],[0.1111111111111111,\"#46039f\"],[0.2222222222222222,\"#7201a8\"],[0.3333333333333333,\"#9c179e\"],[0.4444444444444444,\"#bd3786\"],[0.5555555555555556,\"#d8576b\"],[0.6666666666666666,\"#ed7953\"],[0.7777777777777778,\"#fb9f3a\"],[0.8888888888888888,\"#fdca26\"],[1.0,\"#f0f921\"]]}],\"contourcarpet\":[{\"type\":\"contourcarpet\",\"colorbar\":{\"outlinewidth\":0,\"ticks\":\"\"}}],\"contour\":[{\"type\":\"contour\",\"colorbar\":{\"outlinewidth\":0,\"ticks\":\"\"},\"colorscale\":[[0.0,\"#0d0887\"],[0.1111111111111111,\"#46039f\"],[0.2222222222222222,\"#7201a8\"],[0.3333333333333333,\"#9c179e\"],[0.4444444444444444,\"#bd3786\"],[0.5555555555555556,\"#d8576b\"],[0.6666666666666666,\"#ed7953\"],[0.7777777777777778,\"#fb9f3a\"],[0.8888888888888888,\"#fdca26\"],[1.0,\"#f0f921\"]]}],\"surface\":[{\"type\":\"surface\",\"colorbar\":{\"outlinewidth\":0,\"ticks\":\"\"},\"colorscale\":[[0.0,\"#0d0887\"],[0.1111111111111111,\"#46039f\"],[0.2222222222222222,\"#7201a8\"],[0.3333333333333333,\"#9c179e\"],[0.4444444444444444,\"#bd3786\"],[0.5555555555555556,\"#d8576b\"],[0.6666666666666666,\"#ed7953\"],[0.7777777777777778,\"#fb9f3a\"],[0.8888888888888888,\"#fdca26\"],[1.0,\"#f0f921\"]]}],\"mesh3d\":[{\"type\":\"mesh3d\",\"colorbar\":{\"outlinewidth\":0,\"ticks\":\"\"}}],\"scatter\":[{\"fillpattern\":{\"fillmode\":\"overlay\",\"size\":10,\"solidity\":0.2},\"type\":\"scatter\"}],\"parcoords\":[{\"type\":\"parcoords\",\"line\":{\"colorbar\":{\"outlinewidth\":0,\"ticks\":\"\"}}}],\"scatterpolargl\":[{\"type\":\"scatterpolargl\",\"marker\":{\"colorbar\":{\"outlinewidth\":0,\"ticks\":\"\"}}}],\"bar\":[{\"error_x\":{\"color\":\"#2a3f5f\"},\"error_y\":{\"color\":\"#2a3f5f\"},\"marker\":{\"line\":{\"color\":\"#E5ECF6\",\"width\":0.5},\"pattern\":{\"fillmode\":\"overlay\",\"size\":10,\"solidity\":0.2}},\"type\":\"bar\"}],\"scattergeo\":[{\"type\":\"scattergeo\",\"marker\":{\"colorbar\":{\"outlinewidth\":0,\"ticks\":\"\"}}}],\"scatterpolar\":[{\"type\":\"scatterpolar\",\"marker\":{\"colorbar\":{\"outlinewidth\":0,\"ticks\":\"\"}}}],\"histogram\":[{\"marker\":{\"pattern\":{\"fillmode\":\"overlay\",\"size\":10,\"solidity\":0.2}},\"type\":\"histogram\"}],\"scattergl\":[{\"type\":\"scattergl\",\"marker\":{\"colorbar\":{\"outlinewidth\":0,\"ticks\":\"\"}}}],\"scatter3d\":[{\"type\":\"scatter3d\",\"line\":{\"colorbar\":{\"outlinewidth\":0,\"ticks\":\"\"}},\"marker\":{\"colorbar\":{\"outlinewidth\":0,\"ticks\":\"\"}}}],\"scattermapbox\":[{\"type\":\"scattermapbox\",\"marker\":{\"colorbar\":{\"outlinewidth\":0,\"ticks\":\"\"}}}],\"scatterternary\":[{\"type\":\"scatterternary\",\"marker\":{\"colorbar\":{\"outlinewidth\":0,\"ticks\":\"\"}}}],\"scattercarpet\":[{\"type\":\"scattercarpet\",\"marker\":{\"colorbar\":{\"outlinewidth\":0,\"ticks\":\"\"}}}],\"carpet\":[{\"aaxis\":{\"endlinecolor\":\"#2a3f5f\",\"gridcolor\":\"white\",\"linecolor\":\"white\",\"minorgridcolor\":\"white\",\"startlinecolor\":\"#2a3f5f\"},\"baxis\":{\"endlinecolor\":\"#2a3f5f\",\"gridcolor\":\"white\",\"linecolor\":\"white\",\"minorgridcolor\":\"white\",\"startlinecolor\":\"#2a3f5f\"},\"type\":\"carpet\"}],\"table\":[{\"cells\":{\"fill\":{\"color\":\"#EBF0F8\"},\"line\":{\"color\":\"white\"}},\"header\":{\"fill\":{\"color\":\"#C8D4E3\"},\"line\":{\"color\":\"white\"}},\"type\":\"table\"}],\"barpolar\":[{\"marker\":{\"line\":{\"color\":\"#E5ECF6\",\"width\":0.5},\"pattern\":{\"fillmode\":\"overlay\",\"size\":10,\"solidity\":0.2}},\"type\":\"barpolar\"}],\"pie\":[{\"automargin\":true,\"type\":\"pie\"}]},\"layout\":{\"autotypenumbers\":\"strict\",\"colorway\":[\"#636efa\",\"#EF553B\",\"#00cc96\",\"#ab63fa\",\"#FFA15A\",\"#19d3f3\",\"#FF6692\",\"#B6E880\",\"#FF97FF\",\"#FECB52\"],\"font\":{\"color\":\"#2a3f5f\"},\"hovermode\":\"closest\",\"hoverlabel\":{\"align\":\"left\"},\"paper_bgcolor\":\"white\",\"plot_bgcolor\":\"#E5ECF6\",\"polar\":{\"bgcolor\":\"#E5ECF6\",\"angularaxis\":{\"gridcolor\":\"white\",\"linecolor\":\"white\",\"ticks\":\"\"},\"radialaxis\":{\"gridcolor\":\"white\",\"linecolor\":\"white\",\"ticks\":\"\"}},\"ternary\":{\"bgcolor\":\"#E5ECF6\",\"aaxis\":{\"gridcolor\":\"white\",\"linecolor\":\"white\",\"ticks\":\"\"},\"baxis\":{\"gridcolor\":\"white\",\"linecolor\":\"white\",\"ticks\":\"\"},\"caxis\":{\"gridcolor\":\"white\",\"linecolor\":\"white\",\"ticks\":\"\"}},\"coloraxis\":{\"colorbar\":{\"outlinewidth\":0,\"ticks\":\"\"}},\"colorscale\":{\"sequential\":[[0.0,\"#0d0887\"],[0.1111111111111111,\"#46039f\"],[0.2222222222222222,\"#7201a8\"],[0.3333333333333333,\"#9c179e\"],[0.4444444444444444,\"#bd3786\"],[0.5555555555555556,\"#d8576b\"],[0.6666666666666666,\"#ed7953\"],[0.7777777777777778,\"#fb9f3a\"],[0.8888888888888888,\"#fdca26\"],[1.0,\"#f0f921\"]],\"sequentialminus\":[[0.0,\"#0d0887\"],[0.1111111111111111,\"#46039f\"],[0.2222222222222222,\"#7201a8\"],[0.3333333333333333,\"#9c179e\"],[0.4444444444444444,\"#bd3786\"],[0.5555555555555556,\"#d8576b\"],[0.6666666666666666,\"#ed7953\"],[0.7777777777777778,\"#fb9f3a\"],[0.8888888888888888,\"#fdca26\"],[1.0,\"#f0f921\"]],\"diverging\":[[0,\"#8e0152\"],[0.1,\"#c51b7d\"],[0.2,\"#de77ae\"],[0.3,\"#f1b6da\"],[0.4,\"#fde0ef\"],[0.5,\"#f7f7f7\"],[0.6,\"#e6f5d0\"],[0.7,\"#b8e186\"],[0.8,\"#7fbc41\"],[0.9,\"#4d9221\"],[1,\"#276419\"]]},\"xaxis\":{\"gridcolor\":\"white\",\"linecolor\":\"white\",\"ticks\":\"\",\"title\":{\"standoff\":15},\"zerolinecolor\":\"white\",\"automargin\":true,\"zerolinewidth\":2},\"yaxis\":{\"gridcolor\":\"white\",\"linecolor\":\"white\",\"ticks\":\"\",\"title\":{\"standoff\":15},\"zerolinecolor\":\"white\",\"automargin\":true,\"zerolinewidth\":2},\"scene\":{\"xaxis\":{\"backgroundcolor\":\"#E5ECF6\",\"gridcolor\":\"white\",\"linecolor\":\"white\",\"showbackground\":true,\"ticks\":\"\",\"zerolinecolor\":\"white\",\"gridwidth\":2},\"yaxis\":{\"backgroundcolor\":\"#E5ECF6\",\"gridcolor\":\"white\",\"linecolor\":\"white\",\"showbackground\":true,\"ticks\":\"\",\"zerolinecolor\":\"white\",\"gridwidth\":2},\"zaxis\":{\"backgroundcolor\":\"#E5ECF6\",\"gridcolor\":\"white\",\"linecolor\":\"white\",\"showbackground\":true,\"ticks\":\"\",\"zerolinecolor\":\"white\",\"gridwidth\":2}},\"shapedefaults\":{\"line\":{\"color\":\"#2a3f5f\"}},\"annotationdefaults\":{\"arrowcolor\":\"#2a3f5f\",\"arrowhead\":0,\"arrowwidth\":1},\"geo\":{\"bgcolor\":\"white\",\"landcolor\":\"#E5ECF6\",\"subunitcolor\":\"white\",\"showland\":true,\"showlakes\":true,\"lakecolor\":\"white\"},\"title\":{\"x\":0.05},\"mapbox\":{\"style\":\"light\"}}},\"xaxis\":{\"anchor\":\"y\",\"domain\":[0.0,1.0],\"title\":{\"text\":\"Date\"}},\"yaxis\":{\"anchor\":\"x\",\"domain\":[0.0,1.0],\"title\":{\"text\":\"PERNOD RICARD SA\"}},\"legend\":{\"tracegroupgap\":0},\"title\":{\"text\":\"Simple Daily Return\"}},                        {\"responsive\": true}                    ).then(function(){\n",
       "                            \n",
       "var gd = document.getElementById('5eb702cb-a84f-4f07-add5-890f3513e61b');\n",
       "var x = new MutationObserver(function (mutations, observer) {{\n",
       "        var display = window.getComputedStyle(gd).display;\n",
       "        if (!display || display === 'none') {{\n",
       "            console.log([gd, 'removed!']);\n",
       "            Plotly.purge(gd);\n",
       "            observer.disconnect();\n",
       "        }}\n",
       "}});\n",
       "\n",
       "// Listen for the removal of the full notebook cells\n",
       "var notebookContainer = gd.closest('#notebook-container');\n",
       "if (notebookContainer) {{\n",
       "    x.observe(notebookContainer, {childList: true});\n",
       "}}\n",
       "\n",
       "// Listen for the clearing of the current output cell\n",
       "var outputEl = gd.closest('.output');\n",
       "if (outputEl) {{\n",
       "    x.observe(outputEl, {childList: true});\n",
       "}}\n",
       "\n",
       "                        })                };                });            </script>        </div>"
      ]
     },
     "metadata": {},
     "output_type": "display_data"
    }
   ],
   "source": [
    "#Simple Daily Return Time Series for Pernod Ricard SA\n",
    "fig4 = px.line(Simple_daily_returns, x=Simple_daily_returns.index, y=\"PERNOD RICARD SA\", title = \"Simple Daily Return\")\n",
    "fig4.show()"
   ]
  },
  {
   "cell_type": "markdown",
   "metadata": {},
   "source": [
    "# Correlation "
   ]
  },
  {
   "cell_type": "markdown",
   "metadata": {},
   "source": [
    "### To find Negatively Correlated Stocks to PERNOD RICARD SA common in both closing price and simple daily return correlation chart.\n",
    "### The reason behind doing this is to be extremely sure of the stocks which exhibits definitely a negatively correlation."
   ]
  },
  {
   "cell_type": "code",
   "execution_count": 501,
   "metadata": {},
   "outputs": [
    {
     "data": {
      "text/plain": [
       "['BANCO BILBAO VIZCAYA ARGENTA',\n",
       " 'BANCO SANTANDER SA',\n",
       " 'AXA SA',\n",
       " 'BNP PARIBAS',\n",
       " 'ING GROEP NV',\n",
       " 'INTESA SANPAOLO',\n",
       " 'SOCIETE GENERALE SA',\n",
       " 'BAYERISCHE MOTOREN WERKE AG',\n",
       " 'BASF SE',\n",
       " 'SIEMENS AG-REG',\n",
       " 'VOLKSWAGEN AG-PREF',\n",
       " 'MERCEDES-BENZ GROUP AG']"
      ]
     },
     "execution_count": 501,
     "metadata": {},
     "output_type": "execute_result"
    }
   ],
   "source": [
    "#Negative Correlations from closing price dataframe\n",
    "corr_ClosingPrice = df4.corr()\n",
    "df5 = corr_ClosingPrice.loc[corr_ClosingPrice['PERNOD RICARD SA'] <0]\n",
    "\n",
    "#Negative Correlations from simple daily return dataframe\n",
    "corr_DailyReturns = Simple_daily_returns.corr()\n",
    "df6 = corr_DailyReturns.loc[corr_DailyReturns['PERNOD RICARD SA'] <0]\n",
    "\n",
    "#Stocks common in both the above set which are negatively correlated to PERNOD\n",
    "idx = df5.index.intersection(df6.index)\n",
    "\n",
    "#To make it a list of all stocks negatively correlated to PERNOD\n",
    "list_stocks = idx.tolist()\n",
    "list_stocks"
   ]
  },
  {
   "cell_type": "code",
   "execution_count": 502,
   "metadata": {},
   "outputs": [
    {
     "data": {
      "text/plain": [
       "Text(0.5, 1.0, 'Negatively correlated Stocks with Pernod Ricard SA')"
      ]
     },
     "execution_count": 502,
     "metadata": {},
     "output_type": "execute_result"
    },
    {
     "data": {
      "image/png": "[encoded data removed]",
      "text/plain": [
       "<Figure size 864x288 with 1 Axes>"
      ]
     },
     "metadata": {
      "needs_background": "light"
     },
     "output_type": "display_data"
    }
   ],
   "source": [
    "#Bar chart to represent negative correlation of stocks with Pernod Ricard SA\n",
    "df7 = df4[['PERNOD RICARD SA']+list_stocks]\n",
    "df8 = df7.corr()\n",
    "df8['PERNOD RICARD SA'][1:].plot(kind='bar', figsize=(12,4))\n",
    "plt.ylabel('Correlation')\n",
    "plt.xlabel('Companies')\n",
    "plt.title('Negatively correlated Stocks with Pernod Ricard SA')"
   ]
  },
  {
   "cell_type": "markdown",
   "metadata": {},
   "source": [
    "### The above study suggests that out of Eurostoxx 50 companies there are 6 banking and financial services companies, 1 insurance company, 3 car manufacturing companies, 1 chemical product company and 1 industrial product company; which are negatively correlated to RICARD PERNOD SA."
   ]
  },
  {
   "cell_type": "markdown",
   "metadata": {},
   "source": [
    "### To visualise correlation between Pernod and Volkswagen using closing price chart.\n",
    "#### Volkswagen is chosen for the below graph because its share price is comparable to Pernod Ricard which makes it easier to visualize how they evolve together."
   ]
  },
  {
   "cell_type": "code",
   "execution_count": 503,
   "metadata": {},
   "outputs": [
    {
     "data": {
      "application/vnd.plotly.v1+json": {
       "config": {
        "plotlyServerURL": "https://plot.ly"
       },
       "data": [
        {
         "hovertemplate": "variable=PERNOD RICARD SA<br>Date=%{x}<br>value=%{y}<extra></extra>",
         "legendgroup": "PERNOD RICARD SA",
         "line": {
          "color": "#636efa",
          "dash": "solid"
         },
         "marker": {
          "symbol": "circle"
         },
         "mode": "lines",
         "name": "PERNOD RICARD SA",
         "orientation": "v",
         "showlegend": true,
         "type": "scatter",
         "x": [
          "2019-09-03T00:00:00",
          "2019-09-04T00:00:00",
          "2019-09-05T00:00:00",
          "2019-09-06T00:00:00",
          "2019-09-09T00:00:00",
          "2019-09-10T00:00:00",
          "2019-09-11T00:00:00",
          "2019-09-12T00:00:00",
          "2019-09-13T00:00:00",
          "2019-09-16T00:00:00",
          "2019-09-17T00:00:00",
          "2019-09-18T00:00:00",
          "2019-09-19T00:00:00",
          "2019-09-20T00:00:00",
          "2019-09-23T00:00:00",
          "2019-09-24T00:00:00",
          "2019-09-25T00:00:00",
          "2019-09-26T00:00:00",
          "2019-09-27T00:00:00",
          "2019-09-30T00:00:00",
          "2019-10-01T00:00:00",
          "2019-10-02T00:00:00",
          "2019-10-03T00:00:00",
          "2019-10-04T00:00:00",
          "2019-10-07T00:00:00",
          "2019-10-08T00:00:00",
          "2019-10-09T00:00:00",
          "2019-10-10T00:00:00",
          "2019-10-11T00:00:00",
          "2019-10-14T00:00:00",
          "2019-10-15T00:00:00",
          "2019-10-16T00:00:00",
          "2019-10-17T00:00:00",
          "2019-10-18T00:00:00",
          "2019-10-21T00:00:00",
          "2019-10-22T00:00:00",
          "2019-10-23T00:00:00",
          "2019-10-24T00:00:00",
          "2019-10-25T00:00:00",
          "2019-10-28T00:00:00",
          "2019-10-29T00:00:00",
          "2019-10-30T00:00:00",
          "2019-10-31T00:00:00",
          "2019-11-01T00:00:00",
          "2019-11-04T00:00:00",
          "2019-11-05T00:00:00",
          "2019-11-06T00:00:00",
          "2019-11-07T00:00:00",
          "2019-11-08T00:00:00",
          "2019-11-11T00:00:00",
          "2019-11-12T00:00:00",
          "2019-11-13T00:00:00",
          "2019-11-14T00:00:00",
          "2019-11-15T00:00:00",
          "2019-11-18T00:00:00",
          "2019-11-19T00:00:00",
          "2019-11-20T00:00:00",
          "2019-11-21T00:00:00",
          "2019-11-22T00:00:00",
          "2019-11-25T00:00:00",
          "2019-11-26T00:00:00",
          "2019-11-27T00:00:00",
          "2019-11-28T00:00:00",
          "2019-11-29T00:00:00",
          "2019-12-02T00:00:00",
          "2019-12-03T00:00:00",
          "2019-12-04T00:00:00",
          "2019-12-05T00:00:00",
          "2019-12-06T00:00:00",
          "2019-12-09T00:00:00",
          "2019-12-10T00:00:00",
          "2019-12-11T00:00:00",
          "2019-12-12T00:00:00",
          "2019-12-13T00:00:00",
          "2019-12-16T00:00:00",
          "2019-12-17T00:00:00",
          "2019-12-18T00:00:00",
          "2019-12-19T00:00:00",
          "2019-12-20T00:00:00",
          "2019-12-23T00:00:00",
          "2019-12-24T00:00:00",
          "2019-12-27T00:00:00",
          "2019-12-30T00:00:00",
          "2019-12-31T00:00:00",
          "2020-01-02T00:00:00",
          "2020-01-03T00:00:00",
          "2020-01-06T00:00:00",
          "2020-01-07T00:00:00",
          "2020-01-08T00:00:00",
          "2020-01-09T00:00:00",
          "2020-01-10T00:00:00",
          "2020-01-13T00:00:00",
          "2020-01-14T00:00:00",
          "2020-01-15T00:00:00",
          "2020-01-16T00:00:00",
          "2020-01-17T00:00:00",
          "2020-01-20T00:00:00",
          "2020-01-21T00:00:00",
          "2020-01-22T00:00:00",
          "2020-01-23T00:00:00",
          "2020-01-24T00:00:00",
          "2020-01-27T00:00:00",
          "2020-01-28T00:00:00",
          "2020-01-29T00:00:00",
          "2020-01-30T00:00:00",
          "2020-01-31T00:00:00",
          "2020-02-03T00:00:00",
          "2020-02-04T00:00:00",
          "2020-02-05T00:00:00",
          "2020-02-06T00:00:00",
          "2020-02-07T00:00:00",
          "2020-02-10T00:00:00",
          "2020-02-11T00:00:00",
          "2020-02-12T00:00:00",
          "2020-02-13T00:00:00",
          "2020-02-14T00:00:00"
         ],
         "xaxis": "x",
         "y": [
          177.25,
          176.55,
          174.6,
          174.75,
          168.65,
          168.15,
          169.25,
          168.6,
          164.45,
          162.3,
          166.4,
          165.7,
          164.8,
          164.4,
          164.25,
          165.6,
          162,
          162.85,
          162.45,
          163.4,
          163.15,
          162.45,
          169.35,
          172,
          174,
          171.9,
          172.35,
          170.4,
          170.25,
          168.65,
          167.7,
          166.6,
          159.65,
          161,
          159.1,
          156.95,
          157.5,
          159.75,
          159.3,
          159.1,
          160.2,
          163.65,
          165.5,
          164.2,
          163.45,
          163,
          165.45,
          164.75,
          167.4,
          169.2,
          168.05,
          169.65,
          169.65,
          170.05,
          171,
          170.45,
          168,
          167.25,
          166.5,
          165.3,
          165.95,
          167,
          166.2,
          166.7,
          162.2,
          162.65,
          161.5,
          161.25,
          163.2,
          162.7,
          162.5,
          162.6,
          161.5,
          161,
          161.15,
          160.3,
          160.1,
          159,
          160.35,
          161.2,
          162.55,
          162,
          161.3,
          159.4,
          160.35,
          161.2,
          161.2,
          160.55,
          159.45,
          159.7,
          158.9,
          162.8,
          165.7,
          167.25,
          167.5,
          170.6,
          169.15,
          168.6,
          167.4,
          165.8,
          164.2,
          158.6,
          158,
          158.45,
          156.55,
          156.5,
          157,
          159.3,
          158.3,
          161.4,
          161.3,
          160.8,
          160,
          160.65,
          166.75,
          165.95
         ],
         "yaxis": "y"
        },
        {
         "hovertemplate": "variable=VOLKSWAGEN AG-PREF<br>Date=%{x}<br>value=%{y}<extra></extra>",
         "legendgroup": "VOLKSWAGEN AG-PREF",
         "line": {
          "color": "#EF553B",
          "dash": "solid"
         },
         "marker": {
          "symbol": "circle"
         },
         "mode": "lines",
         "name": "VOLKSWAGEN AG-PREF",
         "orientation": "v",
         "showlegend": true,
         "type": "scatter",
         "x": [
          "2019-09-03T00:00:00",
          "2019-09-04T00:00:00",
          "2019-09-05T00:00:00",
          "2019-09-06T00:00:00",
          "2019-09-09T00:00:00",
          "2019-09-10T00:00:00",
          "2019-09-11T00:00:00",
          "2019-09-12T00:00:00",
          "2019-09-13T00:00:00",
          "2019-09-16T00:00:00",
          "2019-09-17T00:00:00",
          "2019-09-18T00:00:00",
          "2019-09-19T00:00:00",
          "2019-09-20T00:00:00",
          "2019-09-23T00:00:00",
          "2019-09-24T00:00:00",
          "2019-09-25T00:00:00",
          "2019-09-26T00:00:00",
          "2019-09-27T00:00:00",
          "2019-09-30T00:00:00",
          "2019-10-01T00:00:00",
          "2019-10-02T00:00:00",
          "2019-10-03T00:00:00",
          "2019-10-04T00:00:00",
          "2019-10-07T00:00:00",
          "2019-10-08T00:00:00",
          "2019-10-09T00:00:00",
          "2019-10-10T00:00:00",
          "2019-10-11T00:00:00",
          "2019-10-14T00:00:00",
          "2019-10-15T00:00:00",
          "2019-10-16T00:00:00",
          "2019-10-17T00:00:00",
          "2019-10-18T00:00:00",
          "2019-10-21T00:00:00",
          "2019-10-22T00:00:00",
          "2019-10-23T00:00:00",
          "2019-10-24T00:00:00",
          "2019-10-25T00:00:00",
          "2019-10-28T00:00:00",
          "2019-10-29T00:00:00",
          "2019-10-30T00:00:00",
          "2019-10-31T00:00:00",
          "2019-11-01T00:00:00",
          "2019-11-04T00:00:00",
          "2019-11-05T00:00:00",
          "2019-11-06T00:00:00",
          "2019-11-07T00:00:00",
          "2019-11-08T00:00:00",
          "2019-11-11T00:00:00",
          "2019-11-12T00:00:00",
          "2019-11-13T00:00:00",
          "2019-11-14T00:00:00",
          "2019-11-15T00:00:00",
          "2019-11-18T00:00:00",
          "2019-11-19T00:00:00",
          "2019-11-20T00:00:00",
          "2019-11-21T00:00:00",
          "2019-11-22T00:00:00",
          "2019-11-25T00:00:00",
          "2019-11-26T00:00:00",
          "2019-11-27T00:00:00",
          "2019-11-28T00:00:00",
          "2019-11-29T00:00:00",
          "2019-12-02T00:00:00",
          "2019-12-03T00:00:00",
          "2019-12-04T00:00:00",
          "2019-12-05T00:00:00",
          "2019-12-06T00:00:00",
          "2019-12-09T00:00:00",
          "2019-12-10T00:00:00",
          "2019-12-11T00:00:00",
          "2019-12-12T00:00:00",
          "2019-12-13T00:00:00",
          "2019-12-16T00:00:00",
          "2019-12-17T00:00:00",
          "2019-12-18T00:00:00",
          "2019-12-19T00:00:00",
          "2019-12-20T00:00:00",
          "2019-12-23T00:00:00",
          "2019-12-24T00:00:00",
          "2019-12-27T00:00:00",
          "2019-12-30T00:00:00",
          "2019-12-31T00:00:00",
          "2020-01-02T00:00:00",
          "2020-01-03T00:00:00",
          "2020-01-06T00:00:00",
          "2020-01-07T00:00:00",
          "2020-01-08T00:00:00",
          "2020-01-09T00:00:00",
          "2020-01-10T00:00:00",
          "2020-01-13T00:00:00",
          "2020-01-14T00:00:00",
          "2020-01-15T00:00:00",
          "2020-01-16T00:00:00",
          "2020-01-17T00:00:00",
          "2020-01-20T00:00:00",
          "2020-01-21T00:00:00",
          "2020-01-22T00:00:00",
          "2020-01-23T00:00:00",
          "2020-01-24T00:00:00",
          "2020-01-27T00:00:00",
          "2020-01-28T00:00:00",
          "2020-01-29T00:00:00",
          "2020-01-30T00:00:00",
          "2020-01-31T00:00:00",
          "2020-02-03T00:00:00",
          "2020-02-04T00:00:00",
          "2020-02-05T00:00:00",
          "2020-02-06T00:00:00",
          "2020-02-07T00:00:00",
          "2020-02-10T00:00:00",
          "2020-02-11T00:00:00",
          "2020-02-12T00:00:00",
          "2020-02-13T00:00:00",
          "2020-02-14T00:00:00"
         ],
         "xaxis": "x",
         "y": [
          146.28,
          147.96,
          150.84,
          150.4,
          154.08,
          154.62,
          155.7,
          156.76,
          158.06,
          157.56,
          155.84,
          155.94,
          158.92,
          159.8,
          156.58,
          153.2,
          153.88,
          153.64,
          154.9,
          156.06,
          153.8,
          149.14,
          148.92,
          147.82,
          148.54,
          149.1,
          150,
          153.94,
          161.5,
          161.84,
          164.64,
          169.78,
          170.18,
          169.34,
          170.88,
          171.02,
          171.62,
          175,
          172.36,
          176.12,
          173.3,
          174.58,
          170.7,
          172.7,
          177.72,
          178.2,
          179.66,
          184.24,
          181.68,
          181.5,
          182.94,
          181,
          179.92,
          183.46,
          175.94,
          177.32,
          175.5,
          176.34,
          177.08,
          177,
          175.88,
          177.88,
          176.7,
          175.48,
          174.78,
          174.3,
          175.16,
          174.94,
          176.6,
          175.82,
          175.7,
          178.24,
          179.58,
          183.3,
          182.24,
          181.1,
          179.68,
          177.1,
          176.96,
          176.16,
          176.528,
          176.66,
          176.24,
          176.528,
          180.5,
          176.64,
          176.62,
          176.06,
          176.82,
          181.72,
          185.52,
          185.28,
          185.22,
          182.62,
          179.92,
          181.36,
          182.02,
          181.3,
          179.14,
          176.58,
          177.52,
          171.64,
          172.46,
          169.92,
          164,
          162.38,
          162.8,
          167.08,
          170.64,
          170.4,
          166.42,
          164.38,
          167.44,
          173.14,
          172.54,
          171.8000030517578
         ],
         "yaxis": "y"
        }
       ],
       "layout": {
        "legend": {
         "title": {
          "text": "variable"
         },
         "tracegroupgap": 0
        },
        "template": {
         "data": {
          "bar": [
           {
            "error_x": {
             "color": "#2a3f5f"
            },
            "error_y": {
             "color": "#2a3f5f"
            },
            "marker": {
             "line": {
              "color": "#E5ECF6",
              "width": 0.5
             },
             "pattern": {
              "fillmode": "overlay",
              "size": 10,
              "solidity": 0.2
             }
            },
            "type": "bar"
           }
          ],
          "barpolar": [
           {
            "marker": {
             "line": {
              "color": "#E5ECF6",
              "width": 0.5
             },
             "pattern": {
              "fillmode": "overlay",
              "size": 10,
              "solidity": 0.2
             }
            },
            "type": "barpolar"
           }
          ],
          "carpet": [
           {
            "aaxis": {
             "endlinecolor": "#2a3f5f",
             "gridcolor": "white",
             "linecolor": "white",
             "minorgridcolor": "white",
             "startlinecolor": "#2a3f5f"
            },
            "baxis": {
             "endlinecolor": "#2a3f5f",
             "gridcolor": "white",
             "linecolor": "white",
             "minorgridcolor": "white",
             "startlinecolor": "#2a3f5f"
            },
            "type": "carpet"
           }
          ],
          "choropleth": [
           {
            "colorbar": {
             "outlinewidth": 0,
             "ticks": ""
            },
            "type": "choropleth"
           }
          ],
          "contour": [
           {
            "colorbar": {
             "outlinewidth": 0,
             "ticks": ""
            },
            "colorscale": [
             [
              0,
              "#0d0887"
             ],
             [
              0.1111111111111111,
              "#46039f"
             ],
             [
              0.2222222222222222,
              "#7201a8"
             ],
             [
              0.3333333333333333,
              "#9c179e"
             ],
             [
              0.4444444444444444,
              "#bd3786"
             ],
             [
              0.5555555555555556,
              "#d8576b"
             ],
             [
              0.6666666666666666,
              "#ed7953"
             ],
             [
              0.7777777777777778,
              "#fb9f3a"
             ],
             [
              0.8888888888888888,
              "#fdca26"
             ],
             [
              1,
              "#f0f921"
             ]
            ],
            "type": "contour"
           }
          ],
          "contourcarpet": [
           {
            "colorbar": {
             "outlinewidth": 0,
             "ticks": ""
            },
            "type": "contourcarpet"
           }
          ],
          "heatmap": [
           {
            "colorbar": {
             "outlinewidth": 0,
             "ticks": ""
            },
            "colorscale": [
             [
              0,
              "#0d0887"
             ],
             [
              0.1111111111111111,
              "#46039f"
             ],
             [
              0.2222222222222222,
              "#7201a8"
             ],
             [
              0.3333333333333333,
              "#9c179e"
             ],
             [
              0.4444444444444444,
              "#bd3786"
             ],
             [
              0.5555555555555556,
              "#d8576b"
             ],
             [
              0.6666666666666666,
              "#ed7953"
             ],
             [
              0.7777777777777778,
              "#fb9f3a"
             ],
             [
              0.8888888888888888,
              "#fdca26"
             ],
             [
              1,
              "#f0f921"
             ]
            ],
            "type": "heatmap"
           }
          ],
          "heatmapgl": [
           {
            "colorbar": {
             "outlinewidth": 0,
             "ticks": ""
            },
            "colorscale": [
             [
              0,
              "#0d0887"
             ],
             [
              0.1111111111111111,
              "#46039f"
             ],
             [
              0.2222222222222222,
              "#7201a8"
             ],
             [
              0.3333333333333333,
              "#9c179e"
             ],
             [
              0.4444444444444444,
              "#bd3786"
             ],
             [
              0.5555555555555556,
              "#d8576b"
             ],
             [
              0.6666666666666666,
              "#ed7953"
             ],
             [
              0.7777777777777778,
              "#fb9f3a"
             ],
             [
              0.8888888888888888,
              "#fdca26"
             ],
             [
              1,
              "#f0f921"
             ]
            ],
            "type": "heatmapgl"
           }
          ],
          "histogram": [
           {
            "marker": {
             "pattern": {
              "fillmode": "overlay",
              "size": 10,
              "solidity": 0.2
             }
            },
            "type": "histogram"
           }
          ],
          "histogram2d": [
           {
            "colorbar": {
             "outlinewidth": 0,
             "ticks": ""
            },
            "colorscale": [
             [
              0,
              "#0d0887"
             ],
             [
              0.1111111111111111,
              "#46039f"
             ],
             [
              0.2222222222222222,
              "#7201a8"
             ],
             [
              0.3333333333333333,
              "#9c179e"
             ],
             [
              0.4444444444444444,
              "#bd3786"
             ],
             [
              0.5555555555555556,
              "#d8576b"
             ],
             [
              0.6666666666666666,
              "#ed7953"
             ],
             [
              0.7777777777777778,
              "#fb9f3a"
             ],
             [
              0.8888888888888888,
              "#fdca26"
             ],
             [
              1,
              "#f0f921"
             ]
            ],
            "type": "histogram2d"
           }
          ],
          "histogram2dcontour": [
           {
            "colorbar": {
             "outlinewidth": 0,
             "ticks": ""
            },
            "colorscale": [
             [
              0,
              "#0d0887"
             ],
             [
              0.1111111111111111,
              "#46039f"
             ],
             [
              0.2222222222222222,
              "#7201a8"
             ],
             [
              0.3333333333333333,
              "#9c179e"
             ],
             [
              0.4444444444444444,
              "#bd3786"
             ],
             [
              0.5555555555555556,
              "#d8576b"
             ],
             [
              0.6666666666666666,
              "#ed7953"
             ],
             [
              0.7777777777777778,
              "#fb9f3a"
             ],
             [
              0.8888888888888888,
              "#fdca26"
             ],
             [
              1,
              "#f0f921"
             ]
            ],
            "type": "histogram2dcontour"
           }
          ],
          "mesh3d": [
           {
            "colorbar": {
             "outlinewidth": 0,
             "ticks": ""
            },
            "type": "mesh3d"
           }
          ],
          "parcoords": [
           {
            "line": {
             "colorbar": {
              "outlinewidth": 0,
              "ticks": ""
             }
            },
            "type": "parcoords"
           }
          ],
          "pie": [
           {
            "automargin": true,
            "type": "pie"
           }
          ],
          "scatter": [
           {
            "fillpattern": {
             "fillmode": "overlay",
             "size": 10,
             "solidity": 0.2
            },
            "type": "scatter"
           }
          ],
          "scatter3d": [
           {
            "line": {
             "colorbar": {
              "outlinewidth": 0,
              "ticks": ""
             }
            },
            "marker": {
             "colorbar": {
              "outlinewidth": 0,
              "ticks": ""
             }
            },
            "type": "scatter3d"
           }
          ],
          "scattercarpet": [
           {
            "marker": {
             "colorbar": {
              "outlinewidth": 0,
              "ticks": ""
             }
            },
            "type": "scattercarpet"
           }
          ],
          "scattergeo": [
           {
            "marker": {
             "colorbar": {
              "outlinewidth": 0,
              "ticks": ""
             }
            },
            "type": "scattergeo"
           }
          ],
          "scattergl": [
           {
            "marker": {
             "colorbar": {
              "outlinewidth": 0,
              "ticks": ""
             }
            },
            "type": "scattergl"
           }
          ],
          "scattermapbox": [
           {
            "marker": {
             "colorbar": {
              "outlinewidth": 0,
              "ticks": ""
             }
            },
            "type": "scattermapbox"
           }
          ],
          "scatterpolar": [
           {
            "marker": {
             "colorbar": {
              "outlinewidth": 0,
              "ticks": ""
             }
            },
            "type": "scatterpolar"
           }
          ],
          "scatterpolargl": [
           {
            "marker": {
             "colorbar": {
              "outlinewidth": 0,
              "ticks": ""
             }
            },
            "type": "scatterpolargl"
           }
          ],
          "scatterternary": [
           {
            "marker": {
             "colorbar": {
              "outlinewidth": 0,
              "ticks": ""
             }
            },
            "type": "scatterternary"
           }
          ],
          "surface": [
           {
            "colorbar": {
             "outlinewidth": 0,
             "ticks": ""
            },
            "colorscale": [
             [
              0,
              "#0d0887"
             ],
             [
              0.1111111111111111,
              "#46039f"
             ],
             [
              0.2222222222222222,
              "#7201a8"
             ],
             [
              0.3333333333333333,
              "#9c179e"
             ],
             [
              0.4444444444444444,
              "#bd3786"
             ],
             [
              0.5555555555555556,
              "#d8576b"
             ],
             [
              0.6666666666666666,
              "#ed7953"
             ],
             [
              0.7777777777777778,
              "#fb9f3a"
             ],
             [
              0.8888888888888888,
              "#fdca26"
             ],
             [
              1,
              "#f0f921"
             ]
            ],
            "type": "surface"
           }
          ],
          "table": [
           {
            "cells": {
             "fill": {
              "color": "#EBF0F8"
             },
             "line": {
              "color": "white"
             }
            },
            "header": {
             "fill": {
              "color": "#C8D4E3"
             },
             "line": {
              "color": "white"
             }
            },
            "type": "table"
           }
          ]
         },
         "layout": {
          "annotationdefaults": {
           "arrowcolor": "#2a3f5f",
           "arrowhead": 0,
           "arrowwidth": 1
          },
          "autotypenumbers": "strict",
          "coloraxis": {
           "colorbar": {
            "outlinewidth": 0,
            "ticks": ""
           }
          },
          "colorscale": {
           "diverging": [
            [
             0,
             "#8e0152"
            ],
            [
             0.1,
             "#c51b7d"
            ],
            [
             0.2,
             "#de77ae"
            ],
            [
             0.3,
             "#f1b6da"
            ],
            [
             0.4,
             "#fde0ef"
            ],
            [
             0.5,
             "#f7f7f7"
            ],
            [
             0.6,
             "#e6f5d0"
            ],
            [
             0.7,
             "#b8e186"
            ],
            [
             0.8,
             "#7fbc41"
            ],
            [
             0.9,
             "#4d9221"
            ],
            [
             1,
             "#276419"
            ]
           ],
           "sequential": [
            [
             0,
             "#0d0887"
            ],
            [
             0.1111111111111111,
             "#46039f"
            ],
            [
             0.2222222222222222,
             "#7201a8"
            ],
            [
             0.3333333333333333,
             "#9c179e"
            ],
            [
             0.4444444444444444,
             "#bd3786"
            ],
            [
             0.5555555555555556,
             "#d8576b"
            ],
            [
             0.6666666666666666,
             "#ed7953"
            ],
            [
             0.7777777777777778,
             "#fb9f3a"
            ],
            [
             0.8888888888888888,
             "#fdca26"
            ],
            [
             1,
             "#f0f921"
            ]
           ],
           "sequentialminus": [
            [
             0,
             "#0d0887"
            ],
            [
             0.1111111111111111,
             "#46039f"
            ],
            [
             0.2222222222222222,
             "#7201a8"
            ],
            [
             0.3333333333333333,
             "#9c179e"
            ],
            [
             0.4444444444444444,
             "#bd3786"
            ],
            [
             0.5555555555555556,
             "#d8576b"
            ],
            [
             0.6666666666666666,
             "#ed7953"
            ],
            [
             0.7777777777777778,
             "#fb9f3a"
            ],
            [
             0.8888888888888888,
             "#fdca26"
            ],
            [
             1,
             "#f0f921"
            ]
           ]
          },
          "colorway": [
           "#636efa",
           "#EF553B",
           "#00cc96",
           "#ab63fa",
           "#FFA15A",
           "#19d3f3",
           "#FF6692",
           "#B6E880",
           "#FF97FF",
           "#FECB52"
          ],
          "font": {
           "color": "#2a3f5f"
          },
          "geo": {
           "bgcolor": "white",
           "lakecolor": "white",
           "landcolor": "#E5ECF6",
           "showlakes": true,
           "showland": true,
           "subunitcolor": "white"
          },
          "hoverlabel": {
           "align": "left"
          },
          "hovermode": "closest",
          "mapbox": {
           "style": "light"
          },
          "paper_bgcolor": "white",
          "plot_bgcolor": "#E5ECF6",
          "polar": {
           "angularaxis": {
            "gridcolor": "white",
            "linecolor": "white",
            "ticks": ""
           },
           "bgcolor": "#E5ECF6",
           "radialaxis": {
            "gridcolor": "white",
            "linecolor": "white",
            "ticks": ""
           }
          },
          "scene": {
           "xaxis": {
            "backgroundcolor": "#E5ECF6",
            "gridcolor": "white",
            "gridwidth": 2,
            "linecolor": "white",
            "showbackground": true,
            "ticks": "",
            "zerolinecolor": "white"
           },
           "yaxis": {
            "backgroundcolor": "#E5ECF6",
            "gridcolor": "white",
            "gridwidth": 2,
            "linecolor": "white",
            "showbackground": true,
            "ticks": "",
            "zerolinecolor": "white"
           },
           "zaxis": {
            "backgroundcolor": "#E5ECF6",
            "gridcolor": "white",
            "gridwidth": 2,
            "linecolor": "white",
            "showbackground": true,
            "ticks": "",
            "zerolinecolor": "white"
           }
          },
          "shapedefaults": {
           "line": {
            "color": "#2a3f5f"
           }
          },
          "ternary": {
           "aaxis": {
            "gridcolor": "white",
            "linecolor": "white",
            "ticks": ""
           },
           "baxis": {
            "gridcolor": "white",
            "linecolor": "white",
            "ticks": ""
           },
           "bgcolor": "#E5ECF6",
           "caxis": {
            "gridcolor": "white",
            "linecolor": "white",
            "ticks": ""
           }
          },
          "title": {
           "x": 0.05
          },
          "xaxis": {
           "automargin": true,
           "gridcolor": "white",
           "linecolor": "white",
           "ticks": "",
           "title": {
            "standoff": 15
           },
           "zerolinecolor": "white",
           "zerolinewidth": 2
          },
          "yaxis": {
           "automargin": true,
           "gridcolor": "white",
           "linecolor": "white",
           "ticks": "",
           "title": {
            "standoff": 15
           },
           "zerolinecolor": "white",
           "zerolinewidth": 2
          }
         }
        },
        "title": {
         "text": "Closing Price Time Series"
        },
        "xaxis": {
         "anchor": "y",
         "domain": [
          0,
          1
         ],
         "title": {
          "text": "Date"
         }
        },
        "yaxis": {
         "anchor": "x",
         "domain": [
          0,
          1
         ],
         "title": {
          "text": "value"
         }
        }
       }
      },
      "text/html": [
       "<div>                            <div id=\"2f21df2a-b8d5-46c4-a0d3-cb9ca2e95fcc\" class=\"plotly-graph-div\" style=\"height:525px; width:100%;\"></div>            <script type=\"text/javascript\">                require([\"plotly\"], function(Plotly) {                    window.PLOTLYENV=window.PLOTLYENV || {};                                    if (document.getElementById(\"2f21df2a-b8d5-46c4-a0d3-cb9ca2e95fcc\")) {                    Plotly.newPlot(                        \"2f21df2a-b8d5-46c4-a0d3-cb9ca2e95fcc\",                        [{\"hovertemplate\":\"variable=PERNOD RICARD SA<br>Date=%{x}<br>value=%{y}<extra></extra>\",\"legendgroup\":\"PERNOD RICARD SA\",\"line\":{\"color\":\"#636efa\",\"dash\":\"solid\"},\"marker\":{\"symbol\":\"circle\"},\"mode\":\"lines\",\"name\":\"PERNOD RICARD SA\",\"orientation\":\"v\",\"showlegend\":true,\"x\":[\"2019-09-03T00:00:00\",\"2019-09-04T00:00:00\",\"2019-09-05T00:00:00\",\"2019-09-06T00:00:00\",\"2019-09-09T00:00:00\",\"2019-09-10T00:00:00\",\"2019-09-11T00:00:00\",\"2019-09-12T00:00:00\",\"2019-09-13T00:00:00\",\"2019-09-16T00:00:00\",\"2019-09-17T00:00:00\",\"2019-09-18T00:00:00\",\"2019-09-19T00:00:00\",\"2019-09-20T00:00:00\",\"2019-09-23T00:00:00\",\"2019-09-24T00:00:00\",\"2019-09-25T00:00:00\",\"2019-09-26T00:00:00\",\"2019-09-27T00:00:00\",\"2019-09-30T00:00:00\",\"2019-10-01T00:00:00\",\"2019-10-02T00:00:00\",\"2019-10-03T00:00:00\",\"2019-10-04T00:00:00\",\"2019-10-07T00:00:00\",\"2019-10-08T00:00:00\",\"2019-10-09T00:00:00\",\"2019-10-10T00:00:00\",\"2019-10-11T00:00:00\",\"2019-10-14T00:00:00\",\"2019-10-15T00:00:00\",\"2019-10-16T00:00:00\",\"2019-10-17T00:00:00\",\"2019-10-18T00:00:00\",\"2019-10-21T00:00:00\",\"2019-10-22T00:00:00\",\"2019-10-23T00:00:00\",\"2019-10-24T00:00:00\",\"2019-10-25T00:00:00\",\"2019-10-28T00:00:00\",\"2019-10-29T00:00:00\",\"2019-10-30T00:00:00\",\"2019-10-31T00:00:00\",\"2019-11-01T00:00:00\",\"2019-11-04T00:00:00\",\"2019-11-05T00:00:00\",\"2019-11-06T00:00:00\",\"2019-11-07T00:00:00\",\"2019-11-08T00:00:00\",\"2019-11-11T00:00:00\",\"2019-11-12T00:00:00\",\"2019-11-13T00:00:00\",\"2019-11-14T00:00:00\",\"2019-11-15T00:00:00\",\"2019-11-18T00:00:00\",\"2019-11-19T00:00:00\",\"2019-11-20T00:00:00\",\"2019-11-21T00:00:00\",\"2019-11-22T00:00:00\",\"2019-11-25T00:00:00\",\"2019-11-26T00:00:00\",\"2019-11-27T00:00:00\",\"2019-11-28T00:00:00\",\"2019-11-29T00:00:00\",\"2019-12-02T00:00:00\",\"2019-12-03T00:00:00\",\"2019-12-04T00:00:00\",\"2019-12-05T00:00:00\",\"2019-12-06T00:00:00\",\"2019-12-09T00:00:00\",\"2019-12-10T00:00:00\",\"2019-12-11T00:00:00\",\"2019-12-12T00:00:00\",\"2019-12-13T00:00:00\",\"2019-12-16T00:00:00\",\"2019-12-17T00:00:00\",\"2019-12-18T00:00:00\",\"2019-12-19T00:00:00\",\"2019-12-20T00:00:00\",\"2019-12-23T00:00:00\",\"2019-12-24T00:00:00\",\"2019-12-27T00:00:00\",\"2019-12-30T00:00:00\",\"2019-12-31T00:00:00\",\"2020-01-02T00:00:00\",\"2020-01-03T00:00:00\",\"2020-01-06T00:00:00\",\"2020-01-07T00:00:00\",\"2020-01-08T00:00:00\",\"2020-01-09T00:00:00\",\"2020-01-10T00:00:00\",\"2020-01-13T00:00:00\",\"2020-01-14T00:00:00\",\"2020-01-15T00:00:00\",\"2020-01-16T00:00:00\",\"2020-01-17T00:00:00\",\"2020-01-20T00:00:00\",\"2020-01-21T00:00:00\",\"2020-01-22T00:00:00\",\"2020-01-23T00:00:00\",\"2020-01-24T00:00:00\",\"2020-01-27T00:00:00\",\"2020-01-28T00:00:00\",\"2020-01-29T00:00:00\",\"2020-01-30T00:00:00\",\"2020-01-31T00:00:00\",\"2020-02-03T00:00:00\",\"2020-02-04T00:00:00\",\"2020-02-05T00:00:00\",\"2020-02-06T00:00:00\",\"2020-02-07T00:00:00\",\"2020-02-10T00:00:00\",\"2020-02-11T00:00:00\",\"2020-02-12T00:00:00\",\"2020-02-13T00:00:00\",\"2020-02-14T00:00:00\"],\"xaxis\":\"x\",\"y\":[177.25,176.55,174.6,174.75,168.65,168.15,169.25,168.6,164.45,162.3,166.4,165.7,164.8,164.4,164.25,165.6,162.0,162.85,162.45,163.4,163.15,162.45,169.35,172.0,174.0,171.9,172.35,170.4,170.25,168.65,167.7,166.6,159.65,161.0,159.1,156.95,157.5,159.75,159.3,159.1,160.2,163.65,165.5,164.2,163.45,163.0,165.45,164.75,167.4,169.2,168.05,169.65,169.65,170.05,171.0,170.45,168.0,167.25,166.5,165.3,165.95,167.0,166.2,166.7,162.2,162.65,161.5,161.25,163.2,162.7,162.5,162.6,161.5,161.0,161.15,160.3,160.1,159.0,160.35,161.2,162.55,162.0,161.3,159.4,160.35,161.2,161.2,160.55,159.45,159.7,158.9,162.8,165.7,167.25,167.5,170.6,169.15,168.6,167.4,165.8,164.2,158.6,158.0,158.45,156.55,156.5,157.0,159.3,158.3,161.4,161.3,160.8,160.0,160.65,166.75,165.95],\"yaxis\":\"y\",\"type\":\"scatter\"},{\"hovertemplate\":\"variable=VOLKSWAGEN AG-PREF<br>Date=%{x}<br>value=%{y}<extra></extra>\",\"legendgroup\":\"VOLKSWAGEN AG-PREF\",\"line\":{\"color\":\"#EF553B\",\"dash\":\"solid\"},\"marker\":{\"symbol\":\"circle\"},\"mode\":\"lines\",\"name\":\"VOLKSWAGEN AG-PREF\",\"orientation\":\"v\",\"showlegend\":true,\"x\":[\"2019-09-03T00:00:00\",\"2019-09-04T00:00:00\",\"2019-09-05T00:00:00\",\"2019-09-06T00:00:00\",\"2019-09-09T00:00:00\",\"2019-09-10T00:00:00\",\"2019-09-11T00:00:00\",\"2019-09-12T00:00:00\",\"2019-09-13T00:00:00\",\"2019-09-16T00:00:00\",\"2019-09-17T00:00:00\",\"2019-09-18T00:00:00\",\"2019-09-19T00:00:00\",\"2019-09-20T00:00:00\",\"2019-09-23T00:00:00\",\"2019-09-24T00:00:00\",\"2019-09-25T00:00:00\",\"2019-09-26T00:00:00\",\"2019-09-27T00:00:00\",\"2019-09-30T00:00:00\",\"2019-10-01T00:00:00\",\"2019-10-02T00:00:00\",\"2019-10-03T00:00:00\",\"2019-10-04T00:00:00\",\"2019-10-07T00:00:00\",\"2019-10-08T00:00:00\",\"2019-10-09T00:00:00\",\"2019-10-10T00:00:00\",\"2019-10-11T00:00:00\",\"2019-10-14T00:00:00\",\"2019-10-15T00:00:00\",\"2019-10-16T00:00:00\",\"2019-10-17T00:00:00\",\"2019-10-18T00:00:00\",\"2019-10-21T00:00:00\",\"2019-10-22T00:00:00\",\"2019-10-23T00:00:00\",\"2019-10-24T00:00:00\",\"2019-10-25T00:00:00\",\"2019-10-28T00:00:00\",\"2019-10-29T00:00:00\",\"2019-10-30T00:00:00\",\"2019-10-31T00:00:00\",\"2019-11-01T00:00:00\",\"2019-11-04T00:00:00\",\"2019-11-05T00:00:00\",\"2019-11-06T00:00:00\",\"2019-11-07T00:00:00\",\"2019-11-08T00:00:00\",\"2019-11-11T00:00:00\",\"2019-11-12T00:00:00\",\"2019-11-13T00:00:00\",\"2019-11-14T00:00:00\",\"2019-11-15T00:00:00\",\"2019-11-18T00:00:00\",\"2019-11-19T00:00:00\",\"2019-11-20T00:00:00\",\"2019-11-21T00:00:00\",\"2019-11-22T00:00:00\",\"2019-11-25T00:00:00\",\"2019-11-26T00:00:00\",\"2019-11-27T00:00:00\",\"2019-11-28T00:00:00\",\"2019-11-29T00:00:00\",\"2019-12-02T00:00:00\",\"2019-12-03T00:00:00\",\"2019-12-04T00:00:00\",\"2019-12-05T00:00:00\",\"2019-12-06T00:00:00\",\"2019-12-09T00:00:00\",\"2019-12-10T00:00:00\",\"2019-12-11T00:00:00\",\"2019-12-12T00:00:00\",\"2019-12-13T00:00:00\",\"2019-12-16T00:00:00\",\"2019-12-17T00:00:00\",\"2019-12-18T00:00:00\",\"2019-12-19T00:00:00\",\"2019-12-20T00:00:00\",\"2019-12-23T00:00:00\",\"2019-12-24T00:00:00\",\"2019-12-27T00:00:00\",\"2019-12-30T00:00:00\",\"2019-12-31T00:00:00\",\"2020-01-02T00:00:00\",\"2020-01-03T00:00:00\",\"2020-01-06T00:00:00\",\"2020-01-07T00:00:00\",\"2020-01-08T00:00:00\",\"2020-01-09T00:00:00\",\"2020-01-10T00:00:00\",\"2020-01-13T00:00:00\",\"2020-01-14T00:00:00\",\"2020-01-15T00:00:00\",\"2020-01-16T00:00:00\",\"2020-01-17T00:00:00\",\"2020-01-20T00:00:00\",\"2020-01-21T00:00:00\",\"2020-01-22T00:00:00\",\"2020-01-23T00:00:00\",\"2020-01-24T00:00:00\",\"2020-01-27T00:00:00\",\"2020-01-28T00:00:00\",\"2020-01-29T00:00:00\",\"2020-01-30T00:00:00\",\"2020-01-31T00:00:00\",\"2020-02-03T00:00:00\",\"2020-02-04T00:00:00\",\"2020-02-05T00:00:00\",\"2020-02-06T00:00:00\",\"2020-02-07T00:00:00\",\"2020-02-10T00:00:00\",\"2020-02-11T00:00:00\",\"2020-02-12T00:00:00\",\"2020-02-13T00:00:00\",\"2020-02-14T00:00:00\"],\"xaxis\":\"x\",\"y\":[146.28,147.96,150.84,150.4,154.08,154.62,155.7,156.76,158.06,157.56,155.84,155.94,158.92,159.8,156.58,153.2,153.88,153.64,154.9,156.06,153.8,149.14,148.92,147.82,148.54,149.1,150.0,153.94,161.5,161.84,164.64,169.78,170.18,169.34,170.88,171.02,171.62,175.0,172.36,176.12,173.3,174.58,170.7,172.7,177.72,178.2,179.66,184.24,181.68,181.5,182.94,181.0,179.92,183.46,175.94,177.32,175.5,176.34,177.08,177.0,175.88,177.88,176.7,175.48,174.78,174.3,175.16,174.94,176.6,175.82,175.7,178.24,179.58,183.3,182.24,181.1,179.68,177.1,176.96,176.16,176.528,176.66,176.24,176.528,180.5,176.64,176.62,176.06,176.82,181.72,185.52,185.28,185.22,182.62,179.92,181.36,182.02,181.3,179.14,176.58,177.52,171.64,172.46,169.92,164.0,162.38,162.8,167.08,170.64,170.4,166.42,164.38,167.44,173.14,172.54,171.8000030517578],\"yaxis\":\"y\",\"type\":\"scatter\"}],                        {\"template\":{\"data\":{\"histogram2dcontour\":[{\"type\":\"histogram2dcontour\",\"colorbar\":{\"outlinewidth\":0,\"ticks\":\"\"},\"colorscale\":[[0.0,\"#0d0887\"],[0.1111111111111111,\"#46039f\"],[0.2222222222222222,\"#7201a8\"],[0.3333333333333333,\"#9c179e\"],[0.4444444444444444,\"#bd3786\"],[0.5555555555555556,\"#d8576b\"],[0.6666666666666666,\"#ed7953\"],[0.7777777777777778,\"#fb9f3a\"],[0.8888888888888888,\"#fdca26\"],[1.0,\"#f0f921\"]]}],\"choropleth\":[{\"type\":\"choropleth\",\"colorbar\":{\"outlinewidth\":0,\"ticks\":\"\"}}],\"histogram2d\":[{\"type\":\"histogram2d\",\"colorbar\":{\"outlinewidth\":0,\"ticks\":\"\"},\"colorscale\":[[0.0,\"#0d0887\"],[0.1111111111111111,\"#46039f\"],[0.2222222222222222,\"#7201a8\"],[0.3333333333333333,\"#9c179e\"],[0.4444444444444444,\"#bd3786\"],[0.5555555555555556,\"#d8576b\"],[0.6666666666666666,\"#ed7953\"],[0.7777777777777778,\"#fb9f3a\"],[0.8888888888888888,\"#fdca26\"],[1.0,\"#f0f921\"]]}],\"heatmap\":[{\"type\":\"heatmap\",\"colorbar\":{\"outlinewidth\":0,\"ticks\":\"\"},\"colorscale\":[[0.0,\"#0d0887\"],[0.1111111111111111,\"#46039f\"],[0.2222222222222222,\"#7201a8\"],[0.3333333333333333,\"#9c179e\"],[0.4444444444444444,\"#bd3786\"],[0.5555555555555556,\"#d8576b\"],[0.6666666666666666,\"#ed7953\"],[0.7777777777777778,\"#fb9f3a\"],[0.8888888888888888,\"#fdca26\"],[1.0,\"#f0f921\"]]}],\"heatmapgl\":[{\"type\":\"heatmapgl\",\"colorbar\":{\"outlinewidth\":0,\"ticks\":\"\"},\"colorscale\":[[0.0,\"#0d0887\"],[0.1111111111111111,\"#46039f\"],[0.2222222222222222,\"#7201a8\"],[0.3333333333333333,\"#9c179e\"],[0.4444444444444444,\"#bd3786\"],[0.5555555555555556,\"#d8576b\"],[0.6666666666666666,\"#ed7953\"],[0.7777777777777778,\"#fb9f3a\"],[0.8888888888888888,\"#fdca26\"],[1.0,\"#f0f921\"]]}],\"contourcarpet\":[{\"type\":\"contourcarpet\",\"colorbar\":{\"outlinewidth\":0,\"ticks\":\"\"}}],\"contour\":[{\"type\":\"contour\",\"colorbar\":{\"outlinewidth\":0,\"ticks\":\"\"},\"colorscale\":[[0.0,\"#0d0887\"],[0.1111111111111111,\"#46039f\"],[0.2222222222222222,\"#7201a8\"],[0.3333333333333333,\"#9c179e\"],[0.4444444444444444,\"#bd3786\"],[0.5555555555555556,\"#d8576b\"],[0.6666666666666666,\"#ed7953\"],[0.7777777777777778,\"#fb9f3a\"],[0.8888888888888888,\"#fdca26\"],[1.0,\"#f0f921\"]]}],\"surface\":[{\"type\":\"surface\",\"colorbar\":{\"outlinewidth\":0,\"ticks\":\"\"},\"colorscale\":[[0.0,\"#0d0887\"],[0.1111111111111111,\"#46039f\"],[0.2222222222222222,\"#7201a8\"],[0.3333333333333333,\"#9c179e\"],[0.4444444444444444,\"#bd3786\"],[0.5555555555555556,\"#d8576b\"],[0.6666666666666666,\"#ed7953\"],[0.7777777777777778,\"#fb9f3a\"],[0.8888888888888888,\"#fdca26\"],[1.0,\"#f0f921\"]]}],\"mesh3d\":[{\"type\":\"mesh3d\",\"colorbar\":{\"outlinewidth\":0,\"ticks\":\"\"}}],\"scatter\":[{\"fillpattern\":{\"fillmode\":\"overlay\",\"size\":10,\"solidity\":0.2},\"type\":\"scatter\"}],\"parcoords\":[{\"type\":\"parcoords\",\"line\":{\"colorbar\":{\"outlinewidth\":0,\"ticks\":\"\"}}}],\"scatterpolargl\":[{\"type\":\"scatterpolargl\",\"marker\":{\"colorbar\":{\"outlinewidth\":0,\"ticks\":\"\"}}}],\"bar\":[{\"error_x\":{\"color\":\"#2a3f5f\"},\"error_y\":{\"color\":\"#2a3f5f\"},\"marker\":{\"line\":{\"color\":\"#E5ECF6\",\"width\":0.5},\"pattern\":{\"fillmode\":\"overlay\",\"size\":10,\"solidity\":0.2}},\"type\":\"bar\"}],\"scattergeo\":[{\"type\":\"scattergeo\",\"marker\":{\"colorbar\":{\"outlinewidth\":0,\"ticks\":\"\"}}}],\"scatterpolar\":[{\"type\":\"scatterpolar\",\"marker\":{\"colorbar\":{\"outlinewidth\":0,\"ticks\":\"\"}}}],\"histogram\":[{\"marker\":{\"pattern\":{\"fillmode\":\"overlay\",\"size\":10,\"solidity\":0.2}},\"type\":\"histogram\"}],\"scattergl\":[{\"type\":\"scattergl\",\"marker\":{\"colorbar\":{\"outlinewidth\":0,\"ticks\":\"\"}}}],\"scatter3d\":[{\"type\":\"scatter3d\",\"line\":{\"colorbar\":{\"outlinewidth\":0,\"ticks\":\"\"}},\"marker\":{\"colorbar\":{\"outlinewidth\":0,\"ticks\":\"\"}}}],\"scattermapbox\":[{\"type\":\"scattermapbox\",\"marker\":{\"colorbar\":{\"outlinewidth\":0,\"ticks\":\"\"}}}],\"scatterternary\":[{\"type\":\"scatterternary\",\"marker\":{\"colorbar\":{\"outlinewidth\":0,\"ticks\":\"\"}}}],\"scattercarpet\":[{\"type\":\"scattercarpet\",\"marker\":{\"colorbar\":{\"outlinewidth\":0,\"ticks\":\"\"}}}],\"carpet\":[{\"aaxis\":{\"endlinecolor\":\"#2a3f5f\",\"gridcolor\":\"white\",\"linecolor\":\"white\",\"minorgridcolor\":\"white\",\"startlinecolor\":\"#2a3f5f\"},\"baxis\":{\"endlinecolor\":\"#2a3f5f\",\"gridcolor\":\"white\",\"linecolor\":\"white\",\"minorgridcolor\":\"white\",\"startlinecolor\":\"#2a3f5f\"},\"type\":\"carpet\"}],\"table\":[{\"cells\":{\"fill\":{\"color\":\"#EBF0F8\"},\"line\":{\"color\":\"white\"}},\"header\":{\"fill\":{\"color\":\"#C8D4E3\"},\"line\":{\"color\":\"white\"}},\"type\":\"table\"}],\"barpolar\":[{\"marker\":{\"line\":{\"color\":\"#E5ECF6\",\"width\":0.5},\"pattern\":{\"fillmode\":\"overlay\",\"size\":10,\"solidity\":0.2}},\"type\":\"barpolar\"}],\"pie\":[{\"automargin\":true,\"type\":\"pie\"}]},\"layout\":{\"autotypenumbers\":\"strict\",\"colorway\":[\"#636efa\",\"#EF553B\",\"#00cc96\",\"#ab63fa\",\"#FFA15A\",\"#19d3f3\",\"#FF6692\",\"#B6E880\",\"#FF97FF\",\"#FECB52\"],\"font\":{\"color\":\"#2a3f5f\"},\"hovermode\":\"closest\",\"hoverlabel\":{\"align\":\"left\"},\"paper_bgcolor\":\"white\",\"plot_bgcolor\":\"#E5ECF6\",\"polar\":{\"bgcolor\":\"#E5ECF6\",\"angularaxis\":{\"gridcolor\":\"white\",\"linecolor\":\"white\",\"ticks\":\"\"},\"radialaxis\":{\"gridcolor\":\"white\",\"linecolor\":\"white\",\"ticks\":\"\"}},\"ternary\":{\"bgcolor\":\"#E5ECF6\",\"aaxis\":{\"gridcolor\":\"white\",\"linecolor\":\"white\",\"ticks\":\"\"},\"baxis\":{\"gridcolor\":\"white\",\"linecolor\":\"white\",\"ticks\":\"\"},\"caxis\":{\"gridcolor\":\"white\",\"linecolor\":\"white\",\"ticks\":\"\"}},\"coloraxis\":{\"colorbar\":{\"outlinewidth\":0,\"ticks\":\"\"}},\"colorscale\":{\"sequential\":[[0.0,\"#0d0887\"],[0.1111111111111111,\"#46039f\"],[0.2222222222222222,\"#7201a8\"],[0.3333333333333333,\"#9c179e\"],[0.4444444444444444,\"#bd3786\"],[0.5555555555555556,\"#d8576b\"],[0.6666666666666666,\"#ed7953\"],[0.7777777777777778,\"#fb9f3a\"],[0.8888888888888888,\"#fdca26\"],[1.0,\"#f0f921\"]],\"sequentialminus\":[[0.0,\"#0d0887\"],[0.1111111111111111,\"#46039f\"],[0.2222222222222222,\"#7201a8\"],[0.3333333333333333,\"#9c179e\"],[0.4444444444444444,\"#bd3786\"],[0.5555555555555556,\"#d8576b\"],[0.6666666666666666,\"#ed7953\"],[0.7777777777777778,\"#fb9f3a\"],[0.8888888888888888,\"#fdca26\"],[1.0,\"#f0f921\"]],\"diverging\":[[0,\"#8e0152\"],[0.1,\"#c51b7d\"],[0.2,\"#de77ae\"],[0.3,\"#f1b6da\"],[0.4,\"#fde0ef\"],[0.5,\"#f7f7f7\"],[0.6,\"#e6f5d0\"],[0.7,\"#b8e186\"],[0.8,\"#7fbc41\"],[0.9,\"#4d9221\"],[1,\"#276419\"]]},\"xaxis\":{\"gridcolor\":\"white\",\"linecolor\":\"white\",\"ticks\":\"\",\"title\":{\"standoff\":15},\"zerolinecolor\":\"white\",\"automargin\":true,\"zerolinewidth\":2},\"yaxis\":{\"gridcolor\":\"white\",\"linecolor\":\"white\",\"ticks\":\"\",\"title\":{\"standoff\":15},\"zerolinecolor\":\"white\",\"automargin\":true,\"zerolinewidth\":2},\"scene\":{\"xaxis\":{\"backgroundcolor\":\"#E5ECF6\",\"gridcolor\":\"white\",\"linecolor\":\"white\",\"showbackground\":true,\"ticks\":\"\",\"zerolinecolor\":\"white\",\"gridwidth\":2},\"yaxis\":{\"backgroundcolor\":\"#E5ECF6\",\"gridcolor\":\"white\",\"linecolor\":\"white\",\"showbackground\":true,\"ticks\":\"\",\"zerolinecolor\":\"white\",\"gridwidth\":2},\"zaxis\":{\"backgroundcolor\":\"#E5ECF6\",\"gridcolor\":\"white\",\"linecolor\":\"white\",\"showbackground\":true,\"ticks\":\"\",\"zerolinecolor\":\"white\",\"gridwidth\":2}},\"shapedefaults\":{\"line\":{\"color\":\"#2a3f5f\"}},\"annotationdefaults\":{\"arrowcolor\":\"#2a3f5f\",\"arrowhead\":0,\"arrowwidth\":1},\"geo\":{\"bgcolor\":\"white\",\"landcolor\":\"#E5ECF6\",\"subunitcolor\":\"white\",\"showland\":true,\"showlakes\":true,\"lakecolor\":\"white\"},\"title\":{\"x\":0.05},\"mapbox\":{\"style\":\"light\"}}},\"xaxis\":{\"anchor\":\"y\",\"domain\":[0.0,1.0],\"title\":{\"text\":\"Date\"}},\"yaxis\":{\"anchor\":\"x\",\"domain\":[0.0,1.0],\"title\":{\"text\":\"value\"}},\"legend\":{\"title\":{\"text\":\"variable\"},\"tracegroupgap\":0},\"title\":{\"text\":\"Closing Price Time Series\"}},                        {\"responsive\": true}                    ).then(function(){\n",
       "                            \n",
       "var gd = document.getElementById('2f21df2a-b8d5-46c4-a0d3-cb9ca2e95fcc');\n",
       "var x = new MutationObserver(function (mutations, observer) {{\n",
       "        var display = window.getComputedStyle(gd).display;\n",
       "        if (!display || display === 'none') {{\n",
       "            console.log([gd, 'removed!']);\n",
       "            Plotly.purge(gd);\n",
       "            observer.disconnect();\n",
       "        }}\n",
       "}});\n",
       "\n",
       "// Listen for the removal of the full notebook cells\n",
       "var notebookContainer = gd.closest('#notebook-container');\n",
       "if (notebookContainer) {{\n",
       "    x.observe(notebookContainer, {childList: true});\n",
       "}}\n",
       "\n",
       "// Listen for the clearing of the current output cell\n",
       "var outputEl = gd.closest('.output');\n",
       "if (outputEl) {{\n",
       "    x.observe(outputEl, {childList: true});\n",
       "}}\n",
       "\n",
       "                        })                };                });            </script>        </div>"
      ]
     },
     "metadata": {},
     "output_type": "display_data"
    }
   ],
   "source": [
    "fig5 = px.line(df4, x=df4.index, y=[\"PERNOD RICARD SA\",\"VOLKSWAGEN AG-PREF\"], title = \"Closing Price Time Series\")\n",
    "fig5.show()"
   ]
  },
  {
   "cell_type": "markdown",
   "metadata": {},
   "source": [
    "# Building Portfolio"
   ]
  },
  {
   "cell_type": "markdown",
   "metadata": {},
   "source": [
    "## In the project it has been asked to build a portfolio of 1 to 5 constituents from EuroStoxx 50, and after studying negatively correlated stocks to Pernod, now we are down to 12 constituents. Keeping in mind the diversification given all the 12 constitutents are neither very highly negatively correlated to Pernod, for meanwhile it would be good to see how a portfolio of 13 companies (Pernod plus 12 others which are negatively correlated) help reduce the risk.\n"
   ]
  },
  {
   "cell_type": "markdown",
   "metadata": {},
   "source": [
    "# Portfolio Constituent's Returns, Risk and Covariance for last 116 days"
   ]
  },
  {
   "cell_type": "code",
   "execution_count": 504,
   "metadata": {},
   "outputs": [
    {
     "data": {
      "text/html": [
       "<div>\n",
       "<style scoped>\n",
       "    .dataframe tbody tr th:only-of-type {\n",
       "        vertical-align: middle;\n",
       "    }\n",
       "\n",
       "    .dataframe tbody tr th {\n",
       "        vertical-align: top;\n",
       "    }\n",
       "\n",
       "    .dataframe thead th {\n",
       "        text-align: right;\n",
       "    }\n",
       "</style>\n",
       "<table border=\"1\" class=\"dataframe\">\n",
       "  <thead>\n",
       "    <tr style=\"text-align: right;\">\n",
       "      <th></th>\n",
       "      <th>PERNOD RICARD SA</th>\n",
       "      <th>BANCO BILBAO VIZCAYA ARGENTA</th>\n",
       "      <th>BANCO SANTANDER SA</th>\n",
       "      <th>AXA SA</th>\n",
       "      <th>BNP PARIBAS</th>\n",
       "      <th>ING GROEP NV</th>\n",
       "      <th>INTESA SANPAOLO</th>\n",
       "      <th>SOCIETE GENERALE SA</th>\n",
       "      <th>BAYERISCHE MOTOREN WERKE AG</th>\n",
       "      <th>BASF SE</th>\n",
       "      <th>SIEMENS AG-REG</th>\n",
       "      <th>VOLKSWAGEN AG-PREF</th>\n",
       "      <th>MERCEDES-BENZ GROUP AG</th>\n",
       "    </tr>\n",
       "    <tr>\n",
       "      <th>Date</th>\n",
       "      <th></th>\n",
       "      <th></th>\n",
       "      <th></th>\n",
       "      <th></th>\n",
       "      <th></th>\n",
       "      <th></th>\n",
       "      <th></th>\n",
       "      <th></th>\n",
       "      <th></th>\n",
       "      <th></th>\n",
       "      <th></th>\n",
       "      <th></th>\n",
       "      <th></th>\n",
       "    </tr>\n",
       "  </thead>\n",
       "  <tbody>\n",
       "    <tr>\n",
       "      <th>2019-09-04</th>\n",
       "      <td>-0.003949</td>\n",
       "      <td>0.006300</td>\n",
       "      <td>0.002501</td>\n",
       "      <td>0.010091</td>\n",
       "      <td>0.010038</td>\n",
       "      <td>0.013993</td>\n",
       "      <td>0.013497</td>\n",
       "      <td>0.016757</td>\n",
       "      <td>0.011424</td>\n",
       "      <td>0.014319</td>\n",
       "      <td>0.014799</td>\n",
       "      <td>0.011485</td>\n",
       "      <td>0.021964</td>\n",
       "    </tr>\n",
       "    <tr>\n",
       "      <th>2019-09-05</th>\n",
       "      <td>-0.011045</td>\n",
       "      <td>0.042430</td>\n",
       "      <td>0.035222</td>\n",
       "      <td>0.018316</td>\n",
       "      <td>0.029209</td>\n",
       "      <td>0.030338</td>\n",
       "      <td>0.014057</td>\n",
       "      <td>0.034889</td>\n",
       "      <td>0.020134</td>\n",
       "      <td>0.013287</td>\n",
       "      <td>0.003838</td>\n",
       "      <td>0.019465</td>\n",
       "      <td>0.031385</td>\n",
       "    </tr>\n",
       "    <tr>\n",
       "      <th>2019-09-06</th>\n",
       "      <td>0.000859</td>\n",
       "      <td>-0.001335</td>\n",
       "      <td>0.001134</td>\n",
       "      <td>0.007241</td>\n",
       "      <td>-0.000236</td>\n",
       "      <td>0.005424</td>\n",
       "      <td>0.005350</td>\n",
       "      <td>-0.001034</td>\n",
       "      <td>0.000000</td>\n",
       "      <td>0.007376</td>\n",
       "      <td>0.010923</td>\n",
       "      <td>-0.002917</td>\n",
       "      <td>0.001213</td>\n",
       "    </tr>\n",
       "    <tr>\n",
       "      <th>2019-09-09</th>\n",
       "      <td>-0.034907</td>\n",
       "      <td>0.024944</td>\n",
       "      <td>0.024214</td>\n",
       "      <td>0.018785</td>\n",
       "      <td>0.029682</td>\n",
       "      <td>0.027634</td>\n",
       "      <td>0.016691</td>\n",
       "      <td>0.040994</td>\n",
       "      <td>0.014442</td>\n",
       "      <td>0.013342</td>\n",
       "      <td>0.017720</td>\n",
       "      <td>0.024468</td>\n",
       "      <td>0.023015</td>\n",
       "    </tr>\n",
       "    <tr>\n",
       "      <th>2019-09-10</th>\n",
       "      <td>-0.002965</td>\n",
       "      <td>0.020426</td>\n",
       "      <td>0.028757</td>\n",
       "      <td>0.015252</td>\n",
       "      <td>0.019218</td>\n",
       "      <td>0.025070</td>\n",
       "      <td>0.010469</td>\n",
       "      <td>0.016110</td>\n",
       "      <td>0.008700</td>\n",
       "      <td>0.025530</td>\n",
       "      <td>0.019216</td>\n",
       "      <td>0.003505</td>\n",
       "      <td>0.008611</td>\n",
       "    </tr>\n",
       "  </tbody>\n",
       "</table>\n",
       "</div>"
      ],
      "text/plain": [
       "            PERNOD RICARD SA  BANCO BILBAO VIZCAYA ARGENTA  \\\n",
       "Date                                                         \n",
       "2019-09-04         -0.003949                      0.006300   \n",
       "2019-09-05         -0.011045                      0.042430   \n",
       "2019-09-06          0.000859                     -0.001335   \n",
       "2019-09-09         -0.034907                      0.024944   \n",
       "2019-09-10         -0.002965                      0.020426   \n",
       "\n",
       "            BANCO SANTANDER SA    AXA SA  BNP PARIBAS  ING GROEP NV  \\\n",
       "Date                                                                  \n",
       "2019-09-04            0.002501  0.010091     0.010038      0.013993   \n",
       "2019-09-05            0.035222  0.018316     0.029209      0.030338   \n",
       "2019-09-06            0.001134  0.007241    -0.000236      0.005424   \n",
       "2019-09-09            0.024214  0.018785     0.029682      0.027634   \n",
       "2019-09-10            0.028757  0.015252     0.019218      0.025070   \n",
       "\n",
       "            INTESA SANPAOLO  SOCIETE GENERALE SA  BAYERISCHE MOTOREN WERKE AG  \\\n",
       "Date                                                                            \n",
       "2019-09-04         0.013497             0.016757                     0.011424   \n",
       "2019-09-05         0.014057             0.034889                     0.020134   \n",
       "2019-09-06         0.005350            -0.001034                     0.000000   \n",
       "2019-09-09         0.016691             0.040994                     0.014442   \n",
       "2019-09-10         0.010469             0.016110                     0.008700   \n",
       "\n",
       "             BASF SE  SIEMENS AG-REG  VOLKSWAGEN AG-PREF  \\\n",
       "Date                                                       \n",
       "2019-09-04  0.014319        0.014799            0.011485   \n",
       "2019-09-05  0.013287        0.003838            0.019465   \n",
       "2019-09-06  0.007376        0.010923           -0.002917   \n",
       "2019-09-09  0.013342        0.017720            0.024468   \n",
       "2019-09-10  0.025530        0.019216            0.003505   \n",
       "\n",
       "            MERCEDES-BENZ GROUP AG  \n",
       "Date                                \n",
       "2019-09-04                0.021964  \n",
       "2019-09-05                0.031385  \n",
       "2019-09-06                0.001213  \n",
       "2019-09-09                0.023015  \n",
       "2019-09-10                0.008611  "
      ]
     },
     "execution_count": 504,
     "metadata": {},
     "output_type": "execute_result"
    }
   ],
   "source": [
    "#Portfolio Constituents Simple Daily Returns\n",
    "Port = ['PERNOD RICARD SA','BANCO BILBAO VIZCAYA ARGENTA',\n",
    " 'BANCO SANTANDER SA',\n",
    " 'AXA SA',\n",
    " 'BNP PARIBAS',\n",
    " 'ING GROEP NV',\n",
    " 'INTESA SANPAOLO',\n",
    " 'SOCIETE GENERALE SA',\n",
    " 'BAYERISCHE MOTOREN WERKE AG',\n",
    " 'BASF SE',\n",
    " 'SIEMENS AG-REG',\n",
    " 'VOLKSWAGEN AG-PREF',\n",
    " 'MERCEDES-BENZ GROUP AG']\n",
    "Port_Simple_Daily_Returns = df7[Port].pct_change().dropna()\n",
    "Port_Simple_Daily_Returns.head() "
   ]
  },
  {
   "cell_type": "code",
   "execution_count": 505,
   "metadata": {},
   "outputs": [
    {
     "data": {
      "text/plain": [
       "PERNOD RICARD SA               -0.056162\n",
       "BANCO BILBAO VIZCAYA ARGENTA    0.249337\n",
       "BANCO SANTANDER SA              0.183363\n",
       "AXA SA                          0.229932\n",
       "BNP PARIBAS                     0.337263\n",
       "dtype: float64"
      ]
     },
     "execution_count": 505,
     "metadata": {},
     "output_type": "execute_result"
    }
   ],
   "source": [
    "#Portfolio Contituents Returns for last 116 days\n",
    "Returns = (1+Port_Simple_Daily_Returns.mean())**116 - 1\n",
    "Returns.head()"
   ]
  },
  {
   "cell_type": "code",
   "execution_count": 506,
   "metadata": {},
   "outputs": [
    {
     "data": {
      "text/plain": [
       "PERNOD RICARD SA                0.132039\n",
       "BANCO BILBAO VIZCAYA ARGENTA    0.163422\n",
       "BANCO SANTANDER SA              0.193756\n",
       "AXA SA                          0.103807\n",
       "BNP PARIBAS                     0.146107\n",
       "dtype: float64"
      ]
     },
     "execution_count": 506,
     "metadata": {},
     "output_type": "execute_result"
    }
   ],
   "source": [
    "#Portfolio Constitutents Risk for last 116 days\n",
    "Risk = Port_Simple_Daily_Returns.std()*(np.sqrt(116))\n",
    "Risk.head()"
   ]
  },
  {
   "cell_type": "code",
   "execution_count": 507,
   "metadata": {},
   "outputs": [
    {
     "data": {
      "text/html": [
       "<div>\n",
       "<style scoped>\n",
       "    .dataframe tbody tr th:only-of-type {\n",
       "        vertical-align: middle;\n",
       "    }\n",
       "\n",
       "    .dataframe tbody tr th {\n",
       "        vertical-align: top;\n",
       "    }\n",
       "\n",
       "    .dataframe thead th {\n",
       "        text-align: right;\n",
       "    }\n",
       "</style>\n",
       "<table border=\"1\" class=\"dataframe\">\n",
       "  <thead>\n",
       "    <tr style=\"text-align: right;\">\n",
       "      <th></th>\n",
       "      <th>PERNOD RICARD SA</th>\n",
       "      <th>BANCO BILBAO VIZCAYA ARGENTA</th>\n",
       "      <th>BANCO SANTANDER SA</th>\n",
       "      <th>AXA SA</th>\n",
       "      <th>BNP PARIBAS</th>\n",
       "      <th>ING GROEP NV</th>\n",
       "      <th>INTESA SANPAOLO</th>\n",
       "      <th>SOCIETE GENERALE SA</th>\n",
       "      <th>BAYERISCHE MOTOREN WERKE AG</th>\n",
       "      <th>BASF SE</th>\n",
       "      <th>SIEMENS AG-REG</th>\n",
       "      <th>VOLKSWAGEN AG-PREF</th>\n",
       "      <th>MERCEDES-BENZ GROUP AG</th>\n",
       "    </tr>\n",
       "  </thead>\n",
       "  <tbody>\n",
       "    <tr>\n",
       "      <th>PERNOD RICARD SA</th>\n",
       "      <td>0.017434</td>\n",
       "      <td>-0.002135</td>\n",
       "      <td>-0.003941</td>\n",
       "      <td>-0.000947</td>\n",
       "      <td>-0.002421</td>\n",
       "      <td>-0.002359</td>\n",
       "      <td>-0.001462</td>\n",
       "      <td>-0.003605</td>\n",
       "      <td>-0.001728</td>\n",
       "      <td>-0.001623</td>\n",
       "      <td>-0.000905</td>\n",
       "      <td>-0.001339</td>\n",
       "      <td>-0.003197</td>\n",
       "    </tr>\n",
       "    <tr>\n",
       "      <th>BANCO BILBAO VIZCAYA ARGENTA</th>\n",
       "      <td>-0.002135</td>\n",
       "      <td>0.026707</td>\n",
       "      <td>0.027330</td>\n",
       "      <td>0.011372</td>\n",
       "      <td>0.019690</td>\n",
       "      <td>0.021038</td>\n",
       "      <td>0.014073</td>\n",
       "      <td>0.019579</td>\n",
       "      <td>0.011530</td>\n",
       "      <td>0.012359</td>\n",
       "      <td>0.008802</td>\n",
       "      <td>0.012790</td>\n",
       "      <td>0.015295</td>\n",
       "    </tr>\n",
       "    <tr>\n",
       "      <th>BANCO SANTANDER SA</th>\n",
       "      <td>-0.003941</td>\n",
       "      <td>0.027330</td>\n",
       "      <td>0.037541</td>\n",
       "      <td>0.013894</td>\n",
       "      <td>0.023179</td>\n",
       "      <td>0.024663</td>\n",
       "      <td>0.016776</td>\n",
       "      <td>0.024111</td>\n",
       "      <td>0.014488</td>\n",
       "      <td>0.016778</td>\n",
       "      <td>0.013568</td>\n",
       "      <td>0.016723</td>\n",
       "      <td>0.018711</td>\n",
       "    </tr>\n",
       "    <tr>\n",
       "      <th>AXA SA</th>\n",
       "      <td>-0.000947</td>\n",
       "      <td>0.011372</td>\n",
       "      <td>0.013894</td>\n",
       "      <td>0.010776</td>\n",
       "      <td>0.011373</td>\n",
       "      <td>0.011724</td>\n",
       "      <td>0.007514</td>\n",
       "      <td>0.011935</td>\n",
       "      <td>0.007423</td>\n",
       "      <td>0.008901</td>\n",
       "      <td>0.007625</td>\n",
       "      <td>0.009345</td>\n",
       "      <td>0.009876</td>\n",
       "    </tr>\n",
       "    <tr>\n",
       "      <th>BNP PARIBAS</th>\n",
       "      <td>-0.002421</td>\n",
       "      <td>0.019690</td>\n",
       "      <td>0.023179</td>\n",
       "      <td>0.011373</td>\n",
       "      <td>0.021347</td>\n",
       "      <td>0.019597</td>\n",
       "      <td>0.012475</td>\n",
       "      <td>0.020292</td>\n",
       "      <td>0.011650</td>\n",
       "      <td>0.011807</td>\n",
       "      <td>0.010367</td>\n",
       "      <td>0.014380</td>\n",
       "      <td>0.013489</td>\n",
       "    </tr>\n",
       "    <tr>\n",
       "      <th>ING GROEP NV</th>\n",
       "      <td>-0.002359</td>\n",
       "      <td>0.021038</td>\n",
       "      <td>0.024663</td>\n",
       "      <td>0.011724</td>\n",
       "      <td>0.019597</td>\n",
       "      <td>0.023215</td>\n",
       "      <td>0.013560</td>\n",
       "      <td>0.020864</td>\n",
       "      <td>0.012533</td>\n",
       "      <td>0.013565</td>\n",
       "      <td>0.010766</td>\n",
       "      <td>0.015685</td>\n",
       "      <td>0.016369</td>\n",
       "    </tr>\n",
       "    <tr>\n",
       "      <th>INTESA SANPAOLO</th>\n",
       "      <td>-0.001462</td>\n",
       "      <td>0.014073</td>\n",
       "      <td>0.016776</td>\n",
       "      <td>0.007514</td>\n",
       "      <td>0.012475</td>\n",
       "      <td>0.013560</td>\n",
       "      <td>0.013617</td>\n",
       "      <td>0.013006</td>\n",
       "      <td>0.008288</td>\n",
       "      <td>0.009179</td>\n",
       "      <td>0.007591</td>\n",
       "      <td>0.010521</td>\n",
       "      <td>0.012164</td>\n",
       "    </tr>\n",
       "    <tr>\n",
       "      <th>SOCIETE GENERALE SA</th>\n",
       "      <td>-0.003605</td>\n",
       "      <td>0.019579</td>\n",
       "      <td>0.024111</td>\n",
       "      <td>0.011935</td>\n",
       "      <td>0.020292</td>\n",
       "      <td>0.020864</td>\n",
       "      <td>0.013006</td>\n",
       "      <td>0.025456</td>\n",
       "      <td>0.014552</td>\n",
       "      <td>0.012602</td>\n",
       "      <td>0.010755</td>\n",
       "      <td>0.017141</td>\n",
       "      <td>0.015504</td>\n",
       "    </tr>\n",
       "    <tr>\n",
       "      <th>BAYERISCHE MOTOREN WERKE AG</th>\n",
       "      <td>-0.001728</td>\n",
       "      <td>0.011530</td>\n",
       "      <td>0.014488</td>\n",
       "      <td>0.007423</td>\n",
       "      <td>0.011650</td>\n",
       "      <td>0.012533</td>\n",
       "      <td>0.008288</td>\n",
       "      <td>0.014552</td>\n",
       "      <td>0.015683</td>\n",
       "      <td>0.009905</td>\n",
       "      <td>0.008051</td>\n",
       "      <td>0.015401</td>\n",
       "      <td>0.014498</td>\n",
       "    </tr>\n",
       "    <tr>\n",
       "      <th>BASF SE</th>\n",
       "      <td>-0.001623</td>\n",
       "      <td>0.012359</td>\n",
       "      <td>0.016778</td>\n",
       "      <td>0.008901</td>\n",
       "      <td>0.011807</td>\n",
       "      <td>0.013565</td>\n",
       "      <td>0.009179</td>\n",
       "      <td>0.012602</td>\n",
       "      <td>0.009905</td>\n",
       "      <td>0.015594</td>\n",
       "      <td>0.010791</td>\n",
       "      <td>0.012739</td>\n",
       "      <td>0.013689</td>\n",
       "    </tr>\n",
       "    <tr>\n",
       "      <th>SIEMENS AG-REG</th>\n",
       "      <td>-0.000905</td>\n",
       "      <td>0.008802</td>\n",
       "      <td>0.013568</td>\n",
       "      <td>0.007625</td>\n",
       "      <td>0.010367</td>\n",
       "      <td>0.010766</td>\n",
       "      <td>0.007591</td>\n",
       "      <td>0.010755</td>\n",
       "      <td>0.008051</td>\n",
       "      <td>0.010791</td>\n",
       "      <td>0.017891</td>\n",
       "      <td>0.011351</td>\n",
       "      <td>0.011225</td>\n",
       "    </tr>\n",
       "    <tr>\n",
       "      <th>VOLKSWAGEN AG-PREF</th>\n",
       "      <td>-0.001339</td>\n",
       "      <td>0.012790</td>\n",
       "      <td>0.016723</td>\n",
       "      <td>0.009345</td>\n",
       "      <td>0.014380</td>\n",
       "      <td>0.015685</td>\n",
       "      <td>0.010521</td>\n",
       "      <td>0.017141</td>\n",
       "      <td>0.015401</td>\n",
       "      <td>0.012739</td>\n",
       "      <td>0.011351</td>\n",
       "      <td>0.025671</td>\n",
       "      <td>0.017660</td>\n",
       "    </tr>\n",
       "    <tr>\n",
       "      <th>MERCEDES-BENZ GROUP AG</th>\n",
       "      <td>-0.003197</td>\n",
       "      <td>0.015295</td>\n",
       "      <td>0.018711</td>\n",
       "      <td>0.009876</td>\n",
       "      <td>0.013489</td>\n",
       "      <td>0.016369</td>\n",
       "      <td>0.012164</td>\n",
       "      <td>0.015504</td>\n",
       "      <td>0.014498</td>\n",
       "      <td>0.013689</td>\n",
       "      <td>0.011225</td>\n",
       "      <td>0.017660</td>\n",
       "      <td>0.025690</td>\n",
       "    </tr>\n",
       "  </tbody>\n",
       "</table>\n",
       "</div>"
      ],
      "text/plain": [
       "                              PERNOD RICARD SA  BANCO BILBAO VIZCAYA ARGENTA  \\\n",
       "PERNOD RICARD SA                      0.017434                     -0.002135   \n",
       "BANCO BILBAO VIZCAYA ARGENTA         -0.002135                      0.026707   \n",
       "BANCO SANTANDER SA                   -0.003941                      0.027330   \n",
       "AXA SA                               -0.000947                      0.011372   \n",
       "BNP PARIBAS                          -0.002421                      0.019690   \n",
       "ING GROEP NV                         -0.002359                      0.021038   \n",
       "INTESA SANPAOLO                      -0.001462                      0.014073   \n",
       "SOCIETE GENERALE SA                  -0.003605                      0.019579   \n",
       "BAYERISCHE MOTOREN WERKE AG          -0.001728                      0.011530   \n",
       "BASF SE                              -0.001623                      0.012359   \n",
       "SIEMENS AG-REG                       -0.000905                      0.008802   \n",
       "VOLKSWAGEN AG-PREF                   -0.001339                      0.012790   \n",
       "MERCEDES-BENZ GROUP AG               -0.003197                      0.015295   \n",
       "\n",
       "                              BANCO SANTANDER SA    AXA SA  BNP PARIBAS  \\\n",
       "PERNOD RICARD SA                       -0.003941 -0.000947    -0.002421   \n",
       "BANCO BILBAO VIZCAYA ARGENTA            0.027330  0.011372     0.019690   \n",
       "BANCO SANTANDER SA                      0.037541  0.013894     0.023179   \n",
       "AXA SA                                  0.013894  0.010776     0.011373   \n",
       "BNP PARIBAS                             0.023179  0.011373     0.021347   \n",
       "ING GROEP NV                            0.024663  0.011724     0.019597   \n",
       "INTESA SANPAOLO                         0.016776  0.007514     0.012475   \n",
       "SOCIETE GENERALE SA                     0.024111  0.011935     0.020292   \n",
       "BAYERISCHE MOTOREN WERKE AG             0.014488  0.007423     0.011650   \n",
       "BASF SE                                 0.016778  0.008901     0.011807   \n",
       "SIEMENS AG-REG                          0.013568  0.007625     0.010367   \n",
       "VOLKSWAGEN AG-PREF                      0.016723  0.009345     0.014380   \n",
       "MERCEDES-BENZ GROUP AG                  0.018711  0.009876     0.013489   \n",
       "\n",
       "                              ING GROEP NV  INTESA SANPAOLO  \\\n",
       "PERNOD RICARD SA                 -0.002359        -0.001462   \n",
       "BANCO BILBAO VIZCAYA ARGENTA      0.021038         0.014073   \n",
       "BANCO SANTANDER SA                0.024663         0.016776   \n",
       "AXA SA                            0.011724         0.007514   \n",
       "BNP PARIBAS                       0.019597         0.012475   \n",
       "ING GROEP NV                      0.023215         0.013560   \n",
       "INTESA SANPAOLO                   0.013560         0.013617   \n",
       "SOCIETE GENERALE SA               0.020864         0.013006   \n",
       "BAYERISCHE MOTOREN WERKE AG       0.012533         0.008288   \n",
       "BASF SE                           0.013565         0.009179   \n",
       "SIEMENS AG-REG                    0.010766         0.007591   \n",
       "VOLKSWAGEN AG-PREF                0.015685         0.010521   \n",
       "MERCEDES-BENZ GROUP AG            0.016369         0.012164   \n",
       "\n",
       "                              SOCIETE GENERALE SA  \\\n",
       "PERNOD RICARD SA                        -0.003605   \n",
       "BANCO BILBAO VIZCAYA ARGENTA             0.019579   \n",
       "BANCO SANTANDER SA                       0.024111   \n",
       "AXA SA                                   0.011935   \n",
       "BNP PARIBAS                              0.020292   \n",
       "ING GROEP NV                             0.020864   \n",
       "INTESA SANPAOLO                          0.013006   \n",
       "SOCIETE GENERALE SA                      0.025456   \n",
       "BAYERISCHE MOTOREN WERKE AG              0.014552   \n",
       "BASF SE                                  0.012602   \n",
       "SIEMENS AG-REG                           0.010755   \n",
       "VOLKSWAGEN AG-PREF                       0.017141   \n",
       "MERCEDES-BENZ GROUP AG                   0.015504   \n",
       "\n",
       "                              BAYERISCHE MOTOREN WERKE AG   BASF SE  \\\n",
       "PERNOD RICARD SA                                -0.001728 -0.001623   \n",
       "BANCO BILBAO VIZCAYA ARGENTA                     0.011530  0.012359   \n",
       "BANCO SANTANDER SA                               0.014488  0.016778   \n",
       "AXA SA                                           0.007423  0.008901   \n",
       "BNP PARIBAS                                      0.011650  0.011807   \n",
       "ING GROEP NV                                     0.012533  0.013565   \n",
       "INTESA SANPAOLO                                  0.008288  0.009179   \n",
       "SOCIETE GENERALE SA                              0.014552  0.012602   \n",
       "BAYERISCHE MOTOREN WERKE AG                      0.015683  0.009905   \n",
       "BASF SE                                          0.009905  0.015594   \n",
       "SIEMENS AG-REG                                   0.008051  0.010791   \n",
       "VOLKSWAGEN AG-PREF                               0.015401  0.012739   \n",
       "MERCEDES-BENZ GROUP AG                           0.014498  0.013689   \n",
       "\n",
       "                              SIEMENS AG-REG  VOLKSWAGEN AG-PREF  \\\n",
       "PERNOD RICARD SA                   -0.000905           -0.001339   \n",
       "BANCO BILBAO VIZCAYA ARGENTA        0.008802            0.012790   \n",
       "BANCO SANTANDER SA                  0.013568            0.016723   \n",
       "AXA SA                              0.007625            0.009345   \n",
       "BNP PARIBAS                         0.010367            0.014380   \n",
       "ING GROEP NV                        0.010766            0.015685   \n",
       "INTESA SANPAOLO                     0.007591            0.010521   \n",
       "SOCIETE GENERALE SA                 0.010755            0.017141   \n",
       "BAYERISCHE MOTOREN WERKE AG         0.008051            0.015401   \n",
       "BASF SE                             0.010791            0.012739   \n",
       "SIEMENS AG-REG                      0.017891            0.011351   \n",
       "VOLKSWAGEN AG-PREF                  0.011351            0.025671   \n",
       "MERCEDES-BENZ GROUP AG              0.011225            0.017660   \n",
       "\n",
       "                              MERCEDES-BENZ GROUP AG  \n",
       "PERNOD RICARD SA                           -0.003197  \n",
       "BANCO BILBAO VIZCAYA ARGENTA                0.015295  \n",
       "BANCO SANTANDER SA                          0.018711  \n",
       "AXA SA                                      0.009876  \n",
       "BNP PARIBAS                                 0.013489  \n",
       "ING GROEP NV                                0.016369  \n",
       "INTESA SANPAOLO                             0.012164  \n",
       "SOCIETE GENERALE SA                         0.015504  \n",
       "BAYERISCHE MOTOREN WERKE AG                 0.014498  \n",
       "BASF SE                                     0.013689  \n",
       "SIEMENS AG-REG                              0.011225  \n",
       "VOLKSWAGEN AG-PREF                          0.017660  \n",
       "MERCEDES-BENZ GROUP AG                      0.025690  "
      ]
     },
     "execution_count": 507,
     "metadata": {},
     "output_type": "execute_result"
    }
   ],
   "source": [
    "#Portfolio Constituents Covariance for last 116 days\n",
    "Cov = Port_Simple_Daily_Returns.cov()*116\n",
    "Cov"
   ]
  },
  {
   "cell_type": "markdown",
   "metadata": {},
   "source": [
    "# METHOD 1 : Include Pernod Ricard SA and 12 other constituents which were negatively correlated to Pernod in one Portfolio and minimize the risk of this portfolio. Later decide on the top 5 constituents."
   ]
  },
  {
   "cell_type": "markdown",
   "metadata": {},
   "source": [
    "# To hedge Pernod Ricard SA, it is necessary to minimize the risk of the portfolio as a whole (considering only Long Positions)\n",
    "\n",
    "## It is a convex optimization problem to minimize Risk (or in this case portfolio variance) where weights of all the constituents in the portfolio sum upto 1 and each of the weights should be greater or equal to zero."
   ]
  },
  {
   "cell_type": "code",
   "execution_count": 508,
   "metadata": {},
   "outputs": [
    {
     "name": "stdout",
     "output_type": "stream",
     "text": [
      "===============================================================================\n",
      "                                     CVXPY                                     \n",
      "                                     v1.2.1                                    \n",
      "===============================================================================\n",
      "(CVXPY) Sep 16 04:07:05 PM: Your problem has 13 variables, 2 constraints, and 0 parameters.\n",
      "(CVXPY) Sep 16 04:07:05 PM: It is compliant with the following grammars: DCP, DQCP\n",
      "(CVXPY) Sep 16 04:07:05 PM: (If you need to solve this problem multiple times, but with different data, consider using parameters.)\n",
      "(CVXPY) Sep 16 04:07:05 PM: CVXPY will first compile your problem; then, it will invoke a numerical solver to obtain a solution.\n",
      "-------------------------------------------------------------------------------\n",
      "                                  Compilation                                  \n",
      "-------------------------------------------------------------------------------\n",
      "(CVXPY) Sep 16 04:07:05 PM: Compiling problem (target solver=OSQP).\n",
      "(CVXPY) Sep 16 04:07:05 PM: Reduction chain: CvxAttr2Constr -> Qp2SymbolicQp -> QpMatrixStuffing -> OSQP\n",
      "(CVXPY) Sep 16 04:07:05 PM: Applying reduction CvxAttr2Constr\n",
      "(CVXPY) Sep 16 04:07:05 PM: Applying reduction Qp2SymbolicQp\n",
      "(CVXPY) Sep 16 04:07:05 PM: Applying reduction QpMatrixStuffing\n",
      "(CVXPY) Sep 16 04:07:05 PM: Applying reduction OSQP\n",
      "(CVXPY) Sep 16 04:07:05 PM: Finished problem compilation (took 4.597e-02 seconds).\n",
      "-------------------------------------------------------------------------------\n",
      "                                Numerical solver                               \n",
      "-------------------------------------------------------------------------------\n",
      "(CVXPY) Sep 16 04:07:05 PM: Invoking solver OSQP  to obtain a solution.\n",
      "-----------------------------------------------------------------\n",
      "           OSQP v0.6.2  -  Operator Splitting QP Solver\n",
      "              (c) Bartolomeo Stellato,  Goran Banjac\n",
      "        University of Oxford  -  Stanford University 2021\n",
      "-----------------------------------------------------------------\n",
      "problem:  variables n = 13, constraints m = 14\n",
      "          nnz(P) + nnz(A) = 117\n",
      "settings: linear system solver = qdldl,\n",
      "          eps_abs = 1.0e-05, eps_rel = 1.0e-05,\n",
      "          eps_prim_inf = 1.0e-04, eps_dual_inf = 1.0e-04,\n",
      "          rho = 1.00e-01 (adaptive),\n",
      "          sigma = 1.00e-06, alpha = 1.60, max_iter = 10000\n",
      "          check_termination: on (interval 25),\n",
      "          scaling: on, scaled_termination: off\n",
      "          warm start: on, polish: on, time_limit: off\n",
      "\n",
      "iter   objective    pri res    dua res    rho        time\n",
      "   1   0.0000e+00   1.00e+00   1.00e+02   1.00e-01   1.75e-03s\n",
      "  50   5.4121e-03   8.26e-08   1.72e-09   1.17e-02   2.98e-03s\n",
      "plsh   5.4121e-03   3.52e-22   1.73e-17   --------   4.94e-03s\n",
      "\n",
      "status:               solved\n",
      "solution polish:      successful\n",
      "number of iterations: 50\n",
      "optimal objective:    0.0054\n",
      "run time:             4.94e-03s\n",
      "optimal rho estimate: 1.03e-02\n",
      "\n",
      "-------------------------------------------------------------------------------\n",
      "                                    Summary                                    \n",
      "-------------------------------------------------------------------------------\n",
      "(CVXPY) Sep 16 04:07:06 PM: Problem status: optimal\n",
      "(CVXPY) Sep 16 04:07:06 PM: Optimal value: 5.412e-03\n",
      "(CVXPY) Sep 16 04:07:06 PM: Compilation took 4.597e-02 seconds\n",
      "(CVXPY) Sep 16 04:07:06 PM: Solver (including time spent in interface) took 2.598e-02 seconds\n",
      "weights: 35.57%, -0.00%, -0.00%, 27.94%, -0.00%, -0.00%, 16.16%, -0.00%, 12.81%, -0.00%, 7.52%, 0.00%, 0.00%\n"
     ]
    }
   ],
   "source": [
    "#CVXPY is an open source Python-embedded modeling language for convex optimization problems\n",
    "from cvxpy import *\n",
    "import cvxpy as cvx\n",
    "#group_constraint_control = [1, 0, 0, 0, 0, 0, 0, 0, 0, 0, 0, 0, 0]\n",
    "n_variables = len(Returns)\n",
    "minimum_values = np.zeros(len(Returns)) \n",
    "weights_cvx = cvx.Variable(n_variables) \n",
    "#Func_Port_Variance2 = cvx.sum(re * weights_cvx)\n",
    "#Func_Port_Variance = np.dot((np.array(weights_cvx)).T, np.dot(np.asmatrix(Cov),(weights_cvx)))\n",
    "Func_Port_Variance = quad_form(weights_cvx, np.asmatrix(Cov))\n",
    "weights_sum_equal_one = cvx.sum(weights_cvx) == 1\n",
    "weights_greater_than_or_Equal_zero = weights_cvx >= minimum_values\n",
    "#Pernod_weight_value = group_constraint_control@weights_cvx >= 0.9\n",
    " \n",
    "constraints = [\n",
    "    weights_sum_equal_one,\n",
    "    weights_greater_than_or_Equal_zero,\n",
    "    #Pernod_weight_value\n",
    "]\n",
    "\n",
    "                            \n",
    "objective = cvx.Minimize(Func_Port_Variance)\n",
    "prob = cvx.Problem(objective, constraints)\n",
    "prob.solve(verbose=True)\n",
    " \n",
    "print(\"weights: {}\".format(\n",
    "    ', '.join(['{:.2%}'.format(x) for x in weights_cvx.value])\n",
    "))"
   ]
  },
  {
   "cell_type": "markdown",
   "metadata": {},
   "source": [
    "## Found that following weights for constituents that execute the minimum portfolio risk :\n",
    " ### 'PERNOD RICARD SA' :35.57%\n",
    " ### 'AXA SA' :27.94%\n",
    " ### 'INTESA SANPAOLO' :16.16%\n",
    " ### 'BAYERISCHE MOTOREN WERKE AG' :12.81%\n",
    " ### 'SIEMENS AG-REG' : 7.52%"
   ]
  },
  {
   "cell_type": "markdown",
   "metadata": {},
   "source": [
    "# Portfolio Risk"
   ]
  },
  {
   "cell_type": "code",
   "execution_count": 509,
   "metadata": {},
   "outputs": [
    {
     "data": {
      "text/plain": [
       "0.0736"
      ]
     },
     "execution_count": 509,
     "metadata": {},
     "output_type": "execute_result"
    }
   ],
   "source": [
    "weights = weights_cvx.value\n",
    "Func_Port_Variance1 = np.dot((np.array(weights)).T, np.dot(Cov,weights))\n",
    "Port_Risk = round((np.sqrt(Func_Port_Variance1)),4)\n",
    "Port_Risk"
   ]
  },
  {
   "cell_type": "markdown",
   "metadata": {},
   "source": [
    "# Value At Risk (VAR)\n",
    "# Value exposed to Market fluctuations\n",
    "## VAR is a good measure to evaluate if the hedging portfolio formulated actually reduces the value at risk or not.\n",
    "## VAR = z_score_cut_off * period_standard_deviation * initial_investment\n",
    "## Considering Normal distribution of Stocks return, 95% confidence interval will give Z_score_cutoff as approx. 1.645\n",
    "## The given project mentions that Pernod Ricard SA is a long position with 1000 shares. This means if bought on 14/02/2020 (last day of the historic data given), the total investment would be 165.95 * 1000 = 165950. Calculated risk on Pernod is 13.2 percent, there VAR for Pernod is 1.645 * 0.132 * 165950 = 36034.383\n",
    "\n",
    "## This means there is 95 percent probability that Pernod will not lose more than 36034.383 (21.71% of its initial value) in the next 116 days."
   ]
  },
  {
   "cell_type": "markdown",
   "metadata": {},
   "source": [
    "# Hedged Portfolio Value at Risk"
   ]
  },
  {
   "cell_type": "markdown",
   "metadata": {},
   "source": [
    "## There is 95 percent confidence that Porfolio (with risk 7.36 percent calculated above) will not lose more that (0.0736 * 1.645 * 100) = 12.11 % of its initial value in the next 116 days.\n",
    "## Therefore, clearly hedging reduces the overall risk by 9.6 percent."
   ]
  },
  {
   "cell_type": "markdown",
   "metadata": {},
   "source": [
    "# XXXXXXXXXXXXXXXXXXXXXXXXXXXXXXXXXXXXXXXXXXXXXXXXXXXXXXXX"
   ]
  },
  {
   "cell_type": "markdown",
   "metadata": {},
   "source": [
    "# Theoritically the above solution has a meaning but in reality one doesn't want to put almost 2 times the original investment (since Pernod weight is 35 %) to hedge the current position."
   ]
  },
  {
   "cell_type": "markdown",
   "metadata": {},
   "source": [
    "# Therefore I believe the above solution has only theoritical significance."
   ]
  },
  {
   "cell_type": "markdown",
   "metadata": {},
   "source": [
    "# METHOD 2 : To build a portfolio with 12 constituents (which were negatively correlated to Pernod) and find their weights, such that its returns would offset (if possible completely) the VAR of Pernod. Then later choosing top constituents via solver."
   ]
  },
  {
   "cell_type": "markdown",
   "metadata": {},
   "source": [
    "# Portfolio of Hedging Constituents"
   ]
  },
  {
   "cell_type": "code",
   "execution_count": 510,
   "metadata": {},
   "outputs": [],
   "source": [
    "#Stocks (negatively correlated with Pernod Ricard SA) Closing Price\n",
    "Stocks_CP = df4[list_stocks]\n",
    "#Stocks daily returns\n",
    "Stocks_Daily_returns = Stocks_CP.pct_change().dropna()\n",
    "#Stocks Returns for last 116 days\n",
    "Stocks_Returns = (1+Stocks_Daily_returns.mean())**116 - 1\n",
    "#Stocks Covariance for last 116 days\n",
    "Stocks_Cov = Stocks_Daily_returns.cov()*116"
   ]
  },
  {
   "cell_type": "markdown",
   "metadata": {},
   "source": [
    "# To completely Hedge Pernod for next 116 days, let's find the weights for the minimum risk portfolio, such that we are very sure that there exist no other lesser risk portfolio which could completely hedge Pernod. (considering only long position)"
   ]
  },
  {
   "cell_type": "code",
   "execution_count": 511,
   "metadata": {},
   "outputs": [
    {
     "name": "stdout",
     "output_type": "stream",
     "text": [
      "===============================================================================\n",
      "                                     CVXPY                                     \n",
      "                                     v1.2.1                                    \n",
      "===============================================================================\n",
      "(CVXPY) Sep 16 04:07:06 PM: Your problem has 12 variables, 2 constraints, and 0 parameters.\n",
      "(CVXPY) Sep 16 04:07:06 PM: It is compliant with the following grammars: DCP, DQCP\n",
      "(CVXPY) Sep 16 04:07:06 PM: (If you need to solve this problem multiple times, but with different data, consider using parameters.)\n",
      "(CVXPY) Sep 16 04:07:06 PM: CVXPY will first compile your problem; then, it will invoke a numerical solver to obtain a solution.\n",
      "-------------------------------------------------------------------------------\n",
      "                                  Compilation                                  \n",
      "-------------------------------------------------------------------------------\n",
      "(CVXPY) Sep 16 04:07:06 PM: Compiling problem (target solver=OSQP).\n",
      "(CVXPY) Sep 16 04:07:06 PM: Reduction chain: CvxAttr2Constr -> Qp2SymbolicQp -> QpMatrixStuffing -> OSQP\n",
      "(CVXPY) Sep 16 04:07:06 PM: Applying reduction CvxAttr2Constr\n",
      "(CVXPY) Sep 16 04:07:06 PM: Applying reduction Qp2SymbolicQp\n",
      "(CVXPY) Sep 16 04:07:06 PM: Applying reduction QpMatrixStuffing\n",
      "(CVXPY) Sep 16 04:07:06 PM: Applying reduction OSQP\n",
      "(CVXPY) Sep 16 04:07:06 PM: Finished problem compilation (took 2.597e-02 seconds).\n",
      "-------------------------------------------------------------------------------\n",
      "                                Numerical solver                               \n",
      "-------------------------------------------------------------------------------\n",
      "(CVXPY) Sep 16 04:07:06 PM: Invoking solver OSQP  to obtain a solution.\n",
      "-----------------------------------------------------------------\n",
      "           OSQP v0.6.2  -  Operator Splitting QP Solver\n",
      "              (c) Bartolomeo Stellato,  Goran Banjac\n",
      "        University of Oxford  -  Stanford University 2021\n",
      "-----------------------------------------------------------------\n",
      "problem:  variables n = 12, constraints m = 13\n",
      "          nnz(P) + nnz(A) = 102\n",
      "settings: linear system solver = qdldl,\n",
      "          eps_abs = 1.0e-05, eps_rel = 1.0e-05,\n",
      "          eps_prim_inf = 1.0e-04, eps_dual_inf = 1.0e-04,\n",
      "          rho = 1.00e-01 (adaptive),\n",
      "          sigma = 1.00e-06, alpha = 1.60, max_iter = 10000\n",
      "          check_termination: on (interval 25),\n",
      "          scaling: on, scaled_termination: off\n",
      "          warm start: on, polish: on, time_limit: off\n",
      "\n",
      "iter   objective    pri res    dua res    rho        time\n",
      "   1   0.0000e+00   1.00e+00   1.00e+02   1.00e-01   8.12e-04s\n",
      "  50   9.0563e-03   2.67e-08   1.41e-09   1.31e-02   2.48e-03s\n",
      "plsh   9.0563e-03   7.24e-22   1.39e-17   --------   4.20e-03s\n",
      "\n",
      "status:               solved\n",
      "solution polish:      successful\n",
      "number of iterations: 50\n",
      "optimal objective:    0.0091\n",
      "run time:             4.20e-03s\n",
      "optimal rho estimate: 9.71e-03\n",
      "\n",
      "-------------------------------------------------------------------------------\n",
      "                                    Summary                                    \n",
      "-------------------------------------------------------------------------------\n",
      "(CVXPY) Sep 16 04:07:06 PM: Problem status: optimal\n",
      "(CVXPY) Sep 16 04:07:06 PM: Optimal value: 9.056e-03\n",
      "(CVXPY) Sep 16 04:07:06 PM: Compilation took 2.597e-02 seconds\n",
      "(CVXPY) Sep 16 04:07:06 PM: Solver (including time spent in interface) took 1.299e-02 seconds\n",
      "weights: -0.00%, 0.00%, 47.28%, -0.00%, -0.00%, 23.02%, -0.00%, 16.35%, -0.00%, 13.34%, 0.00%, 0.00%\n"
     ]
    }
   ],
   "source": [
    "#group_constraint_control = [1, 0, 0, 0, 0, 0, 0, 0, 0, 0, 0, 0, 0]\n",
    "n_variables1 = len(Stocks_Returns)\n",
    "minimum_values1 = np.zeros(len(Stocks_Returns)) \n",
    "weights_cvx1 = cvx.Variable(n_variables1) \n",
    "#Func_Port_Variance2 = cvx.sum(re * weights_cvx)\n",
    "#Func_Port_Variance = np.dot((np.array(weights_cvx)).T, np.dot(np.asmatrix(Cov),(weights_cvx)))\n",
    "Func_Port_Variance2 = quad_form(weights_cvx1, np.asmatrix(Stocks_Cov))\n",
    "weights_sum_equal_one1 = cvx.sum(weights_cvx1) == 1\n",
    "weights_greater_than_or_Equal_zero1 = weights_cvx1 >= minimum_values1\n",
    "#Pernod_weight_value = group_constraint_control@weights_cvx >= 0.9\n",
    " \n",
    "constraints1 = [\n",
    "    weights_sum_equal_one1,\n",
    "    weights_greater_than_or_Equal_zero1,\n",
    "    #Pernod_weight_value\n",
    "]\n",
    "\n",
    "                            \n",
    "objective1 = cvx.Minimize(Func_Port_Variance2)\n",
    "prob1 = cvx.Problem(objective1, constraints1)\n",
    "prob1.solve(verbose=True)\n",
    " \n",
    "print(\"weights: {}\".format(\n",
    "    ', '.join(['{:.2%}'.format(x) for x in weights_cvx1.value])\n",
    "))"
   ]
  },
  {
   "cell_type": "markdown",
   "metadata": {},
   "source": [
    "# Portfolio of 4 constituents which would completely hedge Pernod given the investment on the new Portfolio"
   ]
  },
  {
   "cell_type": "markdown",
   "metadata": {},
   "source": [
    "### AXA SA : 47.28 %\n",
    "### INTESA SANPAOLO : 23.02 %\n",
    "### BAYERISCHE MOTOREN WERKE AG : 16.35 %\n",
    "### SIEMENS AG-REG : 13.34 %"
   ]
  },
  {
   "cell_type": "markdown",
   "metadata": {},
   "source": [
    "# Portfolio (with minimum risk) Return"
   ]
  },
  {
   "cell_type": "code",
   "execution_count": 512,
   "metadata": {},
   "outputs": [
    {
     "data": {
      "text/plain": [
       "0.21441768507547107"
      ]
     },
     "execution_count": 512,
     "metadata": {},
     "output_type": "execute_result"
    }
   ],
   "source": [
    "Port2_Return = np.dot(weights1,Stocks_Returns)\n",
    "Port2_Return "
   ]
  },
  {
   "cell_type": "markdown",
   "metadata": {},
   "source": [
    "# Let suppose we want to completely offset VAR (95% Confident) for Pernod then we want the return (amount) of the minimum risk portfolio to be equal to 36034.383 "
   ]
  },
  {
   "cell_type": "markdown",
   "metadata": {},
   "source": [
    "# Investment (for complete hedge) Needed"
   ]
  },
  {
   "cell_type": "code",
   "execution_count": 513,
   "metadata": {},
   "outputs": [
    {
     "data": {
      "text/plain": [
       "168056.9538250381"
      ]
     },
     "execution_count": 513,
     "metadata": {},
     "output_type": "execute_result"
    }
   ],
   "source": [
    "Investment_Hedge = 36034.383/(Port2_Return)\n",
    "Investment_Hedge"
   ]
  },
  {
   "cell_type": "markdown",
   "metadata": {},
   "source": [
    "# To Find Shares of Different Portfolio Constituents needed for complete hedge\n",
    "\n",
    "### Share Price for different constituents at the last observed day in the given historic data :\n"
   ]
  },
  {
   "cell_type": "code",
   "execution_count": 514,
   "metadata": {},
   "outputs": [
    {
     "data": {
      "text/html": [
       "<div>\n",
       "<style scoped>\n",
       "    .dataframe tbody tr th:only-of-type {\n",
       "        vertical-align: middle;\n",
       "    }\n",
       "\n",
       "    .dataframe tbody tr th {\n",
       "        vertical-align: top;\n",
       "    }\n",
       "\n",
       "    .dataframe thead th {\n",
       "        text-align: right;\n",
       "    }\n",
       "</style>\n",
       "<table border=\"1\" class=\"dataframe\">\n",
       "  <thead>\n",
       "    <tr style=\"text-align: right;\">\n",
       "      <th></th>\n",
       "      <th>AXA SA</th>\n",
       "      <th>INTESA SANPAOLO</th>\n",
       "      <th>BAYERISCHE MOTOREN WERKE AG</th>\n",
       "      <th>SIEMENS AG-REG</th>\n",
       "    </tr>\n",
       "    <tr>\n",
       "      <th>Date</th>\n",
       "      <th></th>\n",
       "      <th></th>\n",
       "      <th></th>\n",
       "      <th></th>\n",
       "    </tr>\n",
       "  </thead>\n",
       "  <tbody>\n",
       "    <tr>\n",
       "      <th>2020-02-14</th>\n",
       "      <td>25.415001</td>\n",
       "      <td>2.4975</td>\n",
       "      <td>66.470001</td>\n",
       "      <td>107.620003</td>\n",
       "    </tr>\n",
       "  </tbody>\n",
       "</table>\n",
       "</div>"
      ],
      "text/plain": [
       "               AXA SA  INTESA SANPAOLO  BAYERISCHE MOTOREN WERKE AG  \\\n",
       "Date                                                                  \n",
       "2020-02-14  25.415001           2.4975                    66.470001   \n",
       "\n",
       "            SIEMENS AG-REG  \n",
       "Date                        \n",
       "2020-02-14      107.620003  "
      ]
     },
     "execution_count": 514,
     "metadata": {},
     "output_type": "execute_result"
    }
   ],
   "source": [
    "New_Port = ['AXA SA', 'INTESA SANPAOLO', 'BAYERISCHE MOTOREN WERKE AG', 'SIEMENS AG-REG']\n",
    "df4[New_Port].tail(1)"
   ]
  },
  {
   "cell_type": "code",
   "execution_count": 515,
   "metadata": {},
   "outputs": [
    {
     "data": {
      "text/plain": [
       "3126.0"
      ]
     },
     "execution_count": 515,
     "metadata": {},
     "output_type": "execute_result"
    }
   ],
   "source": [
    "AXA_SA_Shares = 0.4728 * Investment_Hedge/25.415001\n",
    "np.round(AXA_SA_Shares)"
   ]
  },
  {
   "cell_type": "code",
   "execution_count": 516,
   "metadata": {},
   "outputs": [
    {
     "data": {
      "text/plain": [
       "15490.0"
      ]
     },
     "execution_count": 516,
     "metadata": {},
     "output_type": "execute_result"
    }
   ],
   "source": [
    "INTESA_SANPAOLO_Shares = 0.2302 * Investment_Hedge/2.4975\n",
    "np.round(INTESA_SANPAOLO_Shares)"
   ]
  },
  {
   "cell_type": "code",
   "execution_count": 517,
   "metadata": {},
   "outputs": [
    {
     "data": {
      "text/plain": [
       "413.0"
      ]
     },
     "execution_count": 517,
     "metadata": {},
     "output_type": "execute_result"
    }
   ],
   "source": [
    "BAYERISCHE_MOTOREN_WERKE_AG_Shares = 0.1635 * Investment_Hedge/66.470001\n",
    "np.round(BAYERISCHE_MOTOREN_WERKE_AG_Shares)"
   ]
  },
  {
   "cell_type": "code",
   "execution_count": 518,
   "metadata": {},
   "outputs": [
    {
     "data": {
      "text/plain": [
       "208.0"
      ]
     },
     "execution_count": 518,
     "metadata": {},
     "output_type": "execute_result"
    }
   ],
   "source": [
    "SIEMENS_AG_REG_Shares = 0.1334 * Investment_Hedge/107.620003\n",
    "np.round(SIEMENS_AG_REG_Shares)"
   ]
  },
  {
   "cell_type": "markdown",
   "metadata": {},
   "source": [
    "# Number of shares for different Portfolio Constituents to completely hedge Pernod's VAR for the period of upcoming 116 days considering long only position :\n",
    "\n",
    "## AXA SA : 3126\n",
    "## INTESA SANPAOLO : 15490\n",
    "## BAYERISCHE MOTOREN WERKE AG : 413\n",
    "## SIEMENS AG-REG : 208"
   ]
  },
  {
   "cell_type": "markdown",
   "metadata": {},
   "source": [
    "# ---------------------------------------------------------------------------------------------------------------"
   ]
  }
 ],
 "metadata": {
  "kernelspec": {
   "display_name": "Python 3",
   "language": "python",
   "name": "python3"
  },
  "language_info": {
   "codemirror_mode": {
    "name": "ipython",
    "version": 3
   },
   "file_extension": ".py",
   "mimetype": "text/x-python",
   "name": "python",
   "nbconvert_exporter": "python",
   "pygments_lexer": "ipython3",
   "version": "3.8.3"
  }
 },
 "nbformat": 4,
 "nbformat_minor": 4
}
